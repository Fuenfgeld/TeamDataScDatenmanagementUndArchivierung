{
  "nbformat": 4,
  "nbformat_minor": 0,
  "metadata": {
    "colab": {
      "name": "ProjektCovid19Allergy.ipynb",
      "provenance": [],
      "toc_visible": true,
      "include_colab_link": true
    },
    "kernelspec": {
      "display_name": "Python 3",
      "name": "python3"
    }
  },
  "cells": [
    {
      "cell_type": "markdown",
      "metadata": {
        "id": "view-in-github",
        "colab_type": "text"
      },
      "source": [
        "<a href=\"https://colab.research.google.com/github/Fuenfgeld/TeamDataScDatenmanagementUndArchivierung/blob/main/ProjektCovid19Allergy.ipynb\" target=\"_parent\"><img src=\"https://colab.research.google.com/assets/colab-badge.svg\" alt=\"Open In Colab\"/></a>"
      ]
    },
    {
      "cell_type": "markdown",
      "metadata": {
        "id": "M8qW_IUoH-66"
      },
      "source": [
        "# Covid und Allergie\n",
        "Die csv-Dateien sind im Ordner csv_files\n",
        "\n",
        "Die db-Dateien sind im Ordner db_files"
      ]
    },
    {
      "cell_type": "code",
      "metadata": {
        "id": "wCnsb8FEHddZ",
        "colab": {
          "base_uri": "https://localhost:8080/"
        },
        "outputId": "5a5c1c28-9067-4d1e-878e-48b895173fb5"
      },
      "source": [
        "import pandas as pd\n",
        "import numpy as np\n",
        "import csv\n",
        "import sqlite3 as sq\n",
        "from sqlite3 import Error\n",
        "from google.colab import drive\n",
        "\n",
        "drive.mount('/content/drive/', force_remount=True)\n",
        "\n",
        "csv_path = '/content/drive/MyDrive/csv_files/csv_to_db/'\n",
        "db_path = '/content/drive/MyDrive/db_files/cov_alle.db'\n",
        "\n",
        "patient_type = \"cov_alle\"\n",
        "\n"
      ],
      "execution_count": 75,
      "outputs": [
        {
          "output_type": "stream",
          "text": [
            "Mounted at /content/drive/\n"
          ],
          "name": "stdout"
        }
      ]
    },
    {
      "cell_type": "code",
      "metadata": {
        "id": "Ced6BDQf0LIf"
      },
      "source": [
        "sql_table = {} # Tables\r\n",
        "sql_index = {} # Indizes\r\n",
        "sql_view = {} # Views\r\n",
        "\r\n",
        "# Patients allergy\r\n",
        "sql_table[\"patients_alle\"] = \"\"\"CREATE TABLE IF NOT EXISTS patients_alle (\r\n",
        "  Id varchar primary key,\r\n",
        "  BIRTHDATE date,\r\n",
        "  DEATHDATE date,\r\n",
        "  SSN varchar,\r\n",
        "  DRIVERS varchar,\r\n",
        "  PASSPORT varchar,\r\n",
        "  PREFIX varchar,\r\n",
        "  FIRST varchar,\r\n",
        "  LAST varchar,\r\n",
        "  SUFFIX varchar,\r\n",
        "  MAIDEN varchar,\r\n",
        "  MARITAL varchar,\r\n",
        "  RACE varchar,\r\n",
        "  ETHNICITY varchar,\r\n",
        "  GENDER varchar,\r\n",
        "  BIRTHPLACE varchar,\r\n",
        "  ADDRESS varchar,\r\n",
        "  CITY varchar,\r\n",
        "  STATE varchar,\r\n",
        "  COUNTY varchar,\r\n",
        "  ZIP varchar,\r\n",
        "  LAT double,\r\n",
        "  LON double,\r\n",
        "  HEALTHCARE_EXPENSES varchar,\r\n",
        "  HEALTHCARE_COVERAGE varchar\r\n",
        ");\"\"\"\r\n",
        "\r\n",
        "# Indizes\r\n",
        "sql_index[\"ix_patients_alle_id\"] = \"\"\"CREATE UNIQUE INDEX ix_patients_alle_id on patients_alle(Id);\"\"\" \r\n",
        "sql_index[\"ix_patients_alle_race\"] = \"\"\"CREATE INDEX ix_patients_alle_race on patients_alle(RACE);\"\"\" \r\n",
        "sql_index[\"ix_patients_alle_ethnicity\"] = \"\"\"CREATE INDEX ix_patients_alle_ethnicity on patients_alle(ETHNICITY);\"\"\"\r\n",
        "sql_index[\"ix_patients_alle_city\"] = \"\"\"CREATE INDEX ixpatients_alle_city on patients_alle(CITY);\"\"\"\r\n",
        "sql_index[\"ix_patients_alle_gender\"] = \"\"\"CREATE INDEX ix_patients_alle_gender on patients_alle(GENDER);\"\"\"\r\n",
        "# sql_index[\"ix_patients_alle_country\"] = \"\"\"CREATE INDEX ix_patients_alle_country on patients_alle(COUNTRY);\"\"\"\r\n",
        "sql_index[\"ix_patients_alle_zip\"] = \"\"\"CREATE INDEX ix_patients_alle_zip on patients_alle(ZIP);\"\"\"\r\n",
        "\r\n",
        "# Patients COVID-19\r\n",
        "\r\n",
        "sql_table[\"patients_cov\"] = \"\"\"CREATE TABLE IF NOT EXISTS patients_cov (\r\n",
        "  Id varchar primary key,\r\n",
        "  BIRTHDATE date,\r\n",
        "  DEATHDATE date,\r\n",
        "  SSN varchar,\r\n",
        "  DRIVERS varchar,\r\n",
        "  PASSPORT varchar,\r\n",
        "  PREFIX varchar,\r\n",
        "  FIRST varchar,\r\n",
        "  LAST varchar,\r\n",
        "  SUFFIX varchar,\r\n",
        "  MAIDEN varchar,\r\n",
        "  MARITAL varchar,\r\n",
        "  RACE varchar,\r\n",
        "  ETHNICITY varchar,\r\n",
        "  GENDER varchar,\r\n",
        "  BIRTHPLACE varchar,\r\n",
        "  ADDRESS varchar,\r\n",
        "  CITY varchar,\r\n",
        "  STATE varchar,\r\n",
        "  COUNTY varchar,\r\n",
        "  ZIP varchar,\r\n",
        "  LAT double,\r\n",
        "  LON double,\r\n",
        "  HEALTHCARE_EXPENSES varchar,\r\n",
        "  HEALTHCARE_COVERAGE varchar\r\n",
        ");\"\"\"\r\n",
        "\r\n",
        "sql_index[\"ix_patients_cov_id\"] = \"\"\"CREATE UNIQUE INDEX ix_patients_cov_id on patients_alle(Id);\"\"\" \r\n",
        "sql_index[\"ix_patients_cov_race\"] = \"\"\"CREATE INDEX ix_patients_cov_race on patients_alle(RACE);\"\"\" \r\n",
        "sql_index[\"ix_patients_cov_ethnicity\"] = \"\"\"CREATE INDEX ix_patients_cov_ethnicity on patients_alle(ETHNICITY);\"\"\"\r\n",
        "sql_index[\"ix_patients_cov_city\"] = \"\"\"CREATE INDEX ixpatients_cov_city on patients_alle(CITY);\"\"\"\r\n",
        "sql_index[\"ix_patients_cov_gender\"] = \"\"\"CREATE INDEX ix_patients_cov_gender on patients_alle(GENDER);\"\"\"\r\n",
        "# sql_index[\"ix_patients_cov_country\"] = \"\"\"CREATE INDEX ix_patients_cov_country on patients_alle(COUNTRY);\"\"\"\r\n",
        "sql_index[\"ix_patients_cov_zip\"] = \"\"\"CREATE INDEX ix_patients_cov_zip on patients_alle(ZIP);\"\"\""
      ],
      "execution_count": 76,
      "outputs": []
    },
    {
      "cell_type": "code",
      "metadata": {
        "id": "yFUWJMrE3ULa"
      },
      "source": [
        "# Encounters allergy\r\n",
        "\r\n",
        "sql_table[\"encounters_alle\"] = \"\"\"CREATE TABLE IF NOT EXISTS encounters_alle (\r\n",
        "                           Id STRING PRIMARY KEY,\r\n",
        "                           START DATE,\r\n",
        "                           STOP DATE,\r\n",
        "                           PATIENT STRING,\r\n",
        "                           ORGANIZATIONS STRING,\r\n",
        "                           PROVIDER STRING,\r\n",
        "                           PAYER STRING,\r\n",
        "                           ENCOUNTERCLASS STRING,\r\n",
        "                           CODE STRING,\r\n",
        "                           DESCRIPTION STRING,\r\n",
        "                           BASE_ENCOUNTER_COST INTEGER,\r\n",
        "                           TOTAL_CLAIM_COST INTEGER,\r\n",
        "                           PAYER_COVERAGE INTEGER,\r\n",
        "                           REASONCODE STRING,\r\n",
        "                           REASONDESCRIPTION STRING,\r\n",
        "                           FOREIGN KEY (PATIENT)\r\n",
        "                              REFERENCES patients_alle (Id) \r\n",
        "                       );\"\"\"\r\n",
        "sql_index[\"ix_encounters_alle_id\"] = \"\"\"CREATE INDEX ix_encounters_alle_id on encounters_alle(Id);\"\"\" \r\n",
        "sql_index[\"ix_encounters_alle_patient\"] = \"\"\"CREATE INDEX ix_encounters_alle_patients on encounters_alle(PATIENT);\"\"\" \r\n",
        "sql_index[\"ix_encounters_alle_description\"] = \"\"\"CREATE INDEX ix_encounters_alle_description on encounters_alle(DESCRIPTION);\"\"\"\r\n",
        "sql_index[\"ix_encounters_alle_code\"] = \"\"\"CREATE INDEX ix_encounters_alle_code on encounters_alle(CODE);\"\"\"\r\n",
        "sql_index[\"ix_encounters_alle_reasondescription\"] = \"\"\"CREATE INDEX ix_encounters_alle_reasondescription on encounters_alle(REASONDESCRIPTION);\"\"\"\r\n",
        "sql_index[\"ix_encounters_alle_reasoncode\"] = \"\"\"CREATE INDEX ix_encounters_alle_reasoncode on encounters_alle(REASONCODE);\"\"\"\r\n",
        "\r\n",
        "\r\n",
        "# Encounters COVID-19\r\n",
        "\r\n",
        "sql_table[\"encounters_cov\"] = \"\"\"CREATE TABLE IF NOT EXISTS encounters_cov (\r\n",
        "                           Id STRING PRIMARY KEY,\r\n",
        "                           START DATE,\r\n",
        "                           STOP DATE,\r\n",
        "                           PATIENT STRING,\r\n",
        "                           ORGANIZATIONS STRING,\r\n",
        "                           PROVIDER STRING,\r\n",
        "                           PAYER STRING,\r\n",
        "                           ENCOUNTERCLASS STRING,\r\n",
        "                           CODE STRING,\r\n",
        "                           DESCRIPTION STRING,\r\n",
        "                           BASE_ENCOUNTER_COST INTEGER,\r\n",
        "                           TOTAL_CLAIM_COST INTEGER,\r\n",
        "                           PAYER_COVERAGE INTEGER,\r\n",
        "                           REASONCODE STRING,\r\n",
        "                           REASONDESCRIPTION STRING,\r\n",
        "                           FOREIGN KEY (PATIENT)\r\n",
        "                              REFERENCES patients_cov (Id) \r\n",
        "                       );\"\"\"\r\n",
        "\r\n",
        "sql_index[\"ix_encounters_cov_id\"] = \"\"\"CREATE INDEX ix_encounters_cov_id on encounters_cov(Id);\"\"\" \r\n",
        "sql_index[\"ix_encounters_cov_patient\"] = \"\"\"CREATE INDEX ix_encounters_cov_patients on encounters_cov(PATIENT);\"\"\" \r\n",
        "sql_index[\"ix_encounters_cov_description\"] = \"\"\"CREATE INDEX ix_encounters_cov_description on encounters_cov(DESCRIPTION);\"\"\"\r\n",
        "sql_index[\"ix_encounters_cov_code\"] = \"\"\"CREATE INDEX ix_encounters_cov_code on encounters_cov(CODE);\"\"\"\r\n",
        "sql_index[\"ix_encounters_cov_reasondescription\"] = \"\"\"CREATE INDEX ix_encounters_cov_reasondescription on encounters_cov(REASONDESCRIPTION);\"\"\"\r\n",
        "sql_index[\"ix_encounters_cov_reasoncode\"] = \"\"\"CREATE INDEX ix_encounters_cov_reasoncode on encounters_cov(REASONCODE);\"\"\""
      ],
      "execution_count": 77,
      "outputs": []
    },
    {
      "cell_type": "code",
      "metadata": {
        "id": "wQ513ouF5RGJ"
      },
      "source": [
        "# Conditions allergy\r\n",
        "sql_table[\"conditions_alle\"] = \"\"\"CREATE TABLE IF NOT EXISTS conditions_alle (\r\n",
        "                           START DATE,\r\n",
        "                           STOP DATE,\r\n",
        "                           PATIENT STRING,\r\n",
        "                           ENCOUNTER STRING,\r\n",
        "                           CODE STRING,\r\n",
        "                           DESCRIPTION STRING,\r\n",
        "                           FOREIGN KEY (PATIENT)\r\n",
        "                              REFERENCES patients_alle (Id) \r\n",
        "                           FOREIGN KEY (Encounter)\r\n",
        "                              REFERENCES encounters_alle (Id) \r\n",
        "\r\n",
        "                       );\"\"\"\r\n",
        "\r\n",
        "sql_index[\"ix_conditions_alle_patient\"] = \"\"\"CREATE INDEX ix_conditions_alle_patient on conditions_alle(PATIENT);\"\"\"\r\n",
        "sql_index[\"ix_conditions_alle_encounter\"] = \"\"\"CREATE INDEX ix_conditions_alle_encounter on conditions_alle(ENCOUNTER);\"\"\"\r\n",
        "sql_index[\"ix_conditions_alle_code\"] = \"\"\"CREATE INDEX ix_conditions_alle_code on conditions_alle(CODE);\"\"\"\r\n",
        "sql_index[\"ix_conditions_alle_description\"] = \"\"\"CREATE INDEX ix_conditions_alle_description on conditions_alle(DESCRIPTION);\"\"\"\r\n",
        "\r\n",
        "# Conditions COVID-19\r\n",
        "sql_table[\"conditions_cov\"] = \"\"\"CREATE TABLE IF NOT EXISTS conditions_cov (\r\n",
        "                           START DATE,\r\n",
        "                           STOP DATE,\r\n",
        "                           PATIENT STRING,\r\n",
        "                           ENCOUNTER STRING,\r\n",
        "                           CODE STRING,\r\n",
        "                           DESCRIPTION STRING,\r\n",
        "                           FOREIGN KEY (PATIENT)\r\n",
        "                              REFERENCES patients_cov (Id) \r\n",
        "                           FOREIGN KEY (Encounter)\r\n",
        "                              REFERENCES encounters_cov (Id) \r\n",
        "\r\n",
        "                       );\"\"\"\r\n",
        "\r\n",
        "sql_index[\"ix_conditions_cov_patient\"] = \"\"\"CREATE INDEX ix_conditions_cov_patient on conditions_cov(PATIENT);\"\"\"\r\n",
        "sql_index[\"ix_conditions_cov_encounter\"] = \"\"\"CREATE INDEX ix_conditions_acov_encounter on conditions_cov(ENCOUNTER);\"\"\"\r\n",
        "sql_index[\"ix_conditions_cov_code\"] = \"\"\"CREATE INDEX ix_conditions_cov_code on conditions_cov(CODE);\"\"\"\r\n",
        "sql_index[\"ix_conditions_cov_description\"] = \"\"\"CREATE INDEX ix_conditions_cov_description on conditions_cov(DESCRIPTION);\"\"\""
      ],
      "execution_count": 78,
      "outputs": []
    },
    {
      "cell_type": "code",
      "metadata": {
        "id": "Wi9QezlC6mk5"
      },
      "source": [
        "# Procedures allergy\r\n",
        "\r\n",
        "sql_table[\"procedures_alle\"]= \"\"\"CREATE TABLE IF NOT EXISTS procedures_alle (\r\n",
        "                           DATE DATE,\r\n",
        "                           PATIENT STRING,\r\n",
        "                           ENCOUNTER STRING,\r\n",
        "                           CODE STRING,\r\n",
        "                           DESCRIPTION STRING,\r\n",
        "                           BASE_COST INTEGER,\r\n",
        "                           REASONCODE STRING,\r\n",
        "                           REASONDESCRIPTION STRING,\r\n",
        "                           FOREIGN KEY (PATIENT)\r\n",
        "                              REFERENCES patients_alle (Id) \r\n",
        "                           FOREIGN KEY (Encounter)\r\n",
        "                              REFERENCES encounters_alle (Id) \r\n",
        "\r\n",
        "                       );\"\"\"\r\n",
        "sql_index[\"ix_procedures_alle_patient\"] = \"\"\"CREATE INDEX ix_procedures_alle_patient on procedures_alle(PATIENT);\"\"\"\r\n",
        "sql_index[\"ix_procedures_alle_encounter\"] = \"\"\"CREATE INDEX ix_procedures_alle_encounter on procedures_alle(ENCOUNTER);\"\"\"\r\n",
        "sql_index[\"ix_procedures_alle_code\"] = \"\"\"CREATE INDEX ix_procedures_alle_code on procedures_alle(CODE);\"\"\"\r\n",
        "sql_index[\"ix_procedures_alle_description\"] = \"\"\"CREATE INDEX ix_procedures_alle_description on procedures_alle(DESCRIPTION);\"\"\"\r\n",
        "\r\n",
        "\r\n",
        "# Procedures COVID-19\r\n",
        "\r\n",
        "sql_table[\"procedures_cov\"]= \"\"\"CREATE TABLE IF NOT EXISTS procedures_cov (\r\n",
        "                           DATE DATE,\r\n",
        "                           PATIENT STRING,\r\n",
        "                           ENCOUNTER STRING,\r\n",
        "                           CODE STRING,\r\n",
        "                           DESCRIPTION STRING,\r\n",
        "                           BASE_COST INTEGER,\r\n",
        "                           REASONCODE STRING,\r\n",
        "                           REASONDESCRIPTION STRING,\r\n",
        "                           FOREIGN KEY (PATIENT)\r\n",
        "                              REFERENCES patients_cov (Id) \r\n",
        "                           FOREIGN KEY (Encounter)\r\n",
        "                              REFERENCES encounters_cov (Id) \r\n",
        "\r\n",
        "                       );\"\"\"\r\n",
        "sql_index[\"ix_procedures_cov_patient\"] = \"\"\"CREATE INDEX ix_procedures_cov_patient on procedures_cov(PATIENT);\"\"\"\r\n",
        "sql_index[\"ix_procedures_cov_encounter\"] = \"\"\"CREATE INDEX ix_procedures_cov_encounter on procedures_cov(ENCOUNTER);\"\"\"\r\n",
        "sql_index[\"ix_procedures_cov_code\"] = \"\"\"CREATE INDEX ix_procedures_cov_code on procedures_cov(CODE);\"\"\"\r\n",
        "sql_index[\"ix_procedures_cov_description\"] = \"\"\"CREATE INDEX ix_procedures_cov_description on procedures_cov(DESCRIPTION);\"\"\""
      ],
      "execution_count": 79,
      "outputs": []
    },
    {
      "cell_type": "code",
      "metadata": {
        "id": "qChepWGy7tX-"
      },
      "source": [
        "# Observations allergy\r\n",
        "sql_table[\"observations_alle\"]= \"\"\"CREATE TABLE IF NOT EXISTS observations_alle (\r\n",
        "                           DATE DATE,\r\n",
        "                           PATIENT STRING,\r\n",
        "                           ENCOUNTER STRING,\r\n",
        "                           CODE STRING,\r\n",
        "                           DESCRIPTION STRING,\r\n",
        "                           VALUE STRING,\r\n",
        "                           UNITS STRING,\r\n",
        "                           TYPE STRING,\r\n",
        "                           FOREIGN KEY (PATIENT)\r\n",
        "                              REFERENCES patients_alle (Id) \r\n",
        "                           FOREIGN KEY (Encounter)\r\n",
        "                              REFERENCES encounters_alle (Id) \r\n",
        "\r\n",
        "                       );\"\"\"\r\n",
        "sql_index[\"ix_observations_alle_patient\"] = \"\"\"CREATE INDEX ix_observations_alle_patient on observations_alle(PATIENT);\"\"\"\r\n",
        "sql_index[\"ix_observations_alle_encounter\"] = \"\"\"CREATE INDEX ix_observations_alle_encounter on observations_alle(ENCOUNTER);\"\"\"\r\n",
        "sql_index[\"ix_observations_alle_code\"] = \"\"\"CREATE INDEX ix_observations_alle_code on observations_alle(CODE);\"\"\"\r\n",
        "sql_index[\"ix_observations_alle_description\"] = \"\"\"CREATE INDEX ix_observations_alle_description on observations_alle(DESCRIPTION);\"\"\"\r\n",
        "\r\n",
        "\r\n",
        "# Observations COVID-19\r\n",
        "sql_table[\"observations_cov\"]= \"\"\"CREATE TABLE IF NOT EXISTS observations_cov (\r\n",
        "                           DATE DATE,\r\n",
        "                           PATIENT STRING,\r\n",
        "                           ENCOUNTER STRING,\r\n",
        "                           CODE STRING,\r\n",
        "                           DESCRIPTION STRING,\r\n",
        "                           VALUE STRING,\r\n",
        "                           UNITS STRING,\r\n",
        "                           TYPE STRING,\r\n",
        "                           FOREIGN KEY (PATIENT)\r\n",
        "                              REFERENCES patients_cov (Id) \r\n",
        "                           FOREIGN KEY (Encounter)\r\n",
        "                              REFERENCES encounters_cov (Id) \r\n",
        "\r\n",
        "                       );\"\"\"\r\n",
        "sql_index[\"ix_observations_cov_patient\"] = \"\"\"CREATE INDEX ix_observations_cov_patient on observations_cov(PATIENT);\"\"\"\r\n",
        "sql_index[\"ix_observations_cov_encounter\"] = \"\"\"CREATE INDEX ix_observations_cov_encounter on observations_cov(ENCOUNTER);\"\"\"\r\n",
        "sql_index[\"ix_observations_cov_code\"] = \"\"\"CREATE INDEX ix_observations_cov_code on observations_cov(CODE);\"\"\"\r\n",
        "sql_index[\"ix_observations_cov_description\"] = \"\"\"CREATE INDEX ix_observations_cov_description on observations_cov(DESCRIPTION);\"\"\""
      ],
      "execution_count": 80,
      "outputs": []
    },
    {
      "cell_type": "code",
      "metadata": {
        "id": "GWtMxCJr88xT"
      },
      "source": [
        "# Views\r\n",
        "\r\n",
        "# Patients\r\n",
        "sql_view[\"v_patients\"] = \"\"\"CREATE VIEW v_patients as\r\n",
        "select PA.id PATIENT_Id, BIRTHDATE, DEATHDATE, MARITAL, RACE, ETHNICITY, GENDER, CITY, ZIP, MAX(strftime('%Y', START)) - strftime('%Y', BIRTHDATE) AGE,  'allergy' study \r\n",
        "from patients_alle pa\r\n",
        "JOIN encounters_alle EA \r\n",
        "  ON PA.Id = EA.PATIENT\r\n",
        "group by PA.id\r\n",
        "  union\r\n",
        "select PC.id PATIENT_Id, BIRTHDATE, DEATHDATE, MARITAL, RACE, ETHNICITY, GENDER, CITY, ZIP, MAX(strftime('%Y', START)) - strftime('%Y', BIRTHDATE) AGE, 'covid-19' study \r\n",
        "from patients_cov PC \r\n",
        "JOIN encounters_cov EC \r\n",
        "  ON PC.Id = EC.PATIENT\r\n",
        "group by PC.id\r\n",
        ";\"\"\"\r\n",
        "\r\n",
        "\r\n",
        "# Encounters\r\n",
        "\r\n",
        "sql_view[\"v_encounters\"] = \"\"\" CREATE VIEW v_encounters as\r\n",
        "select Id ENCOUNTER_Id, \"START\" , STOP , PATIENT , CODE , DESCRIPTION, BASE_ENCOUNTER_COST , TOTAL_CLAIM_COST , PAYER_COVERAGE , REASONCODE , REASONDESCRIPTION , 'allergy' study from encounters_alle\r\n",
        "  union\r\n",
        "select Id ENCOUNTER_Id, \"START\" , STOP , PATIENT , CODE , DESCRIPTION, BASE_ENCOUNTER_COST , TOTAL_CLAIM_COST , PAYER_COVERAGE , REASONCODE , REASONDESCRIPTION , 'covid-19' study from encounters_cov\r\n",
        "; \"\"\"\r\n",
        "\r\n",
        "# Procedures\r\n",
        "sql_view[\"v_procedures\"] = \"\"\" CREATE VIEW v_procedures as\r\n",
        "select DATE, PATIENT, ENCOUNTER, CODE, DESCRIPTION, BASE_COST, REASONCODE, REASONDESCRIPTION, 'allergy' study FROM procedures_alle\r\n",
        "  union\r\n",
        "select DATE, PATIENT, ENCOUNTER, CODE, DESCRIPTION, BASE_COST, REASONCODE, REASONDESCRIPTION, 'covid-19' study FROM procedures_cov;\r\n",
        "\"\"\"\r\n",
        "\r\n",
        "# Conditions\r\n",
        "\r\n",
        "sql_view[\"v_conditions\"] = \"\"\" CREATE VIEW v_conditions as\r\n",
        "select START,STOP,PATIENT,ENCOUNTER,CODE,DESCRIPTION, 'allergy' study FROM conditions_alle\r\n",
        "  union\r\n",
        "select START,STOP,PATIENT,ENCOUNTER,CODE,DESCRIPTION, 'covid-19' study FROM conditions_cov;\r\n",
        "\"\"\"\r\n",
        "\r\n",
        "# Observations\r\n",
        "\r\n",
        "sql_view[\"v_observations\"] = \"\"\" CREATE VIEW v_observations as\r\n",
        "select DATE,PATIENT,ENCOUNTER,CODE,DESCRIPTION,VALUE,UNITS,TYPE, 'allergy' study FROM observations_alle\r\n",
        "  union\r\n",
        "select DATE,PATIENT,ENCOUNTER,CODE,DESCRIPTION,VALUE,UNITS,TYPE, 'covid-19' study FROM observations_cov;\r\n",
        "\"\"\"\r\n"
      ],
      "execution_count": 81,
      "outputs": []
    },
    {
      "cell_type": "code",
      "metadata": {
        "id": "3J0Q45H4CY9G"
      },
      "source": [
        "def connect_to_db(db_file):\r\n",
        "    sqlite3_conn = None\r\n",
        "    try:\r\n",
        "        sqlite3_conn = sq.connect(db_file)\r\n",
        "        return sqlite3_conn\r\n",
        "\r\n",
        "    except Error as err:\r\n",
        "        print(err)\r\n",
        "\r\n",
        "        if sqlite3_conn is not None:\r\n",
        "            sqlite3_conn.close()"
      ],
      "execution_count": 82,
      "outputs": []
    },
    {
      "cell_type": "code",
      "metadata": {
        "id": "Jb7rfrJoD8Rm"
      },
      "source": [
        "def insert_values_to_table(cursor, table_name, csv_file_path):\r\n",
        "    # Read CSV file content\r\n",
        "    values_to_insert = open_csv_file(csv_file_path)\r\n",
        "\r\n",
        "    # Insert to table\r\n",
        "    if len(values_to_insert) > 0:\r\n",
        "        column_names, column_numbers = get_column_names_from_db_table(cursor, table_name)\r\n",
        "\r\n",
        "        values_str = '?,' * column_numbers\r\n",
        "        # print(\"*****\", values_str, column_names, column_numbers)\r\n",
        "        values_str = values_str[:-1]\r\n",
        "\r\n",
        "        sql_query = 'INSERT OR REPLACE INTO ' + table_name + '(' + column_names + ') VALUES (' + values_str + ')'\r\n",
        "\r\n",
        "\r\n",
        "        cursor.executemany(sql_query, values_to_insert)\r\n",
        "        # conn.commit()\r\n",
        "\r\n",
        "        print('SQL insert process finished')\r\n",
        "    else:\r\n",
        "        print('Nothing to insert')\r\n",
        "\r\n",
        "        # conn.close()\r\n",
        "\r\n",
        "    # else:\r\n",
        "        # print('Connection to database failed')"
      ],
      "execution_count": 83,
      "outputs": []
    },
    {
      "cell_type": "code",
      "metadata": {
        "id": "XscnziSVEL0N"
      },
      "source": [
        "def open_csv_file(csv_file_path):\r\n",
        "\r\n",
        "    with open(csv_file_path, 'r', encoding='utf-8') as csv_file:\r\n",
        "        reader = csv.reader(csv_file)\r\n",
        "        next(reader)\r\n",
        "\r\n",
        "        data = list()\r\n",
        "        for row in reader:\r\n",
        "            data.append(row)\r\n",
        "        return data"
      ],
      "execution_count": 84,
      "outputs": []
    },
    {
      "cell_type": "code",
      "metadata": {
        "id": "1WIkzQPQEZ9E"
      },
      "source": [
        "def get_column_names_from_db_table(sql_cursor, table_name):\r\n",
        "    table_column_names = 'PRAGMA table_info(' + table_name + ');'\r\n",
        "    sql_cursor.execute(table_column_names)\r\n",
        "    table_column_names = sql_cursor.fetchall()\r\n",
        "\r\n",
        "    column_count = len(table_column_names)\r\n",
        "\r\n",
        "    column_names = list()\r\n",
        "\r\n",
        "    for name in table_column_names:\r\n",
        "        column_names.append(name[1])\r\n",
        "\r\n",
        "    return ', '.join(column_names), column_count"
      ],
      "execution_count": 85,
      "outputs": []
    },
    {
      "cell_type": "code",
      "metadata": {
        "id": "pQ-QsxAeEisV"
      },
      "source": [
        "# print(sql_table.keys())\r\n",
        "# print(sql_index.keys())\r\n",
        "# print(sql_view.keys())"
      ],
      "execution_count": 86,
      "outputs": []
    },
    {
      "cell_type": "code",
      "metadata": {
        "colab": {
          "base_uri": "https://localhost:8080/"
        },
        "id": "Wx4BaPgWE5LY",
        "outputId": "b8dfa6ee-274c-4f3d-8f04-60e1879486c1"
      },
      "source": [
        "# import csv into db\r\n",
        "conn = connect_to_db(db_path)\r\n",
        "if conn is not None:\r\n",
        "        cursor = conn.cursor()\r\n",
        "        for name in sql_table.keys():\r\n",
        "          csv_file = csv_path + name + \".csv\"\r\n",
        "          print(name, csv_file)\r\n",
        "          \r\n",
        "          cursor.execute(sql_table[name])\r\n",
        "\r\n",
        "          insert_values_to_table(cursor, name, csv_file)\r\n",
        "        # conn.commit()\r\n",
        "\r\n",
        "        for ix_name in sql_index.keys():\r\n",
        "          cursor.execute(sql_index[ix_name])\r\n",
        "\r\n",
        "        for v_name in sql_view.keys():\r\n",
        "          cursor.execute(sql_view[v_name])\r\n",
        "\r\n",
        "        # conn.commit() # Only for permanent changes in der database\r\n",
        "else:\r\n",
        "        print('Connection to database failed')\r\n",
        "\r\n"
      ],
      "execution_count": 87,
      "outputs": [
        {
          "output_type": "stream",
          "text": [
            "patients_alle /content/drive/MyDrive/csv_files/csv_to_db/patients_alle.csv\n",
            "SQL insert process finished\n",
            "patients_cov /content/drive/MyDrive/csv_files/csv_to_db/patients_cov.csv\n",
            "SQL insert process finished\n",
            "encounters_alle /content/drive/MyDrive/csv_files/csv_to_db/encounters_alle.csv\n",
            "SQL insert process finished\n",
            "encounters_cov /content/drive/MyDrive/csv_files/csv_to_db/encounters_cov.csv\n",
            "SQL insert process finished\n",
            "conditions_alle /content/drive/MyDrive/csv_files/csv_to_db/conditions_alle.csv\n",
            "SQL insert process finished\n",
            "conditions_cov /content/drive/MyDrive/csv_files/csv_to_db/conditions_cov.csv\n",
            "SQL insert process finished\n",
            "procedures_alle /content/drive/MyDrive/csv_files/csv_to_db/procedures_alle.csv\n",
            "SQL insert process finished\n",
            "procedures_cov /content/drive/MyDrive/csv_files/csv_to_db/procedures_cov.csv\n",
            "SQL insert process finished\n",
            "observations_alle /content/drive/MyDrive/csv_files/csv_to_db/observations_alle.csv\n",
            "SQL insert process finished\n",
            "observations_cov /content/drive/MyDrive/csv_files/csv_to_db/observations_cov.csv\n",
            "SQL insert process finished\n"
          ],
          "name": "stdout"
        }
      ]
    },
    {
      "cell_type": "code",
      "metadata": {
        "id": "lVzgFDurXity"
      },
      "source": [
        "# Star Schema and psoudonym with patients\r\n",
        "cursor.executescript(\"\"\"\r\n",
        "  DROP TABLE if exists pseudonym;  \r\n",
        "create table pseudonym(\r\n",
        "  psid varchar primary key,\r\n",
        "  peid varchar not null unique\r\n",
        ");\r\n",
        "\r\n",
        "INSERT into pseudonym\r\n",
        "  select distinct 'P'||random() psid, PATIENT_Id peid from v_patients vp\r\n",
        "    union\r\n",
        "  select distinct 'E'||random() psid, ENCOUNTER_Id peid from v_encounters ve\r\n",
        ";\r\n",
        "\r\n",
        "drop table if exists dimCity;\r\n",
        "create table dimCity(\r\n",
        "  cityId integer primary key autoincrement,\r\n",
        "  cityName varchar not null unique\r\n",
        ");\r\n",
        "\r\n",
        "--select distinct city from v_patients vp where city not like '';\r\n",
        "insert into dimCity(cityName)\r\n",
        "  select distinct city from v_patients vp where city not like ''; \r\n",
        "\r\n",
        "drop table if exists dimGender;\r\n",
        "create table dimGender(\r\n",
        "  genderId integer primary key autoincrement,\r\n",
        "  genderName varchar not null unique\r\n",
        ");\r\n",
        "\r\n",
        "insert into dimGender(genderName)\r\n",
        "  select DISTINCT gender from v_patients vp where gender not like '';\r\n",
        "\r\n",
        "drop table if exists dimEthnicity;\r\n",
        "create table dimEthnicity(\r\n",
        "  ethnicityId integer primary key autoincrement,\r\n",
        "  ethnicityName varchar not null unique\r\n",
        ");\r\n",
        "\r\n",
        "insert into dimEthnicity(ethnicityName)\r\n",
        "  select DISTINCT ethnicity from v_patients vp where ethnicity not like '';\r\n",
        "\r\n",
        "drop table if exists dimRace;\r\n",
        "CREATE table dimRace(\r\n",
        "  raceId integer primary key autoincrement,\r\n",
        "  raceName varchar not null unique\r\n",
        ");\r\n",
        "\r\n",
        "insert into dimRace(raceName)\r\n",
        "  select DISTINCT Race from v_patients vp where Race not like '';\r\n",
        "\r\n",
        "drop table if exists dimMarital;\r\n",
        "create table dimMarital(\r\n",
        "  maritalId integer primary key autoincrement,\r\n",
        "  maritalName varchar not null unique\r\n",
        ");\r\n",
        "\r\n",
        "insert into dimMarital(maritalName)\r\n",
        "  select DISTINCT Marital from v_patients vp where Marital not like '';\r\n",
        "\r\n",
        "\r\n",
        "drop table if exists dimStudy;\r\n",
        "create table dimStudy(\r\n",
        "  studyId varchar primary key,\r\n",
        "  studyName varchar not null,\r\n",
        "  studyDescription varchar\r\n",
        ");\r\n",
        "\r\n",
        "insert into dimStudy(studyId, studyName)\r\n",
        "  values\r\n",
        "  ('covid19', 'Coronavirus SARS-CoV-2'),\r\n",
        "  ('allergy', 'Allergic Diseases');\r\n",
        "\r\n",
        "\r\n",
        "drop table if exists factPatient;\r\n",
        "create table factPatient(\r\n",
        "  patientId varchar primary key,\r\n",
        "  BIRTHYEAR int,\r\n",
        "  DEATHYEAR int,\r\n",
        "  genderId int,\r\n",
        "  raceId int,\r\n",
        "  ethnicityId int,\r\n",
        "  cityId int,\r\n",
        "  maritalId int,\r\n",
        "  studyId varchar not null,\r\n",
        "    foreign key (genderId)\r\n",
        "      references dimGender(genderId),\r\n",
        "    foreign key (raceId)\r\n",
        "      references dimRace(raceId),\r\n",
        "    foreign key (ethnicityId)\r\n",
        "      references dimEthnicity(ethnicityId),\r\n",
        "    foreign key (cityId)\r\n",
        "      references dimCity(cityId),\r\n",
        "    foreign key (maritalId)\r\n",
        "      references dimMarital(maritalId),\r\n",
        "    foreign key (studyId)\r\n",
        "      references dimStudy(studyId)\r\n",
        ");\r\n",
        "\r\n",
        "insert into factPatient\r\n",
        "select \r\n",
        "  psid, \r\n",
        "  cast(substr(BIRTHDATE, 1,4) as integer) BIRTHYEAR, \r\n",
        "  cast(substr(DEATHDATE , 1,4) as integer) DEATHYEAR, \r\n",
        "  dg.genderId,\r\n",
        "  dr.raceId , \r\n",
        "  de.ETHNICITYId, \r\n",
        "  dc.CITYId, \r\n",
        "  dm.MARITALid,\r\n",
        "  'allergy' studyId \r\n",
        "from patients_alle pa \r\n",
        "JOIN pseudonym p on pa.id = p.peid \r\n",
        "left join dimGender dg on dg.genderName = pa.GENDER \r\n",
        "left join dimRace dr on dr.raceName = pa.RACE\r\n",
        "left join dimEthnicity de on de.ETHNICITYname = pa.ETHNICITY\r\n",
        "left join dimCity dc on dc.cityName = pa.city\r\n",
        "left join dimMarital dm on dm.maritalname = pa.marital\r\n",
        "  UNION \r\n",
        "select \r\n",
        "  psid, \r\n",
        "  cast(substr(BIRTHDATE, 1,4) as integer) BIRTHYEAR, \r\n",
        "  cast(substr(DEATHDATE , 1,4) as integer) DEATHYEAR,\r\n",
        "  dg.genderId,\r\n",
        "  dr.raceId , \r\n",
        "  de.ETHNICITYId, \r\n",
        "  dc.CITYId, \r\n",
        "  dm.MARITALid,\r\n",
        "  'covid19' studyId \r\n",
        "from patients_cov pa \r\n",
        "JOIN pseudonym p on pa.id = p.peid \r\n",
        "left join dimGender dg on dg.genderName = pa.GENDER \r\n",
        "left join dimRace dr on dr.raceName = pa.RACE\r\n",
        "left join dimEthnicity de on de.ETHNICITYname = pa.ETHNICITY\r\n",
        "left join dimCity dc on dc.cityName = pa.city\r\n",
        "left join dimMarital dm on dm.maritalname = pa.marital;\r\n",
        "     \"\"\")\r\n",
        "conn.commit()"
      ],
      "execution_count": 88,
      "outputs": []
    },
    {
      "cell_type": "code",
      "metadata": {
        "id": "e9XRbcZnENZd"
      },
      "source": [
        "########################################################################"
      ],
      "execution_count": 89,
      "outputs": []
    },
    {
      "cell_type": "code",
      "metadata": {
        "colab": {
          "base_uri": "https://localhost:8080/",
          "height": 142
        },
        "id": "-99dhaK0gE2C",
        "outputId": "dcf5b086-06bb-4bbf-f027-3e687d56f907"
      },
      "source": [
        "f_patients = pd.read_sql_query(\"select * from factPatient;\", conn) # first 3 Patients \r\n",
        "f_patients.head(3)"
      ],
      "execution_count": 90,
      "outputs": [
        {
          "output_type": "execute_result",
          "data": {
            "text/html": [
              "<div>\n",
              "<style scoped>\n",
              "    .dataframe tbody tr th:only-of-type {\n",
              "        vertical-align: middle;\n",
              "    }\n",
              "\n",
              "    .dataframe tbody tr th {\n",
              "        vertical-align: top;\n",
              "    }\n",
              "\n",
              "    .dataframe thead th {\n",
              "        text-align: right;\n",
              "    }\n",
              "</style>\n",
              "<table border=\"1\" class=\"dataframe\">\n",
              "  <thead>\n",
              "    <tr style=\"text-align: right;\">\n",
              "      <th></th>\n",
              "      <th>patientId</th>\n",
              "      <th>BIRTHYEAR</th>\n",
              "      <th>DEATHYEAR</th>\n",
              "      <th>genderId</th>\n",
              "      <th>raceId</th>\n",
              "      <th>ethnicityId</th>\n",
              "      <th>cityId</th>\n",
              "      <th>maritalId</th>\n",
              "      <th>studyId</th>\n",
              "    </tr>\n",
              "  </thead>\n",
              "  <tbody>\n",
              "    <tr>\n",
              "      <th>0</th>\n",
              "      <td>P-1009385298962331527</td>\n",
              "      <td>1985</td>\n",
              "      <td>0</td>\n",
              "      <td>1</td>\n",
              "      <td>1</td>\n",
              "      <td>1</td>\n",
              "      <td>191</td>\n",
              "      <td>1.0</td>\n",
              "      <td>covid19</td>\n",
              "    </tr>\n",
              "    <tr>\n",
              "      <th>1</th>\n",
              "      <td>P-1009848095845742503</td>\n",
              "      <td>1989</td>\n",
              "      <td>0</td>\n",
              "      <td>1</td>\n",
              "      <td>1</td>\n",
              "      <td>1</td>\n",
              "      <td>188</td>\n",
              "      <td>1.0</td>\n",
              "      <td>covid19</td>\n",
              "    </tr>\n",
              "    <tr>\n",
              "      <th>2</th>\n",
              "      <td>P-1021758004501900891</td>\n",
              "      <td>1946</td>\n",
              "      <td>0</td>\n",
              "      <td>1</td>\n",
              "      <td>1</td>\n",
              "      <td>1</td>\n",
              "      <td>65</td>\n",
              "      <td>1.0</td>\n",
              "      <td>covid19</td>\n",
              "    </tr>\n",
              "  </tbody>\n",
              "</table>\n",
              "</div>"
            ],
            "text/plain": [
              "               patientId  BIRTHYEAR  DEATHYEAR  ...  cityId  maritalId  studyId\n",
              "0  P-1009385298962331527       1985          0  ...     191        1.0  covid19\n",
              "1  P-1009848095845742503       1989          0  ...     188        1.0  covid19\n",
              "2  P-1021758004501900891       1946          0  ...      65        1.0  covid19\n",
              "\n",
              "[3 rows x 9 columns]"
            ]
          },
          "metadata": {
            "tags": []
          },
          "execution_count": 90
        }
      ]
    },
    {
      "cell_type": "markdown",
      "metadata": {
        "id": "68AGInbSH9hA"
      },
      "source": [
        "Patienten"
      ]
    },
    {
      "cell_type": "code",
      "metadata": {
        "colab": {
          "base_uri": "https://localhost:8080/",
          "height": 80
        },
        "id": "6P33PzkzJryD",
        "outputId": "9e1203b7-f5dd-49a6-acf1-23bb2419b5f0"
      },
      "source": [
        "count_patients_cov = pd.read_sql_query(\"select count(*) patients_covid19 from patients_cov;\", conn) #Anzahl an Patienten mit COVID-19\n",
        "count_patients_cov"
      ],
      "execution_count": 91,
      "outputs": [
        {
          "output_type": "execute_result",
          "data": {
            "text/html": [
              "<div>\n",
              "<style scoped>\n",
              "    .dataframe tbody tr th:only-of-type {\n",
              "        vertical-align: middle;\n",
              "    }\n",
              "\n",
              "    .dataframe tbody tr th {\n",
              "        vertical-align: top;\n",
              "    }\n",
              "\n",
              "    .dataframe thead th {\n",
              "        text-align: right;\n",
              "    }\n",
              "</style>\n",
              "<table border=\"1\" class=\"dataframe\">\n",
              "  <thead>\n",
              "    <tr style=\"text-align: right;\">\n",
              "      <th></th>\n",
              "      <th>patients_covid19</th>\n",
              "    </tr>\n",
              "  </thead>\n",
              "  <tbody>\n",
              "    <tr>\n",
              "      <th>0</th>\n",
              "      <td>1050</td>\n",
              "    </tr>\n",
              "  </tbody>\n",
              "</table>\n",
              "</div>"
            ],
            "text/plain": [
              "   patients_covid19\n",
              "0              1050"
            ]
          },
          "metadata": {
            "tags": []
          },
          "execution_count": 91
        }
      ]
    },
    {
      "cell_type": "code",
      "metadata": {
        "colab": {
          "base_uri": "https://localhost:8080/",
          "height": 80
        },
        "id": "ptBjNhgyKRLt",
        "outputId": "f0cae0ba-d998-42a3-d4b0-74ac9039d6d5"
      },
      "source": [
        "count_patients_alle = pd.read_sql_query(\"select count(*) patients_allergy from patients_alle;\", conn) #Anzahl an Patienten in Allergie\n",
        "count_patients_alle\n"
      ],
      "execution_count": 92,
      "outputs": [
        {
          "output_type": "execute_result",
          "data": {
            "text/html": [
              "<div>\n",
              "<style scoped>\n",
              "    .dataframe tbody tr th:only-of-type {\n",
              "        vertical-align: middle;\n",
              "    }\n",
              "\n",
              "    .dataframe tbody tr th {\n",
              "        vertical-align: top;\n",
              "    }\n",
              "\n",
              "    .dataframe thead th {\n",
              "        text-align: right;\n",
              "    }\n",
              "</style>\n",
              "<table border=\"1\" class=\"dataframe\">\n",
              "  <thead>\n",
              "    <tr style=\"text-align: right;\">\n",
              "      <th></th>\n",
              "      <th>patients_allergy</th>\n",
              "    </tr>\n",
              "  </thead>\n",
              "  <tbody>\n",
              "    <tr>\n",
              "      <th>0</th>\n",
              "      <td>135</td>\n",
              "    </tr>\n",
              "  </tbody>\n",
              "</table>\n",
              "</div>"
            ],
            "text/plain": [
              "   patients_allergy\n",
              "0               135"
            ]
          },
          "metadata": {
            "tags": []
          },
          "execution_count": 92
        }
      ]
    },
    {
      "cell_type": "code",
      "metadata": {
        "colab": {
          "base_uri": "https://localhost:8080/",
          "height": 111
        },
        "id": "XqnWxCrEEpoe",
        "outputId": "ff3a4d4d-22ef-4e32-afb0-8954038e6576"
      },
      "source": [
        "#Patienten by Geschlecht in COVID-19\r\n",
        "count_patients_gender_cov = pd.read_sql_query(\"select GENDER, count(id) patients_covid19 from patients_cov group by GENDER;\", conn) \r\n",
        "count_patients_gender_cov"
      ],
      "execution_count": 93,
      "outputs": [
        {
          "output_type": "execute_result",
          "data": {
            "text/html": [
              "<div>\n",
              "<style scoped>\n",
              "    .dataframe tbody tr th:only-of-type {\n",
              "        vertical-align: middle;\n",
              "    }\n",
              "\n",
              "    .dataframe tbody tr th {\n",
              "        vertical-align: top;\n",
              "    }\n",
              "\n",
              "    .dataframe thead th {\n",
              "        text-align: right;\n",
              "    }\n",
              "</style>\n",
              "<table border=\"1\" class=\"dataframe\">\n",
              "  <thead>\n",
              "    <tr style=\"text-align: right;\">\n",
              "      <th></th>\n",
              "      <th>GENDER</th>\n",
              "      <th>patients_covid19</th>\n",
              "    </tr>\n",
              "  </thead>\n",
              "  <tbody>\n",
              "    <tr>\n",
              "      <th>0</th>\n",
              "      <td>F</td>\n",
              "      <td>522</td>\n",
              "    </tr>\n",
              "    <tr>\n",
              "      <th>1</th>\n",
              "      <td>M</td>\n",
              "      <td>528</td>\n",
              "    </tr>\n",
              "  </tbody>\n",
              "</table>\n",
              "</div>"
            ],
            "text/plain": [
              "  GENDER  patients_covid19\n",
              "0      F               522\n",
              "1      M               528"
            ]
          },
          "metadata": {
            "tags": []
          },
          "execution_count": 93
        }
      ]
    },
    {
      "cell_type": "code",
      "metadata": {
        "colab": {
          "base_uri": "https://localhost:8080/",
          "height": 111
        },
        "id": "RECIAvf0Fg00",
        "outputId": "f9e41caf-9d38-40a9-f898-773b45fbf0d0"
      },
      "source": [
        "#Patienten by Geschlecht in Allergy\r\n",
        "count_patients_gender_alle = pd.read_sql_query(\"select GENDER, count(id) patients_allergy from patients_alle group by GENDER;\", conn) \r\n",
        "count_patients_gender_alle"
      ],
      "execution_count": 94,
      "outputs": [
        {
          "output_type": "execute_result",
          "data": {
            "text/html": [
              "<div>\n",
              "<style scoped>\n",
              "    .dataframe tbody tr th:only-of-type {\n",
              "        vertical-align: middle;\n",
              "    }\n",
              "\n",
              "    .dataframe tbody tr th {\n",
              "        vertical-align: top;\n",
              "    }\n",
              "\n",
              "    .dataframe thead th {\n",
              "        text-align: right;\n",
              "    }\n",
              "</style>\n",
              "<table border=\"1\" class=\"dataframe\">\n",
              "  <thead>\n",
              "    <tr style=\"text-align: right;\">\n",
              "      <th></th>\n",
              "      <th>GENDER</th>\n",
              "      <th>patients_allergy</th>\n",
              "    </tr>\n",
              "  </thead>\n",
              "  <tbody>\n",
              "    <tr>\n",
              "      <th>0</th>\n",
              "      <td>F</td>\n",
              "      <td>57</td>\n",
              "    </tr>\n",
              "    <tr>\n",
              "      <th>1</th>\n",
              "      <td>M</td>\n",
              "      <td>78</td>\n",
              "    </tr>\n",
              "  </tbody>\n",
              "</table>\n",
              "</div>"
            ],
            "text/plain": [
              "  GENDER  patients_allergy\n",
              "0      F                57\n",
              "1      M                78"
            ]
          },
          "metadata": {
            "tags": []
          },
          "execution_count": 94
        }
      ]
    },
    {
      "cell_type": "code",
      "metadata": {
        "colab": {
          "base_uri": "https://localhost:8080/",
          "height": 173
        },
        "id": "bLE6kM92cFQS",
        "outputId": "ee1d98c5-dad2-42fa-b398-53dbab8207fb"
      },
      "source": [
        "#Patienten by Hautfarbe in COVID-19\r\n",
        "count_patients_race_cov = pd.read_sql_query(\"select RACE, count(distinct ID) C_PATIENTS_COVID FROM patients_cov group by RACE;\", conn) \r\n",
        "count_patients_race_cov"
      ],
      "execution_count": 95,
      "outputs": [
        {
          "output_type": "execute_result",
          "data": {
            "text/html": [
              "<div>\n",
              "<style scoped>\n",
              "    .dataframe tbody tr th:only-of-type {\n",
              "        vertical-align: middle;\n",
              "    }\n",
              "\n",
              "    .dataframe tbody tr th {\n",
              "        vertical-align: top;\n",
              "    }\n",
              "\n",
              "    .dataframe thead th {\n",
              "        text-align: right;\n",
              "    }\n",
              "</style>\n",
              "<table border=\"1\" class=\"dataframe\">\n",
              "  <thead>\n",
              "    <tr style=\"text-align: right;\">\n",
              "      <th></th>\n",
              "      <th>RACE</th>\n",
              "      <th>C_PATIENTS_COVID</th>\n",
              "    </tr>\n",
              "  </thead>\n",
              "  <tbody>\n",
              "    <tr>\n",
              "      <th>0</th>\n",
              "      <td>asian</td>\n",
              "      <td>66</td>\n",
              "    </tr>\n",
              "    <tr>\n",
              "      <th>1</th>\n",
              "      <td>black</td>\n",
              "      <td>85</td>\n",
              "    </tr>\n",
              "    <tr>\n",
              "      <th>2</th>\n",
              "      <td>native</td>\n",
              "      <td>7</td>\n",
              "    </tr>\n",
              "    <tr>\n",
              "      <th>3</th>\n",
              "      <td>white</td>\n",
              "      <td>892</td>\n",
              "    </tr>\n",
              "  </tbody>\n",
              "</table>\n",
              "</div>"
            ],
            "text/plain": [
              "     RACE  C_PATIENTS_COVID\n",
              "0   asian                66\n",
              "1   black                85\n",
              "2  native                 7\n",
              "3   white               892"
            ]
          },
          "metadata": {
            "tags": []
          },
          "execution_count": 95
        }
      ]
    },
    {
      "cell_type": "code",
      "metadata": {
        "colab": {
          "base_uri": "https://localhost:8080/",
          "height": 142
        },
        "id": "ByjHX_zmcrHH",
        "outputId": "aaa5e3a6-d9e6-421b-c2a4-5c1eba8113ae"
      },
      "source": [
        "#Patienten by Hautfarbe in Allergy\r\n",
        "count_patients_race_alle = pd.read_sql_query(\"select RACE, count(distinct ID) C_PATIENTS_ALLERGY FROM patients_alle group by RACE;\", conn) \r\n",
        "count_patients_race_alle"
      ],
      "execution_count": 96,
      "outputs": [
        {
          "output_type": "execute_result",
          "data": {
            "text/html": [
              "<div>\n",
              "<style scoped>\n",
              "    .dataframe tbody tr th:only-of-type {\n",
              "        vertical-align: middle;\n",
              "    }\n",
              "\n",
              "    .dataframe tbody tr th {\n",
              "        vertical-align: top;\n",
              "    }\n",
              "\n",
              "    .dataframe thead th {\n",
              "        text-align: right;\n",
              "    }\n",
              "</style>\n",
              "<table border=\"1\" class=\"dataframe\">\n",
              "  <thead>\n",
              "    <tr style=\"text-align: right;\">\n",
              "      <th></th>\n",
              "      <th>RACE</th>\n",
              "      <th>C_PATIENTS_ALLERGY</th>\n",
              "    </tr>\n",
              "  </thead>\n",
              "  <tbody>\n",
              "    <tr>\n",
              "      <th>0</th>\n",
              "      <td>asian</td>\n",
              "      <td>3</td>\n",
              "    </tr>\n",
              "    <tr>\n",
              "      <th>1</th>\n",
              "      <td>black</td>\n",
              "      <td>21</td>\n",
              "    </tr>\n",
              "    <tr>\n",
              "      <th>2</th>\n",
              "      <td>white</td>\n",
              "      <td>111</td>\n",
              "    </tr>\n",
              "  </tbody>\n",
              "</table>\n",
              "</div>"
            ],
            "text/plain": [
              "    RACE  C_PATIENTS_ALLERGY\n",
              "0  asian                   3\n",
              "1  black                  21\n",
              "2  white                 111"
            ]
          },
          "metadata": {
            "tags": []
          },
          "execution_count": 96
        }
      ]
    },
    {
      "cell_type": "code",
      "metadata": {
        "id": "QO9J39sTL-mS"
      },
      "source": [
        "# Patient und Conditions in conditions_cov\r\n",
        "\r\n",
        "#observations_patients_cov = pd.read_sql_query(\"select DESCRIPTION, count(distinct PATIENT) C_PATIENTS_covid19 FROM conditions_cov group by DESCRIPTION;\", conn) #Anzahl an Patienten mit COVID-19\r\n",
        "#observations_patients_cov.head(4)"
      ],
      "execution_count": 97,
      "outputs": []
    },
    {
      "cell_type": "code",
      "metadata": {
        "id": "1P1sc-bDPDWY"
      },
      "source": [
        "# Patient und Conditions in conditions_alle\r\n",
        "\r\n",
        "#observations_patients_alle = pd.read_sql_query(\"select DESCRIPTION, count(distinct PATIENT) C_PATIENTS_allergy FROM conditions_alle group by DESCRIPTION;\", conn) \r\n",
        "#observations_patients_alle.head(4)"
      ],
      "execution_count": 98,
      "outputs": []
    },
    {
      "cell_type": "code",
      "metadata": {
        "id": "fhxQcvHbZe3i"
      },
      "source": [
        "# Patient und Description in encounter_alle\r\n",
        "\r\n",
        "#encounter_description_patients_alle = pd.read_sql_query(\"select DESCRIPTION , count(distinct PATIENT) C_PATIENTS_allergy FROM encounters_alle ea  where DESCRIPTION not like '' group by DESCRIPTION ;\", conn) \r\n",
        "#encounter_description_patients_alle"
      ],
      "execution_count": 99,
      "outputs": []
    },
    {
      "cell_type": "code",
      "metadata": {
        "id": "EE3uwW6Rac1a"
      },
      "source": [
        "# Patient und Description in encounter_cov\r\n",
        "\r\n",
        "#encounter_description_patients_cov = pd.read_sql_query(\"select DESCRIPTION , count(distinct PATIENT) C_PATIENTS_covid19 FROM encounters_cov co  where DESCRIPTION not like '' group by DESCRIPTION ;\", conn) \r\n",
        "#encounter_description_patients_cov"
      ],
      "execution_count": 100,
      "outputs": []
    },
    {
      "cell_type": "code",
      "metadata": {
        "id": "o6sfX6aHbSyf"
      },
      "source": [
        "# Patient und Reasondescription in encounter_alle\r\n",
        "\r\n",
        "#encounter_reasondescription_patients_alle = pd.read_sql_query(\"select REASONDESCRIPTION , count(distinct PATIENT) C_PATIENTS_allergy FROM encounters_alle ea  where REASONDESCRIPTION not like '' group by REASONDESCRIPTION ;\", conn) \r\n",
        "#encounter_reasondescription_patients_alle"
      ],
      "execution_count": 101,
      "outputs": []
    },
    {
      "cell_type": "code",
      "metadata": {
        "id": "_n0rlDsqb8kq"
      },
      "source": [
        "# Patient und Reasondescription in encounter_cov\r\n",
        "\r\n",
        "#encounter_reasondescription_patients_cov = pd.read_sql_query(\"select REASONDESCRIPTION , count(distinct PATIENT) C_PATIENTS_covid19 FROM encounters_cov co  where REASONDESCRIPTION not like '' group by REASONDESCRIPTION ;\", conn) \r\n",
        "#encounter_reasondescription_patients_cov"
      ],
      "execution_count": 102,
      "outputs": []
    },
    {
      "cell_type": "code",
      "metadata": {
        "colab": {
          "base_uri": "https://localhost:8080/"
        },
        "id": "ID-6BZVv17dV",
        "outputId": "4cad4f71-2e74-471d-f53d-4e24340f62e4"
      },
      "source": [
        "# Age analysis (Covid)\r\n",
        "\r\n",
        "ageCov = pd.read_sql_query(\"\"\"select \r\n",
        "    PA.ID Patient_allergy, \r\n",
        "    MAX(strftime('%Y', START)) - strftime('%Y', BIRTHDATE) AGE_END \r\n",
        "  from patients_cov PA \r\n",
        "  JOIN encounters_cov EA \r\n",
        "    ON PA.Id = EA.PATIENT \r\n",
        "  GROUP BY PA.ID\"\"\", conn)\r\n",
        "\r\n",
        "print('Age in Allergy')\r\n",
        "print('count ' + str(ageCov['AGE_END'].count()))\r\n",
        "print('max ' + str(ageCov['AGE_END'].max()))\r\n",
        "print('min ' + str(ageCov['AGE_END'].min()))\r\n",
        "print('mean ' + str(ageCov['AGE_END'].mean()))\r\n",
        "print('median ' + str(ageCov['AGE_END'].median()))\r\n",
        "print('mode')\r\n",
        "print(str(ageCov['AGE_END'].mode()))\r\n"
      ],
      "execution_count": 103,
      "outputs": [
        {
          "output_type": "stream",
          "text": [
            "Age in Allergy\n",
            "count 1050\n",
            "max 110\n",
            "min 1\n",
            "mean 41.142857142857146\n",
            "median 39.0\n",
            "mode\n",
            "0    22\n",
            "1    31\n",
            "dtype: int64\n"
          ],
          "name": "stdout"
        }
      ]
    },
    {
      "cell_type": "code",
      "metadata": {
        "colab": {
          "base_uri": "https://localhost:8080/"
        },
        "id": "pxn1WSLu9hwv",
        "outputId": "b8c5bb76-8288-4784-8a84-80c72d925a30"
      },
      "source": [
        "# Age analysis (Allergy)\r\n",
        "\r\n",
        "ageAlle = pd.read_sql_query(\"\"\"select \r\n",
        "    PA.ID Patient_allergy, \r\n",
        "    MAX(strftime('%Y', START)) - strftime('%Y', BIRTHDATE) AGE_END \r\n",
        "  from patients_alle PA \r\n",
        "  JOIN encounters_alle EA \r\n",
        "    ON PA.Id = EA.PATIENT \r\n",
        "  GROUP BY PA.ID\"\"\", conn)\r\n",
        "print('Age in Covid')\r\n",
        "print('count ' + str(ageAlle['AGE_END'].count()))\r\n",
        "print('max ' + str(ageAlle['AGE_END'].max()))\r\n",
        "print('min ' + str(ageAlle['AGE_END'].min()))\r\n",
        "print('mean ' + str(ageAlle['AGE_END'].mean()))\r\n",
        "print('median ' + str(ageAlle['AGE_END'].median()))\r\n",
        "print('mode')\r\n",
        "print(str(ageAlle['AGE_END'].mode()))"
      ],
      "execution_count": 104,
      "outputs": [
        {
          "output_type": "stream",
          "text": [
            "Age in Covid\n",
            "count 135\n",
            "max 104\n",
            "min 0\n",
            "mean 47.8962962962963\n",
            "median 49.0\n",
            "mode\n",
            "0    18\n",
            "1    61\n",
            "2    69\n",
            "dtype: int64\n"
          ],
          "name": "stdout"
        }
      ]
    },
    {
      "cell_type": "code",
      "metadata": {
        "id": "en0hTNStUy5S"
      },
      "source": [
        "conn.close()"
      ],
      "execution_count": 105,
      "outputs": []
    }
  ]
}