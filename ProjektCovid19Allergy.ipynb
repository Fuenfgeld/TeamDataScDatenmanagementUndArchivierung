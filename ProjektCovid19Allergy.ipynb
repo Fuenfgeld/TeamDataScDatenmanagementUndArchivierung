{
  "nbformat": 4,
  "nbformat_minor": 0,
  "metadata": {
    "colab": {
      "name": "ProjektCovid19Allergy.ipynb",
      "provenance": [],
      "toc_visible": true,
      "include_colab_link": true
    },
    "kernelspec": {
      "display_name": "Python 3",
      "name": "python3"
    }
  },
  "cells": [
    {
      "cell_type": "markdown",
      "metadata": {
        "id": "view-in-github",
        "colab_type": "text"
      },
      "source": [
        "<a href=\"https://colab.research.google.com/github/Fuenfgeld/TeamDataScDatenmanagementUndArchivierung/blob/main/ProjektCovid19Allergy.ipynb\" target=\"_parent\"><img src=\"https://colab.research.google.com/assets/colab-badge.svg\" alt=\"Open In Colab\"/></a>"
      ]
    },
    {
      "cell_type": "markdown",
      "metadata": {
        "id": "M8qW_IUoH-66"
      },
      "source": [
        "# Covid und Allergie\n",
        "Die csv-Dateien sind im Ordner csv_files\n",
        "\n",
        "Die db-Dateien sind im Ordner db_files"
      ]
    },
    {
      "cell_type": "code",
      "metadata": {
        "id": "wCnsb8FEHddZ",
        "colab": {
          "base_uri": "https://localhost:8080/"
        },
        "outputId": "12ae16e3-64ef-4309-a422-d6b5495d0aff"
      },
      "source": [
        "import pandas as pd\n",
        "import numpy as np\n",
        "import csv\n",
        "import sqlite3 as sq\n",
        "from sqlite3 import Error\n",
        "from google.colab import drive\n",
        "\n",
        "drive.mount('/content/drive/', force_remount=True)\n",
        "\n",
        "csv_path = '/content/drive/MyDrive/csv_files/csv_to_db/'\n",
        "db_path = '/content/drive/MyDrive/db_files/cov_alle.db'\n",
        "\n",
        "patient_type = \"cov_alle\"\n",
        "\n"
      ],
      "execution_count": 612,
      "outputs": [
        {
          "output_type": "stream",
          "text": [
            "Mounted at /content/drive/\n"
          ],
          "name": "stdout"
        }
      ]
    },
    {
      "cell_type": "code",
      "metadata": {
        "id": "Ced6BDQf0LIf"
      },
      "source": [
        "sql_table = {} # Tables\r\n",
        "sql_index = {} # Indizes\r\n",
        "sql_view = {} # Views\r\n",
        "\r\n",
        "# Patients allergy\r\n",
        "sql_table[\"patients_alle\"] = \"\"\"CREATE TABLE IF NOT EXISTS patients_alle (\r\n",
        "  Id varchar primary key,\r\n",
        "  BIRTHDATE date,\r\n",
        "  DEATHDATE date,\r\n",
        "  SSN varchar,\r\n",
        "  DRIVERS varchar,\r\n",
        "  PASSPORT varchar,\r\n",
        "  PREFIX varchar,\r\n",
        "  FIRST varchar,\r\n",
        "  LAST varchar,\r\n",
        "  SUFFIX varchar,\r\n",
        "  MAIDEN varchar,\r\n",
        "  MARITAL varchar,\r\n",
        "  RACE varchar,\r\n",
        "  ETHNICITY varchar,\r\n",
        "  GENDER varchar,\r\n",
        "  BIRTHPLACE varchar,\r\n",
        "  ADDRESS varchar,\r\n",
        "  CITY varchar,\r\n",
        "  STATE varchar,\r\n",
        "  COUNTY varchar,\r\n",
        "  ZIP varchar,\r\n",
        "  LAT double,\r\n",
        "  LON double,\r\n",
        "  HEALTHCARE_EXPENSES varchar,\r\n",
        "  HEALTHCARE_COVERAGE varchar\r\n",
        ");\"\"\"\r\n",
        "\r\n",
        "# Indizes\r\n",
        "sql_index[\"ix_patients_alle_id\"] = \"\"\"CREATE UNIQUE INDEX ix_patients_alle_id on patients_alle(Id);\"\"\" \r\n",
        "sql_index[\"ix_patients_alle_race\"] = \"\"\"CREATE INDEX ix_patients_alle_race on patients_alle(RACE);\"\"\" \r\n",
        "sql_index[\"ix_patients_alle_ethnicity\"] = \"\"\"CREATE INDEX ix_patients_alle_ethnicity on patients_alle(ETHNICITY);\"\"\"\r\n",
        "sql_index[\"ix_patients_alle_city\"] = \"\"\"CREATE INDEX ixpatients_alle_city on patients_alle(CITY);\"\"\"\r\n",
        "sql_index[\"ix_patients_alle_gender\"] = \"\"\"CREATE INDEX ix_patients_alle_gender on patients_alle(GENDER);\"\"\"\r\n",
        "# sql_index[\"ix_patients_alle_country\"] = \"\"\"CREATE INDEX ix_patients_alle_country on patients_alle(COUNTRY);\"\"\"\r\n",
        "sql_index[\"ix_patients_alle_zip\"] = \"\"\"CREATE INDEX ix_patients_alle_zip on patients_alle(ZIP);\"\"\"\r\n",
        "\r\n",
        "# Patients COVID-19\r\n",
        "\r\n",
        "sql_table[\"patients_cov\"] = \"\"\"CREATE TABLE IF NOT EXISTS patients_cov (\r\n",
        "  Id varchar primary key,\r\n",
        "  BIRTHDATE date,\r\n",
        "  DEATHDATE date,\r\n",
        "  SSN varchar,\r\n",
        "  DRIVERS varchar,\r\n",
        "  PASSPORT varchar,\r\n",
        "  PREFIX varchar,\r\n",
        "  FIRST varchar,\r\n",
        "  LAST varchar,\r\n",
        "  SUFFIX varchar,\r\n",
        "  MAIDEN varchar,\r\n",
        "  MARITAL varchar,\r\n",
        "  RACE varchar,\r\n",
        "  ETHNICITY varchar,\r\n",
        "  GENDER varchar,\r\n",
        "  BIRTHPLACE varchar,\r\n",
        "  ADDRESS varchar,\r\n",
        "  CITY varchar,\r\n",
        "  STATE varchar,\r\n",
        "  COUNTY varchar,\r\n",
        "  ZIP varchar,\r\n",
        "  LAT double,\r\n",
        "  LON double,\r\n",
        "  HEALTHCARE_EXPENSES varchar,\r\n",
        "  HEALTHCARE_COVERAGE varchar\r\n",
        ");\"\"\"\r\n",
        "\r\n",
        "sql_index[\"ix_patients_cov_id\"] = \"\"\"CREATE UNIQUE INDEX ix_patients_cov_id on patients_alle(Id);\"\"\" \r\n",
        "sql_index[\"ix_patients_cov_race\"] = \"\"\"CREATE INDEX ix_patients_cov_race on patients_alle(RACE);\"\"\" \r\n",
        "sql_index[\"ix_patients_cov_ethnicity\"] = \"\"\"CREATE INDEX ix_patients_cov_ethnicity on patients_alle(ETHNICITY);\"\"\"\r\n",
        "sql_index[\"ix_patients_cov_city\"] = \"\"\"CREATE INDEX ixpatients_cov_city on patients_alle(CITY);\"\"\"\r\n",
        "sql_index[\"ix_patients_cov_gender\"] = \"\"\"CREATE INDEX ix_patients_cov_gender on patients_alle(GENDER);\"\"\"\r\n",
        "# sql_index[\"ix_patients_cov_country\"] = \"\"\"CREATE INDEX ix_patients_cov_country on patients_alle(COUNTRY);\"\"\"\r\n",
        "sql_index[\"ix_patients_cov_zip\"] = \"\"\"CREATE INDEX ix_patients_cov_zip on patients_alle(ZIP);\"\"\""
      ],
      "execution_count": 613,
      "outputs": []
    },
    {
      "cell_type": "code",
      "metadata": {
        "id": "yFUWJMrE3ULa"
      },
      "source": [
        "# Encounters allergy\r\n",
        "\r\n",
        "sql_table[\"encounters_alle\"] = \"\"\"CREATE TABLE IF NOT EXISTS encounters_alle (\r\n",
        "                           Id STRING PRIMARY KEY,\r\n",
        "                           START DATE,\r\n",
        "                           STOP DATE,\r\n",
        "                           PATIENT STRING,\r\n",
        "                           ORGANIZATIONS STRING,\r\n",
        "                           PROVIDER STRING,\r\n",
        "                           PAYER STRING,\r\n",
        "                           ENCOUNTERCLASS STRING,\r\n",
        "                           CODE STRING,\r\n",
        "                           DESCRIPTION STRING,\r\n",
        "                           BASE_ENCOUNTER_COST INTEGER,\r\n",
        "                           TOTAL_CLAIM_COST INTEGER,\r\n",
        "                           PAYER_COVERAGE INTEGER,\r\n",
        "                           REASONCODE STRING,\r\n",
        "                           REASONDESCRIPTION STRING,\r\n",
        "                           FOREIGN KEY (PATIENT)\r\n",
        "                              REFERENCES patients_alle (Id) \r\n",
        "                       );\"\"\"\r\n",
        "sql_index[\"ix_encounters_alle_id\"] = \"\"\"CREATE INDEX ix_encounters_alle_id on encounters_alle(Id);\"\"\" \r\n",
        "sql_index[\"ix_encounters_alle_patient\"] = \"\"\"CREATE INDEX ix_encounters_alle_patients on encounters_alle(PATIENT);\"\"\" \r\n",
        "sql_index[\"ix_encounters_alle_description\"] = \"\"\"CREATE INDEX ix_encounters_alle_description on encounters_alle(DESCRIPTION);\"\"\"\r\n",
        "sql_index[\"ix_encounters_alle_code\"] = \"\"\"CREATE INDEX ix_encounters_alle_code on encounters_alle(CODE);\"\"\"\r\n",
        "sql_index[\"ix_encounters_alle_reasondescription\"] = \"\"\"CREATE INDEX ix_encounters_alle_reasondescription on encounters_alle(REASONDESCRIPTION);\"\"\"\r\n",
        "sql_index[\"ix_encounters_alle_reasoncode\"] = \"\"\"CREATE INDEX ix_encounters_alle_reasoncode on encounters_alle(REASONCODE);\"\"\"\r\n",
        "\r\n",
        "\r\n",
        "# Encounters COVID-19\r\n",
        "\r\n",
        "sql_table[\"encounters_cov\"] = \"\"\"CREATE TABLE IF NOT EXISTS encounters_cov (\r\n",
        "                           Id STRING PRIMARY KEY,\r\n",
        "                           START DATE,\r\n",
        "                           STOP DATE,\r\n",
        "                           PATIENT STRING,\r\n",
        "                           ORGANIZATIONS STRING,\r\n",
        "                           PROVIDER STRING,\r\n",
        "                           PAYER STRING,\r\n",
        "                           ENCOUNTERCLASS STRING,\r\n",
        "                           CODE STRING,\r\n",
        "                           DESCRIPTION STRING,\r\n",
        "                           BASE_ENCOUNTER_COST INTEGER,\r\n",
        "                           TOTAL_CLAIM_COST INTEGER,\r\n",
        "                           PAYER_COVERAGE INTEGER,\r\n",
        "                           REASONCODE STRING,\r\n",
        "                           REASONDESCRIPTION STRING,\r\n",
        "                           FOREIGN KEY (PATIENT)\r\n",
        "                              REFERENCES patients_cov (Id) \r\n",
        "                       );\"\"\"\r\n",
        "\r\n",
        "sql_index[\"ix_encounters_cov_id\"] = \"\"\"CREATE INDEX ix_encounters_cov_id on encounters_cov(Id);\"\"\" \r\n",
        "sql_index[\"ix_encounters_cov_patient\"] = \"\"\"CREATE INDEX ix_encounters_cov_patients on encounters_cov(PATIENT);\"\"\" \r\n",
        "sql_index[\"ix_encounters_cov_description\"] = \"\"\"CREATE INDEX ix_encounters_cov_description on encounters_cov(DESCRIPTION);\"\"\"\r\n",
        "sql_index[\"ix_encounters_cov_code\"] = \"\"\"CREATE INDEX ix_encounters_cov_code on encounters_cov(CODE);\"\"\"\r\n",
        "sql_index[\"ix_encounters_cov_reasondescription\"] = \"\"\"CREATE INDEX ix_encounters_cov_reasondescription on encounters_cov(REASONDESCRIPTION);\"\"\"\r\n",
        "sql_index[\"ix_encounters_cov_reasoncode\"] = \"\"\"CREATE INDEX ix_encounters_cov_reasoncode on encounters_cov(REASONCODE);\"\"\""
      ],
      "execution_count": 614,
      "outputs": []
    },
    {
      "cell_type": "code",
      "metadata": {
        "id": "wQ513ouF5RGJ"
      },
      "source": [
        "# Conditions allergy\r\n",
        "sql_table[\"conditions_alle\"] = \"\"\"CREATE TABLE IF NOT EXISTS conditions_alle (\r\n",
        "                           START DATE,\r\n",
        "                           STOP DATE,\r\n",
        "                           PATIENT STRING,\r\n",
        "                           ENCOUNTER STRING,\r\n",
        "                           CODE STRING,\r\n",
        "                           DESCRIPTION STRING,\r\n",
        "                           FOREIGN KEY (PATIENT)\r\n",
        "                              REFERENCES patients_alle (Id) \r\n",
        "                           FOREIGN KEY (Encounter)\r\n",
        "                              REFERENCES encounters_alle (Id) \r\n",
        "\r\n",
        "                       );\"\"\"\r\n",
        "\r\n",
        "sql_index[\"ix_conditions_alle_patient\"] = \"\"\"CREATE INDEX ix_conditions_alle_patient on conditions_alle(PATIENT);\"\"\"\r\n",
        "sql_index[\"ix_conditions_alle_encounter\"] = \"\"\"CREATE INDEX ix_conditions_alle_encounter on conditions_alle(ENCOUNTER);\"\"\"\r\n",
        "sql_index[\"ix_conditions_alle_code\"] = \"\"\"CREATE INDEX ix_conditions_alle_code on conditions_alle(CODE);\"\"\"\r\n",
        "sql_index[\"ix_conditions_alle_description\"] = \"\"\"CREATE INDEX ix_conditions_alle_description on conditions_alle(DESCRIPTION);\"\"\"\r\n",
        "\r\n",
        "# Conditions COVID-19\r\n",
        "sql_table[\"conditions_cov\"] = \"\"\"CREATE TABLE IF NOT EXISTS conditions_cov (\r\n",
        "                           START DATE,\r\n",
        "                           STOP DATE,\r\n",
        "                           PATIENT STRING,\r\n",
        "                           ENCOUNTER STRING,\r\n",
        "                           CODE STRING,\r\n",
        "                           DESCRIPTION STRING,\r\n",
        "                           FOREIGN KEY (PATIENT)\r\n",
        "                              REFERENCES patients_cov (Id) \r\n",
        "                           FOREIGN KEY (Encounter)\r\n",
        "                              REFERENCES encounters_cov (Id) \r\n",
        "\r\n",
        "                       );\"\"\"\r\n",
        "\r\n",
        "sql_index[\"ix_conditions_cov_patient\"] = \"\"\"CREATE INDEX ix_conditions_cov_patient on conditions_cov(PATIENT);\"\"\"\r\n",
        "sql_index[\"ix_conditions_cov_encounter\"] = \"\"\"CREATE INDEX ix_conditions_acov_encounter on conditions_cov(ENCOUNTER);\"\"\"\r\n",
        "sql_index[\"ix_conditions_cov_code\"] = \"\"\"CREATE INDEX ix_conditions_cov_code on conditions_cov(CODE);\"\"\"\r\n",
        "sql_index[\"ix_conditions_cov_description\"] = \"\"\"CREATE INDEX ix_conditions_cov_description on conditions_cov(DESCRIPTION);\"\"\""
      ],
      "execution_count": 615,
      "outputs": []
    },
    {
      "cell_type": "code",
      "metadata": {
        "id": "Wi9QezlC6mk5"
      },
      "source": [
        "# Procedures allergy\r\n",
        "\r\n",
        "sql_table[\"procedures_alle\"]= \"\"\"CREATE TABLE IF NOT EXISTS procedures_alle (\r\n",
        "                           DATE DATE,\r\n",
        "                           PATIENT STRING,\r\n",
        "                           ENCOUNTER STRING,\r\n",
        "                           CODE STRING,\r\n",
        "                           DESCRIPTION STRING,\r\n",
        "                           BASE_COST INTEGER,\r\n",
        "                           REASONCODE STRING,\r\n",
        "                           REASONDESCRIPTION STRING,\r\n",
        "                           FOREIGN KEY (PATIENT)\r\n",
        "                              REFERENCES patients_alle (Id) \r\n",
        "                           FOREIGN KEY (Encounter)\r\n",
        "                              REFERENCES encounters_alle (Id) \r\n",
        "\r\n",
        "                       );\"\"\"\r\n",
        "sql_index[\"ix_procedures_alle_patient\"] = \"\"\"CREATE INDEX ix_procedures_alle_patient on procedures_alle(PATIENT);\"\"\"\r\n",
        "sql_index[\"ix_procedures_alle_encounter\"] = \"\"\"CREATE INDEX ix_procedures_alle_encounter on procedures_alle(ENCOUNTER);\"\"\"\r\n",
        "sql_index[\"ix_procedures_alle_code\"] = \"\"\"CREATE INDEX ix_procedures_alle_code on procedures_alle(CODE);\"\"\"\r\n",
        "sql_index[\"ix_procedures_alle_description\"] = \"\"\"CREATE INDEX ix_procedures_alle_description on procedures_alle(DESCRIPTION);\"\"\"\r\n",
        "\r\n",
        "\r\n",
        "# Procedures COVID-19\r\n",
        "\r\n",
        "sql_table[\"procedures_cov\"]= \"\"\"CREATE TABLE IF NOT EXISTS procedures_cov (\r\n",
        "                           DATE DATE,\r\n",
        "                           PATIENT STRING,\r\n",
        "                           ENCOUNTER STRING,\r\n",
        "                           CODE STRING,\r\n",
        "                           DESCRIPTION STRING,\r\n",
        "                           BASE_COST INTEGER,\r\n",
        "                           REASONCODE STRING,\r\n",
        "                           REASONDESCRIPTION STRING,\r\n",
        "                           FOREIGN KEY (PATIENT)\r\n",
        "                              REFERENCES patients_cov (Id) \r\n",
        "                           FOREIGN KEY (Encounter)\r\n",
        "                              REFERENCES encounters_cov (Id) \r\n",
        "\r\n",
        "                       );\"\"\"\r\n",
        "sql_index[\"ix_procedures_cov_patient\"] = \"\"\"CREATE INDEX ix_procedures_cov_patient on procedures_cov(PATIENT);\"\"\"\r\n",
        "sql_index[\"ix_procedures_cov_encounter\"] = \"\"\"CREATE INDEX ix_procedures_cov_encounter on procedures_cov(ENCOUNTER);\"\"\"\r\n",
        "sql_index[\"ix_procedures_cov_code\"] = \"\"\"CREATE INDEX ix_procedures_cov_code on procedures_cov(CODE);\"\"\"\r\n",
        "sql_index[\"ix_procedures_cov_description\"] = \"\"\"CREATE INDEX ix_procedures_cov_description on procedures_cov(DESCRIPTION);\"\"\""
      ],
      "execution_count": 616,
      "outputs": []
    },
    {
      "cell_type": "code",
      "metadata": {
        "id": "qChepWGy7tX-"
      },
      "source": [
        "# Observations allergy\r\n",
        "sql_table[\"observations_alle\"]= \"\"\"CREATE TABLE IF NOT EXISTS observations_alle (\r\n",
        "                           DATE DATE,\r\n",
        "                           PATIENT STRING,\r\n",
        "                           ENCOUNTER STRING,\r\n",
        "                           CODE STRING,\r\n",
        "                           DESCRIPTION STRING,\r\n",
        "                           VALUE STRING,\r\n",
        "                           UNITS STRING,\r\n",
        "                           TYPE STRING,\r\n",
        "                           FOREIGN KEY (PATIENT)\r\n",
        "                              REFERENCES patients_alle (Id) \r\n",
        "                           FOREIGN KEY (Encounter)\r\n",
        "                              REFERENCES encounters_alle (Id) \r\n",
        "\r\n",
        "                       );\"\"\"\r\n",
        "sql_index[\"ix_observations_alle_patient\"] = \"\"\"CREATE INDEX ix_observations_alle_patient on observations_alle(PATIENT);\"\"\"\r\n",
        "sql_index[\"ix_observations_alle_encounter\"] = \"\"\"CREATE INDEX ix_observations_alle_encounter on observations_alle(ENCOUNTER);\"\"\"\r\n",
        "sql_index[\"ix_observations_alle_code\"] = \"\"\"CREATE INDEX ix_observations_alle_code on observations_alle(CODE);\"\"\"\r\n",
        "sql_index[\"ix_observations_alle_description\"] = \"\"\"CREATE INDEX ix_observations_alle_description on observations_alle(DESCRIPTION);\"\"\"\r\n",
        "\r\n",
        "\r\n",
        "# Observations COVID-19\r\n",
        "sql_table[\"observations_cov\"]= \"\"\"CREATE TABLE IF NOT EXISTS observations_cov (\r\n",
        "                           DATE DATE,\r\n",
        "                           PATIENT STRING,\r\n",
        "                           ENCOUNTER STRING,\r\n",
        "                           CODE STRING,\r\n",
        "                           DESCRIPTION STRING,\r\n",
        "                           VALUE STRING,\r\n",
        "                           UNITS STRING,\r\n",
        "                           TYPE STRING,\r\n",
        "                           FOREIGN KEY (PATIENT)\r\n",
        "                              REFERENCES patients_cov (Id) \r\n",
        "                           FOREIGN KEY (Encounter)\r\n",
        "                              REFERENCES encounters_cov (Id) \r\n",
        "\r\n",
        "                       );\"\"\"\r\n",
        "sql_index[\"ix_observations_cov_patient\"] = \"\"\"CREATE INDEX ix_observations_cov_patient on observations_cov(PATIENT);\"\"\"\r\n",
        "sql_index[\"ix_observations_cov_encounter\"] = \"\"\"CREATE INDEX ix_observations_cov_encounter on observations_cov(ENCOUNTER);\"\"\"\r\n",
        "sql_index[\"ix_observations_cov_code\"] = \"\"\"CREATE INDEX ix_observations_cov_code on observations_cov(CODE);\"\"\"\r\n",
        "sql_index[\"ix_observations_cov_description\"] = \"\"\"CREATE INDEX ix_observations_cov_description on observations_cov(DESCRIPTION);\"\"\""
      ],
      "execution_count": 617,
      "outputs": []
    },
    {
      "cell_type": "code",
      "metadata": {
        "id": "GWtMxCJr88xT"
      },
      "source": [
        "# Views\r\n",
        "\r\n",
        "# Patients\r\n",
        "sql_view[\"v_patients\"] = \"\"\"CREATE VIEW v_patients as\r\n",
        "select PA.id PATIENT_Id, BIRTHDATE, DEATHDATE, MARITAL, RACE, ETHNICITY, GENDER, CITY, MAX(strftime('%Y', START)) - strftime('%Y', BIRTHDATE) AGE,  'allergy' study \r\n",
        "from patients_alle pa\r\n",
        "JOIN encounters_alle EA \r\n",
        "  ON PA.Id = EA.PATIENT\r\n",
        "group by PA.id\r\n",
        "  union\r\n",
        "select PC.id PATIENT_Id, BIRTHDATE, DEATHDATE, MARITAL, RACE, ETHNICITY, GENDER, CITY, MAX(strftime('%Y', START)) - strftime('%Y', BIRTHDATE) AGE, 'covid-19' study \r\n",
        "from patients_cov PC \r\n",
        "JOIN encounters_cov EC \r\n",
        "  ON PC.Id = EC.PATIENT\r\n",
        "group by PC.id\r\n",
        ";\"\"\"\r\n",
        "\r\n",
        "\r\n",
        "# Encounters\r\n",
        "\r\n",
        "sql_view[\"v_encounters\"] = \"\"\" CREATE VIEW v_encounters as\r\n",
        "select Id ENCOUNTER_Id, \"START\" , STOP , PATIENT , CODE , DESCRIPTION, BASE_ENCOUNTER_COST , TOTAL_CLAIM_COST , PAYER_COVERAGE , REASONCODE , REASONDESCRIPTION , 'allergy' study from encounters_alle\r\n",
        "  union\r\n",
        "select Id ENCOUNTER_Id, \"START\" , STOP , PATIENT , CODE , DESCRIPTION, BASE_ENCOUNTER_COST , TOTAL_CLAIM_COST , PAYER_COVERAGE , REASONCODE , REASONDESCRIPTION , 'covid-19' study from encounters_cov\r\n",
        "; \"\"\"\r\n",
        "\r\n",
        "# Procedures\r\n",
        "sql_view[\"v_procedures\"] = \"\"\" CREATE VIEW v_procedures as\r\n",
        "select DATE, PATIENT, ENCOUNTER, CODE, DESCRIPTION, BASE_COST, REASONCODE, REASONDESCRIPTION, 'allergy' study FROM procedures_alle\r\n",
        "  union\r\n",
        "select DATE, PATIENT, ENCOUNTER, CODE, DESCRIPTION, BASE_COST, REASONCODE, REASONDESCRIPTION, 'covid-19' study FROM procedures_cov;\r\n",
        "\"\"\"\r\n",
        "\r\n",
        "# Conditions\r\n",
        "\r\n",
        "sql_view[\"v_conditions\"] = \"\"\" CREATE VIEW v_conditions as\r\n",
        "select START,STOP,PATIENT,ENCOUNTER,CODE,DESCRIPTION, 'allergy' study FROM conditions_alle\r\n",
        "  union\r\n",
        "select START,STOP,PATIENT,ENCOUNTER,CODE,DESCRIPTION, 'covid-19' study FROM conditions_cov;\r\n",
        "\"\"\"\r\n",
        "\r\n",
        "# Observations\r\n",
        "\r\n",
        "sql_view[\"v_observations\"] = \"\"\" CREATE VIEW v_observations as\r\n",
        "select DATE,PATIENT,ENCOUNTER,CODE,DESCRIPTION,VALUE,UNITS,TYPE, 'allergy' study FROM observations_alle\r\n",
        "  union\r\n",
        "select DATE,PATIENT,ENCOUNTER,CODE,DESCRIPTION,VALUE,UNITS,TYPE, 'covid-19' study FROM observations_cov;\r\n",
        "\"\"\"\r\n"
      ],
      "execution_count": 618,
      "outputs": []
    },
    {
      "cell_type": "code",
      "metadata": {
        "id": "3J0Q45H4CY9G"
      },
      "source": [
        "def connect_to_db(db_file):\r\n",
        "    sqlite3_conn = None\r\n",
        "    try:\r\n",
        "        sqlite3_conn = sq.connect(db_file)\r\n",
        "        return sqlite3_conn\r\n",
        "\r\n",
        "    except Error as err:\r\n",
        "        print(err)\r\n",
        "\r\n",
        "        if sqlite3_conn is not None:\r\n",
        "            sqlite3_conn.close()"
      ],
      "execution_count": 619,
      "outputs": []
    },
    {
      "cell_type": "code",
      "metadata": {
        "id": "Jb7rfrJoD8Rm"
      },
      "source": [
        "def insert_values_to_table(cursor, table_name, csv_file_path):\r\n",
        "    # Read CSV file content\r\n",
        "    values_to_insert = open_csv_file(csv_file_path)\r\n",
        "\r\n",
        "    # Insert to table\r\n",
        "    if len(values_to_insert) > 0:\r\n",
        "        column_names, column_numbers = get_column_names_from_db_table(cursor, table_name)\r\n",
        "\r\n",
        "        values_str = '?,' * column_numbers\r\n",
        "        # print(\"*****\", values_str, column_names, column_numbers)\r\n",
        "        values_str = values_str[:-1]\r\n",
        "\r\n",
        "        sql_query = 'INSERT OR REPLACE INTO ' + table_name + '(' + column_names + ') VALUES (' + values_str + ')'\r\n",
        "\r\n",
        "\r\n",
        "        cursor.executemany(sql_query, values_to_insert)\r\n",
        "        # conn.commit()\r\n",
        "\r\n",
        "        print('SQL insert process finished')\r\n",
        "    else:\r\n",
        "        print('Nothing to insert')\r\n",
        "\r\n",
        "        # conn.close()\r\n",
        "\r\n",
        "    # else:\r\n",
        "        # print('Connection to database failed')"
      ],
      "execution_count": 620,
      "outputs": []
    },
    {
      "cell_type": "code",
      "metadata": {
        "id": "XscnziSVEL0N"
      },
      "source": [
        "def open_csv_file(csv_file_path):\r\n",
        "\r\n",
        "    with open(csv_file_path, 'r', encoding='utf-8') as csv_file:\r\n",
        "        reader = csv.reader(csv_file)\r\n",
        "        next(reader)\r\n",
        "\r\n",
        "        data = list()\r\n",
        "        for row in reader:\r\n",
        "            data.append(row)\r\n",
        "        return data"
      ],
      "execution_count": 621,
      "outputs": []
    },
    {
      "cell_type": "code",
      "metadata": {
        "id": "1WIkzQPQEZ9E"
      },
      "source": [
        "def get_column_names_from_db_table(sql_cursor, table_name):\r\n",
        "    table_column_names = 'PRAGMA table_info(' + table_name + ');'\r\n",
        "    sql_cursor.execute(table_column_names)\r\n",
        "    table_column_names = sql_cursor.fetchall()\r\n",
        "\r\n",
        "    column_count = len(table_column_names)\r\n",
        "\r\n",
        "    column_names = list()\r\n",
        "\r\n",
        "    for name in table_column_names:\r\n",
        "        column_names.append(name[1])\r\n",
        "\r\n",
        "    return ', '.join(column_names), column_count"
      ],
      "execution_count": 622,
      "outputs": []
    },
    {
      "cell_type": "code",
      "metadata": {
        "id": "pQ-QsxAeEisV"
      },
      "source": [
        "# print(sql_table.keys())\r\n",
        "# print(sql_index.keys())\r\n",
        "# print(sql_view.keys())"
      ],
      "execution_count": 623,
      "outputs": []
    },
    {
      "cell_type": "code",
      "metadata": {
        "colab": {
          "base_uri": "https://localhost:8080/"
        },
        "id": "Wx4BaPgWE5LY",
        "outputId": "59c70c21-c79a-4944-ab69-a361dd4abfa7"
      },
      "source": [
        "# import csv into db\r\n",
        "conn = connect_to_db(db_path)\r\n",
        "if conn is not None:\r\n",
        "        cursor = conn.cursor()\r\n",
        "        for name in sql_table.keys():\r\n",
        "          csv_file = csv_path + name + \".csv\"\r\n",
        "          print(name, csv_file)\r\n",
        "          \r\n",
        "          cursor.execute(sql_table[name])\r\n",
        "\r\n",
        "          insert_values_to_table(cursor, name, csv_file)\r\n",
        "        # conn.commit()\r\n",
        "\r\n",
        "        for ix_name in sql_index.keys():\r\n",
        "          cursor.execute(sql_index[ix_name])\r\n",
        "\r\n",
        "        for v_name in sql_view.keys():\r\n",
        "          cursor.execute(sql_view[v_name])\r\n",
        "\r\n",
        "        conn.commit() # Only for permanent changes in der database\r\n",
        "else:\r\n",
        "        print('Connection to database failed')"
      ],
      "execution_count": 624,
      "outputs": [
        {
          "output_type": "stream",
          "text": [
            "patients_alle /content/drive/MyDrive/csv_files/csv_to_db/patients_alle.csv\n",
            "SQL insert process finished\n",
            "patients_cov /content/drive/MyDrive/csv_files/csv_to_db/patients_cov.csv\n",
            "SQL insert process finished\n",
            "encounters_alle /content/drive/MyDrive/csv_files/csv_to_db/encounters_alle.csv\n",
            "SQL insert process finished\n",
            "encounters_cov /content/drive/MyDrive/csv_files/csv_to_db/encounters_cov.csv\n",
            "SQL insert process finished\n",
            "conditions_alle /content/drive/MyDrive/csv_files/csv_to_db/conditions_alle.csv\n",
            "SQL insert process finished\n",
            "conditions_cov /content/drive/MyDrive/csv_files/csv_to_db/conditions_cov.csv\n",
            "SQL insert process finished\n",
            "procedures_alle /content/drive/MyDrive/csv_files/csv_to_db/procedures_alle.csv\n",
            "SQL insert process finished\n",
            "procedures_cov /content/drive/MyDrive/csv_files/csv_to_db/procedures_cov.csv\n",
            "SQL insert process finished\n",
            "observations_alle /content/drive/MyDrive/csv_files/csv_to_db/observations_alle.csv\n",
            "SQL insert process finished\n",
            "observations_cov /content/drive/MyDrive/csv_files/csv_to_db/observations_cov.csv\n",
            "SQL insert process finished\n"
          ],
          "name": "stdout"
        }
      ]
    },
    {
      "cell_type": "code",
      "metadata": {
        "id": "e9XRbcZnENZd"
      },
      "source": [
        "########################################################################"
      ],
      "execution_count": 625,
      "outputs": []
    },
    {
      "cell_type": "markdown",
      "metadata": {
        "id": "68AGInbSH9hA"
      },
      "source": [
        "Patienten"
      ]
    },
    {
      "cell_type": "code",
      "metadata": {
        "colab": {
          "base_uri": "https://localhost:8080/",
          "height": 80
        },
        "id": "6P33PzkzJryD",
        "outputId": "88f517bb-a587-4bcf-d9cd-04ec6285be02"
      },
      "source": [
        "count_patients_cov = pd.read_sql_query(\"select count(*) patients_covid19 from patients_cov;\", conn) #Anzahl an Patienten mit COVID-19\n",
        "count_patients_cov"
      ],
      "execution_count": 626,
      "outputs": [
        {
          "output_type": "execute_result",
          "data": {
            "text/html": [
              "<div>\n",
              "<style scoped>\n",
              "    .dataframe tbody tr th:only-of-type {\n",
              "        vertical-align: middle;\n",
              "    }\n",
              "\n",
              "    .dataframe tbody tr th {\n",
              "        vertical-align: top;\n",
              "    }\n",
              "\n",
              "    .dataframe thead th {\n",
              "        text-align: right;\n",
              "    }\n",
              "</style>\n",
              "<table border=\"1\" class=\"dataframe\">\n",
              "  <thead>\n",
              "    <tr style=\"text-align: right;\">\n",
              "      <th></th>\n",
              "      <th>patients_covid19</th>\n",
              "    </tr>\n",
              "  </thead>\n",
              "  <tbody>\n",
              "    <tr>\n",
              "      <th>0</th>\n",
              "      <td>1050</td>\n",
              "    </tr>\n",
              "  </tbody>\n",
              "</table>\n",
              "</div>"
            ],
            "text/plain": [
              "   patients_covid19\n",
              "0              1050"
            ]
          },
          "metadata": {
            "tags": []
          },
          "execution_count": 626
        }
      ]
    },
    {
      "cell_type": "code",
      "metadata": {
        "colab": {
          "base_uri": "https://localhost:8080/",
          "height": 80
        },
        "id": "ptBjNhgyKRLt",
        "outputId": "09cb6b6a-8c91-49fa-a830-3ec15c463d2b"
      },
      "source": [
        "count_patients_alle = pd.read_sql_query(\"select count(*) patients_allergy from patients_alle;\", conn) #Anzahl an Patienten in Allergie\n",
        "count_patients_alle\n"
      ],
      "execution_count": 627,
      "outputs": [
        {
          "output_type": "execute_result",
          "data": {
            "text/html": [
              "<div>\n",
              "<style scoped>\n",
              "    .dataframe tbody tr th:only-of-type {\n",
              "        vertical-align: middle;\n",
              "    }\n",
              "\n",
              "    .dataframe tbody tr th {\n",
              "        vertical-align: top;\n",
              "    }\n",
              "\n",
              "    .dataframe thead th {\n",
              "        text-align: right;\n",
              "    }\n",
              "</style>\n",
              "<table border=\"1\" class=\"dataframe\">\n",
              "  <thead>\n",
              "    <tr style=\"text-align: right;\">\n",
              "      <th></th>\n",
              "      <th>patients_allergy</th>\n",
              "    </tr>\n",
              "  </thead>\n",
              "  <tbody>\n",
              "    <tr>\n",
              "      <th>0</th>\n",
              "      <td>135</td>\n",
              "    </tr>\n",
              "  </tbody>\n",
              "</table>\n",
              "</div>"
            ],
            "text/plain": [
              "   patients_allergy\n",
              "0               135"
            ]
          },
          "metadata": {
            "tags": []
          },
          "execution_count": 627
        }
      ]
    },
    {
      "cell_type": "code",
      "metadata": {
        "colab": {
          "base_uri": "https://localhost:8080/",
          "height": 111
        },
        "id": "XqnWxCrEEpoe",
        "outputId": "9beeb017-d755-4513-a88c-cc8cc136c4fd"
      },
      "source": [
        "#Patienten by Geschlecht in COVID-19\r\n",
        "count_patients_gender_cov = pd.read_sql_query(\"select GENDER, count(id) patients_covid19 from patients_cov group by GENDER;\", conn) \r\n",
        "count_patients_gender_cov"
      ],
      "execution_count": 628,
      "outputs": [
        {
          "output_type": "execute_result",
          "data": {
            "text/html": [
              "<div>\n",
              "<style scoped>\n",
              "    .dataframe tbody tr th:only-of-type {\n",
              "        vertical-align: middle;\n",
              "    }\n",
              "\n",
              "    .dataframe tbody tr th {\n",
              "        vertical-align: top;\n",
              "    }\n",
              "\n",
              "    .dataframe thead th {\n",
              "        text-align: right;\n",
              "    }\n",
              "</style>\n",
              "<table border=\"1\" class=\"dataframe\">\n",
              "  <thead>\n",
              "    <tr style=\"text-align: right;\">\n",
              "      <th></th>\n",
              "      <th>GENDER</th>\n",
              "      <th>patients_covid19</th>\n",
              "    </tr>\n",
              "  </thead>\n",
              "  <tbody>\n",
              "    <tr>\n",
              "      <th>0</th>\n",
              "      <td>F</td>\n",
              "      <td>522</td>\n",
              "    </tr>\n",
              "    <tr>\n",
              "      <th>1</th>\n",
              "      <td>M</td>\n",
              "      <td>528</td>\n",
              "    </tr>\n",
              "  </tbody>\n",
              "</table>\n",
              "</div>"
            ],
            "text/plain": [
              "  GENDER  patients_covid19\n",
              "0      F               522\n",
              "1      M               528"
            ]
          },
          "metadata": {
            "tags": []
          },
          "execution_count": 628
        }
      ]
    },
    {
      "cell_type": "code",
      "metadata": {
        "colab": {
          "base_uri": "https://localhost:8080/",
          "height": 111
        },
        "id": "RECIAvf0Fg00",
        "outputId": "fabc567d-2df8-479d-feda-c5d7ec3b82d6"
      },
      "source": [
        "#Patienten by Geschlecht in Allergy\r\n",
        "count_patients_gender_alle = pd.read_sql_query(\"select GENDER, count(id) patients_allergy from patients_alle group by GENDER;\", conn) \r\n",
        "count_patients_gender_alle"
      ],
      "execution_count": 629,
      "outputs": [
        {
          "output_type": "execute_result",
          "data": {
            "text/html": [
              "<div>\n",
              "<style scoped>\n",
              "    .dataframe tbody tr th:only-of-type {\n",
              "        vertical-align: middle;\n",
              "    }\n",
              "\n",
              "    .dataframe tbody tr th {\n",
              "        vertical-align: top;\n",
              "    }\n",
              "\n",
              "    .dataframe thead th {\n",
              "        text-align: right;\n",
              "    }\n",
              "</style>\n",
              "<table border=\"1\" class=\"dataframe\">\n",
              "  <thead>\n",
              "    <tr style=\"text-align: right;\">\n",
              "      <th></th>\n",
              "      <th>GENDER</th>\n",
              "      <th>patients_allergy</th>\n",
              "    </tr>\n",
              "  </thead>\n",
              "  <tbody>\n",
              "    <tr>\n",
              "      <th>0</th>\n",
              "      <td>F</td>\n",
              "      <td>57</td>\n",
              "    </tr>\n",
              "    <tr>\n",
              "      <th>1</th>\n",
              "      <td>M</td>\n",
              "      <td>78</td>\n",
              "    </tr>\n",
              "  </tbody>\n",
              "</table>\n",
              "</div>"
            ],
            "text/plain": [
              "  GENDER  patients_allergy\n",
              "0      F                57\n",
              "1      M                78"
            ]
          },
          "metadata": {
            "tags": []
          },
          "execution_count": 629
        }
      ]
    },
    {
      "cell_type": "code",
      "metadata": {
        "colab": {
          "base_uri": "https://localhost:8080/",
          "height": 173
        },
        "id": "bLE6kM92cFQS",
        "outputId": "7a32406b-2a12-4c87-c1a6-c5a1c3398b5f"
      },
      "source": [
        "#Patienten by Hautfarbe in COVID-19\r\n",
        "count_patients_race_cov = pd.read_sql_query(\"select RACE, count(distinct ID) C_PATIENTS_COVID FROM patients_cov group by RACE;\", conn) \r\n",
        "count_patients_race_cov"
      ],
      "execution_count": 630,
      "outputs": [
        {
          "output_type": "execute_result",
          "data": {
            "text/html": [
              "<div>\n",
              "<style scoped>\n",
              "    .dataframe tbody tr th:only-of-type {\n",
              "        vertical-align: middle;\n",
              "    }\n",
              "\n",
              "    .dataframe tbody tr th {\n",
              "        vertical-align: top;\n",
              "    }\n",
              "\n",
              "    .dataframe thead th {\n",
              "        text-align: right;\n",
              "    }\n",
              "</style>\n",
              "<table border=\"1\" class=\"dataframe\">\n",
              "  <thead>\n",
              "    <tr style=\"text-align: right;\">\n",
              "      <th></th>\n",
              "      <th>RACE</th>\n",
              "      <th>C_PATIENTS_COVID</th>\n",
              "    </tr>\n",
              "  </thead>\n",
              "  <tbody>\n",
              "    <tr>\n",
              "      <th>0</th>\n",
              "      <td>asian</td>\n",
              "      <td>66</td>\n",
              "    </tr>\n",
              "    <tr>\n",
              "      <th>1</th>\n",
              "      <td>black</td>\n",
              "      <td>85</td>\n",
              "    </tr>\n",
              "    <tr>\n",
              "      <th>2</th>\n",
              "      <td>native</td>\n",
              "      <td>7</td>\n",
              "    </tr>\n",
              "    <tr>\n",
              "      <th>3</th>\n",
              "      <td>white</td>\n",
              "      <td>892</td>\n",
              "    </tr>\n",
              "  </tbody>\n",
              "</table>\n",
              "</div>"
            ],
            "text/plain": [
              "     RACE  C_PATIENTS_COVID\n",
              "0   asian                66\n",
              "1   black                85\n",
              "2  native                 7\n",
              "3   white               892"
            ]
          },
          "metadata": {
            "tags": []
          },
          "execution_count": 630
        }
      ]
    },
    {
      "cell_type": "code",
      "metadata": {
        "colab": {
          "base_uri": "https://localhost:8080/",
          "height": 142
        },
        "id": "ByjHX_zmcrHH",
        "outputId": "538def6f-23d0-4982-95e7-619361d4aa1f"
      },
      "source": [
        "#Patienten by Hautfarbe in Allergy\r\n",
        "count_patients_race_alle = pd.read_sql_query(\"select RACE, count(distinct ID) C_PATIENTS_ALLERGY FROM patients_alle group by RACE;\", conn) \r\n",
        "count_patients_race_alle"
      ],
      "execution_count": 631,
      "outputs": [
        {
          "output_type": "execute_result",
          "data": {
            "text/html": [
              "<div>\n",
              "<style scoped>\n",
              "    .dataframe tbody tr th:only-of-type {\n",
              "        vertical-align: middle;\n",
              "    }\n",
              "\n",
              "    .dataframe tbody tr th {\n",
              "        vertical-align: top;\n",
              "    }\n",
              "\n",
              "    .dataframe thead th {\n",
              "        text-align: right;\n",
              "    }\n",
              "</style>\n",
              "<table border=\"1\" class=\"dataframe\">\n",
              "  <thead>\n",
              "    <tr style=\"text-align: right;\">\n",
              "      <th></th>\n",
              "      <th>RACE</th>\n",
              "      <th>C_PATIENTS_ALLERGY</th>\n",
              "    </tr>\n",
              "  </thead>\n",
              "  <tbody>\n",
              "    <tr>\n",
              "      <th>0</th>\n",
              "      <td>asian</td>\n",
              "      <td>3</td>\n",
              "    </tr>\n",
              "    <tr>\n",
              "      <th>1</th>\n",
              "      <td>black</td>\n",
              "      <td>21</td>\n",
              "    </tr>\n",
              "    <tr>\n",
              "      <th>2</th>\n",
              "      <td>white</td>\n",
              "      <td>111</td>\n",
              "    </tr>\n",
              "  </tbody>\n",
              "</table>\n",
              "</div>"
            ],
            "text/plain": [
              "    RACE  C_PATIENTS_ALLERGY\n",
              "0  asian                   3\n",
              "1  black                  21\n",
              "2  white                 111"
            ]
          },
          "metadata": {
            "tags": []
          },
          "execution_count": 631
        }
      ]
    },
    {
      "cell_type": "code",
      "metadata": {
        "colab": {
          "base_uri": "https://localhost:8080/",
          "height": 173
        },
        "id": "QO9J39sTL-mS",
        "outputId": "c761cefd-bca3-4abf-c19a-7ce53496e8e8"
      },
      "source": [
        "# Patient und Conditions in conditions_cov\r\n",
        "\r\n",
        "observations_patients_cov = pd.read_sql_query(\"select DESCRIPTION, count(distinct PATIENT) C_PATIENTS_covid19 FROM conditions_cov group by DESCRIPTION;\", conn) #Anzahl an Patienten mit COVID-19\r\n",
        "observations_patients_cov.head(4)"
      ],
      "execution_count": 632,
      "outputs": [
        {
          "output_type": "execute_result",
          "data": {
            "text/html": [
              "<div>\n",
              "<style scoped>\n",
              "    .dataframe tbody tr th:only-of-type {\n",
              "        vertical-align: middle;\n",
              "    }\n",
              "\n",
              "    .dataframe tbody tr th {\n",
              "        vertical-align: top;\n",
              "    }\n",
              "\n",
              "    .dataframe thead th {\n",
              "        text-align: right;\n",
              "    }\n",
              "</style>\n",
              "<table border=\"1\" class=\"dataframe\">\n",
              "  <thead>\n",
              "    <tr style=\"text-align: right;\">\n",
              "      <th></th>\n",
              "      <th>DESCRIPTION</th>\n",
              "      <th>C_PATIENTS_covid19</th>\n",
              "    </tr>\n",
              "  </thead>\n",
              "  <tbody>\n",
              "    <tr>\n",
              "      <th>0</th>\n",
              "      <td>Acquired coagulation disorder (disorder)</td>\n",
              "      <td>11</td>\n",
              "    </tr>\n",
              "    <tr>\n",
              "      <th>1</th>\n",
              "      <td>Acute deep venous thrombosis (disorder)</td>\n",
              "      <td>38</td>\n",
              "    </tr>\n",
              "    <tr>\n",
              "      <th>2</th>\n",
              "      <td>Acute pulmonary embolism (disorder)</td>\n",
              "      <td>36</td>\n",
              "    </tr>\n",
              "    <tr>\n",
              "      <th>3</th>\n",
              "      <td>Acute respiratory distress syndrome (disorder)</td>\n",
              "      <td>16</td>\n",
              "    </tr>\n",
              "  </tbody>\n",
              "</table>\n",
              "</div>"
            ],
            "text/plain": [
              "                                      DESCRIPTION  C_PATIENTS_covid19\n",
              "0        Acquired coagulation disorder (disorder)                  11\n",
              "1         Acute deep venous thrombosis (disorder)                  38\n",
              "2             Acute pulmonary embolism (disorder)                  36\n",
              "3  Acute respiratory distress syndrome (disorder)                  16"
            ]
          },
          "metadata": {
            "tags": []
          },
          "execution_count": 632
        }
      ]
    },
    {
      "cell_type": "code",
      "metadata": {
        "colab": {
          "base_uri": "https://localhost:8080/",
          "height": 173
        },
        "id": "1P1sc-bDPDWY",
        "outputId": "788a955a-7ec0-4a46-9bc2-fcbedd2faeca"
      },
      "source": [
        "# Patient und Conditions in conditions_alle\r\n",
        "\r\n",
        "observations_patients_alle = pd.read_sql_query(\"select DESCRIPTION, count(distinct PATIENT) C_PATIENTS_allergy FROM conditions_alle group by DESCRIPTION;\", conn) \r\n",
        "observations_patients_alle.head(4)"
      ],
      "execution_count": 633,
      "outputs": [
        {
          "output_type": "execute_result",
          "data": {
            "text/html": [
              "<div>\n",
              "<style scoped>\n",
              "    .dataframe tbody tr th:only-of-type {\n",
              "        vertical-align: middle;\n",
              "    }\n",
              "\n",
              "    .dataframe tbody tr th {\n",
              "        vertical-align: top;\n",
              "    }\n",
              "\n",
              "    .dataframe thead th {\n",
              "        text-align: right;\n",
              "    }\n",
              "</style>\n",
              "<table border=\"1\" class=\"dataframe\">\n",
              "  <thead>\n",
              "    <tr style=\"text-align: right;\">\n",
              "      <th></th>\n",
              "      <th>DESCRIPTION</th>\n",
              "      <th>C_PATIENTS_allergy</th>\n",
              "    </tr>\n",
              "  </thead>\n",
              "  <tbody>\n",
              "    <tr>\n",
              "      <th>0</th>\n",
              "      <td>Acquired coagulation disorder (disorder)</td>\n",
              "      <td>1</td>\n",
              "    </tr>\n",
              "    <tr>\n",
              "      <th>1</th>\n",
              "      <td>Acute allergic reaction</td>\n",
              "      <td>1</td>\n",
              "    </tr>\n",
              "    <tr>\n",
              "      <th>2</th>\n",
              "      <td>Acute bacterial sinusitis (disorder)</td>\n",
              "      <td>9</td>\n",
              "    </tr>\n",
              "    <tr>\n",
              "      <th>3</th>\n",
              "      <td>Acute bronchitis (disorder)</td>\n",
              "      <td>52</td>\n",
              "    </tr>\n",
              "  </tbody>\n",
              "</table>\n",
              "</div>"
            ],
            "text/plain": [
              "                                DESCRIPTION  C_PATIENTS_allergy\n",
              "0  Acquired coagulation disorder (disorder)                   1\n",
              "1                   Acute allergic reaction                   1\n",
              "2      Acute bacterial sinusitis (disorder)                   9\n",
              "3               Acute bronchitis (disorder)                  52"
            ]
          },
          "metadata": {
            "tags": []
          },
          "execution_count": 633
        }
      ]
    },
    {
      "cell_type": "code",
      "metadata": {
        "colab": {
          "base_uri": "https://localhost:8080/",
          "height": 1000
        },
        "id": "fhxQcvHbZe3i",
        "outputId": "31b7c55f-53cd-4c93-b6e6-d98b33d166c3"
      },
      "source": [
        "# Patient und Description in encounter_alle\r\n",
        "\r\n",
        "encounter_description_patients_alle = pd.read_sql_query(\"select DESCRIPTION , count(distinct PATIENT) C_PATIENTS_allergy FROM encounters_alle ea  where DESCRIPTION not like '' group by DESCRIPTION ;\", conn) \r\n",
        "encounter_description_patients_alle"
      ],
      "execution_count": 634,
      "outputs": [
        {
          "output_type": "execute_result",
          "data": {
            "text/html": [
              "<div>\n",
              "<style scoped>\n",
              "    .dataframe tbody tr th:only-of-type {\n",
              "        vertical-align: middle;\n",
              "    }\n",
              "\n",
              "    .dataframe tbody tr th {\n",
              "        vertical-align: top;\n",
              "    }\n",
              "\n",
              "    .dataframe thead th {\n",
              "        text-align: right;\n",
              "    }\n",
              "</style>\n",
              "<table border=\"1\" class=\"dataframe\">\n",
              "  <thead>\n",
              "    <tr style=\"text-align: right;\">\n",
              "      <th></th>\n",
              "      <th>DESCRIPTION</th>\n",
              "      <th>C_PATIENTS_allergy</th>\n",
              "    </tr>\n",
              "  </thead>\n",
              "  <tbody>\n",
              "    <tr>\n",
              "      <th>0</th>\n",
              "      <td>Admission to intensive care unit (procedure)</td>\n",
              "      <td>8</td>\n",
              "    </tr>\n",
              "    <tr>\n",
              "      <th>1</th>\n",
              "      <td>Admission to surgical department</td>\n",
              "      <td>5</td>\n",
              "    </tr>\n",
              "    <tr>\n",
              "      <th>2</th>\n",
              "      <td>Allergic disorder follow-up assessment</td>\n",
              "      <td>2</td>\n",
              "    </tr>\n",
              "    <tr>\n",
              "      <th>3</th>\n",
              "      <td>Allergic disorder initial assessment</td>\n",
              "      <td>2</td>\n",
              "    </tr>\n",
              "    <tr>\n",
              "      <th>4</th>\n",
              "      <td>Asthma follow-up</td>\n",
              "      <td>3</td>\n",
              "    </tr>\n",
              "    <tr>\n",
              "      <th>5</th>\n",
              "      <td>Cardiac Arrest</td>\n",
              "      <td>3</td>\n",
              "    </tr>\n",
              "    <tr>\n",
              "      <th>6</th>\n",
              "      <td>Consultation for treatment</td>\n",
              "      <td>34</td>\n",
              "    </tr>\n",
              "    <tr>\n",
              "      <th>7</th>\n",
              "      <td>Death Certification</td>\n",
              "      <td>35</td>\n",
              "    </tr>\n",
              "    <tr>\n",
              "      <th>8</th>\n",
              "      <td>Emergency Encounter</td>\n",
              "      <td>9</td>\n",
              "    </tr>\n",
              "    <tr>\n",
              "      <th>9</th>\n",
              "      <td>Emergency Room Admission</td>\n",
              "      <td>15</td>\n",
              "    </tr>\n",
              "    <tr>\n",
              "      <th>10</th>\n",
              "      <td>Emergency hospital admission for asthma</td>\n",
              "      <td>1</td>\n",
              "    </tr>\n",
              "    <tr>\n",
              "      <th>11</th>\n",
              "      <td>Emergency room admission (procedure)</td>\n",
              "      <td>75</td>\n",
              "    </tr>\n",
              "    <tr>\n",
              "      <th>12</th>\n",
              "      <td>Encounter Inpatient</td>\n",
              "      <td>12</td>\n",
              "    </tr>\n",
              "    <tr>\n",
              "      <th>13</th>\n",
              "      <td>Encounter for 'check-up'</td>\n",
              "      <td>63</td>\n",
              "    </tr>\n",
              "    <tr>\n",
              "      <th>14</th>\n",
              "      <td>Encounter for Problem</td>\n",
              "      <td>5</td>\n",
              "    </tr>\n",
              "    <tr>\n",
              "      <th>15</th>\n",
              "      <td>Encounter for check up (procedure)</td>\n",
              "      <td>70</td>\n",
              "    </tr>\n",
              "    <tr>\n",
              "      <th>16</th>\n",
              "      <td>Encounter for problem</td>\n",
              "      <td>47</td>\n",
              "    </tr>\n",
              "    <tr>\n",
              "      <th>17</th>\n",
              "      <td>Encounter for problem (procedure)</td>\n",
              "      <td>1</td>\n",
              "    </tr>\n",
              "    <tr>\n",
              "      <th>18</th>\n",
              "      <td>Encounter for symptom</td>\n",
              "      <td>125</td>\n",
              "    </tr>\n",
              "    <tr>\n",
              "      <th>19</th>\n",
              "      <td>Encounter for symptom (procedure)</td>\n",
              "      <td>90</td>\n",
              "    </tr>\n",
              "    <tr>\n",
              "      <th>20</th>\n",
              "      <td>Follow-up encounter</td>\n",
              "      <td>18</td>\n",
              "    </tr>\n",
              "    <tr>\n",
              "      <th>21</th>\n",
              "      <td>General examination of patient (procedure)</td>\n",
              "      <td>113</td>\n",
              "    </tr>\n",
              "    <tr>\n",
              "      <th>22</th>\n",
              "      <td>Gynecology service (qualifier value)</td>\n",
              "      <td>2</td>\n",
              "    </tr>\n",
              "    <tr>\n",
              "      <th>23</th>\n",
              "      <td>Hospital admission</td>\n",
              "      <td>7</td>\n",
              "    </tr>\n",
              "    <tr>\n",
              "      <th>24</th>\n",
              "      <td>Hospital admission  for observation (procedure)</td>\n",
              "      <td>1</td>\n",
              "    </tr>\n",
              "    <tr>\n",
              "      <th>25</th>\n",
              "      <td>Hospital admission for isolation (procedure)</td>\n",
              "      <td>11</td>\n",
              "    </tr>\n",
              "    <tr>\n",
              "      <th>26</th>\n",
              "      <td>Hypertension follow-up encounter</td>\n",
              "      <td>13</td>\n",
              "    </tr>\n",
              "    <tr>\n",
              "      <th>27</th>\n",
              "      <td>Initial Psychiatric Interview with mental stat...</td>\n",
              "      <td>2</td>\n",
              "    </tr>\n",
              "    <tr>\n",
              "      <th>28</th>\n",
              "      <td>Myocardial Infarction</td>\n",
              "      <td>6</td>\n",
              "    </tr>\n",
              "    <tr>\n",
              "      <th>29</th>\n",
              "      <td>Non-urgent orthopedic admission</td>\n",
              "      <td>1</td>\n",
              "    </tr>\n",
              "    <tr>\n",
              "      <th>30</th>\n",
              "      <td>Obstetric emergency hospital admission</td>\n",
              "      <td>24</td>\n",
              "    </tr>\n",
              "    <tr>\n",
              "      <th>31</th>\n",
              "      <td>Office Visit</td>\n",
              "      <td>11</td>\n",
              "    </tr>\n",
              "    <tr>\n",
              "      <th>32</th>\n",
              "      <td>Outpatient procedure</td>\n",
              "      <td>3</td>\n",
              "    </tr>\n",
              "    <tr>\n",
              "      <th>33</th>\n",
              "      <td>Patient encounter procedure</td>\n",
              "      <td>23</td>\n",
              "    </tr>\n",
              "    <tr>\n",
              "      <th>34</th>\n",
              "      <td>Patient-initiated encounter</td>\n",
              "      <td>11</td>\n",
              "    </tr>\n",
              "    <tr>\n",
              "      <th>35</th>\n",
              "      <td>Periodic reevaluation and management of health...</td>\n",
              "      <td>2</td>\n",
              "    </tr>\n",
              "    <tr>\n",
              "      <th>36</th>\n",
              "      <td>Postnatal visit</td>\n",
              "      <td>24</td>\n",
              "    </tr>\n",
              "    <tr>\n",
              "      <th>37</th>\n",
              "      <td>Postoperative follow-up visit (procedure)</td>\n",
              "      <td>2</td>\n",
              "    </tr>\n",
              "    <tr>\n",
              "      <th>38</th>\n",
              "      <td>Prenatal initial visit</td>\n",
              "      <td>33</td>\n",
              "    </tr>\n",
              "    <tr>\n",
              "      <th>39</th>\n",
              "      <td>Prenatal visit</td>\n",
              "      <td>25</td>\n",
              "    </tr>\n",
              "    <tr>\n",
              "      <th>40</th>\n",
              "      <td>Screening surveillance (regime/therapy)</td>\n",
              "      <td>2</td>\n",
              "    </tr>\n",
              "    <tr>\n",
              "      <th>41</th>\n",
              "      <td>Stroke</td>\n",
              "      <td>9</td>\n",
              "    </tr>\n",
              "    <tr>\n",
              "      <th>42</th>\n",
              "      <td>Telemedicine consultation with patient</td>\n",
              "      <td>1</td>\n",
              "    </tr>\n",
              "    <tr>\n",
              "      <th>43</th>\n",
              "      <td>Urgent care clinic (procedure)</td>\n",
              "      <td>45</td>\n",
              "    </tr>\n",
              "    <tr>\n",
              "      <th>44</th>\n",
              "      <td>Well child visit (procedure)</td>\n",
              "      <td>44</td>\n",
              "    </tr>\n",
              "    <tr>\n",
              "      <th>45</th>\n",
              "      <td>posttraumatic stress disorder</td>\n",
              "      <td>2</td>\n",
              "    </tr>\n",
              "  </tbody>\n",
              "</table>\n",
              "</div>"
            ],
            "text/plain": [
              "                                          DESCRIPTION  C_PATIENTS_allergy\n",
              "0        Admission to intensive care unit (procedure)                   8\n",
              "1                    Admission to surgical department                   5\n",
              "2              Allergic disorder follow-up assessment                   2\n",
              "3                Allergic disorder initial assessment                   2\n",
              "4                                    Asthma follow-up                   3\n",
              "5                                      Cardiac Arrest                   3\n",
              "6                          Consultation for treatment                  34\n",
              "7                                 Death Certification                  35\n",
              "8                                 Emergency Encounter                   9\n",
              "9                            Emergency Room Admission                  15\n",
              "10            Emergency hospital admission for asthma                   1\n",
              "11               Emergency room admission (procedure)                  75\n",
              "12                                Encounter Inpatient                  12\n",
              "13                           Encounter for 'check-up'                  63\n",
              "14                              Encounter for Problem                   5\n",
              "15                 Encounter for check up (procedure)                  70\n",
              "16                              Encounter for problem                  47\n",
              "17                  Encounter for problem (procedure)                   1\n",
              "18                              Encounter for symptom                 125\n",
              "19                  Encounter for symptom (procedure)                  90\n",
              "20                                Follow-up encounter                  18\n",
              "21         General examination of patient (procedure)                 113\n",
              "22               Gynecology service (qualifier value)                   2\n",
              "23                                 Hospital admission                   7\n",
              "24    Hospital admission  for observation (procedure)                   1\n",
              "25       Hospital admission for isolation (procedure)                  11\n",
              "26                   Hypertension follow-up encounter                  13\n",
              "27  Initial Psychiatric Interview with mental stat...                   2\n",
              "28                              Myocardial Infarction                   6\n",
              "29                    Non-urgent orthopedic admission                   1\n",
              "30             Obstetric emergency hospital admission                  24\n",
              "31                                       Office Visit                  11\n",
              "32                               Outpatient procedure                   3\n",
              "33                        Patient encounter procedure                  23\n",
              "34                        Patient-initiated encounter                  11\n",
              "35  Periodic reevaluation and management of health...                   2\n",
              "36                                    Postnatal visit                  24\n",
              "37          Postoperative follow-up visit (procedure)                   2\n",
              "38                             Prenatal initial visit                  33\n",
              "39                                     Prenatal visit                  25\n",
              "40            Screening surveillance (regime/therapy)                   2\n",
              "41                                             Stroke                   9\n",
              "42             Telemedicine consultation with patient                   1\n",
              "43                     Urgent care clinic (procedure)                  45\n",
              "44                       Well child visit (procedure)                  44\n",
              "45                      posttraumatic stress disorder                   2"
            ]
          },
          "metadata": {
            "tags": []
          },
          "execution_count": 634
        }
      ]
    },
    {
      "cell_type": "code",
      "metadata": {
        "colab": {
          "base_uri": "https://localhost:8080/",
          "height": 359
        },
        "id": "EE3uwW6Rac1a",
        "outputId": "b8d333a2-a853-4a1b-a0ca-8e5de8b721d0"
      },
      "source": [
        "# Patient und Description in encounter_cov\r\n",
        "\r\n",
        "encounter_description_patients_cov = pd.read_sql_query(\"select DESCRIPTION , count(distinct PATIENT) C_PATIENTS_covid19 FROM encounters_cov co  where DESCRIPTION not like '' group by DESCRIPTION ;\", conn) \r\n",
        "encounter_description_patients_cov"
      ],
      "execution_count": 635,
      "outputs": [
        {
          "output_type": "execute_result",
          "data": {
            "text/html": [
              "<div>\n",
              "<style scoped>\n",
              "    .dataframe tbody tr th:only-of-type {\n",
              "        vertical-align: middle;\n",
              "    }\n",
              "\n",
              "    .dataframe tbody tr th {\n",
              "        vertical-align: top;\n",
              "    }\n",
              "\n",
              "    .dataframe thead th {\n",
              "        text-align: right;\n",
              "    }\n",
              "</style>\n",
              "<table border=\"1\" class=\"dataframe\">\n",
              "  <thead>\n",
              "    <tr style=\"text-align: right;\">\n",
              "      <th></th>\n",
              "      <th>DESCRIPTION</th>\n",
              "      <th>C_PATIENTS_covid19</th>\n",
              "    </tr>\n",
              "  </thead>\n",
              "  <tbody>\n",
              "    <tr>\n",
              "      <th>0</th>\n",
              "      <td>Admission to intensive care unit (procedure)</td>\n",
              "      <td>26</td>\n",
              "    </tr>\n",
              "    <tr>\n",
              "      <th>1</th>\n",
              "      <td>Cardiac Arrest</td>\n",
              "      <td>47</td>\n",
              "    </tr>\n",
              "    <tr>\n",
              "      <th>2</th>\n",
              "      <td>Death Certification</td>\n",
              "      <td>50</td>\n",
              "    </tr>\n",
              "    <tr>\n",
              "      <th>3</th>\n",
              "      <td>Encounter for symptom (procedure)</td>\n",
              "      <td>905</td>\n",
              "    </tr>\n",
              "    <tr>\n",
              "      <th>4</th>\n",
              "      <td>General examination of patient (procedure)</td>\n",
              "      <td>840</td>\n",
              "    </tr>\n",
              "    <tr>\n",
              "      <th>5</th>\n",
              "      <td>Hospital admission  for observation (procedure)</td>\n",
              "      <td>8</td>\n",
              "    </tr>\n",
              "    <tr>\n",
              "      <th>6</th>\n",
              "      <td>Hospital admission for isolation (procedure)</td>\n",
              "      <td>129</td>\n",
              "    </tr>\n",
              "    <tr>\n",
              "      <th>7</th>\n",
              "      <td>Myocardial Infarction</td>\n",
              "      <td>20</td>\n",
              "    </tr>\n",
              "    <tr>\n",
              "      <th>8</th>\n",
              "      <td>Stroke</td>\n",
              "      <td>54</td>\n",
              "    </tr>\n",
              "    <tr>\n",
              "      <th>9</th>\n",
              "      <td>Well child visit (procedure)</td>\n",
              "      <td>356</td>\n",
              "    </tr>\n",
              "  </tbody>\n",
              "</table>\n",
              "</div>"
            ],
            "text/plain": [
              "                                       DESCRIPTION  C_PATIENTS_covid19\n",
              "0     Admission to intensive care unit (procedure)                  26\n",
              "1                                   Cardiac Arrest                  47\n",
              "2                              Death Certification                  50\n",
              "3                Encounter for symptom (procedure)                 905\n",
              "4       General examination of patient (procedure)                 840\n",
              "5  Hospital admission  for observation (procedure)                   8\n",
              "6     Hospital admission for isolation (procedure)                 129\n",
              "7                            Myocardial Infarction                  20\n",
              "8                                           Stroke                  54\n",
              "9                     Well child visit (procedure)                 356"
            ]
          },
          "metadata": {
            "tags": []
          },
          "execution_count": 635
        }
      ]
    },
    {
      "cell_type": "code",
      "metadata": {
        "colab": {
          "base_uri": "https://localhost:8080/",
          "height": 419
        },
        "id": "o6sfX6aHbSyf",
        "outputId": "36c4c3c6-a371-406d-9eaf-27188aa99653"
      },
      "source": [
        "# Patient und Reasondescription in encounter_alle\r\n",
        "\r\n",
        "encounter_reasondescription_patients_alle = pd.read_sql_query(\"select REASONDESCRIPTION , count(distinct PATIENT) C_PATIENTS_allergy FROM encounters_alle ea  where REASONDESCRIPTION not like '' group by REASONDESCRIPTION ;\", conn) \r\n",
        "encounter_reasondescription_patients_alle"
      ],
      "execution_count": 636,
      "outputs": [
        {
          "output_type": "execute_result",
          "data": {
            "text/html": [
              "<div>\n",
              "<style scoped>\n",
              "    .dataframe tbody tr th:only-of-type {\n",
              "        vertical-align: middle;\n",
              "    }\n",
              "\n",
              "    .dataframe tbody tr th {\n",
              "        vertical-align: top;\n",
              "    }\n",
              "\n",
              "    .dataframe thead th {\n",
              "        text-align: right;\n",
              "    }\n",
              "</style>\n",
              "<table border=\"1\" class=\"dataframe\">\n",
              "  <thead>\n",
              "    <tr style=\"text-align: right;\">\n",
              "      <th></th>\n",
              "      <th>REASONDESCRIPTION</th>\n",
              "      <th>C_PATIENTS_allergy</th>\n",
              "    </tr>\n",
              "  </thead>\n",
              "  <tbody>\n",
              "    <tr>\n",
              "      <th>0</th>\n",
              "      <td>Acute bacterial sinusitis (disorder)</td>\n",
              "      <td>20</td>\n",
              "    </tr>\n",
              "    <tr>\n",
              "      <th>1</th>\n",
              "      <td>Acute bronchitis (disorder)</td>\n",
              "      <td>54</td>\n",
              "    </tr>\n",
              "    <tr>\n",
              "      <th>2</th>\n",
              "      <td>Acute viral pharyngitis (disorder)</td>\n",
              "      <td>52</td>\n",
              "    </tr>\n",
              "    <tr>\n",
              "      <th>3</th>\n",
              "      <td>Alzheimer's disease (disorder)</td>\n",
              "      <td>10</td>\n",
              "    </tr>\n",
              "    <tr>\n",
              "      <th>4</th>\n",
              "      <td>Anemia (disorder)</td>\n",
              "      <td>14</td>\n",
              "    </tr>\n",
              "    <tr>\n",
              "      <th>...</th>\n",
              "      <td>...</td>\n",
              "      <td>...</td>\n",
              "    </tr>\n",
              "    <tr>\n",
              "      <th>60</th>\n",
              "      <td>Stroke</td>\n",
              "      <td>4</td>\n",
              "    </tr>\n",
              "    <tr>\n",
              "      <th>61</th>\n",
              "      <td>Suspected lung cancer (situation)</td>\n",
              "      <td>2</td>\n",
              "    </tr>\n",
              "    <tr>\n",
              "      <th>62</th>\n",
              "      <td>Third degree burn</td>\n",
              "      <td>1</td>\n",
              "    </tr>\n",
              "    <tr>\n",
              "      <th>63</th>\n",
              "      <td>Tubal pregnancy</td>\n",
              "      <td>3</td>\n",
              "    </tr>\n",
              "    <tr>\n",
              "      <th>64</th>\n",
              "      <td>Viral sinusitis (disorder)</td>\n",
              "      <td>97</td>\n",
              "    </tr>\n",
              "  </tbody>\n",
              "</table>\n",
              "<p>65 rows × 2 columns</p>\n",
              "</div>"
            ],
            "text/plain": [
              "                       REASONDESCRIPTION  C_PATIENTS_allergy\n",
              "0   Acute bacterial sinusitis (disorder)                  20\n",
              "1            Acute bronchitis (disorder)                  54\n",
              "2     Acute viral pharyngitis (disorder)                  52\n",
              "3         Alzheimer's disease (disorder)                  10\n",
              "4                      Anemia (disorder)                  14\n",
              "..                                   ...                 ...\n",
              "60                                Stroke                   4\n",
              "61     Suspected lung cancer (situation)                   2\n",
              "62                     Third degree burn                   1\n",
              "63                       Tubal pregnancy                   3\n",
              "64            Viral sinusitis (disorder)                  97\n",
              "\n",
              "[65 rows x 2 columns]"
            ]
          },
          "metadata": {
            "tags": []
          },
          "execution_count": 636
        }
      ]
    },
    {
      "cell_type": "code",
      "metadata": {
        "colab": {
          "base_uri": "https://localhost:8080/",
          "height": 173
        },
        "id": "_n0rlDsqb8kq",
        "outputId": "813495df-0011-46cb-d895-cc9aee48db47"
      },
      "source": [
        "# Patient und Reasondescription in encounter_cov\r\n",
        "\r\n",
        "encounter_reasondescription_patients_cov = pd.read_sql_query(\"select REASONDESCRIPTION , count(distinct PATIENT) C_PATIENTS_covid19 FROM encounters_cov co  where REASONDESCRIPTION not like '' group by REASONDESCRIPTION ;\", conn) \r\n",
        "encounter_reasondescription_patients_cov"
      ],
      "execution_count": 637,
      "outputs": [
        {
          "output_type": "execute_result",
          "data": {
            "text/html": [
              "<div>\n",
              "<style scoped>\n",
              "    .dataframe tbody tr th:only-of-type {\n",
              "        vertical-align: middle;\n",
              "    }\n",
              "\n",
              "    .dataframe tbody tr th {\n",
              "        vertical-align: top;\n",
              "    }\n",
              "\n",
              "    .dataframe thead th {\n",
              "        text-align: right;\n",
              "    }\n",
              "</style>\n",
              "<table border=\"1\" class=\"dataframe\">\n",
              "  <thead>\n",
              "    <tr style=\"text-align: right;\">\n",
              "      <th></th>\n",
              "      <th>REASONDESCRIPTION</th>\n",
              "      <th>C_PATIENTS_covid19</th>\n",
              "    </tr>\n",
              "  </thead>\n",
              "  <tbody>\n",
              "    <tr>\n",
              "      <th>0</th>\n",
              "      <td>COVID-19</td>\n",
              "      <td>129</td>\n",
              "    </tr>\n",
              "    <tr>\n",
              "      <th>1</th>\n",
              "      <td>Cardiac Arrest</td>\n",
              "      <td>4</td>\n",
              "    </tr>\n",
              "    <tr>\n",
              "      <th>2</th>\n",
              "      <td>Myocardial Infarction</td>\n",
              "      <td>17</td>\n",
              "    </tr>\n",
              "    <tr>\n",
              "      <th>3</th>\n",
              "      <td>Stroke</td>\n",
              "      <td>5</td>\n",
              "    </tr>\n",
              "  </tbody>\n",
              "</table>\n",
              "</div>"
            ],
            "text/plain": [
              "       REASONDESCRIPTION  C_PATIENTS_covid19\n",
              "0               COVID-19                 129\n",
              "1         Cardiac Arrest                   4\n",
              "2  Myocardial Infarction                  17\n",
              "3                 Stroke                   5"
            ]
          },
          "metadata": {
            "tags": []
          },
          "execution_count": 637
        }
      ]
    },
    {
      "cell_type": "code",
      "metadata": {
        "colab": {
          "base_uri": "https://localhost:8080/"
        },
        "id": "ID-6BZVv17dV",
        "outputId": "7b8fbc6a-9dc0-4fe1-95be-cc363f1f69ad"
      },
      "source": [
        "# Age analysis (Covid)\r\n",
        "\r\n",
        "ageCov = pd.read_sql_query(\"\"\"select \r\n",
        "    PA.ID Patient_allergy, \r\n",
        "    MAX(strftime('%Y', START)) - strftime('%Y', BIRTHDATE) AGE_END \r\n",
        "  from patients_cov PA \r\n",
        "  JOIN encounters_cov EA \r\n",
        "    ON PA.Id = EA.PATIENT \r\n",
        "  GROUP BY PA.ID\"\"\", conn)\r\n",
        "\r\n",
        "print('Age in Allergy')\r\n",
        "print('count ' + str(ageCov['AGE_END'].count()))\r\n",
        "print('max ' + str(ageCov['AGE_END'].max()))\r\n",
        "print('min ' + str(ageCov['AGE_END'].min()))\r\n",
        "print('mean ' + str(ageCov['AGE_END'].mean()))\r\n",
        "print('median ' + str(ageCov['AGE_END'].median()))\r\n",
        "print('mode')\r\n",
        "print(str(ageCov['AGE_END'].mode()))\r\n"
      ],
      "execution_count": 638,
      "outputs": [
        {
          "output_type": "stream",
          "text": [
            "Age in Allergy\n",
            "count 1050\n",
            "max 110\n",
            "min 1\n",
            "mean 41.142857142857146\n",
            "median 39.0\n",
            "mode\n",
            "0    22\n",
            "1    31\n",
            "dtype: int64\n"
          ],
          "name": "stdout"
        }
      ]
    },
    {
      "cell_type": "code",
      "metadata": {
        "colab": {
          "base_uri": "https://localhost:8080/"
        },
        "id": "pxn1WSLu9hwv",
        "outputId": "95e088fb-e01c-4ad5-8166-e033880a02f4"
      },
      "source": [
        "# Age analysis (Allergy)\r\n",
        "\r\n",
        "ageAlle = pd.read_sql_query(\"\"\"select \r\n",
        "    PA.ID Patient_allergy, \r\n",
        "    MAX(strftime('%Y', START)) - strftime('%Y', BIRTHDATE) AGE_END \r\n",
        "  from patients_alle PA \r\n",
        "  JOIN encounters_alle EA \r\n",
        "    ON PA.Id = EA.PATIENT \r\n",
        "  GROUP BY PA.ID\"\"\", conn)\r\n",
        "print('Age in Covid')\r\n",
        "print('count ' + str(ageAlle['AGE_END'].count()))\r\n",
        "print('max ' + str(ageAlle['AGE_END'].max()))\r\n",
        "print('min ' + str(ageAlle['AGE_END'].min()))\r\n",
        "print('mean ' + str(ageAlle['AGE_END'].mean()))\r\n",
        "print('median ' + str(ageAlle['AGE_END'].median()))\r\n",
        "print('mode')\r\n",
        "print(str(ageAlle['AGE_END'].mode()))"
      ],
      "execution_count": 639,
      "outputs": [
        {
          "output_type": "stream",
          "text": [
            "Age in Covid\n",
            "count 135\n",
            "max 104\n",
            "min 0\n",
            "mean 47.8962962962963\n",
            "median 49.0\n",
            "mode\n",
            "0    18\n",
            "1    61\n",
            "2    69\n",
            "dtype: int64\n"
          ],
          "name": "stdout"
        }
      ]
    },
    {
      "cell_type": "code",
      "metadata": {
        "id": "en0hTNStUy5S"
      },
      "source": [
        "conn.close()"
      ],
      "execution_count": 640,
      "outputs": []
    }
  ]
}