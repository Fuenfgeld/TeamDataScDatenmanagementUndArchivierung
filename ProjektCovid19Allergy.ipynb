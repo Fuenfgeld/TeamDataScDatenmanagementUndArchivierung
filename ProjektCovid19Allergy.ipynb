{
  "nbformat": 4,
  "nbformat_minor": 0,
  "metadata": {
    "colab": {
      "name": "ProjektCovid19Allergy.ipynb",
      "provenance": [],
      "toc_visible": true,
      "include_colab_link": true
    },
    "kernelspec": {
      "display_name": "Python 3",
      "name": "python3"
    }
  },
  "cells": [
    {
      "cell_type": "markdown",
      "metadata": {
        "id": "view-in-github",
        "colab_type": "text"
      },
      "source": [
        "<a href=\"https://colab.research.google.com/github/Fuenfgeld/TeamDataScDatenmanagementUndArchivierung/blob/main/ProjektCovid19Allergy.ipynb\" target=\"_parent\"><img src=\"https://colab.research.google.com/assets/colab-badge.svg\" alt=\"Open In Colab\"/></a>"
      ]
    },
    {
      "cell_type": "markdown",
      "metadata": {
        "id": "M8qW_IUoH-66"
      },
      "source": [
        "# Covid und Allergie\n",
        "Die csv-Dateien sind im Ordner csv_files\n",
        "\n",
        "Die db-Dateien sind im Ordner db_files"
      ]
    },
    {
      "cell_type": "code",
      "metadata": {
        "id": "wCnsb8FEHddZ",
        "colab": {
          "base_uri": "https://localhost:8080/"
        },
        "outputId": "e3b0bada-cec1-4b3c-e08f-5425fb3cfb24"
      },
      "source": [
        "import pandas as pd\n",
        "import numpy as np\n",
        "import sqlite3 as sq\n",
        "from sqlite3 import Error\n",
        "from google.colab import drive\n",
        "\n",
        "drive.mount('/content/drive/', force_remount=True)\n",
        "def create_connection_file():\n",
        "    \"\"\" create a database connection to a database that resides\n",
        "        in a file (db_files/cov_alle.db)\n",
        "    \"\"\"\n",
        "    conn = None;\n",
        "    try:\n",
        "       #Establishing the connection\n",
        "        conn = sq.connect('/content/drive/MyDrive/db_files/cov_alle.db')\n",
        "        return conn\n",
        "        print(sq.version)\n",
        "    except Error as e:\n",
        "        print(\"Error while connecting to sqlite\", e)\n",
        "\n",
        "# Creating a temporary empty database in the memory.\n",
        "conn = create_connection_file()\n",
        "# Creating a cursor object using the cursor() method\n",
        "cur = conn.cursor()\n"
      ],
      "execution_count": 75,
      "outputs": [
        {
          "output_type": "stream",
          "text": [
            "Mounted at /content/drive/\n"
          ],
          "name": "stdout"
        }
      ]
    },
    {
      "cell_type": "markdown",
      "metadata": {
        "id": "68AGInbSH9hA"
      },
      "source": [
        "Patienten"
      ]
    },
    {
      "cell_type": "code",
      "metadata": {
        "colab": {
          "base_uri": "https://localhost:8080/",
          "height": 80
        },
        "id": "6P33PzkzJryD",
        "outputId": "29e2c9f7-57a0-4385-d8b7-dedc419ac00f"
      },
      "source": [
        "count_patients_cov = pd.read_sql_query(\"select count(*) patients_covid19 from patients_cov;\", conn) #Anzahl an Patienten mit COVID-19\n",
        "count_patients_cov"
      ],
      "execution_count": 76,
      "outputs": [
        {
          "output_type": "execute_result",
          "data": {
            "text/html": [
              "<div>\n",
              "<style scoped>\n",
              "    .dataframe tbody tr th:only-of-type {\n",
              "        vertical-align: middle;\n",
              "    }\n",
              "\n",
              "    .dataframe tbody tr th {\n",
              "        vertical-align: top;\n",
              "    }\n",
              "\n",
              "    .dataframe thead th {\n",
              "        text-align: right;\n",
              "    }\n",
              "</style>\n",
              "<table border=\"1\" class=\"dataframe\">\n",
              "  <thead>\n",
              "    <tr style=\"text-align: right;\">\n",
              "      <th></th>\n",
              "      <th>patients_covid19</th>\n",
              "    </tr>\n",
              "  </thead>\n",
              "  <tbody>\n",
              "    <tr>\n",
              "      <th>0</th>\n",
              "      <td>1050</td>\n",
              "    </tr>\n",
              "  </tbody>\n",
              "</table>\n",
              "</div>"
            ],
            "text/plain": [
              "   patients_covid19\n",
              "0              1050"
            ]
          },
          "metadata": {
            "tags": []
          },
          "execution_count": 76
        }
      ]
    },
    {
      "cell_type": "code",
      "metadata": {
        "colab": {
          "base_uri": "https://localhost:8080/",
          "height": 80
        },
        "id": "ptBjNhgyKRLt",
        "outputId": "3355efa1-c6ea-4624-a1ea-4bd7ccf9e5e2"
      },
      "source": [
        "count_patients_alle = pd.read_sql_query(\"select count(*) patients_allergy from patients_alle;\", conn) #Anzahl an Patienten in Allergie\n",
        "count_patients_alle\n"
      ],
      "execution_count": 77,
      "outputs": [
        {
          "output_type": "execute_result",
          "data": {
            "text/html": [
              "<div>\n",
              "<style scoped>\n",
              "    .dataframe tbody tr th:only-of-type {\n",
              "        vertical-align: middle;\n",
              "    }\n",
              "\n",
              "    .dataframe tbody tr th {\n",
              "        vertical-align: top;\n",
              "    }\n",
              "\n",
              "    .dataframe thead th {\n",
              "        text-align: right;\n",
              "    }\n",
              "</style>\n",
              "<table border=\"1\" class=\"dataframe\">\n",
              "  <thead>\n",
              "    <tr style=\"text-align: right;\">\n",
              "      <th></th>\n",
              "      <th>patients_allergy</th>\n",
              "    </tr>\n",
              "  </thead>\n",
              "  <tbody>\n",
              "    <tr>\n",
              "      <th>0</th>\n",
              "      <td>135</td>\n",
              "    </tr>\n",
              "  </tbody>\n",
              "</table>\n",
              "</div>"
            ],
            "text/plain": [
              "   patients_allergy\n",
              "0               135"
            ]
          },
          "metadata": {
            "tags": []
          },
          "execution_count": 77
        }
      ]
    },
    {
      "cell_type": "code",
      "metadata": {
        "colab": {
          "base_uri": "https://localhost:8080/",
          "height": 111
        },
        "id": "XqnWxCrEEpoe",
        "outputId": "bfb7b9c3-433e-4d7f-8490-3a0f9d652bdb"
      },
      "source": [
        "count_patients_gender_cov = pd.read_sql_query(\"select GENDER, count(id) patients_covid19 from patients_cov group by GENDER;\", conn) #Patienten by Geschlecht in COVID-19\r\n",
        "count_patients_gender_cov"
      ],
      "execution_count": 78,
      "outputs": [
        {
          "output_type": "execute_result",
          "data": {
            "text/html": [
              "<div>\n",
              "<style scoped>\n",
              "    .dataframe tbody tr th:only-of-type {\n",
              "        vertical-align: middle;\n",
              "    }\n",
              "\n",
              "    .dataframe tbody tr th {\n",
              "        vertical-align: top;\n",
              "    }\n",
              "\n",
              "    .dataframe thead th {\n",
              "        text-align: right;\n",
              "    }\n",
              "</style>\n",
              "<table border=\"1\" class=\"dataframe\">\n",
              "  <thead>\n",
              "    <tr style=\"text-align: right;\">\n",
              "      <th></th>\n",
              "      <th>GENDER</th>\n",
              "      <th>patients_covid19</th>\n",
              "    </tr>\n",
              "  </thead>\n",
              "  <tbody>\n",
              "    <tr>\n",
              "      <th>0</th>\n",
              "      <td>F</td>\n",
              "      <td>522</td>\n",
              "    </tr>\n",
              "    <tr>\n",
              "      <th>1</th>\n",
              "      <td>M</td>\n",
              "      <td>528</td>\n",
              "    </tr>\n",
              "  </tbody>\n",
              "</table>\n",
              "</div>"
            ],
            "text/plain": [
              "  GENDER  patients_covid19\n",
              "0      F               522\n",
              "1      M               528"
            ]
          },
          "metadata": {
            "tags": []
          },
          "execution_count": 78
        }
      ]
    },
    {
      "cell_type": "code",
      "metadata": {
        "colab": {
          "base_uri": "https://localhost:8080/",
          "height": 111
        },
        "id": "RECIAvf0Fg00",
        "outputId": "01462d19-5c1f-4e5f-f270-fc9f60434280"
      },
      "source": [
        "count_patients_gender_alle = pd.read_sql_query(\"select GENDER, count(id) patients_allergy from patients_alle group by GENDER;\", conn) #Patienten by Geschlecht in COVID-19\r\n",
        "count_patients_gender_alle"
      ],
      "execution_count": 79,
      "outputs": [
        {
          "output_type": "execute_result",
          "data": {
            "text/html": [
              "<div>\n",
              "<style scoped>\n",
              "    .dataframe tbody tr th:only-of-type {\n",
              "        vertical-align: middle;\n",
              "    }\n",
              "\n",
              "    .dataframe tbody tr th {\n",
              "        vertical-align: top;\n",
              "    }\n",
              "\n",
              "    .dataframe thead th {\n",
              "        text-align: right;\n",
              "    }\n",
              "</style>\n",
              "<table border=\"1\" class=\"dataframe\">\n",
              "  <thead>\n",
              "    <tr style=\"text-align: right;\">\n",
              "      <th></th>\n",
              "      <th>GENDER</th>\n",
              "      <th>patients_allergy</th>\n",
              "    </tr>\n",
              "  </thead>\n",
              "  <tbody>\n",
              "    <tr>\n",
              "      <th>0</th>\n",
              "      <td>F</td>\n",
              "      <td>57</td>\n",
              "    </tr>\n",
              "    <tr>\n",
              "      <th>1</th>\n",
              "      <td>M</td>\n",
              "      <td>78</td>\n",
              "    </tr>\n",
              "  </tbody>\n",
              "</table>\n",
              "</div>"
            ],
            "text/plain": [
              "  GENDER  patients_allergy\n",
              "0      F                57\n",
              "1      M                78"
            ]
          },
          "metadata": {
            "tags": []
          },
          "execution_count": 79
        }
      ]
    },
    {
      "cell_type": "code",
      "metadata": {
        "colab": {
          "base_uri": "https://localhost:8080/",
          "height": 173
        },
        "id": "QO9J39sTL-mS",
        "outputId": "72fbc181-6b61-4c38-e667-b79ee24e5799"
      },
      "source": [
        "# Patient und Conditions in conditions_cov\r\n",
        "\r\n",
        "observations_patients_cov = pd.read_sql_query(\"select DESCRIPTION, count(distinct PATIENT) C_PATIENTS_covid19 FROM conditions_cov group by DESCRIPTION;\", conn) #Anzahl an Patienten mit COVID-19\r\n",
        "observations_patients_cov.head(4)"
      ],
      "execution_count": 80,
      "outputs": [
        {
          "output_type": "execute_result",
          "data": {
            "text/html": [
              "<div>\n",
              "<style scoped>\n",
              "    .dataframe tbody tr th:only-of-type {\n",
              "        vertical-align: middle;\n",
              "    }\n",
              "\n",
              "    .dataframe tbody tr th {\n",
              "        vertical-align: top;\n",
              "    }\n",
              "\n",
              "    .dataframe thead th {\n",
              "        text-align: right;\n",
              "    }\n",
              "</style>\n",
              "<table border=\"1\" class=\"dataframe\">\n",
              "  <thead>\n",
              "    <tr style=\"text-align: right;\">\n",
              "      <th></th>\n",
              "      <th>DESCRIPTION</th>\n",
              "      <th>C_PATIENTS_covid19</th>\n",
              "    </tr>\n",
              "  </thead>\n",
              "  <tbody>\n",
              "    <tr>\n",
              "      <th>0</th>\n",
              "      <td>Acquired coagulation disorder (disorder)</td>\n",
              "      <td>11</td>\n",
              "    </tr>\n",
              "    <tr>\n",
              "      <th>1</th>\n",
              "      <td>Acute deep venous thrombosis (disorder)</td>\n",
              "      <td>38</td>\n",
              "    </tr>\n",
              "    <tr>\n",
              "      <th>2</th>\n",
              "      <td>Acute pulmonary embolism (disorder)</td>\n",
              "      <td>36</td>\n",
              "    </tr>\n",
              "    <tr>\n",
              "      <th>3</th>\n",
              "      <td>Acute respiratory distress syndrome (disorder)</td>\n",
              "      <td>16</td>\n",
              "    </tr>\n",
              "  </tbody>\n",
              "</table>\n",
              "</div>"
            ],
            "text/plain": [
              "                                      DESCRIPTION  C_PATIENTS_covid19\n",
              "0        Acquired coagulation disorder (disorder)                  11\n",
              "1         Acute deep venous thrombosis (disorder)                  38\n",
              "2             Acute pulmonary embolism (disorder)                  36\n",
              "3  Acute respiratory distress syndrome (disorder)                  16"
            ]
          },
          "metadata": {
            "tags": []
          },
          "execution_count": 80
        }
      ]
    },
    {
      "cell_type": "code",
      "metadata": {
        "colab": {
          "base_uri": "https://localhost:8080/",
          "height": 173
        },
        "id": "1P1sc-bDPDWY",
        "outputId": "6f415fee-3da4-4274-bf58-966334f824d3"
      },
      "source": [
        "# Patient und Conditions in conditions_alle\r\n",
        "\r\n",
        "observations_patients_alle = pd.read_sql_query(\"select DESCRIPTION, count(distinct PATIENT) C_PATIENTS_allergy FROM conditions_alle group by DESCRIPTION;\", conn) \r\n",
        "observations_patients_alle.head(4)"
      ],
      "execution_count": 81,
      "outputs": [
        {
          "output_type": "execute_result",
          "data": {
            "text/html": [
              "<div>\n",
              "<style scoped>\n",
              "    .dataframe tbody tr th:only-of-type {\n",
              "        vertical-align: middle;\n",
              "    }\n",
              "\n",
              "    .dataframe tbody tr th {\n",
              "        vertical-align: top;\n",
              "    }\n",
              "\n",
              "    .dataframe thead th {\n",
              "        text-align: right;\n",
              "    }\n",
              "</style>\n",
              "<table border=\"1\" class=\"dataframe\">\n",
              "  <thead>\n",
              "    <tr style=\"text-align: right;\">\n",
              "      <th></th>\n",
              "      <th>DESCRIPTION</th>\n",
              "      <th>C_PATIENTS_allergy</th>\n",
              "    </tr>\n",
              "  </thead>\n",
              "  <tbody>\n",
              "    <tr>\n",
              "      <th>0</th>\n",
              "      <td>Acquired coagulation disorder (disorder)</td>\n",
              "      <td>1</td>\n",
              "    </tr>\n",
              "    <tr>\n",
              "      <th>1</th>\n",
              "      <td>Acute allergic reaction</td>\n",
              "      <td>1</td>\n",
              "    </tr>\n",
              "    <tr>\n",
              "      <th>2</th>\n",
              "      <td>Acute bacterial sinusitis (disorder)</td>\n",
              "      <td>9</td>\n",
              "    </tr>\n",
              "    <tr>\n",
              "      <th>3</th>\n",
              "      <td>Acute bronchitis (disorder)</td>\n",
              "      <td>52</td>\n",
              "    </tr>\n",
              "  </tbody>\n",
              "</table>\n",
              "</div>"
            ],
            "text/plain": [
              "                                DESCRIPTION  C_PATIENTS_allergy\n",
              "0  Acquired coagulation disorder (disorder)                   1\n",
              "1                   Acute allergic reaction                   1\n",
              "2      Acute bacterial sinusitis (disorder)                   9\n",
              "3               Acute bronchitis (disorder)                  52"
            ]
          },
          "metadata": {
            "tags": []
          },
          "execution_count": 81
        }
      ]
    },
    {
      "cell_type": "code",
      "metadata": {
        "colab": {
          "base_uri": "https://localhost:8080/",
          "height": 1000
        },
        "id": "fhxQcvHbZe3i",
        "outputId": "2df4acee-d844-45a0-8253-e96fa2a6cebf"
      },
      "source": [
        "# Patient und Description in encounter_alle\r\n",
        "\r\n",
        "encounter_description_patients_alle = pd.read_sql_query(\"select DESCRIPTION , count(distinct PATIENT) C_PATIENTS_allergy FROM encounters_alle ea  where DESCRIPTION not like '' group by DESCRIPTION ;\", conn) \r\n",
        "encounter_description_patients_alle"
      ],
      "execution_count": 82,
      "outputs": [
        {
          "output_type": "execute_result",
          "data": {
            "text/html": [
              "<div>\n",
              "<style scoped>\n",
              "    .dataframe tbody tr th:only-of-type {\n",
              "        vertical-align: middle;\n",
              "    }\n",
              "\n",
              "    .dataframe tbody tr th {\n",
              "        vertical-align: top;\n",
              "    }\n",
              "\n",
              "    .dataframe thead th {\n",
              "        text-align: right;\n",
              "    }\n",
              "</style>\n",
              "<table border=\"1\" class=\"dataframe\">\n",
              "  <thead>\n",
              "    <tr style=\"text-align: right;\">\n",
              "      <th></th>\n",
              "      <th>DESCRIPTION</th>\n",
              "      <th>C_PATIENTS_allergy</th>\n",
              "    </tr>\n",
              "  </thead>\n",
              "  <tbody>\n",
              "    <tr>\n",
              "      <th>0</th>\n",
              "      <td>Admission to intensive care unit (procedure)</td>\n",
              "      <td>8</td>\n",
              "    </tr>\n",
              "    <tr>\n",
              "      <th>1</th>\n",
              "      <td>Admission to surgical department</td>\n",
              "      <td>5</td>\n",
              "    </tr>\n",
              "    <tr>\n",
              "      <th>2</th>\n",
              "      <td>Allergic disorder follow-up assessment</td>\n",
              "      <td>2</td>\n",
              "    </tr>\n",
              "    <tr>\n",
              "      <th>3</th>\n",
              "      <td>Allergic disorder initial assessment</td>\n",
              "      <td>2</td>\n",
              "    </tr>\n",
              "    <tr>\n",
              "      <th>4</th>\n",
              "      <td>Asthma follow-up</td>\n",
              "      <td>3</td>\n",
              "    </tr>\n",
              "    <tr>\n",
              "      <th>5</th>\n",
              "      <td>Cardiac Arrest</td>\n",
              "      <td>3</td>\n",
              "    </tr>\n",
              "    <tr>\n",
              "      <th>6</th>\n",
              "      <td>Consultation for treatment</td>\n",
              "      <td>34</td>\n",
              "    </tr>\n",
              "    <tr>\n",
              "      <th>7</th>\n",
              "      <td>Death Certification</td>\n",
              "      <td>35</td>\n",
              "    </tr>\n",
              "    <tr>\n",
              "      <th>8</th>\n",
              "      <td>Emergency Encounter</td>\n",
              "      <td>9</td>\n",
              "    </tr>\n",
              "    <tr>\n",
              "      <th>9</th>\n",
              "      <td>Emergency Room Admission</td>\n",
              "      <td>15</td>\n",
              "    </tr>\n",
              "    <tr>\n",
              "      <th>10</th>\n",
              "      <td>Emergency hospital admission for asthma</td>\n",
              "      <td>1</td>\n",
              "    </tr>\n",
              "    <tr>\n",
              "      <th>11</th>\n",
              "      <td>Emergency room admission (procedure)</td>\n",
              "      <td>75</td>\n",
              "    </tr>\n",
              "    <tr>\n",
              "      <th>12</th>\n",
              "      <td>Encounter Inpatient</td>\n",
              "      <td>12</td>\n",
              "    </tr>\n",
              "    <tr>\n",
              "      <th>13</th>\n",
              "      <td>Encounter for 'check-up'</td>\n",
              "      <td>63</td>\n",
              "    </tr>\n",
              "    <tr>\n",
              "      <th>14</th>\n",
              "      <td>Encounter for Problem</td>\n",
              "      <td>5</td>\n",
              "    </tr>\n",
              "    <tr>\n",
              "      <th>15</th>\n",
              "      <td>Encounter for check up (procedure)</td>\n",
              "      <td>70</td>\n",
              "    </tr>\n",
              "    <tr>\n",
              "      <th>16</th>\n",
              "      <td>Encounter for problem</td>\n",
              "      <td>47</td>\n",
              "    </tr>\n",
              "    <tr>\n",
              "      <th>17</th>\n",
              "      <td>Encounter for problem (procedure)</td>\n",
              "      <td>1</td>\n",
              "    </tr>\n",
              "    <tr>\n",
              "      <th>18</th>\n",
              "      <td>Encounter for symptom</td>\n",
              "      <td>125</td>\n",
              "    </tr>\n",
              "    <tr>\n",
              "      <th>19</th>\n",
              "      <td>Encounter for symptom (procedure)</td>\n",
              "      <td>90</td>\n",
              "    </tr>\n",
              "    <tr>\n",
              "      <th>20</th>\n",
              "      <td>Follow-up encounter</td>\n",
              "      <td>18</td>\n",
              "    </tr>\n",
              "    <tr>\n",
              "      <th>21</th>\n",
              "      <td>General examination of patient (procedure)</td>\n",
              "      <td>113</td>\n",
              "    </tr>\n",
              "    <tr>\n",
              "      <th>22</th>\n",
              "      <td>Gynecology service (qualifier value)</td>\n",
              "      <td>2</td>\n",
              "    </tr>\n",
              "    <tr>\n",
              "      <th>23</th>\n",
              "      <td>Hospital admission</td>\n",
              "      <td>7</td>\n",
              "    </tr>\n",
              "    <tr>\n",
              "      <th>24</th>\n",
              "      <td>Hospital admission  for observation (procedure)</td>\n",
              "      <td>1</td>\n",
              "    </tr>\n",
              "    <tr>\n",
              "      <th>25</th>\n",
              "      <td>Hospital admission for isolation (procedure)</td>\n",
              "      <td>11</td>\n",
              "    </tr>\n",
              "    <tr>\n",
              "      <th>26</th>\n",
              "      <td>Hypertension follow-up encounter</td>\n",
              "      <td>13</td>\n",
              "    </tr>\n",
              "    <tr>\n",
              "      <th>27</th>\n",
              "      <td>Initial Psychiatric Interview with mental stat...</td>\n",
              "      <td>2</td>\n",
              "    </tr>\n",
              "    <tr>\n",
              "      <th>28</th>\n",
              "      <td>Myocardial Infarction</td>\n",
              "      <td>6</td>\n",
              "    </tr>\n",
              "    <tr>\n",
              "      <th>29</th>\n",
              "      <td>Non-urgent orthopedic admission</td>\n",
              "      <td>1</td>\n",
              "    </tr>\n",
              "    <tr>\n",
              "      <th>30</th>\n",
              "      <td>Obstetric emergency hospital admission</td>\n",
              "      <td>24</td>\n",
              "    </tr>\n",
              "    <tr>\n",
              "      <th>31</th>\n",
              "      <td>Office Visit</td>\n",
              "      <td>11</td>\n",
              "    </tr>\n",
              "    <tr>\n",
              "      <th>32</th>\n",
              "      <td>Outpatient procedure</td>\n",
              "      <td>3</td>\n",
              "    </tr>\n",
              "    <tr>\n",
              "      <th>33</th>\n",
              "      <td>Patient encounter procedure</td>\n",
              "      <td>23</td>\n",
              "    </tr>\n",
              "    <tr>\n",
              "      <th>34</th>\n",
              "      <td>Patient-initiated encounter</td>\n",
              "      <td>11</td>\n",
              "    </tr>\n",
              "    <tr>\n",
              "      <th>35</th>\n",
              "      <td>Periodic reevaluation and management of health...</td>\n",
              "      <td>2</td>\n",
              "    </tr>\n",
              "    <tr>\n",
              "      <th>36</th>\n",
              "      <td>Postnatal visit</td>\n",
              "      <td>24</td>\n",
              "    </tr>\n",
              "    <tr>\n",
              "      <th>37</th>\n",
              "      <td>Postoperative follow-up visit (procedure)</td>\n",
              "      <td>2</td>\n",
              "    </tr>\n",
              "    <tr>\n",
              "      <th>38</th>\n",
              "      <td>Prenatal initial visit</td>\n",
              "      <td>33</td>\n",
              "    </tr>\n",
              "    <tr>\n",
              "      <th>39</th>\n",
              "      <td>Prenatal visit</td>\n",
              "      <td>25</td>\n",
              "    </tr>\n",
              "    <tr>\n",
              "      <th>40</th>\n",
              "      <td>Screening surveillance (regime/therapy)</td>\n",
              "      <td>2</td>\n",
              "    </tr>\n",
              "    <tr>\n",
              "      <th>41</th>\n",
              "      <td>Stroke</td>\n",
              "      <td>9</td>\n",
              "    </tr>\n",
              "    <tr>\n",
              "      <th>42</th>\n",
              "      <td>Telemedicine consultation with patient</td>\n",
              "      <td>1</td>\n",
              "    </tr>\n",
              "    <tr>\n",
              "      <th>43</th>\n",
              "      <td>Urgent care clinic (procedure)</td>\n",
              "      <td>45</td>\n",
              "    </tr>\n",
              "    <tr>\n",
              "      <th>44</th>\n",
              "      <td>Well child visit (procedure)</td>\n",
              "      <td>44</td>\n",
              "    </tr>\n",
              "    <tr>\n",
              "      <th>45</th>\n",
              "      <td>posttraumatic stress disorder</td>\n",
              "      <td>2</td>\n",
              "    </tr>\n",
              "  </tbody>\n",
              "</table>\n",
              "</div>"
            ],
            "text/plain": [
              "                                          DESCRIPTION  C_PATIENTS_allergy\n",
              "0        Admission to intensive care unit (procedure)                   8\n",
              "1                    Admission to surgical department                   5\n",
              "2              Allergic disorder follow-up assessment                   2\n",
              "3                Allergic disorder initial assessment                   2\n",
              "4                                    Asthma follow-up                   3\n",
              "5                                      Cardiac Arrest                   3\n",
              "6                          Consultation for treatment                  34\n",
              "7                                 Death Certification                  35\n",
              "8                                 Emergency Encounter                   9\n",
              "9                            Emergency Room Admission                  15\n",
              "10            Emergency hospital admission for asthma                   1\n",
              "11               Emergency room admission (procedure)                  75\n",
              "12                                Encounter Inpatient                  12\n",
              "13                           Encounter for 'check-up'                  63\n",
              "14                              Encounter for Problem                   5\n",
              "15                 Encounter for check up (procedure)                  70\n",
              "16                              Encounter for problem                  47\n",
              "17                  Encounter for problem (procedure)                   1\n",
              "18                              Encounter for symptom                 125\n",
              "19                  Encounter for symptom (procedure)                  90\n",
              "20                                Follow-up encounter                  18\n",
              "21         General examination of patient (procedure)                 113\n",
              "22               Gynecology service (qualifier value)                   2\n",
              "23                                 Hospital admission                   7\n",
              "24    Hospital admission  for observation (procedure)                   1\n",
              "25       Hospital admission for isolation (procedure)                  11\n",
              "26                   Hypertension follow-up encounter                  13\n",
              "27  Initial Psychiatric Interview with mental stat...                   2\n",
              "28                              Myocardial Infarction                   6\n",
              "29                    Non-urgent orthopedic admission                   1\n",
              "30             Obstetric emergency hospital admission                  24\n",
              "31                                       Office Visit                  11\n",
              "32                               Outpatient procedure                   3\n",
              "33                        Patient encounter procedure                  23\n",
              "34                        Patient-initiated encounter                  11\n",
              "35  Periodic reevaluation and management of health...                   2\n",
              "36                                    Postnatal visit                  24\n",
              "37          Postoperative follow-up visit (procedure)                   2\n",
              "38                             Prenatal initial visit                  33\n",
              "39                                     Prenatal visit                  25\n",
              "40            Screening surveillance (regime/therapy)                   2\n",
              "41                                             Stroke                   9\n",
              "42             Telemedicine consultation with patient                   1\n",
              "43                     Urgent care clinic (procedure)                  45\n",
              "44                       Well child visit (procedure)                  44\n",
              "45                      posttraumatic stress disorder                   2"
            ]
          },
          "metadata": {
            "tags": []
          },
          "execution_count": 82
        }
      ]
    },
    {
      "cell_type": "code",
      "metadata": {
        "colab": {
          "base_uri": "https://localhost:8080/",
          "height": 359
        },
        "id": "EE3uwW6Rac1a",
        "outputId": "991d469e-6f53-4af9-c561-341601f0fb55"
      },
      "source": [
        "# Patient und Description in encounter_cov\r\n",
        "\r\n",
        "encounter_description_patients_cov = pd.read_sql_query(\"select DESCRIPTION , count(distinct PATIENT) C_PATIENTS_covid19 FROM encounters_cov co  where DESCRIPTION not like '' group by DESCRIPTION ;\", conn) \r\n",
        "encounter_description_patients_cov"
      ],
      "execution_count": 83,
      "outputs": [
        {
          "output_type": "execute_result",
          "data": {
            "text/html": [
              "<div>\n",
              "<style scoped>\n",
              "    .dataframe tbody tr th:only-of-type {\n",
              "        vertical-align: middle;\n",
              "    }\n",
              "\n",
              "    .dataframe tbody tr th {\n",
              "        vertical-align: top;\n",
              "    }\n",
              "\n",
              "    .dataframe thead th {\n",
              "        text-align: right;\n",
              "    }\n",
              "</style>\n",
              "<table border=\"1\" class=\"dataframe\">\n",
              "  <thead>\n",
              "    <tr style=\"text-align: right;\">\n",
              "      <th></th>\n",
              "      <th>DESCRIPTION</th>\n",
              "      <th>C_PATIENTS_covid19</th>\n",
              "    </tr>\n",
              "  </thead>\n",
              "  <tbody>\n",
              "    <tr>\n",
              "      <th>0</th>\n",
              "      <td>Admission to intensive care unit (procedure)</td>\n",
              "      <td>26</td>\n",
              "    </tr>\n",
              "    <tr>\n",
              "      <th>1</th>\n",
              "      <td>Cardiac Arrest</td>\n",
              "      <td>47</td>\n",
              "    </tr>\n",
              "    <tr>\n",
              "      <th>2</th>\n",
              "      <td>Death Certification</td>\n",
              "      <td>50</td>\n",
              "    </tr>\n",
              "    <tr>\n",
              "      <th>3</th>\n",
              "      <td>Encounter for symptom (procedure)</td>\n",
              "      <td>905</td>\n",
              "    </tr>\n",
              "    <tr>\n",
              "      <th>4</th>\n",
              "      <td>General examination of patient (procedure)</td>\n",
              "      <td>840</td>\n",
              "    </tr>\n",
              "    <tr>\n",
              "      <th>5</th>\n",
              "      <td>Hospital admission  for observation (procedure)</td>\n",
              "      <td>8</td>\n",
              "    </tr>\n",
              "    <tr>\n",
              "      <th>6</th>\n",
              "      <td>Hospital admission for isolation (procedure)</td>\n",
              "      <td>129</td>\n",
              "    </tr>\n",
              "    <tr>\n",
              "      <th>7</th>\n",
              "      <td>Myocardial Infarction</td>\n",
              "      <td>20</td>\n",
              "    </tr>\n",
              "    <tr>\n",
              "      <th>8</th>\n",
              "      <td>Stroke</td>\n",
              "      <td>54</td>\n",
              "    </tr>\n",
              "    <tr>\n",
              "      <th>9</th>\n",
              "      <td>Well child visit (procedure)</td>\n",
              "      <td>356</td>\n",
              "    </tr>\n",
              "  </tbody>\n",
              "</table>\n",
              "</div>"
            ],
            "text/plain": [
              "                                       DESCRIPTION  C_PATIENTS_covid19\n",
              "0     Admission to intensive care unit (procedure)                  26\n",
              "1                                   Cardiac Arrest                  47\n",
              "2                              Death Certification                  50\n",
              "3                Encounter for symptom (procedure)                 905\n",
              "4       General examination of patient (procedure)                 840\n",
              "5  Hospital admission  for observation (procedure)                   8\n",
              "6     Hospital admission for isolation (procedure)                 129\n",
              "7                            Myocardial Infarction                  20\n",
              "8                                           Stroke                  54\n",
              "9                     Well child visit (procedure)                 356"
            ]
          },
          "metadata": {
            "tags": []
          },
          "execution_count": 83
        }
      ]
    },
    {
      "cell_type": "code",
      "metadata": {
        "colab": {
          "base_uri": "https://localhost:8080/",
          "height": 419
        },
        "id": "o6sfX6aHbSyf",
        "outputId": "2b86144a-7dcc-4cb3-8f7c-6791ddc0676d"
      },
      "source": [
        "# Patient und Reasondescription in encounter_alle\r\n",
        "\r\n",
        "encounter_reasondescription_patients_alle = pd.read_sql_query(\"select REASONDESCRIPTION , count(distinct PATIENT) C_PATIENTS_allergy FROM encounters_alle ea  where REASONDESCRIPTION not like '' group by REASONDESCRIPTION ;\", conn) \r\n",
        "encounter_reasondescription_patients_alle"
      ],
      "execution_count": 84,
      "outputs": [
        {
          "output_type": "execute_result",
          "data": {
            "text/html": [
              "<div>\n",
              "<style scoped>\n",
              "    .dataframe tbody tr th:only-of-type {\n",
              "        vertical-align: middle;\n",
              "    }\n",
              "\n",
              "    .dataframe tbody tr th {\n",
              "        vertical-align: top;\n",
              "    }\n",
              "\n",
              "    .dataframe thead th {\n",
              "        text-align: right;\n",
              "    }\n",
              "</style>\n",
              "<table border=\"1\" class=\"dataframe\">\n",
              "  <thead>\n",
              "    <tr style=\"text-align: right;\">\n",
              "      <th></th>\n",
              "      <th>REASONDESCRIPTION</th>\n",
              "      <th>C_PATIENTS_allergy</th>\n",
              "    </tr>\n",
              "  </thead>\n",
              "  <tbody>\n",
              "    <tr>\n",
              "      <th>0</th>\n",
              "      <td>Acute bacterial sinusitis (disorder)</td>\n",
              "      <td>20</td>\n",
              "    </tr>\n",
              "    <tr>\n",
              "      <th>1</th>\n",
              "      <td>Acute bronchitis (disorder)</td>\n",
              "      <td>54</td>\n",
              "    </tr>\n",
              "    <tr>\n",
              "      <th>2</th>\n",
              "      <td>Acute viral pharyngitis (disorder)</td>\n",
              "      <td>52</td>\n",
              "    </tr>\n",
              "    <tr>\n",
              "      <th>3</th>\n",
              "      <td>Alzheimer's disease (disorder)</td>\n",
              "      <td>10</td>\n",
              "    </tr>\n",
              "    <tr>\n",
              "      <th>4</th>\n",
              "      <td>Anemia (disorder)</td>\n",
              "      <td>14</td>\n",
              "    </tr>\n",
              "    <tr>\n",
              "      <th>...</th>\n",
              "      <td>...</td>\n",
              "      <td>...</td>\n",
              "    </tr>\n",
              "    <tr>\n",
              "      <th>60</th>\n",
              "      <td>Stroke</td>\n",
              "      <td>4</td>\n",
              "    </tr>\n",
              "    <tr>\n",
              "      <th>61</th>\n",
              "      <td>Suspected lung cancer (situation)</td>\n",
              "      <td>2</td>\n",
              "    </tr>\n",
              "    <tr>\n",
              "      <th>62</th>\n",
              "      <td>Third degree burn</td>\n",
              "      <td>1</td>\n",
              "    </tr>\n",
              "    <tr>\n",
              "      <th>63</th>\n",
              "      <td>Tubal pregnancy</td>\n",
              "      <td>3</td>\n",
              "    </tr>\n",
              "    <tr>\n",
              "      <th>64</th>\n",
              "      <td>Viral sinusitis (disorder)</td>\n",
              "      <td>97</td>\n",
              "    </tr>\n",
              "  </tbody>\n",
              "</table>\n",
              "<p>65 rows × 2 columns</p>\n",
              "</div>"
            ],
            "text/plain": [
              "                       REASONDESCRIPTION  C_PATIENTS_allergy\n",
              "0   Acute bacterial sinusitis (disorder)                  20\n",
              "1            Acute bronchitis (disorder)                  54\n",
              "2     Acute viral pharyngitis (disorder)                  52\n",
              "3         Alzheimer's disease (disorder)                  10\n",
              "4                      Anemia (disorder)                  14\n",
              "..                                   ...                 ...\n",
              "60                                Stroke                   4\n",
              "61     Suspected lung cancer (situation)                   2\n",
              "62                     Third degree burn                   1\n",
              "63                       Tubal pregnancy                   3\n",
              "64            Viral sinusitis (disorder)                  97\n",
              "\n",
              "[65 rows x 2 columns]"
            ]
          },
          "metadata": {
            "tags": []
          },
          "execution_count": 84
        }
      ]
    },
    {
      "cell_type": "code",
      "metadata": {
        "colab": {
          "base_uri": "https://localhost:8080/",
          "height": 173
        },
        "id": "_n0rlDsqb8kq",
        "outputId": "e12fa984-3a0e-460f-c195-828154d2eb03"
      },
      "source": [
        "# Patient und Reasondescription in encounter_cov\r\n",
        "\r\n",
        "encounter_reasondescription_patients_cov = pd.read_sql_query(\"select REASONDESCRIPTION , count(distinct PATIENT) C_PATIENTS_covid19 FROM encounters_cov co  where REASONDESCRIPTION not like '' group by REASONDESCRIPTION ;\", conn) \r\n",
        "encounter_reasondescription_patients_cov"
      ],
      "execution_count": 85,
      "outputs": [
        {
          "output_type": "execute_result",
          "data": {
            "text/html": [
              "<div>\n",
              "<style scoped>\n",
              "    .dataframe tbody tr th:only-of-type {\n",
              "        vertical-align: middle;\n",
              "    }\n",
              "\n",
              "    .dataframe tbody tr th {\n",
              "        vertical-align: top;\n",
              "    }\n",
              "\n",
              "    .dataframe thead th {\n",
              "        text-align: right;\n",
              "    }\n",
              "</style>\n",
              "<table border=\"1\" class=\"dataframe\">\n",
              "  <thead>\n",
              "    <tr style=\"text-align: right;\">\n",
              "      <th></th>\n",
              "      <th>REASONDESCRIPTION</th>\n",
              "      <th>C_PATIENTS_covid19</th>\n",
              "    </tr>\n",
              "  </thead>\n",
              "  <tbody>\n",
              "    <tr>\n",
              "      <th>0</th>\n",
              "      <td>COVID-19</td>\n",
              "      <td>129</td>\n",
              "    </tr>\n",
              "    <tr>\n",
              "      <th>1</th>\n",
              "      <td>Cardiac Arrest</td>\n",
              "      <td>4</td>\n",
              "    </tr>\n",
              "    <tr>\n",
              "      <th>2</th>\n",
              "      <td>Myocardial Infarction</td>\n",
              "      <td>17</td>\n",
              "    </tr>\n",
              "    <tr>\n",
              "      <th>3</th>\n",
              "      <td>Stroke</td>\n",
              "      <td>5</td>\n",
              "    </tr>\n",
              "  </tbody>\n",
              "</table>\n",
              "</div>"
            ],
            "text/plain": [
              "       REASONDESCRIPTION  C_PATIENTS_covid19\n",
              "0               COVID-19                 129\n",
              "1         Cardiac Arrest                   4\n",
              "2  Myocardial Infarction                  17\n",
              "3                 Stroke                   5"
            ]
          },
          "metadata": {
            "tags": []
          },
          "execution_count": 85
        }
      ]
    },
    {
      "cell_type": "code",
      "metadata": {
        "colab": {
          "base_uri": "https://localhost:8080/"
        },
        "id": "ID-6BZVv17dV",
        "outputId": "90448774-52a1-4c96-c6f5-ac0b8e46fc61"
      },
      "source": [
        "# Age analysis (Covid)\r\n",
        "\r\n",
        "ageCov = pd.read_sql_query(\"\"\"select \r\n",
        "    PA.ID Patient_allergy, \r\n",
        "    MAX(strftime('%Y', START)) - strftime('%Y', BIRTHDATE) AGE_END \r\n",
        "  from patients_cov PA \r\n",
        "  JOIN encounters_cov EA \r\n",
        "    ON PA.Id = EA.PATIENT \r\n",
        "  GROUP BY PA.ID\"\"\", conn)\r\n",
        "\r\n",
        "print('Age in covid')\r\n",
        "print('count ' + str(ageCov['AGE_END'].count()))\r\n",
        "print('max ' + str(ageCov['AGE_END'].max()))\r\n",
        "print('min ' + str(ageCov['AGE_END'].min()))\r\n",
        "print('mean ' + str(ageCov['AGE_END'].mean()))\r\n",
        "print('median ' + str(ageCov['AGE_END'].median()))\r\n",
        "print('mode')\r\n",
        "print(str(ageCov['AGE_END'].mode()))\r\n"
      ],
      "execution_count": 86,
      "outputs": [
        {
          "output_type": "stream",
          "text": [
            "Age in covid\n",
            "count 1050\n",
            "max 110\n",
            "min 1\n",
            "mean 41.142857142857146\n",
            "median 39.0\n",
            "mode\n",
            "0    22\n",
            "1    31\n",
            "dtype: int64\n"
          ],
          "name": "stdout"
        }
      ]
    },
    {
      "cell_type": "code",
      "metadata": {
        "colab": {
          "base_uri": "https://localhost:8080/"
        },
        "id": "pxn1WSLu9hwv",
        "outputId": "8be9f12b-2574-42ba-c3e1-cf915c38caf7"
      },
      "source": [
        "# Age analysis (Allergy)\r\n",
        "\r\n",
        "ageAlle = pd.read_sql_query(\"\"\"select \r\n",
        "    PA.ID Patient_allergy, \r\n",
        "    MAX(strftime('%Y', START)) - strftime('%Y', BIRTHDATE) AGE_END \r\n",
        "  from patients_alle PA \r\n",
        "  JOIN encounters_alle EA \r\n",
        "    ON PA.Id = EA.PATIENT \r\n",
        "  GROUP BY PA.ID\"\"\", conn)\r\n",
        "print('Age in allergy')\r\n",
        "print('count ' + str(ageAlle['AGE_END'].count()))\r\n",
        "print('max ' + str(ageAlle['AGE_END'].max()))\r\n",
        "print('min ' + str(ageAlle['AGE_END'].min()))\r\n",
        "print('mean ' + str(ageAlle['AGE_END'].mean()))\r\n",
        "print('median ' + str(ageAlle['AGE_END'].median()))\r\n",
        "print('mode')\r\n",
        "print(str(ageAlle['AGE_END'].mode()))"
      ],
      "execution_count": 87,
      "outputs": [
        {
          "output_type": "stream",
          "text": [
            "Age in allergy\n",
            "count 135\n",
            "max 104\n",
            "min 0\n",
            "mean 47.8962962962963\n",
            "median 49.0\n",
            "mode\n",
            "0    18\n",
            "1    61\n",
            "2    69\n",
            "dtype: int64\n"
          ],
          "name": "stdout"
        }
      ]
    },
    {
      "cell_type": "code",
      "metadata": {
        "id": "en0hTNStUy5S"
      },
      "source": [
        "conn.close()"
      ],
      "execution_count": 88,
      "outputs": []
    }
  ]
}
