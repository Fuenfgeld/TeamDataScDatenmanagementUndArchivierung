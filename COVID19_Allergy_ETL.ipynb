{
  "nbformat": 4,
  "nbformat_minor": 0,
  "metadata": {
    "colab": {
      "name": "COVID19_Allergy_ETL.ipynb",
      "provenance": [],
      "authorship_tag": "ABX9TyPOsxF6RAzDFFrC8l8w5X3o",
      "include_colab_link": true
    },
    "kernelspec": {
      "name": "python3",
      "display_name": "Python 3"
    }
  },
  "cells": [
    {
      "cell_type": "markdown",
      "metadata": {
        "id": "view-in-github",
        "colab_type": "text"
      },
      "source": [
        "<a href=\"https://colab.research.google.com/github/Fuenfgeld/TeamDataScDatenmanagementUndArchivierung/blob/add-license-1/COVID19_Allergy_ETL.ipynb\" target=\"_parent\"><img src=\"https://colab.research.google.com/assets/colab-badge.svg\" alt=\"Open In Colab\"/></a>"
      ]
    },
    {
      "cell_type": "markdown",
      "metadata": {
        "id": "Qr1mt7jSMW_G"
      },
      "source": [
        "# ETL Streke und Implementierung einer Data Lake und Data Warehouse mit der Information von COVID-19 und Allergy"
      ]
    },
    {
      "cell_type": "markdown",
      "metadata": {
        "id": "ICiNnRdOMK2T"
      },
      "source": [
        "##Import Bibliotheken"
      ]
    },
    {
      "cell_type": "code",
      "metadata": {
        "colab": {
          "base_uri": "https://localhost:8080/"
        },
        "id": "5xE-s3boPGKn",
        "outputId": "0dc5102c-bdb7-4ea8-e689-8ec816afea4c"
      },
      "source": [
        "import pandas as pd\r\n",
        "from functools import reduce\r\n",
        "import sqlite3 as sq\r\n",
        "from sqlite3 import Error\r\n",
        "import csv\r\n",
        "import numpy as np\r\n",
        "import random as rd\r\n",
        "import seaborn as sns\r\n",
        "import matplotlib.pyplot as plt\r\n",
        "from pandas_profiling import ProfileReport\r\n",
        "# will make plot outputs appear and stored within the notebook.\r\n",
        "%matplotlib inline\r\n",
        "from google.colab import drive\r\n",
        "drive.mount(\"/content/drive\", force_remount=True)\r\n"
      ],
      "execution_count": 1331,
      "outputs": [
        {
          "output_type": "stream",
          "text": [
            "Mounted at /content/drive\n"
          ],
          "name": "stdout"
        }
      ]
    },
    {
      "cell_type": "code",
      "metadata": {
        "colab": {
          "base_uri": "https://localhost:8080/"
        },
        "id": "eJQJVxcLWdQA",
        "outputId": "afce4133-8e06-4861-addb-94399d948f9f"
      },
      "source": [
        "# Studies\r\n",
        "patient_allergy = \"allergy\"\r\n",
        "patient_covid19 = \"covid19\"\r\n",
        "\r\n",
        "# csv files\r\n",
        "material_path_covid19 = \"/content/drive/MyDrive/csv_data/\"+patient_covid19+\"/\"\r\n",
        "material_path_allergy = \"/content/drive/MyDrive/csv_data/\"+patient_allergy+\"/\"\r\n",
        "\r\n",
        "# list elements in directory\r\n",
        "print(\"Allergy...\")\r\n",
        "!ls {material_path_allergy}\r\n",
        "print(\"COVID-19...\")\r\n",
        "!ls {material_path_covid19} \r\n",
        "\r\n",
        "# Data Warehouse\r\n",
        "db_file_path_cov_alle = \"/content/drive/MyDrive/db_files/cov_alle.db\"\r\n",
        "!rm {db_file_path_cov_alle}\r\n",
        "\r\n",
        "# Data Lake\r\n",
        "db_file_path_lake = \"/content/drive/MyDrive/db_files/cov_alle_lake.db\"\r\n",
        "!rm {db_file_path_lake}"
      ],
      "execution_count": 1332,
      "outputs": [
        {
          "output_type": "stream",
          "text": [
            "Allergy...\n",
            " allergy_test.db\t encounters.gsheet\t    patients.csv\n",
            "'careplans (1).gsheet'\t imaging_studies.csv\t    payers.csv\n",
            " careplans.csv\t\t imaging_studies.gsheet     payer_transitions.csv\n",
            " careplans.gsheet\t immunizations.csv\t    procedures.csv\n",
            " conditions.csv\t\t medications.csv\t    procedures.gsheet\n",
            " devices.csv\t\t'observations (1).gsheet'   providers.csv\n",
            " disease.csv\t\t observations.csv\t    source_allergy_test.db\n",
            " disease.gsheet\t\t observations.gsheet\t    supplies.csv\n",
            " encounters.csv\t\t organizations.csv\n",
            "COVID-19...\n",
            " careplans.csv\t    'imaging_studies (1).gsheet'   organizations.csv\n",
            " conditions.csv      imaging_studies.csv\t   patients.csv\n",
            " covid19_test.db     imaging_studies.gsheet\t   patients.gsheet\n",
            " devices.csv\t     immunizations.csv\t\t   payers.csv\n",
            " disease.csv\t     medications.csv\t\t   payer_transitions.csv\n",
            " disease.gsheet     'observations (1).gsheet'\t   procedures.csv\n",
            " encounters.csv      observations.csv\t\t   providers.csv\n",
            " encounters.gsheet   observations.gsheet\t   supplies.csv\n",
            "rm: cannot remove '/content/drive/MyDrive/db_files/cov_alle.db': No such file or directory\n"
          ],
          "name": "stdout"
        }
      ]
    },
    {
      "cell_type": "markdown",
      "metadata": {
        "id": "hs5DE-FgQskD"
      },
      "source": [
        "## Extraction and Transformation\n",
        "\n",
        "The method ist the same for interesting datasets\n",
        "- patients\n",
        "- observations\n",
        "- conditions\n",
        "- immunizations\n",
        "- procedures\n",
        "\n",
        "Step by step\n",
        "* Load csv files in data frames\n",
        "* Concatenate two data frames\n",
        "* Removing redundant and unnecessary variables\n",
        "* Building Pseudonym (only for patients)\n",
        "* Handling Missing Value"
      ]
    },
    {
      "cell_type": "code",
      "metadata": {
        "colab": {
          "base_uri": "https://localhost:8080/",
          "height": 235
        },
        "id": "BKDGzVny5Bkq",
        "outputId": "df5f9231-d60a-4199-c790-b67b8021af35"
      },
      "source": [
        "# Patients\n",
        "\n",
        "#covid\n",
        "patient_cov = pd.read_csv(material_path_covid19 + \"/patients.csv\")\n",
        "patient_cov[\"STUDY\"] = 'COVID-19'\n",
        "\n",
        "#allergy\n",
        "patient_all = pd.read_csv(material_path_allergy + \"/patients.csv\")\n",
        "patient_all[\"STUDY\"] = 'Allergy'\n",
        "\n",
        "#union of both dataframes\n",
        "patient = pd.concat([patient_all, patient_cov]).drop_duplicates()\n",
        "patient\n",
        "\n",
        "# delete not important columns\n",
        "patient = patient.drop(['SSN', 'PREFIX', 'ZIP', 'DRIVERS', 'PASSPORT', 'FIRST',\n",
        "              'LAST', 'BIRTHPLACE', 'ADDRESS', 'STATE', 'COUNTY', 'MAIDEN', 'SUFFIX'], axis=1)\n",
        "\n",
        "# new random patient id\n",
        "patient['PSPID'] = np.random.randint(-100000000, 9999999999, patient.shape[0])\n",
        "\n",
        "# another tranformations to clean the information\n",
        "\n",
        "patient['MARITAL'].fillna(patient['MARITAL'].mode()[0], inplace=True)\n",
        "patient[\"DEATHDATE\"] = patient.DEATHDATE.fillna(pd.to_datetime(\"today\"))\n",
        "\n",
        "patient[\"DEATHDATE\"] = pd.to_datetime(patient[\"DEATHDATE\"])\n",
        "patient[\"DEATHDATE\"] = patient.DEATHDATE.dt.year\n",
        "patient[\"BIRTHDATE\"] = pd.to_datetime(patient[\"BIRTHDATE\"])\n",
        "patient['BIRTHDATE'] = patient.BIRTHDATE.dt.year\n",
        "\n",
        "# calculate age\n",
        "patient[\"AGE\"] = patient.DEATHDATE - patient.BIRTHDATE\n",
        "\n",
        " # some patients\n",
        "pd.concat([patient.head(3), patient.tail(3)])"
      ],
      "execution_count": 1333,
      "outputs": [
        {
          "output_type": "execute_result",
          "data": {
            "text/html": [
              "<div>\n",
              "<style scoped>\n",
              "    .dataframe tbody tr th:only-of-type {\n",
              "        vertical-align: middle;\n",
              "    }\n",
              "\n",
              "    .dataframe tbody tr th {\n",
              "        vertical-align: top;\n",
              "    }\n",
              "\n",
              "    .dataframe thead th {\n",
              "        text-align: right;\n",
              "    }\n",
              "</style>\n",
              "<table border=\"1\" class=\"dataframe\">\n",
              "  <thead>\n",
              "    <tr style=\"text-align: right;\">\n",
              "      <th></th>\n",
              "      <th>Id</th>\n",
              "      <th>BIRTHDATE</th>\n",
              "      <th>DEATHDATE</th>\n",
              "      <th>MARITAL</th>\n",
              "      <th>RACE</th>\n",
              "      <th>ETHNICITY</th>\n",
              "      <th>GENDER</th>\n",
              "      <th>CITY</th>\n",
              "      <th>LAT</th>\n",
              "      <th>LON</th>\n",
              "      <th>HEALTHCARE_EXPENSES</th>\n",
              "      <th>HEALTHCARE_COVERAGE</th>\n",
              "      <th>STUDY</th>\n",
              "      <th>PSPID</th>\n",
              "      <th>AGE</th>\n",
              "    </tr>\n",
              "  </thead>\n",
              "  <tbody>\n",
              "    <tr>\n",
              "      <th>0</th>\n",
              "      <td>27b0d72c-f2fb-7e25-38c0-7d5120ebbedf</td>\n",
              "      <td>1945</td>\n",
              "      <td>2021</td>\n",
              "      <td>M</td>\n",
              "      <td>white</td>\n",
              "      <td>nonhispanic</td>\n",
              "      <td>F</td>\n",
              "      <td>Kingston</td>\n",
              "      <td>41.996106</td>\n",
              "      <td>-70.786205</td>\n",
              "      <td>63141.11</td>\n",
              "      <td>3176.78</td>\n",
              "      <td>Allergy</td>\n",
              "      <td>6885495537</td>\n",
              "      <td>76</td>\n",
              "    </tr>\n",
              "    <tr>\n",
              "      <th>1</th>\n",
              "      <td>17f0c6d9-8931-8839-66cb-3ca6fb066d3e</td>\n",
              "      <td>1959</td>\n",
              "      <td>2021</td>\n",
              "      <td>M</td>\n",
              "      <td>white</td>\n",
              "      <td>nonhispanic</td>\n",
              "      <td>M</td>\n",
              "      <td>Sutton</td>\n",
              "      <td>42.126130</td>\n",
              "      <td>-71.749848</td>\n",
              "      <td>1333971.83</td>\n",
              "      <td>4339.05</td>\n",
              "      <td>Allergy</td>\n",
              "      <td>980145317</td>\n",
              "      <td>62</td>\n",
              "    </tr>\n",
              "    <tr>\n",
              "      <th>2</th>\n",
              "      <td>aff157cc-b6d3-412b-ccbe-bfd5fac1c2d5</td>\n",
              "      <td>1991</td>\n",
              "      <td>2021</td>\n",
              "      <td>M</td>\n",
              "      <td>white</td>\n",
              "      <td>nonhispanic</td>\n",
              "      <td>M</td>\n",
              "      <td>Haverhill</td>\n",
              "      <td>42.763237</td>\n",
              "      <td>-71.117704</td>\n",
              "      <td>735728.62</td>\n",
              "      <td>4015.40</td>\n",
              "      <td>Allergy</td>\n",
              "      <td>7108758780</td>\n",
              "      <td>30</td>\n",
              "    </tr>\n",
              "    <tr>\n",
              "      <th>1047</th>\n",
              "      <td>4c523ab1-3255-911a-7eef-3bc3e48b7b05</td>\n",
              "      <td>1961</td>\n",
              "      <td>2021</td>\n",
              "      <td>M</td>\n",
              "      <td>white</td>\n",
              "      <td>nonhispanic</td>\n",
              "      <td>M</td>\n",
              "      <td>Marblehead</td>\n",
              "      <td>42.539997</td>\n",
              "      <td>-70.904396</td>\n",
              "      <td>1564112.49</td>\n",
              "      <td>4164.68</td>\n",
              "      <td>COVID-19</td>\n",
              "      <td>7904508475</td>\n",
              "      <td>60</td>\n",
              "    </tr>\n",
              "    <tr>\n",
              "      <th>1048</th>\n",
              "      <td>8d49cb05-b1c3-b8fe-dc75-e43ad861f074</td>\n",
              "      <td>1920</td>\n",
              "      <td>2020</td>\n",
              "      <td>M</td>\n",
              "      <td>native</td>\n",
              "      <td>hispanic</td>\n",
              "      <td>F</td>\n",
              "      <td>Westfield</td>\n",
              "      <td>42.173612</td>\n",
              "      <td>-72.740437</td>\n",
              "      <td>1592240.00</td>\n",
              "      <td>7091.05</td>\n",
              "      <td>COVID-19</td>\n",
              "      <td>6147951677</td>\n",
              "      <td>100</td>\n",
              "    </tr>\n",
              "    <tr>\n",
              "      <th>1049</th>\n",
              "      <td>fce5ed5c-e218-4839-a0c5-6ef906e5ae73</td>\n",
              "      <td>1920</td>\n",
              "      <td>2021</td>\n",
              "      <td>S</td>\n",
              "      <td>native</td>\n",
              "      <td>hispanic</td>\n",
              "      <td>F</td>\n",
              "      <td>Westfield</td>\n",
              "      <td>42.164697</td>\n",
              "      <td>-72.796595</td>\n",
              "      <td>1516470.00</td>\n",
              "      <td>13088.44</td>\n",
              "      <td>COVID-19</td>\n",
              "      <td>4102414555</td>\n",
              "      <td>101</td>\n",
              "    </tr>\n",
              "  </tbody>\n",
              "</table>\n",
              "</div>"
            ],
            "text/plain": [
              "                                        Id  BIRTHDATE  ...       PSPID  AGE\n",
              "0     27b0d72c-f2fb-7e25-38c0-7d5120ebbedf       1945  ...  6885495537   76\n",
              "1     17f0c6d9-8931-8839-66cb-3ca6fb066d3e       1959  ...   980145317   62\n",
              "2     aff157cc-b6d3-412b-ccbe-bfd5fac1c2d5       1991  ...  7108758780   30\n",
              "1047  4c523ab1-3255-911a-7eef-3bc3e48b7b05       1961  ...  7904508475   60\n",
              "1048  8d49cb05-b1c3-b8fe-dc75-e43ad861f074       1920  ...  6147951677  100\n",
              "1049  fce5ed5c-e218-4839-a0c5-6ef906e5ae73       1920  ...  4102414555  101\n",
              "\n",
              "[6 rows x 15 columns]"
            ]
          },
          "metadata": {
            "tags": []
          },
          "execution_count": 1333
        }
      ]
    },
    {
      "cell_type": "markdown",
      "metadata": {
        "id": "Iz5wAG0aN7Nb"
      },
      "source": [
        "##Preparing Dimensions for Data Warehouse\n",
        "\n",
        "The methode is the same for all dimensions, wich are in the data frame of patients.\n",
        "\n",
        "* Select column of interes\n",
        "* Delete duplicated\n",
        "* Create new index\n",
        "* Create new column with ID"
      ]
    },
    {
      "cell_type": "code",
      "metadata": {
        "colab": {
          "base_uri": "https://localhost:8080/",
          "height": 111
        },
        "id": "C4sBTzblIkgE",
        "outputId": "d38b5111-4d6c-4046-81cf-1e35d958ed5c"
      },
      "source": [
        "# gender\n",
        "# select gender\n",
        "gender = patient[['GENDER']]\n",
        "\n",
        "# delete duplicated\n",
        "gender = gender.drop_duplicates()\n",
        "\n",
        "# new index\n",
        "gender = gender.reset_index()\n",
        "\n",
        "# new column with IDs\n",
        "gender[\"ID\"] = gender.index + 1\n",
        "gender = gender.drop(['index'], axis=1)\n",
        "\n",
        "\n",
        "gender"
      ],
      "execution_count": 1334,
      "outputs": [
        {
          "output_type": "execute_result",
          "data": {
            "text/html": [
              "<div>\n",
              "<style scoped>\n",
              "    .dataframe tbody tr th:only-of-type {\n",
              "        vertical-align: middle;\n",
              "    }\n",
              "\n",
              "    .dataframe tbody tr th {\n",
              "        vertical-align: top;\n",
              "    }\n",
              "\n",
              "    .dataframe thead th {\n",
              "        text-align: right;\n",
              "    }\n",
              "</style>\n",
              "<table border=\"1\" class=\"dataframe\">\n",
              "  <thead>\n",
              "    <tr style=\"text-align: right;\">\n",
              "      <th></th>\n",
              "      <th>GENDER</th>\n",
              "      <th>ID</th>\n",
              "    </tr>\n",
              "  </thead>\n",
              "  <tbody>\n",
              "    <tr>\n",
              "      <th>0</th>\n",
              "      <td>F</td>\n",
              "      <td>1</td>\n",
              "    </tr>\n",
              "    <tr>\n",
              "      <th>1</th>\n",
              "      <td>M</td>\n",
              "      <td>2</td>\n",
              "    </tr>\n",
              "  </tbody>\n",
              "</table>\n",
              "</div>"
            ],
            "text/plain": [
              "  GENDER  ID\n",
              "0      F   1\n",
              "1      M   2"
            ]
          },
          "metadata": {
            "tags": []
          },
          "execution_count": 1334
        }
      ]
    },
    {
      "cell_type": "code",
      "metadata": {
        "id": "sT-r928EKx2w",
        "colab": {
          "base_uri": "https://localhost:8080/",
          "height": 173
        },
        "outputId": "51479d1d-c9ab-4e2a-f8d6-fcf72d7b1f92"
      },
      "source": [
        "# race\n",
        "race = patient[['RACE']]\n",
        "race = race.drop_duplicates()\n",
        "\n",
        "race = race.reset_index()\n",
        "race['ID'] = race.index + 1\n",
        "race = race.drop('index', axis=1)\n",
        "\n",
        "race"
      ],
      "execution_count": 1335,
      "outputs": [
        {
          "output_type": "execute_result",
          "data": {
            "text/html": [
              "<div>\n",
              "<style scoped>\n",
              "    .dataframe tbody tr th:only-of-type {\n",
              "        vertical-align: middle;\n",
              "    }\n",
              "\n",
              "    .dataframe tbody tr th {\n",
              "        vertical-align: top;\n",
              "    }\n",
              "\n",
              "    .dataframe thead th {\n",
              "        text-align: right;\n",
              "    }\n",
              "</style>\n",
              "<table border=\"1\" class=\"dataframe\">\n",
              "  <thead>\n",
              "    <tr style=\"text-align: right;\">\n",
              "      <th></th>\n",
              "      <th>RACE</th>\n",
              "      <th>ID</th>\n",
              "    </tr>\n",
              "  </thead>\n",
              "  <tbody>\n",
              "    <tr>\n",
              "      <th>0</th>\n",
              "      <td>white</td>\n",
              "      <td>1</td>\n",
              "    </tr>\n",
              "    <tr>\n",
              "      <th>1</th>\n",
              "      <td>black</td>\n",
              "      <td>2</td>\n",
              "    </tr>\n",
              "    <tr>\n",
              "      <th>2</th>\n",
              "      <td>asian</td>\n",
              "      <td>3</td>\n",
              "    </tr>\n",
              "    <tr>\n",
              "      <th>3</th>\n",
              "      <td>native</td>\n",
              "      <td>4</td>\n",
              "    </tr>\n",
              "  </tbody>\n",
              "</table>\n",
              "</div>"
            ],
            "text/plain": [
              "     RACE  ID\n",
              "0   white   1\n",
              "1   black   2\n",
              "2   asian   3\n",
              "3  native   4"
            ]
          },
          "metadata": {
            "tags": []
          },
          "execution_count": 1335
        }
      ]
    },
    {
      "cell_type": "code",
      "metadata": {
        "id": "23B65sRMK7sM",
        "colab": {
          "base_uri": "https://localhost:8080/",
          "height": 111
        },
        "outputId": "012131d4-ec65-4192-88a6-01498e1a9b37"
      },
      "source": [
        "# marital\n",
        "marital = patient[['MARITAL']]\n",
        "marital = marital.drop_duplicates()\n",
        "\n",
        "marital = marital.reset_index()\n",
        "marital['ID'] = marital.index + 1\n",
        "marital = marital.drop('index', axis=1)\n",
        "\n",
        "marital"
      ],
      "execution_count": 1336,
      "outputs": [
        {
          "output_type": "execute_result",
          "data": {
            "text/html": [
              "<div>\n",
              "<style scoped>\n",
              "    .dataframe tbody tr th:only-of-type {\n",
              "        vertical-align: middle;\n",
              "    }\n",
              "\n",
              "    .dataframe tbody tr th {\n",
              "        vertical-align: top;\n",
              "    }\n",
              "\n",
              "    .dataframe thead th {\n",
              "        text-align: right;\n",
              "    }\n",
              "</style>\n",
              "<table border=\"1\" class=\"dataframe\">\n",
              "  <thead>\n",
              "    <tr style=\"text-align: right;\">\n",
              "      <th></th>\n",
              "      <th>MARITAL</th>\n",
              "      <th>ID</th>\n",
              "    </tr>\n",
              "  </thead>\n",
              "  <tbody>\n",
              "    <tr>\n",
              "      <th>0</th>\n",
              "      <td>M</td>\n",
              "      <td>1</td>\n",
              "    </tr>\n",
              "    <tr>\n",
              "      <th>1</th>\n",
              "      <td>S</td>\n",
              "      <td>2</td>\n",
              "    </tr>\n",
              "  </tbody>\n",
              "</table>\n",
              "</div>"
            ],
            "text/plain": [
              "  MARITAL  ID\n",
              "0       M   1\n",
              "1       S   2"
            ]
          },
          "metadata": {
            "tags": []
          },
          "execution_count": 1336
        }
      ]
    },
    {
      "cell_type": "code",
      "metadata": {
        "id": "Ik0G8BAUK92b",
        "colab": {
          "base_uri": "https://localhost:8080/",
          "height": 111
        },
        "outputId": "ef8e60fe-a4fe-44a1-88ac-1ea3becde862"
      },
      "source": [
        "# ethnicity\n",
        "ethnicity = patient[['ETHNICITY']]\n",
        "ethnicity = ethnicity.drop_duplicates()\n",
        "\n",
        "ethnicity = ethnicity.reset_index()\n",
        "ethnicity['ID'] = ethnicity.index + 1\n",
        "ethnicity = ethnicity.drop('index', axis=1)\n",
        "\n",
        "ethnicity"
      ],
      "execution_count": 1337,
      "outputs": [
        {
          "output_type": "execute_result",
          "data": {
            "text/html": [
              "<div>\n",
              "<style scoped>\n",
              "    .dataframe tbody tr th:only-of-type {\n",
              "        vertical-align: middle;\n",
              "    }\n",
              "\n",
              "    .dataframe tbody tr th {\n",
              "        vertical-align: top;\n",
              "    }\n",
              "\n",
              "    .dataframe thead th {\n",
              "        text-align: right;\n",
              "    }\n",
              "</style>\n",
              "<table border=\"1\" class=\"dataframe\">\n",
              "  <thead>\n",
              "    <tr style=\"text-align: right;\">\n",
              "      <th></th>\n",
              "      <th>ETHNICITY</th>\n",
              "      <th>ID</th>\n",
              "    </tr>\n",
              "  </thead>\n",
              "  <tbody>\n",
              "    <tr>\n",
              "      <th>0</th>\n",
              "      <td>nonhispanic</td>\n",
              "      <td>1</td>\n",
              "    </tr>\n",
              "    <tr>\n",
              "      <th>1</th>\n",
              "      <td>hispanic</td>\n",
              "      <td>2</td>\n",
              "    </tr>\n",
              "  </tbody>\n",
              "</table>\n",
              "</div>"
            ],
            "text/plain": [
              "     ETHNICITY  ID\n",
              "0  nonhispanic   1\n",
              "1     hispanic   2"
            ]
          },
          "metadata": {
            "tags": []
          },
          "execution_count": 1337
        }
      ]
    },
    {
      "cell_type": "code",
      "metadata": {
        "id": "X1E51k5LLL8G",
        "colab": {
          "base_uri": "https://localhost:8080/",
          "height": 111
        },
        "outputId": "554c78c5-e18a-406a-c883-4481f1709600"
      },
      "source": [
        "# study\n",
        "study = patient[['STUDY']]\n",
        "study = study.drop_duplicates()\n",
        "\n",
        "study = study.reset_index()\n",
        "study['ID'] = study.index + 1\n",
        "study = study.drop('index', axis=1)\n",
        "\n",
        "study"
      ],
      "execution_count": 1338,
      "outputs": [
        {
          "output_type": "execute_result",
          "data": {
            "text/html": [
              "<div>\n",
              "<style scoped>\n",
              "    .dataframe tbody tr th:only-of-type {\n",
              "        vertical-align: middle;\n",
              "    }\n",
              "\n",
              "    .dataframe tbody tr th {\n",
              "        vertical-align: top;\n",
              "    }\n",
              "\n",
              "    .dataframe thead th {\n",
              "        text-align: right;\n",
              "    }\n",
              "</style>\n",
              "<table border=\"1\" class=\"dataframe\">\n",
              "  <thead>\n",
              "    <tr style=\"text-align: right;\">\n",
              "      <th></th>\n",
              "      <th>STUDY</th>\n",
              "      <th>ID</th>\n",
              "    </tr>\n",
              "  </thead>\n",
              "  <tbody>\n",
              "    <tr>\n",
              "      <th>0</th>\n",
              "      <td>Allergy</td>\n",
              "      <td>1</td>\n",
              "    </tr>\n",
              "    <tr>\n",
              "      <th>1</th>\n",
              "      <td>COVID-19</td>\n",
              "      <td>2</td>\n",
              "    </tr>\n",
              "  </tbody>\n",
              "</table>\n",
              "</div>"
            ],
            "text/plain": [
              "      STUDY  ID\n",
              "0   Allergy   1\n",
              "1  COVID-19   2"
            ]
          },
          "metadata": {
            "tags": []
          },
          "execution_count": 1338
        }
      ]
    },
    {
      "cell_type": "code",
      "metadata": {
        "id": "L7iirCoXLPBm",
        "colab": {
          "base_uri": "https://localhost:8080/",
          "height": 142
        },
        "outputId": "07903200-ffbb-4ace-a03d-66b0e34898e6"
      },
      "source": [
        "# city\n",
        "city = patient[['CITY']]\n",
        "city = city.drop_duplicates()\n",
        "\n",
        "city = city.reset_index()\n",
        "city['ID'] = city.index + 1\n",
        "city = city.drop('index', axis=1)\n",
        "\n",
        "city.head(3)"
      ],
      "execution_count": 1339,
      "outputs": [
        {
          "output_type": "execute_result",
          "data": {
            "text/html": [
              "<div>\n",
              "<style scoped>\n",
              "    .dataframe tbody tr th:only-of-type {\n",
              "        vertical-align: middle;\n",
              "    }\n",
              "\n",
              "    .dataframe tbody tr th {\n",
              "        vertical-align: top;\n",
              "    }\n",
              "\n",
              "    .dataframe thead th {\n",
              "        text-align: right;\n",
              "    }\n",
              "</style>\n",
              "<table border=\"1\" class=\"dataframe\">\n",
              "  <thead>\n",
              "    <tr style=\"text-align: right;\">\n",
              "      <th></th>\n",
              "      <th>CITY</th>\n",
              "      <th>ID</th>\n",
              "    </tr>\n",
              "  </thead>\n",
              "  <tbody>\n",
              "    <tr>\n",
              "      <th>0</th>\n",
              "      <td>Kingston</td>\n",
              "      <td>1</td>\n",
              "    </tr>\n",
              "    <tr>\n",
              "      <th>1</th>\n",
              "      <td>Sutton</td>\n",
              "      <td>2</td>\n",
              "    </tr>\n",
              "    <tr>\n",
              "      <th>2</th>\n",
              "      <td>Haverhill</td>\n",
              "      <td>3</td>\n",
              "    </tr>\n",
              "  </tbody>\n",
              "</table>\n",
              "</div>"
            ],
            "text/plain": [
              "        CITY  ID\n",
              "0   Kingston   1\n",
              "1     Sutton   2\n",
              "2  Haverhill   3"
            ]
          },
          "metadata": {
            "tags": []
          },
          "execution_count": 1339
        }
      ]
    },
    {
      "cell_type": "markdown",
      "metadata": {
        "id": "ZuvGka2iQN2N"
      },
      "source": [
        "## Information of interest"
      ]
    },
    {
      "cell_type": "code",
      "metadata": {
        "colab": {
          "base_uri": "https://localhost:8080/",
          "height": 235
        },
        "id": "NGnFu-AxZOb1",
        "outputId": "a3b03b19-72d1-49a6-b0a9-ecee97b217e8"
      },
      "source": [
        "# Observations\r\n",
        "\r\n",
        "observation_cov = pd.read_csv(material_path_covid19 + \"/observations.csv\")\r\n",
        "observation_cov[\"STUDY\"] = 2\r\n",
        "\r\n",
        "observation_all = pd.read_csv(material_path_allergy + \"/observations.csv\")\r\n",
        "observation_all[\"STUDY\"] = 1\r\n",
        "\r\n",
        "observation = pd.concat([observation_all, observation_cov]).drop_duplicates()\r\n",
        "\r\n",
        "observation = observation.drop(['ENCOUNTER', 'TYPE'], axis=1)\r\n",
        "\r\n",
        "observation[\"DATE\"] = pd.to_datetime(observation[\"DATE\"])\r\n",
        "\r\n",
        "pd.concat([observation.head(3), observation.tail(3)])"
      ],
      "execution_count": 1340,
      "outputs": [
        {
          "output_type": "execute_result",
          "data": {
            "text/html": [
              "<div>\n",
              "<style scoped>\n",
              "    .dataframe tbody tr th:only-of-type {\n",
              "        vertical-align: middle;\n",
              "    }\n",
              "\n",
              "    .dataframe tbody tr th {\n",
              "        vertical-align: top;\n",
              "    }\n",
              "\n",
              "    .dataframe thead th {\n",
              "        text-align: right;\n",
              "    }\n",
              "</style>\n",
              "<table border=\"1\" class=\"dataframe\">\n",
              "  <thead>\n",
              "    <tr style=\"text-align: right;\">\n",
              "      <th></th>\n",
              "      <th>DATE</th>\n",
              "      <th>PATIENT</th>\n",
              "      <th>CODE</th>\n",
              "      <th>DESCRIPTION</th>\n",
              "      <th>VALUE</th>\n",
              "      <th>UNITS</th>\n",
              "      <th>STUDY</th>\n",
              "    </tr>\n",
              "  </thead>\n",
              "  <tbody>\n",
              "    <tr>\n",
              "      <th>0</th>\n",
              "      <td>2011-04-11 11:40:19+00:00</td>\n",
              "      <td>3575b903-dbd0-1d55-6146-9e8aa4ed52a5</td>\n",
              "      <td>8302-2</td>\n",
              "      <td>Body Height</td>\n",
              "      <td>152.6</td>\n",
              "      <td>cm</td>\n",
              "      <td>1</td>\n",
              "    </tr>\n",
              "    <tr>\n",
              "      <th>1</th>\n",
              "      <td>2011-04-11 11:40:19+00:00</td>\n",
              "      <td>3575b903-dbd0-1d55-6146-9e8aa4ed52a5</td>\n",
              "      <td>72514-3</td>\n",
              "      <td>Pain severity - 0-10 verbal numeric rating [Sc...</td>\n",
              "      <td>2.0</td>\n",
              "      <td>{score}</td>\n",
              "      <td>1</td>\n",
              "    </tr>\n",
              "    <tr>\n",
              "      <th>2</th>\n",
              "      <td>2011-04-11 11:40:19+00:00</td>\n",
              "      <td>3575b903-dbd0-1d55-6146-9e8aa4ed52a5</td>\n",
              "      <td>29463-7</td>\n",
              "      <td>Body Weight</td>\n",
              "      <td>65.9</td>\n",
              "      <td>kg</td>\n",
              "      <td>1</td>\n",
              "    </tr>\n",
              "    <tr>\n",
              "      <th>119934</th>\n",
              "      <td>2018-02-27 06:00:19+00:00</td>\n",
              "      <td>fce5ed5c-e218-4839-a0c5-6ef906e5ae73</td>\n",
              "      <td>QOLS</td>\n",
              "      <td>QOLS</td>\n",
              "      <td>0.9</td>\n",
              "      <td>{score}</td>\n",
              "      <td>2</td>\n",
              "    </tr>\n",
              "    <tr>\n",
              "      <th>119935</th>\n",
              "      <td>2019-02-27 06:00:19+00:00</td>\n",
              "      <td>fce5ed5c-e218-4839-a0c5-6ef906e5ae73</td>\n",
              "      <td>QOLS</td>\n",
              "      <td>QOLS</td>\n",
              "      <td>0.9</td>\n",
              "      <td>{score}</td>\n",
              "      <td>2</td>\n",
              "    </tr>\n",
              "    <tr>\n",
              "      <th>119936</th>\n",
              "      <td>2020-02-27 06:00:19+00:00</td>\n",
              "      <td>fce5ed5c-e218-4839-a0c5-6ef906e5ae73</td>\n",
              "      <td>QOLS</td>\n",
              "      <td>QOLS</td>\n",
              "      <td>1.0</td>\n",
              "      <td>{score}</td>\n",
              "      <td>2</td>\n",
              "    </tr>\n",
              "  </tbody>\n",
              "</table>\n",
              "</div>"
            ],
            "text/plain": [
              "                            DATE  ... STUDY\n",
              "0      2011-04-11 11:40:19+00:00  ...     1\n",
              "1      2011-04-11 11:40:19+00:00  ...     1\n",
              "2      2011-04-11 11:40:19+00:00  ...     1\n",
              "119934 2018-02-27 06:00:19+00:00  ...     2\n",
              "119935 2019-02-27 06:00:19+00:00  ...     2\n",
              "119936 2020-02-27 06:00:19+00:00  ...     2\n",
              "\n",
              "[6 rows x 7 columns]"
            ]
          },
          "metadata": {
            "tags": []
          },
          "execution_count": 1340
        }
      ]
    },
    {
      "cell_type": "code",
      "metadata": {
        "id": "hDPcbxUzLOyu",
        "colab": {
          "base_uri": "https://localhost:8080/",
          "height": 235
        },
        "outputId": "18324b5a-368e-4c4c-def9-efd4f39d7f22"
      },
      "source": [
        "# Conditions\r\n",
        "\r\n",
        "condition_cov = pd.read_csv(material_path_covid19 + \"/conditions.csv\")\r\n",
        "condition_cov[\"STUDY\"] = 2\r\n",
        "\r\n",
        "condition_all = pd.read_csv(material_path_allergy + \"/conditions.csv\")\r\n",
        "condition_all[\"STUDY\"] = 1\r\n",
        "\r\n",
        "condition = pd.concat([condition_all, condition_cov]).drop_duplicates()\r\n",
        "\r\n",
        "condition = condition.drop(['ENCOUNTER'], axis=1)\r\n",
        "\r\n",
        "condition[\"START\"] = pd.to_datetime(condition[\"START\"])\r\n",
        "condition[\"STOP\"] = condition.STOP.fillna(pd.to_datetime(\"today\"))\r\n",
        "\r\n",
        "condition[\"STOP\"] = pd.to_datetime(condition[\"STOP\"])\r\n",
        "\r\n",
        "pd.concat([condition.head(3), condition.tail(3)])"
      ],
      "execution_count": 1341,
      "outputs": [
        {
          "output_type": "execute_result",
          "data": {
            "text/html": [
              "<div>\n",
              "<style scoped>\n",
              "    .dataframe tbody tr th:only-of-type {\n",
              "        vertical-align: middle;\n",
              "    }\n",
              "\n",
              "    .dataframe tbody tr th {\n",
              "        vertical-align: top;\n",
              "    }\n",
              "\n",
              "    .dataframe thead th {\n",
              "        text-align: right;\n",
              "    }\n",
              "</style>\n",
              "<table border=\"1\" class=\"dataframe\">\n",
              "  <thead>\n",
              "    <tr style=\"text-align: right;\">\n",
              "      <th></th>\n",
              "      <th>START</th>\n",
              "      <th>STOP</th>\n",
              "      <th>PATIENT</th>\n",
              "      <th>CODE</th>\n",
              "      <th>DESCRIPTION</th>\n",
              "      <th>STUDY</th>\n",
              "    </tr>\n",
              "  </thead>\n",
              "  <tbody>\n",
              "    <tr>\n",
              "      <th>0</th>\n",
              "      <td>1946-01-11</td>\n",
              "      <td>2021-01-28 15:00:47.016281</td>\n",
              "      <td>3575b903-dbd0-1d55-6146-9e8aa4ed52a5</td>\n",
              "      <td>232353008</td>\n",
              "      <td>Perennial allergic rhinitis with seasonal vari...</td>\n",
              "      <td>1</td>\n",
              "    </tr>\n",
              "    <tr>\n",
              "      <th>1</th>\n",
              "      <td>1955-01-17</td>\n",
              "      <td>2021-01-28 15:00:47.016281</td>\n",
              "      <td>3575b903-dbd0-1d55-6146-9e8aa4ed52a5</td>\n",
              "      <td>162864005</td>\n",
              "      <td>Body mass index 30+ - obesity (finding)</td>\n",
              "      <td>1</td>\n",
              "    </tr>\n",
              "    <tr>\n",
              "      <th>2</th>\n",
              "      <td>1999-06-06</td>\n",
              "      <td>2021-01-28 15:00:47.016281</td>\n",
              "      <td>17f0c6d9-8931-8839-66cb-3ca6fb066d3e</td>\n",
              "      <td>162864005</td>\n",
              "      <td>Body mass index 30+ - obesity (finding)</td>\n",
              "      <td>1</td>\n",
              "    </tr>\n",
              "    <tr>\n",
              "      <th>6372</th>\n",
              "      <td>2020-03-25</td>\n",
              "      <td>2021-01-28 15:00:47.016281</td>\n",
              "      <td>8d49cb05-b1c3-b8fe-dc75-e43ad861f074</td>\n",
              "      <td>67782005</td>\n",
              "      <td>Acute respiratory distress syndrome (disorder)</td>\n",
              "      <td>2</td>\n",
              "    </tr>\n",
              "    <tr>\n",
              "      <th>6373</th>\n",
              "      <td>1991-09-20</td>\n",
              "      <td>2021-01-28 15:00:47.016281</td>\n",
              "      <td>fce5ed5c-e218-4839-a0c5-6ef906e5ae73</td>\n",
              "      <td>230690007</td>\n",
              "      <td>Stroke</td>\n",
              "      <td>2</td>\n",
              "    </tr>\n",
              "    <tr>\n",
              "      <th>6374</th>\n",
              "      <td>2016-11-18</td>\n",
              "      <td>2021-01-28 15:00:47.016281</td>\n",
              "      <td>fce5ed5c-e218-4839-a0c5-6ef906e5ae73</td>\n",
              "      <td>49436004</td>\n",
              "      <td>Atrial Fibrillation</td>\n",
              "      <td>2</td>\n",
              "    </tr>\n",
              "  </tbody>\n",
              "</table>\n",
              "</div>"
            ],
            "text/plain": [
              "          START  ... STUDY\n",
              "0    1946-01-11  ...     1\n",
              "1    1955-01-17  ...     1\n",
              "2    1999-06-06  ...     1\n",
              "6372 2020-03-25  ...     2\n",
              "6373 1991-09-20  ...     2\n",
              "6374 2016-11-18  ...     2\n",
              "\n",
              "[6 rows x 6 columns]"
            ]
          },
          "metadata": {
            "tags": []
          },
          "execution_count": 1341
        }
      ]
    },
    {
      "cell_type": "code",
      "metadata": {
        "colab": {
          "base_uri": "https://localhost:8080/",
          "height": 235
        },
        "id": "uxbzXIr_c0fg",
        "outputId": "3354f388-4aa4-41d6-c530-45fbb70776fa"
      },
      "source": [
        "# Procedure\r\n",
        "\r\n",
        "procedure_cov = pd.read_csv(material_path_covid19 + \"/procedures.csv\")\r\n",
        "procedure_cov[\"STUDY\"] = 2\r\n",
        "\r\n",
        "procedure_all = pd.read_csv(material_path_allergy + \"/procedures.csv\")\r\n",
        "procedure_all[\"STUDY\"] = 1\r\n",
        "\r\n",
        "procedure = pd.concat([procedure_all, procedure_cov])\r\n",
        "\r\n",
        "procedure = procedure.drop(['ENCOUNTER', 'REASONCODE', 'REASONDESCRIPTION'], axis=1)\r\n",
        "\r\n",
        "procedure[\"DATE\"] = pd.to_datetime(procedure[\"DATE\"])\r\n",
        "\r\n",
        "pd.concat([procedure.head(3), procedure.tail(3)])"
      ],
      "execution_count": 1342,
      "outputs": [
        {
          "output_type": "execute_result",
          "data": {
            "text/html": [
              "<div>\n",
              "<style scoped>\n",
              "    .dataframe tbody tr th:only-of-type {\n",
              "        vertical-align: middle;\n",
              "    }\n",
              "\n",
              "    .dataframe tbody tr th {\n",
              "        vertical-align: top;\n",
              "    }\n",
              "\n",
              "    .dataframe thead th {\n",
              "        text-align: right;\n",
              "    }\n",
              "</style>\n",
              "<table border=\"1\" class=\"dataframe\">\n",
              "  <thead>\n",
              "    <tr style=\"text-align: right;\">\n",
              "      <th></th>\n",
              "      <th>DATE</th>\n",
              "      <th>PATIENT</th>\n",
              "      <th>CODE</th>\n",
              "      <th>DESCRIPTION</th>\n",
              "      <th>BASE_COST</th>\n",
              "      <th>STUDY</th>\n",
              "    </tr>\n",
              "  </thead>\n",
              "  <tbody>\n",
              "    <tr>\n",
              "      <th>0</th>\n",
              "      <td>2012-12-12 14:56:19+00:00</td>\n",
              "      <td>3575b903-dbd0-1d55-6146-9e8aa4ed52a5</td>\n",
              "      <td>73761001</td>\n",
              "      <td>Colonoscopy</td>\n",
              "      <td>9209.61</td>\n",
              "      <td>1</td>\n",
              "    </tr>\n",
              "    <tr>\n",
              "      <th>1</th>\n",
              "      <td>2015-05-04 11:40:19+00:00</td>\n",
              "      <td>3575b903-dbd0-1d55-6146-9e8aa4ed52a5</td>\n",
              "      <td>430193006</td>\n",
              "      <td>Medication Reconciliation (procedure)</td>\n",
              "      <td>414.03</td>\n",
              "      <td>1</td>\n",
              "    </tr>\n",
              "    <tr>\n",
              "      <th>2</th>\n",
              "      <td>2017-12-11 15:25:19+00:00</td>\n",
              "      <td>3575b903-dbd0-1d55-6146-9e8aa4ed52a5</td>\n",
              "      <td>73761001</td>\n",
              "      <td>Colonoscopy</td>\n",
              "      <td>13437.13</td>\n",
              "      <td>1</td>\n",
              "    </tr>\n",
              "    <tr>\n",
              "      <th>4454</th>\n",
              "      <td>2017-11-24 06:00:19+00:00</td>\n",
              "      <td>fce5ed5c-e218-4839-a0c5-6ef906e5ae73</td>\n",
              "      <td>18286008</td>\n",
              "      <td>Catheter ablation of tissue of heart</td>\n",
              "      <td>18651.66</td>\n",
              "      <td>2</td>\n",
              "    </tr>\n",
              "    <tr>\n",
              "      <th>4455</th>\n",
              "      <td>2018-11-30 06:00:19+00:00</td>\n",
              "      <td>fce5ed5c-e218-4839-a0c5-6ef906e5ae73</td>\n",
              "      <td>180325003</td>\n",
              "      <td>Electrical cardioversion</td>\n",
              "      <td>35410.97</td>\n",
              "      <td>2</td>\n",
              "    </tr>\n",
              "    <tr>\n",
              "      <th>4456</th>\n",
              "      <td>2019-12-06 06:00:19+00:00</td>\n",
              "      <td>fce5ed5c-e218-4839-a0c5-6ef906e5ae73</td>\n",
              "      <td>180325003</td>\n",
              "      <td>Electrical cardioversion</td>\n",
              "      <td>29709.10</td>\n",
              "      <td>2</td>\n",
              "    </tr>\n",
              "  </tbody>\n",
              "</table>\n",
              "</div>"
            ],
            "text/plain": [
              "                          DATE  ... STUDY\n",
              "0    2012-12-12 14:56:19+00:00  ...     1\n",
              "1    2015-05-04 11:40:19+00:00  ...     1\n",
              "2    2017-12-11 15:25:19+00:00  ...     1\n",
              "4454 2017-11-24 06:00:19+00:00  ...     2\n",
              "4455 2018-11-30 06:00:19+00:00  ...     2\n",
              "4456 2019-12-06 06:00:19+00:00  ...     2\n",
              "\n",
              "[6 rows x 6 columns]"
            ]
          },
          "metadata": {
            "tags": []
          },
          "execution_count": 1342
        }
      ]
    },
    {
      "cell_type": "markdown",
      "metadata": {
        "id": "0OdLCGnlU7us"
      },
      "source": [
        "## Tables for Data lake and Data Warehouse"
      ]
    },
    {
      "cell_type": "code",
      "metadata": {
        "id": "FXY1v3STnV83"
      },
      "source": [
        "sql_table_dwh = {}\r\n",
        "sql_table_lake = {}"
      ],
      "execution_count": 1343,
      "outputs": []
    },
    {
      "cell_type": "markdown",
      "metadata": {
        "id": "N1C3aBlgoFWC"
      },
      "source": [
        "# Data Warehouse"
      ]
    },
    {
      "cell_type": "markdown",
      "metadata": {
        "id": "Zx2Q-fBHtHRc"
      },
      "source": [
        "## Raw Data"
      ]
    },
    {
      "cell_type": "code",
      "metadata": {
        "id": "UNwJ0Ce8YKmR"
      },
      "source": [
        "# patient Id\tBIRTHDATE\tDEATHDATE\tMARITAL\tRACE\tETHNICITY\tGENDER\tCITY\tLAT\tLON\tHEALTHCARE_EXPENSES\tHEALTHCARE_COVERAGE\tSTUDY\tPSPID\tAGE\r\n",
        "sql_table_lake['patient'] = \"\"\"\r\n",
        "  create table if not exists patient(\r\n",
        "    ID VARCHAR,\r\n",
        "    BIRTHYEAR INTEGER,\r\n",
        "    DEATHYEAR INTEGER,\r\n",
        "    MARITAL VARCHAR,\r\n",
        "    RACE VARCHAR,\r\n",
        "    ETHNICITY VARCHAR,\r\n",
        "    GENDER VARCHAR,\r\n",
        "    CITY VARCHAR,\r\n",
        "    LAT DOUBLE,\r\n",
        "    LON DOUBLE,\r\n",
        "    HEALTHCARE_EXPENSES DOUBLE,\r\n",
        "    HEALTHCARE_COVERAGE DOUBLE,\r\n",
        "    STUDY VARCHAR,\r\n",
        "    PSPID VARCHAR,\r\n",
        "    AGE INTEGER\r\n",
        "  );\r\n",
        "\"\"\"\r\n"
      ],
      "execution_count": 1344,
      "outputs": []
    },
    {
      "cell_type": "code",
      "metadata": {
        "id": "D5_DG8UWpLfh"
      },
      "source": [
        "# observations DATE\tPATIENT\tCODE\tDESCRIPTION\tVALUE\tUNITS\tSTUDY\r\n",
        "sql_table_lake['observation'] = \"\"\"\r\n",
        "  create table if not exists observation(\r\n",
        "    DATE DATE,\r\n",
        "    PATIENT VARCHAR,\r\n",
        "    CODE VARCHAR,\r\n",
        "    DESCRIPTION VARCHAR,\r\n",
        "    VALUE VARCHAR,\r\n",
        "    UNITS VARCHAR,\r\n",
        "    STUDY VARCHAR\r\n",
        "  );\r\n",
        "\"\"\""
      ],
      "execution_count": 1345,
      "outputs": []
    },
    {
      "cell_type": "code",
      "metadata": {
        "id": "S39-Pe0vp1WS"
      },
      "source": [
        "# Conditions START\tSTOP\tPATIENT\tCODE\tDESCRIPTION\tSTUDY\r\n",
        "sql_table_lake['condition'] = \"\"\"\r\n",
        "  create table if not exists condition(\r\n",
        "    START DATE,\r\n",
        "    STOP DATE,\r\n",
        "    PATIENT VARCHAR,\r\n",
        "    CODE VARCHAR,\r\n",
        "    DESCRIPTION VARCHAR,\r\n",
        "    STUDY VARCHAR\r\n",
        "  );\r\n",
        "\"\"\""
      ],
      "execution_count": 1346,
      "outputs": []
    },
    {
      "cell_type": "code",
      "metadata": {
        "id": "uCHCUossqN6q"
      },
      "source": [
        "# Procedures DATE\tPATIENT\tCODE\tDESCRIPTION\tBASE_COST\tSTUDY\r\n",
        "sql_table_lake['procedures'] = \"\"\"\r\n",
        "  create table if not exists procedure(\r\n",
        "    DATE DATE,\r\n",
        "    PATIENT VARCHAR,\r\n",
        "    CODE VARCHAR,\r\n",
        "    DESCRIPTION VARCHAR,\r\n",
        "    BASE_COST VARCHAR,\r\n",
        "    STUDY VARCHAR\r\n",
        "  );\r\n",
        "\"\"\""
      ],
      "execution_count": 1347,
      "outputs": []
    },
    {
      "cell_type": "markdown",
      "metadata": {
        "id": "OVWVDGYatQee"
      },
      "source": [
        "## Dimension Tables"
      ]
    },
    {
      "cell_type": "code",
      "metadata": {
        "id": "UKWCXGj-TIKa"
      },
      "source": [
        "# patient\r\n",
        "sql_table_dwh['dimPatient'] = \"\"\"\r\n",
        "  create table if not exists dimPatient(\r\n",
        "    ID VARCHAR,\r\n",
        "    BIRTHYEAR INTEGER,\r\n",
        "    DEATHYEAR INTEGER,\r\n",
        "    LAT DOUBLE,\r\n",
        "    LON DOUBLE,\r\n",
        "    HEALTHCARE_EXPENSES DOUBLE,\r\n",
        "    HEALTHCARE_COVERAGE DOUBLE,\r\n",
        "    PSPID VARCHAR PRIMARY KEY,\r\n",
        "    AGE INTEGER\r\n",
        "  );\r\n",
        "\"\"\""
      ],
      "execution_count": 1348,
      "outputs": []
    },
    {
      "cell_type": "code",
      "metadata": {
        "id": "zDChEaONqvtD"
      },
      "source": [
        "# gender\r\n",
        "sql_table_dwh['dimGender'] = \"\"\"\r\n",
        "  create table if not exists dimGender(\r\n",
        "    ID INTEGER PRIMARY KEY,\r\n",
        "    GENDER VARCHAR UNIQUE NOT NULL\r\n",
        "  );\r\n",
        "\"\"\""
      ],
      "execution_count": 1349,
      "outputs": []
    },
    {
      "cell_type": "code",
      "metadata": {
        "id": "y579JQ2-rHOL"
      },
      "source": [
        "# Study\r\n",
        "sql_table_dwh['dimStudy'] = \"\"\"\r\n",
        "  create table if not exists dimStudy(\r\n",
        "    ID INTEGER PRIMARY KEY,\r\n",
        "    STUDY VARCHAR UNIQUE NOT NULL\r\n",
        "  );\r\n",
        "\"\"\""
      ],
      "execution_count": 1350,
      "outputs": []
    },
    {
      "cell_type": "code",
      "metadata": {
        "id": "i9CSg4RarO5K"
      },
      "source": [
        "# City\r\n",
        "sql_table_dwh['dimCity'] = \"\"\"\r\n",
        "  create table if not exists dimCity(\r\n",
        "    ID INTEGER PRIMARY KEY,\r\n",
        "    CITY VARCHAR UNIQUE NOT NULL\r\n",
        "  );\r\n",
        "\"\"\""
      ],
      "execution_count": 1351,
      "outputs": []
    },
    {
      "cell_type": "code",
      "metadata": {
        "id": "haQ50H4frbUl"
      },
      "source": [
        "# Ethnicity\r\n",
        "sql_table_dwh['dimEthnicity'] = \"\"\"\r\n",
        "  create table if not exists dimEthnicity(\r\n",
        "    ID INTEGER PRIMARY KEY,\r\n",
        "    ETHNICITY VARCHAR UNIQUE NOT NULL\r\n",
        "  );\r\n",
        "\"\"\""
      ],
      "execution_count": 1352,
      "outputs": []
    },
    {
      "cell_type": "code",
      "metadata": {
        "id": "aaqioewPru1K"
      },
      "source": [
        "# Marital\r\n",
        "sql_table_dwh['dimMarital'] = \"\"\"\r\n",
        "  create table if not exists dimMarital(\r\n",
        "    ID INTEGER PRIMARY KEY,\r\n",
        "    MARITAL VARCHAR UNIQUE NOT NULL\r\n",
        "  );\r\n",
        "\"\"\""
      ],
      "execution_count": 1353,
      "outputs": []
    },
    {
      "cell_type": "code",
      "metadata": {
        "id": "45NpkLMWr-4Z"
      },
      "source": [
        "# Race\r\n",
        "sql_table_dwh['dimRace'] = \"\"\"\r\n",
        "  create table if not exists dimRace(\r\n",
        "    ID INTEGER PRIMARY KEY,\r\n",
        "    RACE VARCHAR UNIQUE NOT NULL\r\n",
        "  );\r\n",
        "\"\"\""
      ],
      "execution_count": 1354,
      "outputs": []
    },
    {
      "cell_type": "code",
      "metadata": {
        "id": "z2tclLkL4sWT"
      },
      "source": [
        "# SNOMED\r\n",
        "sql_table_dwh['dimSnomed'] = \"\"\"\r\n",
        "  create table if not exists dimSnomed(\r\n",
        "    CODE VARCHAR PRIMARY KEY,\r\n",
        "    DESCRIPTION VARCHAR UNIQUE NOT NULL\r\n",
        "  );\r\n",
        "\"\"\""
      ],
      "execution_count": 1355,
      "outputs": []
    },
    {
      "cell_type": "code",
      "metadata": {
        "id": "-NYXVpZo4q0M"
      },
      "source": [
        "# LOINC\r\n",
        "sql_table_dwh['dimLoinc'] = \"\"\"\r\n",
        "  create table if not exists dimLoinc(\r\n",
        "    CODE VARCHAR PRIMARY KEY,\r\n",
        "    DESCRIPTION VARCHAR UNIQUE NOT NULL\r\n",
        "  );\r\n",
        "\"\"\""
      ],
      "execution_count": 1356,
      "outputs": []
    },
    {
      "cell_type": "code",
      "metadata": {
        "colab": {
          "base_uri": "https://localhost:8080/"
        },
        "id": "vKWSvg40spf3",
        "outputId": "602311e2-6407-4e77-c4a1-5b06a03cfaad"
      },
      "source": [
        "# show tables\r\n",
        "print(sql_table_lake.keys())\r\n",
        "print(sql_table_dwh.keys())"
      ],
      "execution_count": 1357,
      "outputs": [
        {
          "output_type": "stream",
          "text": [
            "dict_keys(['patient', 'observation', 'condition', 'procedures'])\n",
            "dict_keys(['dimPatient', 'dimGender', 'dimStudy', 'dimCity', 'dimEthnicity', 'dimMarital', 'dimRace', 'dimSnomed', 'dimLoinc'])\n"
          ],
          "name": "stdout"
        }
      ]
    },
    {
      "cell_type": "markdown",
      "metadata": {
        "id": "ZeNWcAdgtfE-"
      },
      "source": [
        "## Function to connect to the Database"
      ]
    },
    {
      "cell_type": "code",
      "metadata": {
        "id": "eT1jqbCLspP4"
      },
      "source": [
        "def connect_to_db(db_file):\r\n",
        "    sqlite3_conn = None\r\n",
        "    try:\r\n",
        "        sqlite3_conn = sq.connect(db_file)\r\n",
        "        return sqlite3_conn\r\n",
        "\r\n",
        "    except Error as err:\r\n",
        "        print(err)\r\n",
        "\r\n",
        "        if sqlite3_conn is not None:\r\n",
        "            sqlite3_conn.close()"
      ],
      "execution_count": 1358,
      "outputs": []
    },
    {
      "cell_type": "markdown",
      "metadata": {
        "id": "TNP_9Stzt5fV"
      },
      "source": [
        "## Create the tables in the data lake"
      ]
    },
    {
      "cell_type": "code",
      "metadata": {
        "colab": {
          "base_uri": "https://localhost:8080/"
        },
        "id": "mjnPUhKLtCe3",
        "outputId": "6b9aee28-829e-4a22-849a-592232ee3578"
      },
      "source": [
        "conn_lake = connect_to_db(db_file_path_lake)\r\n",
        "if conn_lake is not None:\r\n",
        "        cursor_lake = conn_lake.cursor()\r\n",
        "        for name in sql_table_lake.keys():\r\n",
        "          table = name + \".csv\"\r\n",
        "          print(name)\r\n",
        "          \r\n",
        "          cursor_lake.execute(sql_table_lake[name])\r\n",
        "\r\n",
        "        for name in sql_table_dwh.keys():\r\n",
        "          table = name + \".csv\"\r\n",
        "          print(name)\r\n",
        "else:\r\n",
        "        print('Connection to database failed')"
      ],
      "execution_count": 1359,
      "outputs": [
        {
          "output_type": "stream",
          "text": [
            "patient\n",
            "observation\n",
            "condition\n",
            "procedures\n",
            "dimPatient\n",
            "dimGender\n",
            "dimStudy\n",
            "dimCity\n",
            "dimEthnicity\n",
            "dimMarital\n",
            "dimRace\n",
            "dimSnomed\n",
            "dimLoinc\n"
          ],
          "name": "stdout"
        }
      ]
    },
    {
      "cell_type": "markdown",
      "metadata": {
        "id": "TOmMDCoqwCy6"
      },
      "source": [
        "## Insert dataframes into tables in data lake"
      ]
    },
    {
      "cell_type": "code",
      "metadata": {
        "id": "BClo9i8EwBoJ"
      },
      "source": [
        "patient.to_sql(name = 'patient', con=conn_lake, if_exists='replace', index=False)\r\n",
        "observation.to_sql(name = 'observation', con=conn_lake, if_exists='replace', index=False)\r\n",
        "condition.to_sql(name = 'condition', con=conn_lake, if_exists='replace', index=False)\r\n",
        "procedure.to_sql(name = 'procedure', con=conn_lake, if_exists='replace', index=False)\r\n",
        "# immunization.to_sql(name = 'immunization', con=conn_lake, if_exists='replace', index=False)\r\n",
        "\r\n",
        "gender.to_sql(name = 'dimGender', con=conn_lake, if_exists='replace', index=False)\r\n",
        "study.to_sql(name = 'dimStudy', con=conn_lake, if_exists='replace', index=False)\r\n",
        "city.to_sql(name = 'dimCity', con=conn_lake, if_exists='replace', index=False)\r\n",
        "ethnicity.to_sql(name = 'dimEthnicity', con=conn_lake, if_exists='replace', index=False)\r\n",
        "marital.to_sql(name = 'dimMarital', con=conn_lake, if_exists='replace', index=False)\r\n",
        "race.to_sql(name = 'dimRace', con=conn_lake, if_exists='replace', index=False)"
      ],
      "execution_count": 1360,
      "outputs": []
    },
    {
      "cell_type": "markdown",
      "metadata": {
        "id": "HXSYKfrRyPzK"
      },
      "source": [
        "### Create the tables in the data warehouse"
      ]
    },
    {
      "cell_type": "code",
      "metadata": {
        "id": "Bn3iipcf_kn9",
        "colab": {
          "base_uri": "https://localhost:8080/"
        },
        "outputId": "fac47d5a-5528-43ee-eadd-036e87530fbd"
      },
      "source": [
        "conn_dwh = connect_to_db(db_file_path_cov_alle)\r\n",
        "if conn_dwh is not None:\r\n",
        "        cursor_dwh = conn_dwh.cursor()\r\n",
        "        for name in sql_table_dwh.keys():\r\n",
        "          table = name\r\n",
        "          print(name)\r\n",
        "          \r\n",
        "          cursor_dwh.execute(sql_table_dwh[name])\r\n",
        "else:\r\n",
        "        print('Connection to database failed')"
      ],
      "execution_count": 1361,
      "outputs": [
        {
          "output_type": "stream",
          "text": [
            "dimPatient\n",
            "dimGender\n",
            "dimStudy\n",
            "dimCity\n",
            "dimEthnicity\n",
            "dimMarital\n",
            "dimRace\n",
            "dimSnomed\n",
            "dimLoinc\n"
          ],
          "name": "stdout"
        }
      ]
    },
    {
      "cell_type": "markdown",
      "metadata": {
        "id": "GfZ7havMWvU6"
      },
      "source": [
        "## Insert dataframes into tables in data warehouse"
      ]
    },
    {
      "cell_type": "code",
      "metadata": {
        "id": "s9uctAOsxXoI"
      },
      "source": [
        "# dimPatien dimGender', 'dimStudy', 'dimCity', 'dimEthnicity', 'dimMarital', 'dimRace\r\n",
        "patient_to_dim = patient.drop(['MARITAL', 'RACE', 'GENDER', 'CITY', 'STUDY', 'ETHNICITY'], axis=1)\r\n",
        "patient_to_dim.to_sql(name = 'dimPatient', con=conn_dwh, if_exists='replace', index=False)\r\n",
        "gender.to_sql(name = 'dimGender', con=conn_dwh, if_exists='replace', index=False)\r\n",
        "study.to_sql(name = 'dimStudy', con=conn_dwh, if_exists='replace', index=False)\r\n",
        "city.to_sql(name = 'dimCity', con=conn_dwh, if_exists='replace', index=False)\r\n",
        "ethnicity.to_sql(name = 'dimEthnicity', con=conn_dwh, if_exists='replace', index=False)\r\n",
        "marital.to_sql(name = 'dimMarital', con=conn_dwh, if_exists='replace', index=False)\r\n",
        "race.to_sql(name = 'dimRace', con=conn_dwh, if_exists='replace', index=False)\r\n"
      ],
      "execution_count": 1362,
      "outputs": []
    },
    {
      "cell_type": "markdown",
      "metadata": {
        "id": "Z1b7diy-W-Q2"
      },
      "source": [
        "## Extraction of SNOMED-CT and LOINC from data lake for dimensions in data warehouse"
      ]
    },
    {
      "cell_type": "code",
      "metadata": {
        "colab": {
          "base_uri": "https://localhost:8080/",
          "height": 142
        },
        "id": "FrQlmussJDbU",
        "outputId": "fd2de1bb-e5b9-46a8-bd96-1e75e1b7a3f6"
      },
      "source": [
        "# SNOMED-CT\r\n",
        "snomed = pd.read_sql_query(\"\"\"\r\n",
        "select distinct code, description from(\r\n",
        "  select distinct code, description FROM \"procedure\" p  \r\n",
        "    union\r\n",
        "  select distinct code, description FROM \"condition\" c\r\n",
        ") as snomed \r\n",
        "group by code\r\n",
        "having max(LENGTH(description))\r\n",
        "order by code    \r\n",
        ";\"\"\", conn_lake\r\n",
        "  )\r\n",
        "\r\n",
        "snomed.to_sql(name = 'dimSnomed', con=conn_dwh, if_exists='replace', index=False)\r\n",
        "snomed.to_sql(name = 'dimSnomed', con=conn_lake, if_exists='replace', index=False)\r\n",
        "snomed.head(3)"
      ],
      "execution_count": 1363,
      "outputs": [
        {
          "output_type": "execute_result",
          "data": {
            "text/html": [
              "<div>\n",
              "<style scoped>\n",
              "    .dataframe tbody tr th:only-of-type {\n",
              "        vertical-align: middle;\n",
              "    }\n",
              "\n",
              "    .dataframe tbody tr th {\n",
              "        vertical-align: top;\n",
              "    }\n",
              "\n",
              "    .dataframe thead th {\n",
              "        text-align: right;\n",
              "    }\n",
              "</style>\n",
              "<table border=\"1\" class=\"dataframe\">\n",
              "  <thead>\n",
              "    <tr style=\"text-align: right;\">\n",
              "      <th></th>\n",
              "      <th>code</th>\n",
              "      <th>description</th>\n",
              "    </tr>\n",
              "  </thead>\n",
              "  <tbody>\n",
              "    <tr>\n",
              "      <th>0</th>\n",
              "      <td>1225002</td>\n",
              "      <td>Upper arm X-ray</td>\n",
              "    </tr>\n",
              "    <tr>\n",
              "      <th>1</th>\n",
              "      <td>5602001</td>\n",
              "      <td>Opioid abuse (disorder)</td>\n",
              "    </tr>\n",
              "    <tr>\n",
              "      <th>2</th>\n",
              "      <td>5880005</td>\n",
              "      <td>Physical examination following birth</td>\n",
              "    </tr>\n",
              "  </tbody>\n",
              "</table>\n",
              "</div>"
            ],
            "text/plain": [
              "      code                           description\n",
              "0  1225002                       Upper arm X-ray\n",
              "1  5602001               Opioid abuse (disorder)\n",
              "2  5880005  Physical examination following birth"
            ]
          },
          "metadata": {
            "tags": []
          },
          "execution_count": 1363
        }
      ]
    },
    {
      "cell_type": "code",
      "metadata": {
        "colab": {
          "base_uri": "https://localhost:8080/",
          "height": 142
        },
        "id": "tKtlCc3wKHR6",
        "outputId": "f470877d-aa81-4b58-95b7-bfa4297645ee"
      },
      "source": [
        "loinc = pd.read_sql_query(\"\"\"\r\n",
        "select distinct code, description from(\r\n",
        "  select distinct code, description FROM observation \r\n",
        ") as loinc \r\n",
        "group by code\r\n",
        "having max(LENGTH(description))\r\n",
        "order by code\r\n",
        ";\"\"\", conn_lake\r\n",
        "  )\r\n",
        "\r\n",
        "loinc.to_sql(name = 'dimLoinc', con=conn_dwh, if_exists='replace', index=False)\r\n",
        "loinc.to_sql(name = 'dimLoinc', con=conn_lake, if_exists='replace', index=False)\r\n",
        "\r\n",
        "loinc.head(3)"
      ],
      "execution_count": 1364,
      "outputs": [
        {
          "output_type": "execute_result",
          "data": {
            "text/html": [
              "<div>\n",
              "<style scoped>\n",
              "    .dataframe tbody tr th:only-of-type {\n",
              "        vertical-align: middle;\n",
              "    }\n",
              "\n",
              "    .dataframe tbody tr th {\n",
              "        vertical-align: top;\n",
              "    }\n",
              "\n",
              "    .dataframe thead th {\n",
              "        text-align: right;\n",
              "    }\n",
              "</style>\n",
              "<table border=\"1\" class=\"dataframe\">\n",
              "  <thead>\n",
              "    <tr style=\"text-align: right;\">\n",
              "      <th></th>\n",
              "      <th>code</th>\n",
              "      <th>description</th>\n",
              "    </tr>\n",
              "  </thead>\n",
              "  <tbody>\n",
              "    <tr>\n",
              "      <th>0</th>\n",
              "      <td>10230-1</td>\n",
              "      <td>Left ventricular Ejection fraction</td>\n",
              "    </tr>\n",
              "    <tr>\n",
              "      <th>1</th>\n",
              "      <td>10834-0</td>\n",
              "      <td>Globulin [Mass/volume] in Serum by calculation</td>\n",
              "    </tr>\n",
              "    <tr>\n",
              "      <th>2</th>\n",
              "      <td>14804-9</td>\n",
              "      <td>Lactate dehydrogenase [Enzymatic activity/volu...</td>\n",
              "    </tr>\n",
              "  </tbody>\n",
              "</table>\n",
              "</div>"
            ],
            "text/plain": [
              "      code                                        description\n",
              "0  10230-1                 Left ventricular Ejection fraction\n",
              "1  10834-0     Globulin [Mass/volume] in Serum by calculation\n",
              "2  14804-9  Lactate dehydrogenase [Enzymatic activity/volu..."
            ]
          },
          "metadata": {
            "tags": []
          },
          "execution_count": 1364
        }
      ]
    },
    {
      "cell_type": "markdown",
      "metadata": {
        "id": "HMDtzUF8JlQq"
      },
      "source": [
        "## Fact Tables in Data Warehouse\r\n",
        "* factObservation\r\n",
        "* factProcedure\r\n",
        "* factCondition\r\n",
        "* factImmunization"
      ]
    },
    {
      "cell_type": "code",
      "metadata": {
        "id": "l8NiF2pQJjpb"
      },
      "source": [
        "sql_table_dwh = {}\r\n",
        "sql_index_dwh = {}"
      ],
      "execution_count": 1365,
      "outputs": []
    },
    {
      "cell_type": "code",
      "metadata": {
        "id": "8NsbkKNLK1KC"
      },
      "source": [
        "sql_table_dwh['factObservation'] = \"\"\"\r\n",
        "  create table if not exists factObservation(\r\n",
        "    PATIENT_PSPID VARCHAR REFERENCES dimPatient(PSPID),\r\n",
        "    BIRTHYEAR INTEGER,\r\n",
        "    DEATHYEAR INTEGER,\r\n",
        "    MARITAL_ID VARCHAR REFERENCES dimMarital(ID),\r\n",
        "    RACE_ID VARCHAR REFERENCES dimRace(ID),\r\n",
        "    ETHNICITY_ID VARCHAR REFERENCES dimEthnicity(ID),\r\n",
        "    GENDER_ID VARCHAR REFERENCES dimGender(ID),\r\n",
        "    CITY_ID VARCHAR REFERENCES dimCity(ID),\r\n",
        "    STUDY_ID VARCHAR REFERENCES dimStudy(ID),\r\n",
        "    AGE INTEGER,\r\n",
        "    DATE DATE,\r\n",
        "    LOINC VARCHAR REFERENCES dimLoinc(CODE),\r\n",
        "    VALUE VARCHAR,\r\n",
        "    UNITS VARCHAR\r\n",
        "  );\r\n",
        "\"\"\"\r\n",
        "\r\n",
        "sql_index_dwh[\"ix_factObservation_patient\"] = \"\"\"CREATE INDEX if not exists ix_factObservation_patient on factObservation(PATIENT_PSPID);\"\"\"\r\n",
        "sql_index_dwh[\"ix_factObservation_marital\"] = \"\"\"CREATE INDEX if not exists ix_factObservation_marital on factObservation(MARITAL_ID);\"\"\"\r\n",
        "sql_index_dwh[\"ix_factObservation_race\"] = \"\"\"CREATE INDEX if not exists ix_factObservation_race on factObservation(RACE_ID);\"\"\"\r\n",
        "sql_index_dwh[\"ix_factObservation_ethnicity\"] = \"\"\"CREATE INDEX if not exists ix_factObservation_ethnicity on factObservation(ETHNICITY_ID);\"\"\"\r\n",
        "sql_index_dwh[\"ix_factObservation_gender\"] = \"\"\"CREATE INDEX if not exists ix_factObservation_gender on factObservation(GENDER_ID);\"\"\"\r\n",
        "sql_index_dwh[\"ix_factObservation_city\"] = \"\"\"CREATE INDEX if not exists ix_factObservation_city on factObservation(CITY_ID);\"\"\"\r\n",
        "sql_index_dwh[\"ix_factObservation_study\"] = \"\"\"CREATE INDEX if not exists ix_factObservation_study on factObservation(STUDY_ID);\"\"\"\r\n",
        "sql_index_dwh[\"ix_factObservation_loinc\"] = \"\"\"CREATE INDEX if not exists ix_factObservation_loinc on factObservation(LOINC);\"\"\""
      ],
      "execution_count": 1366,
      "outputs": []
    },
    {
      "cell_type": "code",
      "metadata": {
        "id": "vnl07y2hM-Gm"
      },
      "source": [
        "sql_table_dwh['factProcedure'] = \"\"\"\r\n",
        "  create table if not exists factProcedure(\r\n",
        "    PATIENT_PSPID VARCHAR REFERENCES dimPatient(PSPID),\r\n",
        "    BIRTHYEAR INTEGER,\r\n",
        "    DEATHYEAR INTEGER,\r\n",
        "    MARITAL_ID VARCHAR REFERENCES dimMarital(ID),\r\n",
        "    RACE_ID VARCHAR REFERENCES dimRace(ID),\r\n",
        "    ETHNICITY_ID VARCHAR REFERENCES dimEthnicity(ID),\r\n",
        "    GENDER_ID VARCHAR REFERENCES dimGender(ID),\r\n",
        "    CITY_ID VARCHAR REFERENCES dimCity(ID),\r\n",
        "    STUDY_ID VARCHAR REFERENCES dimStudy(ID),\r\n",
        "    AGE INTEGER,\r\n",
        "    DATE DATE,\r\n",
        "    SNOMED VARCHAR REFERENCES dimSnomed(CODE)\r\n",
        "  );\r\n",
        "\"\"\"\r\n",
        "\r\n",
        "sql_index_dwh[\"ix_factProcedure_patient\"] = \"\"\"CREATE INDEX if not exists ix_factProcedure_patient on factProcedure(PATIENT_PSPID);\"\"\"\r\n",
        "sql_index_dwh[\"ix_factProcedure_marital\"] = \"\"\"CREATE INDEX if not exists ix_factProcedure_marital on factProcedure(MARITAL_ID);\"\"\"\r\n",
        "sql_index_dwh[\"ix_factProcedure_race\"] = \"\"\"CREATE INDEX if not exists ix_factProcedure_race on factProcedure(RACE_ID);\"\"\"\r\n",
        "sql_index_dwh[\"ix_factProcedure_ethnicity\"] = \"\"\"CREATE INDEX if not exists ix_factProcedure_ethnicity on factProcedure(ETHNICITY_ID);\"\"\"\r\n",
        "sql_index_dwh[\"ix_factProcedure_gender\"] = \"\"\"CREATE INDEX if not exists ix_factProcedure_gender on factProcedure(GENDER_ID);\"\"\"\r\n",
        "sql_index_dwh[\"ix_factProcedure_city\"] = \"\"\"CREATE INDEX if not exists ix_factProcedure_city on factProcedure(CITY_ID);\"\"\"\r\n",
        "sql_index_dwh[\"ix_factProcedure_study\"] = \"\"\"CREATE INDEX if not exists ix_factProcedure_study on factProcedure(STUDY_ID);\"\"\"\r\n",
        "sql_index_dwh[\"ix_factProcedure_snomed\"] = \"\"\"CREATE INDEX if not exists ix_factProcedure_snomed on factProcedure(SNOMED);\"\"\""
      ],
      "execution_count": 1367,
      "outputs": []
    },
    {
      "cell_type": "code",
      "metadata": {
        "id": "_MOFhYglNTa-"
      },
      "source": [
        "sql_table_dwh['factCondition'] = \"\"\"\r\n",
        "  create table if not exists factCondition(\r\n",
        "    PATIENT_PSPID VARCHAR REFERENCES dimPatient(PSPID),\r\n",
        "    BIRTHYEAR INTEGER,\r\n",
        "    DEATHYEAR INTEGER,\r\n",
        "    MARITAL_ID VARCHAR REFERENCES dimMarital(ID),\r\n",
        "    RACE_ID VARCHAR REFERENCES dimRace(ID),\r\n",
        "    ETHNICITY_ID VARCHAR REFERENCES dimEthnicity(ID),\r\n",
        "    GENDER_ID VARCHAR REFERENCES dimGender(ID),\r\n",
        "    CITY_ID VARCHAR REFERENCES dimCity(ID),\r\n",
        "    STUDY_ID VARCHAR REFERENCES dimStudy(ID),\r\n",
        "    AGE INTEGER,\r\n",
        "    START DATE,\r\n",
        "    STOP DATE,\r\n",
        "    SNOMED VARCHAR REFERENCES dimSnomed(CODE)\r\n",
        "  );\r\n",
        "\"\"\"\r\n",
        "\r\n",
        "sql_index_dwh[\"ix_factCondition_patient\"] = \"\"\"CREATE INDEX if not exists ix_factCondition_patient on factCondition(PATIENT_PSPID);\"\"\"\r\n",
        "sql_index_dwh[\"ix_factCondition_marital\"] = \"\"\"CREATE INDEX if not exists ix_factCondition_marital on factCondition(MARITAL_ID);\"\"\"\r\n",
        "sql_index_dwh[\"ix_factCondition_race\"] = \"\"\"CREATE INDEX if not exists ix_factCondition_race on factCondition(RACE_ID);\"\"\"\r\n",
        "sql_index_dwh[\"ix_factCondition_ethnicity\"] = \"\"\"CREATE INDEX if not exists ix_factCondition_ethnicity on factCondition(ETHNICITY_ID);\"\"\"\r\n",
        "sql_index_dwh[\"ix_factCondition_gender\"] = \"\"\"CREATE INDEX if not exists ix_factCondition_gender on factCondition(GENDER_ID);\"\"\"\r\n",
        "sql_index_dwh[\"ix_factCondition_city\"] = \"\"\"CREATE INDEX if not exists ix_factCondition_city on factCondition(CITY_ID);\"\"\"\r\n",
        "sql_index_dwh[\"ix_factCondition_study\"] = \"\"\"CREATE INDEX if not exists ix_factCondition_study on factCondition(STUDY_ID);\"\"\"\r\n",
        "sql_index_dwh[\"ix_factCondition_snomed\"] = \"\"\"CREATE INDEX if not exists ix_factCondition_snomed on factCondition(SNOMED);\"\"\""
      ],
      "execution_count": 1368,
      "outputs": []
    },
    {
      "cell_type": "code",
      "metadata": {
        "colab": {
          "base_uri": "https://localhost:8080/"
        },
        "id": "YvkqaLFIXKM1",
        "outputId": "65bc2518-7c86-4991-a3d1-d9f392d06d38"
      },
      "source": [
        "print(sql_table_dwh.keys())\r\n",
        "print(sql_index_dwh.keys())"
      ],
      "execution_count": 1369,
      "outputs": [
        {
          "output_type": "stream",
          "text": [
            "dict_keys(['factObservation', 'factProcedure', 'factCondition'])\n",
            "dict_keys(['ix_factObservation_patient', 'ix_factObservation_marital', 'ix_factObservation_race', 'ix_factObservation_ethnicity', 'ix_factObservation_gender', 'ix_factObservation_city', 'ix_factObservation_study', 'ix_factObservation_loinc', 'ix_factProcedure_patient', 'ix_factProcedure_marital', 'ix_factProcedure_race', 'ix_factProcedure_ethnicity', 'ix_factProcedure_gender', 'ix_factProcedure_city', 'ix_factProcedure_study', 'ix_factProcedure_snomed', 'ix_factCondition_patient', 'ix_factCondition_marital', 'ix_factCondition_race', 'ix_factCondition_ethnicity', 'ix_factCondition_gender', 'ix_factCondition_city', 'ix_factCondition_study', 'ix_factCondition_snomed'])\n"
          ],
          "name": "stdout"
        }
      ]
    },
    {
      "cell_type": "code",
      "metadata": {
        "colab": {
          "base_uri": "https://localhost:8080/"
        },
        "id": "2gwttmodXdKR",
        "outputId": "1cc2a3d1-1ded-4e2f-b546-d0884b0e6dc3"
      },
      "source": [
        "if conn_dwh is not None:\r\n",
        "        # cursor_dwh = conn_dwh.cursor()\r\n",
        "        for name in sql_table_dwh.keys():\r\n",
        "          table = name\r\n",
        "          print(name)\r\n",
        "          \r\n",
        "          cursor_dwh.execute(sql_table_dwh[name])\r\n",
        "\r\n",
        "        for ix_name in sql_index_dwh.keys():\r\n",
        "          index = ix_name\r\n",
        "          print(ix_name)\r\n",
        "\r\n",
        "          cursor_dwh.execute(sql_index_dwh[ix_name])\r\n",
        "else:\r\n",
        "        print('Connection to database failed')"
      ],
      "execution_count": 1370,
      "outputs": [
        {
          "output_type": "stream",
          "text": [
            "factObservation\n",
            "factProcedure\n",
            "factCondition\n",
            "ix_factObservation_patient\n",
            "ix_factObservation_marital\n",
            "ix_factObservation_race\n",
            "ix_factObservation_ethnicity\n",
            "ix_factObservation_gender\n",
            "ix_factObservation_city\n",
            "ix_factObservation_study\n",
            "ix_factObservation_loinc\n",
            "ix_factProcedure_patient\n",
            "ix_factProcedure_marital\n",
            "ix_factProcedure_race\n",
            "ix_factProcedure_ethnicity\n",
            "ix_factProcedure_gender\n",
            "ix_factProcedure_city\n",
            "ix_factProcedure_study\n",
            "ix_factProcedure_snomed\n",
            "ix_factCondition_patient\n",
            "ix_factCondition_marital\n",
            "ix_factCondition_race\n",
            "ix_factCondition_ethnicity\n",
            "ix_factCondition_gender\n",
            "ix_factCondition_city\n",
            "ix_factCondition_study\n",
            "ix_factCondition_snomed\n"
          ],
          "name": "stdout"
        }
      ]
    },
    {
      "cell_type": "markdown",
      "metadata": {
        "id": "tr_tLv_ScrGx"
      },
      "source": [
        "## Select information for fact tables\r\n",
        "\r\n",
        "- Select information from data lake\r\n",
        "- Insert in tables of data warehouse"
      ]
    },
    {
      "cell_type": "code",
      "metadata": {
        "id": "aQgTis125CO4"
      },
      "source": [
        "# fatObservation\r\n",
        "factObservation = pd.read_sql_query(\"\"\"\r\n",
        "select DISTINCT \r\n",
        "  PSPID PATIENT_PSPID, \r\n",
        "  BIRTHDATE BIRTHYEAR,\r\n",
        "  DEATHDATE DEATHYEAR,\r\n",
        "  dm.ID MARITAL_ID,\r\n",
        "  dr.ID RACE_ID ,\r\n",
        "  de.ID ETHNICITY_ID,\r\n",
        "  dg.ID GENDER_ID,\r\n",
        "  dc.ID CITY_ID,\r\n",
        "  ds.ID STUDY_ID,\r\n",
        "  AGE,\r\n",
        "  o.date DATE,\r\n",
        "  o.CODE LOINC,\r\n",
        "  o.VALUE,\r\n",
        "  o.UNITS \r\n",
        "from patient pat \r\n",
        "join dimMarital dm\r\n",
        "  on dm.MARITAL = pat.MARITAL\r\n",
        "join dimRace dr\r\n",
        "  on dr.RACE = pat.RACE\r\n",
        "join dimEthnicity de\r\n",
        "  on de.ETHNICITY = pat.ETHNICITY \r\n",
        "join dimCity dc \r\n",
        "  on dc.CITY = pat.CITY\r\n",
        "join dimGender dg\r\n",
        "  on dg.GENDER = pat.GENDER\r\n",
        "join dimStudy ds\r\n",
        "  on ds.STUDY = pat.STUDY\r\n",
        "join observation o\r\n",
        "  on o.PATIENT = pat.Id\r\n",
        ";\"\"\"\r\n",
        "  , conn_lake)  \r\n",
        "\r\n",
        "factObservation.to_sql(name='factObservation', con=conn_dwh, if_exists='replace', index=False)"
      ],
      "execution_count": 1371,
      "outputs": []
    },
    {
      "cell_type": "code",
      "metadata": {
        "id": "83iT73C66Ko3"
      },
      "source": [
        "factProcedure = pd.read_sql_query(\"\"\" \r\n",
        "  select DISTINCT \r\n",
        "  PSPID PATIENT_PSPID, \r\n",
        "  BIRTHDATE BIRTHYEAR,\r\n",
        "  DEATHDATE DEATHYEAR,\r\n",
        "  dm.ID MARITAL_ID,\r\n",
        "  dr.ID RACE_ID ,\r\n",
        "  de.ID ETHNICITY_ID,\r\n",
        "  dg.ID GENDER_ID,\r\n",
        "  dc.ID CITY_ID,\r\n",
        "  ds.ID STUDY_ID,\r\n",
        "  AGE,\r\n",
        "  p.date DATE,\r\n",
        "  p.CODE SNOMED\r\n",
        "from patient pat \r\n",
        "join dimMarital dm\r\n",
        "  on dm.MARITAL = pat.MARITAL\r\n",
        "join dimRace dr\r\n",
        "  on dr.RACE = pat.RACE\r\n",
        "join dimEthnicity de\r\n",
        "  on de.ETHNICITY = pat.ETHNICITY \r\n",
        "join dimCity dc \r\n",
        "  on dc.CITY = pat.CITY\r\n",
        "join dimGender dg\r\n",
        "  on dg.GENDER = pat.GENDER\r\n",
        "join dimStudy ds\r\n",
        "  on ds.STUDY = pat.STUDY\r\n",
        "join \"procedure\" p\r\n",
        "  on p.PATIENT = pat.Id\r\n",
        "  ;\"\"\", conn_lake)\r\n",
        "\r\n",
        "factProcedure.to_sql(name='factProcedure', con=conn_dwh, if_exists='replace', index=False)"
      ],
      "execution_count": 1372,
      "outputs": []
    },
    {
      "cell_type": "code",
      "metadata": {
        "id": "vybWQLgh6d-O"
      },
      "source": [
        "factCondition = pd.read_sql_query(\"\"\"\r\n",
        "   select DISTINCT \r\n",
        "  PSPID PATIENT_PSPID, \r\n",
        "  BIRTHDATE BIRTHYEAR,\r\n",
        "  DEATHDATE DEATHYEAR,\r\n",
        "  dm.ID MARITAL_ID,\r\n",
        "  dr.ID RACE_ID ,\r\n",
        "  de.ID ETHNICITY_ID,\r\n",
        "  dg.ID GENDER_ID,\r\n",
        "  dc.ID CITY_ID,\r\n",
        "  ds.ID STUDY_ID,\r\n",
        "  AGE,\r\n",
        "  c.START,\r\n",
        "  c.STOP,\r\n",
        "  c.CODE SNOMED\r\n",
        "from patient pat \r\n",
        "join dimMarital dm\r\n",
        "  on dm.MARITAL = pat.MARITAL\r\n",
        "join dimRace dr\r\n",
        "  on dr.RACE = pat.RACE\r\n",
        "join dimEthnicity de\r\n",
        "  on de.ETHNICITY = pat.ETHNICITY \r\n",
        "join dimCity dc \r\n",
        "  on dc.CITY = pat.CITY\r\n",
        "join dimGender dg\r\n",
        "  on dg.GENDER = pat.GENDER\r\n",
        "join dimStudy ds\r\n",
        "  on ds.STUDY = pat.STUDY\r\n",
        "join \"condition\" c\r\n",
        "  on c.PATIENT = pat.Id \r\n",
        "    ;\"\"\", conn_lake)\r\n",
        "\r\n",
        "\r\n",
        "factCondition.to_sql(name='factCondition', con=conn_dwh, if_exists='replace', index=False)"
      ],
      "execution_count": 1373,
      "outputs": []
    },
    {
      "cell_type": "markdown",
      "metadata": {
        "id": "y1O3xgWuMc0j"
      },
      "source": [
        "## Views in Data Warehouse\r\n",
        "* v_observations\r\n",
        "* v_conditions\r\n",
        "* v_procedures"
      ]
    },
    {
      "cell_type": "code",
      "metadata": {
        "colab": {
          "base_uri": "https://localhost:8080/"
        },
        "id": "Ps7MzyhzMq0l",
        "outputId": "55da1ccf-acaa-4490-ac76-5ee00da47f1b"
      },
      "source": [
        "cursor_dwh.executescript(\r\n",
        "    \"\"\"\r\n",
        "-- Observations\r\n",
        "\r\n",
        "create view v_observations as\r\n",
        "select\r\n",
        "  PATIENT_PSPID,\r\n",
        "  BIRTHYEAR,\r\n",
        "  DEATHYEAR,\r\n",
        "  dm.MARITAL,\r\n",
        "  dr.RACE,\r\n",
        "  de.ETHNICITY,\r\n",
        "  dg.GENDER,\r\n",
        "  dc.CITY ,\r\n",
        "  AGE,\r\n",
        "  DATE,\r\n",
        "  LOINC,\r\n",
        "  dl.description DESCRIPTION,\r\n",
        "  VALUE,\r\n",
        "  UNITS,\r\n",
        "  ds.STUDY \r\n",
        "from factObservation fo\r\n",
        "join dimMarital dm\r\n",
        "  on fo.MARITAL_ID = dm.ID\r\n",
        "join dimRace dr\r\n",
        "  on dr.ID = fo.RACE_ID\r\n",
        "join dimEthnicity de \r\n",
        "  on de.ID = fo.ETHNICITY_ID \r\n",
        "join dimGender dg \r\n",
        "  on dg.ID = fo.GENDER_ID\r\n",
        "join dimCity dc \r\n",
        "  on dc.ID = fo.CITY_ID\r\n",
        "join dimLoinc dl \r\n",
        "  on dl.code = fo.LOINC\r\n",
        "join dimStudy ds\r\n",
        "  on ds.ID = fo.STUDY_ID\r\n",
        ";\r\n",
        "\r\n",
        "-- Conditions\r\n",
        "\r\n",
        "create view v_conditions as\r\n",
        "select\r\n",
        "  PATIENT_PSPID,\r\n",
        "  BIRTHYEAR,\r\n",
        "  DEATHYEAR,\r\n",
        "  dm.MARITAL,\r\n",
        "  dr.RACE,\r\n",
        "  de.ETHNICITY,\r\n",
        "  dg.GENDER,\r\n",
        "  dc.CITY ,\r\n",
        "  AGE,\r\n",
        "  \"START\" ,\r\n",
        "  STOP ,\r\n",
        "  SNOMED ,\r\n",
        "  dsn.description DESCRIPTION,\r\n",
        "  ds.STUDY \r\n",
        "from factCondition fc\r\n",
        "join dimMarital dm\r\n",
        "  on fc.MARITAL_ID = dm.ID\r\n",
        "join dimRace dr\r\n",
        "  on dr.ID = fc.RACE_ID\r\n",
        "join dimEthnicity de \r\n",
        "  on de.ID = fc.ETHNICITY_ID \r\n",
        "join dimGender dg \r\n",
        "  on dg.ID = fc.GENDER_ID\r\n",
        "join dimCity dc \r\n",
        "  on dc.ID = fc.CITY_ID\r\n",
        "join dimSnomed dsn \r\n",
        "  on dsn.code = fc.SNOMED \r\n",
        "join dimStudy ds\r\n",
        "  on ds.ID = fc.STUDY_ID\r\n",
        ";\r\n",
        "\r\n",
        "-- Procedures\r\n",
        "create view v_procedures as\r\n",
        "select\r\n",
        "  PATIENT_PSPID,\r\n",
        "  BIRTHYEAR,\r\n",
        "  DEATHYEAR,\r\n",
        "  dm.MARITAL,\r\n",
        "  dr.RACE,\r\n",
        "  de.ETHNICITY,\r\n",
        "  dg.GENDER,\r\n",
        "  dc.CITY ,\r\n",
        "  AGE,\r\n",
        "  DATE ,\r\n",
        "  SNOMED ,\r\n",
        "  dsn.description DESCRIPTION,\r\n",
        "  ds.STUDY \r\n",
        "from factProcedure fc\r\n",
        "join dimMarital dm\r\n",
        "  on fc.MARITAL_ID = dm.ID\r\n",
        "join dimRace dr\r\n",
        "  on dr.ID = fc.RACE_ID\r\n",
        "join dimEthnicity de \r\n",
        "  on de.ID = fc.ETHNICITY_ID \r\n",
        "join dimGender dg \r\n",
        "  on dg.ID = fc.GENDER_ID\r\n",
        "join dimCity dc \r\n",
        "  on dc.ID = fc.CITY_ID\r\n",
        "join dimSnomed dsn \r\n",
        "  on dsn.code = fc.SNOMED \r\n",
        "join dimStudy ds\r\n",
        "  on ds.ID = fc.STUDY_ID\r\n",
        ";\r\n",
        "  \"\"\"\r\n",
        ")\r\n"
      ],
      "execution_count": 1374,
      "outputs": [
        {
          "output_type": "execute_result",
          "data": {
            "text/plain": [
              "<sqlite3.Cursor at 0x7f67a62a8d50>"
            ]
          },
          "metadata": {
            "tags": []
          },
          "execution_count": 1374
        }
      ]
    },
    {
      "cell_type": "code",
      "metadata": {
        "id": "V146NhVl3Z4e"
      },
      "source": [
        "conn_dwh.commit()\r\n",
        "conn_lake.commit()\r\n",
        "\r\n",
        "conn_dwh.close()\r\n",
        "conn_lake.close()"
      ],
      "execution_count": 1375,
      "outputs": []
    },
    {
      "cell_type": "code",
      "metadata": {
        "id": "JA0rT7RQs1xv"
      },
      "source": [
        "#######################################################"
      ],
      "execution_count": 1376,
      "outputs": []
    }
  ]
}