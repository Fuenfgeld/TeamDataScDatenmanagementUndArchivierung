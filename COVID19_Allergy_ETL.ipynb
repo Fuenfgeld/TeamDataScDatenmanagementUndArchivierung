{
  "nbformat": 4,
  "nbformat_minor": 0,
  "metadata": {
    "colab": {
      "name": "COVID19_Allergy_ETL.ipynb",
      "provenance": [],
      "authorship_tag": "ABX9TyNtNfPJmM0F5XwJVGEGYErP",
      "include_colab_link": true
    },
    "kernelspec": {
      "name": "python3",
      "display_name": "Python 3"
    }
  },
  "cells": [
    {
      "cell_type": "markdown",
      "metadata": {
        "id": "view-in-github",
        "colab_type": "text"
      },
      "source": [
        "<a href=\"https://colab.research.google.com/github/Fuenfgeld/TeamDataScDatenmanagementUndArchivierung/blob/main/COVID19_Allergy_ETL.ipynb\" target=\"_parent\"><img src=\"https://colab.research.google.com/assets/colab-badge.svg\" alt=\"Open In Colab\"/></a>"
      ]
    },
    {
      "cell_type": "markdown",
      "metadata": {
        "id": "Qr1mt7jSMW_G"
      },
      "source": [
        "# ETL Strecke und Implementierung von Data Warehouse mit der Information von COVID-19 und Allergy\n",
        "\n",
        "Dieses Skript extraiert die Information der CSV-Dateien von **COVID-19** und **Allergy** aus dem Data Set  [Synthea<sup>TM</sup> Patient Generator](https://github.com/synthetichealth/synthea). Aus diesem Data Set werden die Dateien `patients.csv`, `observations.csv`, `procedures.csv` und `conditions.csv` von den vorherigen Pathologien genutzt.\n",
        "\n",
        "Obwohl diese Daten synthetisch sind, werden die Patienten ID durch MD5-Hash-Strings ersetzt, Geburtsdatum und Todesdatum zu Geburtsjahr und Todesjahr vergröbert, um eine Pseudonymisierung zu simulieren. Noch dazu werden andere (für unseres Projekt) nicht relevante Spalten nicht genohmen.\n",
        "\n",
        "Die transformierte \"rohe\" Daten werden im  Data Warehouse gespeichert. Sie sind die Basis der Dimentionen und Fakten Tabellen. Für das Data Warehousing wird ein Stern Schema zusammen mit Views erstellt, um das Online Analytical Processing zu erleisten. Am Ende werden die Tabellen mit den rohen Daten gelöscht."
      ]
    },
    {
      "cell_type": "markdown",
      "metadata": {
        "id": "tgeZHjPRn3rg"
      },
      "source": [
        "## Reproducibility\r\n",
        "\r\n"
      ]
    },
    {
      "cell_type": "markdown",
      "metadata": {
        "id": "35gHYddZoYbf"
      },
      "source": [
        "## Löschen alle Variablen"
      ]
    },
    {
      "cell_type": "code",
      "metadata": {
        "id": "dprFGrYaohQH"
      },
      "source": [
        "%reset -f"
      ],
      "execution_count": null,
      "outputs": []
    },
    {
      "cell_type": "markdown",
      "metadata": {
        "id": "ICiNnRdOMK2T"
      },
      "source": [
        "###Import Bibliotheken"
      ]
    },
    {
      "cell_type": "code",
      "metadata": {
        "colab": {
          "base_uri": "https://localhost:8080/"
        },
        "id": "5xE-s3boPGKn",
        "outputId": "f0f43cc6-0360-4608-9103-d2e2558363b4"
      },
      "source": [
        "import pandas as pd\r\n",
        "import sys\r\n",
        "from pandas.util import hash_pandas_object\r\n",
        "from functools import reduce\r\n",
        "import sqlite3 as sq\r\n",
        "from sqlite3 import Error\r\n",
        "import hashlib as hl\r\n",
        "import csv\r\n",
        "import numpy as np\r\n",
        "from pandas_profiling import ProfileReport\r\n",
        "from google.colab import drive\r\n",
        "drive.mount(\"/content/drive\", force_remount=True)\r\n"
      ],
      "execution_count": null,
      "outputs": [
        {
          "output_type": "stream",
          "text": [
            "Mounted at /content/drive\n"
          ],
          "name": "stdout"
        }
      ]
    },
    {
      "cell_type": "markdown",
      "metadata": {
        "id": "zvMgHVH5pJCX"
      },
      "source": [
        "## Version der Umgebung und Bibliotheken checken\r\n",
        "\r\n",
        "|Bibliothek|Version|\r\n",
        "|-|-|\r\n",
        "| csv |1.0|\r\n",
        "| pandas |1.1.5|\r\n",
        "| numpy |1.19.5|\r\n",
        "| sqlite3 |2.6.0|\r\n",
        "| hashlib |3.9|\r\n",
        "| google|2.0.3|"
      ]
    },
    {
      "cell_type": "code",
      "metadata": {
        "colab": {
          "base_uri": "https://localhost:8080/",
          "height": 35
        },
        "id": "hs9ZidvwpQhA",
        "outputId": "15202a77-6ee4-4bd5-e073-74385d8cb0fd"
      },
      "source": [
        " #sys.version"
      ],
      "execution_count": null,
      "outputs": [
        {
          "output_type": "execute_result",
          "data": {
            "application/vnd.google.colaboratory.intrinsic+json": {
              "type": "string"
            },
            "text/plain": [
              "'3.6.9 (default, Oct  8 2020, 12:12:24) \\n[GCC 8.4.0]'"
            ]
          },
          "metadata": {
            "tags": []
          },
          "execution_count": 285
        }
      ]
    },
    {
      "cell_type": "code",
      "metadata": {
        "id": "D0lT2bLzp6Om"
      },
      "source": [
        " # %pip freeze"
      ],
      "execution_count": null,
      "outputs": []
    },
    {
      "cell_type": "markdown",
      "metadata": {
        "id": "jIPLBwIzMZpq"
      },
      "source": [
        "###Definition der Variablen für die CSV-Dateien und Datenbanken"
      ]
    },
    {
      "cell_type": "code",
      "metadata": {
        "id": "eJQJVxcLWdQA"
      },
      "source": [
        "# Studies\r\n",
        "patient_allergy = \"allergy\"\r\n",
        "patient_covid19 = \"covid19\"\r\n",
        "\r\n",
        "# csv files\r\n",
        "material_path_covid19 = \"/content/drive/MyDrive/csv_data/\"+patient_covid19+\"/\"\r\n",
        "material_path_allergy = \"/content/drive/MyDrive/csv_data/\"+patient_allergy+\"/\"\r\n",
        "\r\n",
        "# Data Warehouse\r\n",
        "db_file_path_cov_alle = \"/content/drive/MyDrive/db_files/cov_alle.db\"\r\n",
        "!rm {db_file_path_cov_alle} # delete file if exists"
      ],
      "execution_count": null,
      "outputs": []
    },
    {
      "cell_type": "markdown",
      "metadata": {
        "id": "hs5DE-FgQskD"
      },
      "source": [
        "### Extraktion und Transformation\n",
        "\n",
        "Benuzte Datasets\n",
        "- `patients`\n",
        "- `observations`\n",
        "- `conditions`\n",
        "- `procedures`\n",
        "\n",
        "Mehtode\n",
        "* Laden CSV-Dateien in Data Frames\n",
        "* Einfügen einer neuen Spalte mit den Studien\n",
        "* Zwei Data Frames zusammenfügen\n",
        "* Löschen von redundanten und nicht notweindige Variablen\n",
        "* Erstellung von Pseudonym (nur für patients)\n",
        "* Handlung von fehlenden Werten"
      ]
    },
    {
      "cell_type": "markdown",
      "metadata": {
        "id": "hBZt98ze3WpZ"
      },
      "source": [
        "## Laden CSV-Dateien"
      ]
    },
    {
      "cell_type": "code",
      "metadata": {
        "id": "Ppth93z71rvb"
      },
      "source": [
        "# Patients\r\n",
        "\r\n",
        "# covid-19\r\n",
        "patient_cov = pd.read_csv(material_path_covid19 + \"/patients.csv\") \r\n",
        "# allergy\r\n",
        "patient_all = pd.read_csv(material_path_allergy + \"/patients.csv\")\r\n",
        "\r\n",
        "# Observations\r\n",
        "\r\n",
        "# covid-19\r\n",
        "observation_cov = pd.read_csv(material_path_covid19 + \"/observations.csv\")\r\n",
        "# allergy\r\n",
        "observation_all = pd.read_csv(material_path_allergy + \"/observations.csv\")\r\n",
        "\r\n",
        "# Conditions\r\n",
        "\r\n",
        "# covid19\r\n",
        "condition_cov = pd.read_csv(material_path_covid19 + \"/conditions.csv\")\r\n",
        "# allergy\r\n",
        "condition_all = pd.read_csv(material_path_allergy + \"/conditions.csv\")\r\n",
        "\r\n",
        "# Procedures\r\n",
        "\r\n",
        "# covid19\r\n",
        "procedure_cov = pd.read_csv(material_path_covid19 + \"/procedures.csv\")\r\n",
        "# allergy\r\n",
        "procedure_all = pd.read_csv(material_path_allergy + \"/procedures.csv\")"
      ],
      "execution_count": null,
      "outputs": []
    },
    {
      "cell_type": "markdown",
      "metadata": {
        "id": "VLhVBJjq5chJ"
      },
      "source": [
        "## Rechne Checksum des Data Sets\n",
        "\n",
        "Damit wird das Data Set validiert."
      ]
    },
    {
      "cell_type": "code",
      "metadata": {
        "id": "mug0tObm11-M"
      },
      "source": [
        "# Calculate the checksum of the data set\r\n",
        "\"\"\"patient_cov_hash = hash_pandas_object(patient_cov)\r\n",
        "patient_all_hash = hash_pandas_object(patient_all)\r\n",
        "observation_cov_hash = hash_pandas_object(observation_cov)\r\n",
        "observation_all_hash = hash_pandas_object(observation_all)\r\n",
        "condition_cov_hash = hash_pandas_object(condition_cov)\r\n",
        "condition_all_hash = hash_pandas_object(condition_all)\r\n",
        "procedure_cov_hash = hash_pandas_object(procedure_cov)\r\n",
        "procedure_all_hash = hash_pandas_object(procedure_all)\"\"\""
      ],
      "execution_count": null,
      "outputs": []
    },
    {
      "cell_type": "markdown",
      "metadata": {
        "id": "LJ_jI9Vbty4Y"
      },
      "source": [
        "## Zeigt Checksum des Data Sets"
      ]
    },
    {
      "cell_type": "code",
      "metadata": {
        "id": "1Pjn9HBr6cG4"
      },
      "source": [
        "\"\"\"print('COVID-19\\npatients.csv: ' + str(patient_cov_hash.sum())) \r\n",
        "print('observations.csv: ' + str(observation_cov_hash.sum())) \r\n",
        "print('conditions.csv: ' + str(condition_cov_hash.sum()))\r\n",
        "print('procedures.csv: ' + str(procedure_cov_hash.sum()))\r\n",
        "print('\\nAllergy\\npatients.csv: ' + str(patient_all_hash.sum()))\r\n",
        "print('observations.csv: ' + str(observation_all_hash.sum()))\r\n",
        "print('conditions.csv: ' + str(condition_all_hash.sum())) \r\n",
        "print('procdures.csv: ' + str(procedure_all_hash.sum())) \"\"\""
      ],
      "execution_count": null,
      "outputs": []
    },
    {
      "cell_type": "markdown",
      "metadata": {
        "id": "oVT7Wxq26BZD"
      },
      "source": [
        "## Values der Checksum\r\n",
        "\r\n",
        "- patient_cov_hash = 5546755912481062969\r\n",
        "- patient_all_hash = -7991106203008684058\r\n",
        "- observation_cov_hash = 6828304207460361826\r\n",
        "- observation_all_hash = 604369861310068017\r\n",
        "- condition_cov_hash = 8579072675289514469\r\n",
        "- condition_all_hash = 8446863690955095255\r\n",
        "- procedure_cov_hash = -6236636528620667348\r\n",
        "- procedure_all_hash = -7480254982461391402"
      ]
    },
    {
      "cell_type": "markdown",
      "metadata": {
        "id": "8eDd1a7hfLyH"
      },
      "source": [
        "## Erzeugung des Data Sets aus CSV-Dateien"
      ]
    },
    {
      "cell_type": "code",
      "metadata": {
        "colab": {
          "base_uri": "https://localhost:8080/",
          "height": 327
        },
        "id": "BKDGzVny5Bkq",
        "outputId": "57207e82-6fe0-4432-87de-37fcb0b0975a"
      },
      "source": [
        "# Patients\n",
        "\n",
        "#covid\n",
        "patient_cov[\"STUDY\"] = 'COVID-19' # new column with study\n",
        "\n",
        "#allergy\n",
        "patient_all[\"STUDY\"] = 'Allergy'\n",
        "\n",
        "#union of both dataframes\n",
        "patient = pd.concat([patient_all, patient_cov]).drop_duplicates()\n",
        "\n",
        "# delete not important columns\n",
        "patient = patient.drop(['SSN', 'PREFIX', 'ZIP', 'DRIVERS', 'PASSPORT', 'FIRST',\n",
        "              'LAST', 'BIRTHPLACE', 'ADDRESS', 'STATE', 'COUNTY', 'MAIDEN', 'SUFFIX'], axis=1)\n",
        "\n",
        "# new hash patient id\n",
        "patient['PSPID'] = [hl.md5(val.encode('UTF-8')).hexdigest() for val in patient['Id']]\n",
        "\n",
        "# another tranformations to clean the information\n",
        "\n",
        "patient['MARITAL'].fillna(patient['MARITAL'].mode()[0], inplace=True)\n",
        "patient[\"DEATHDATE\"] = patient.DEATHDATE.fillna(pd.to_datetime(\"today\"))\n",
        "\n",
        "# date time transformation and keep the year of birth and year of death\n",
        "patient[\"DEATHDATE\"] = pd.to_datetime(patient[\"DEATHDATE\"])\n",
        "patient[\"DEATHDATE\"] = patient.DEATHDATE.dt.year\n",
        "patient[\"BIRTHDATE\"] = pd.to_datetime(patient[\"BIRTHDATE\"])\n",
        "patient['BIRTHDATE'] = patient.BIRTHDATE.dt.year\n",
        "\n",
        "# calculate age\n",
        "patient[\"AGE\"] = patient.DEATHDATE - patient.BIRTHDATE\n",
        "\n",
        "# show some patients\n",
        "pd.concat([patient.head(3), patient.tail(3)])"
      ],
      "execution_count": null,
      "outputs": [
        {
          "output_type": "execute_result",
          "data": {
            "text/html": [
              "<div>\n",
              "<style scoped>\n",
              "    .dataframe tbody tr th:only-of-type {\n",
              "        vertical-align: middle;\n",
              "    }\n",
              "\n",
              "    .dataframe tbody tr th {\n",
              "        vertical-align: top;\n",
              "    }\n",
              "\n",
              "    .dataframe thead th {\n",
              "        text-align: right;\n",
              "    }\n",
              "</style>\n",
              "<table border=\"1\" class=\"dataframe\">\n",
              "  <thead>\n",
              "    <tr style=\"text-align: right;\">\n",
              "      <th></th>\n",
              "      <th>Id</th>\n",
              "      <th>BIRTHDATE</th>\n",
              "      <th>DEATHDATE</th>\n",
              "      <th>MARITAL</th>\n",
              "      <th>RACE</th>\n",
              "      <th>ETHNICITY</th>\n",
              "      <th>GENDER</th>\n",
              "      <th>CITY</th>\n",
              "      <th>LAT</th>\n",
              "      <th>LON</th>\n",
              "      <th>HEALTHCARE_EXPENSES</th>\n",
              "      <th>HEALTHCARE_COVERAGE</th>\n",
              "      <th>STUDY</th>\n",
              "      <th>PSPID</th>\n",
              "      <th>AGE</th>\n",
              "    </tr>\n",
              "  </thead>\n",
              "  <tbody>\n",
              "    <tr>\n",
              "      <th>0</th>\n",
              "      <td>27b0d72c-f2fb-7e25-38c0-7d5120ebbedf</td>\n",
              "      <td>1945</td>\n",
              "      <td>2021</td>\n",
              "      <td>M</td>\n",
              "      <td>white</td>\n",
              "      <td>nonhispanic</td>\n",
              "      <td>F</td>\n",
              "      <td>Kingston</td>\n",
              "      <td>41.996106</td>\n",
              "      <td>-70.786205</td>\n",
              "      <td>63141.11</td>\n",
              "      <td>3176.78</td>\n",
              "      <td>Allergy</td>\n",
              "      <td>b39635c709eb0bb9fad25a234e38b38e</td>\n",
              "      <td>76</td>\n",
              "    </tr>\n",
              "    <tr>\n",
              "      <th>1</th>\n",
              "      <td>17f0c6d9-8931-8839-66cb-3ca6fb066d3e</td>\n",
              "      <td>1959</td>\n",
              "      <td>2021</td>\n",
              "      <td>M</td>\n",
              "      <td>white</td>\n",
              "      <td>nonhispanic</td>\n",
              "      <td>M</td>\n",
              "      <td>Sutton</td>\n",
              "      <td>42.126130</td>\n",
              "      <td>-71.749848</td>\n",
              "      <td>1333971.83</td>\n",
              "      <td>4339.05</td>\n",
              "      <td>Allergy</td>\n",
              "      <td>006ac4c59e4aeee8ea94f75f6080bce1</td>\n",
              "      <td>62</td>\n",
              "    </tr>\n",
              "    <tr>\n",
              "      <th>2</th>\n",
              "      <td>aff157cc-b6d3-412b-ccbe-bfd5fac1c2d5</td>\n",
              "      <td>1991</td>\n",
              "      <td>2021</td>\n",
              "      <td>M</td>\n",
              "      <td>white</td>\n",
              "      <td>nonhispanic</td>\n",
              "      <td>M</td>\n",
              "      <td>Haverhill</td>\n",
              "      <td>42.763237</td>\n",
              "      <td>-71.117704</td>\n",
              "      <td>735728.62</td>\n",
              "      <td>4015.40</td>\n",
              "      <td>Allergy</td>\n",
              "      <td>a0a9af4cf38d5c1796cfe65ae7f20f16</td>\n",
              "      <td>30</td>\n",
              "    </tr>\n",
              "    <tr>\n",
              "      <th>1047</th>\n",
              "      <td>4c523ab1-3255-911a-7eef-3bc3e48b7b05</td>\n",
              "      <td>1961</td>\n",
              "      <td>2021</td>\n",
              "      <td>M</td>\n",
              "      <td>white</td>\n",
              "      <td>nonhispanic</td>\n",
              "      <td>M</td>\n",
              "      <td>Marblehead</td>\n",
              "      <td>42.539997</td>\n",
              "      <td>-70.904396</td>\n",
              "      <td>1564112.49</td>\n",
              "      <td>4164.68</td>\n",
              "      <td>COVID-19</td>\n",
              "      <td>e05850a25837df82e321894d789f2e31</td>\n",
              "      <td>60</td>\n",
              "    </tr>\n",
              "    <tr>\n",
              "      <th>1048</th>\n",
              "      <td>8d49cb05-b1c3-b8fe-dc75-e43ad861f074</td>\n",
              "      <td>1920</td>\n",
              "      <td>2020</td>\n",
              "      <td>M</td>\n",
              "      <td>native</td>\n",
              "      <td>hispanic</td>\n",
              "      <td>F</td>\n",
              "      <td>Westfield</td>\n",
              "      <td>42.173612</td>\n",
              "      <td>-72.740437</td>\n",
              "      <td>1592240.00</td>\n",
              "      <td>7091.05</td>\n",
              "      <td>COVID-19</td>\n",
              "      <td>44e35b270b123de0b7709955081c0f4f</td>\n",
              "      <td>100</td>\n",
              "    </tr>\n",
              "    <tr>\n",
              "      <th>1049</th>\n",
              "      <td>fce5ed5c-e218-4839-a0c5-6ef906e5ae73</td>\n",
              "      <td>1920</td>\n",
              "      <td>2021</td>\n",
              "      <td>S</td>\n",
              "      <td>native</td>\n",
              "      <td>hispanic</td>\n",
              "      <td>F</td>\n",
              "      <td>Westfield</td>\n",
              "      <td>42.164697</td>\n",
              "      <td>-72.796595</td>\n",
              "      <td>1516470.00</td>\n",
              "      <td>13088.44</td>\n",
              "      <td>COVID-19</td>\n",
              "      <td>9fda66aeaa2d82203a86f87e47152f50</td>\n",
              "      <td>101</td>\n",
              "    </tr>\n",
              "  </tbody>\n",
              "</table>\n",
              "</div>"
            ],
            "text/plain": [
              "                                        Id  ...  AGE\n",
              "0     27b0d72c-f2fb-7e25-38c0-7d5120ebbedf  ...   76\n",
              "1     17f0c6d9-8931-8839-66cb-3ca6fb066d3e  ...   62\n",
              "2     aff157cc-b6d3-412b-ccbe-bfd5fac1c2d5  ...   30\n",
              "1047  4c523ab1-3255-911a-7eef-3bc3e48b7b05  ...   60\n",
              "1048  8d49cb05-b1c3-b8fe-dc75-e43ad861f074  ...  100\n",
              "1049  fce5ed5c-e218-4839-a0c5-6ef906e5ae73  ...  101\n",
              "\n",
              "[6 rows x 15 columns]"
            ]
          },
          "metadata": {
            "tags": []
          },
          "execution_count": 291
        }
      ]
    },
    {
      "cell_type": "code",
      "metadata": {
        "colab": {
          "base_uri": "https://localhost:8080/",
          "height": 227
        },
        "id": "NGnFu-AxZOb1",
        "outputId": "ab3900b0-650e-4cc1-ed3a-cb78b6225b03"
      },
      "source": [
        "# Observations\r\n",
        "\r\n",
        "observation_cov = pd.read_csv(material_path_covid19 + \"/observations.csv\")\r\n",
        "observation_cov[\"STUDY\"] = 2\r\n",
        "\r\n",
        "observation_all = pd.read_csv(material_path_allergy + \"/observations.csv\")\r\n",
        "observation_all[\"STUDY\"] = 1\r\n",
        "\r\n",
        "observation = pd.concat([observation_all, observation_cov]).drop_duplicates()\r\n",
        "\r\n",
        "observation = observation.drop(['ENCOUNTER', 'TYPE'], axis=1)\r\n",
        "\r\n",
        "observation[\"DATE\"] = pd.to_datetime(observation[\"DATE\"])\r\n",
        "\r\n",
        "pd.concat([observation.head(3), observation.tail(3)])"
      ],
      "execution_count": null,
      "outputs": [
        {
          "output_type": "execute_result",
          "data": {
            "text/html": [
              "<div>\n",
              "<style scoped>\n",
              "    .dataframe tbody tr th:only-of-type {\n",
              "        vertical-align: middle;\n",
              "    }\n",
              "\n",
              "    .dataframe tbody tr th {\n",
              "        vertical-align: top;\n",
              "    }\n",
              "\n",
              "    .dataframe thead th {\n",
              "        text-align: right;\n",
              "    }\n",
              "</style>\n",
              "<table border=\"1\" class=\"dataframe\">\n",
              "  <thead>\n",
              "    <tr style=\"text-align: right;\">\n",
              "      <th></th>\n",
              "      <th>DATE</th>\n",
              "      <th>PATIENT</th>\n",
              "      <th>CODE</th>\n",
              "      <th>DESCRIPTION</th>\n",
              "      <th>VALUE</th>\n",
              "      <th>UNITS</th>\n",
              "      <th>STUDY</th>\n",
              "    </tr>\n",
              "  </thead>\n",
              "  <tbody>\n",
              "    <tr>\n",
              "      <th>0</th>\n",
              "      <td>2011-04-11 11:40:19+00:00</td>\n",
              "      <td>3575b903-dbd0-1d55-6146-9e8aa4ed52a5</td>\n",
              "      <td>8302-2</td>\n",
              "      <td>Body Height</td>\n",
              "      <td>152.6</td>\n",
              "      <td>cm</td>\n",
              "      <td>1</td>\n",
              "    </tr>\n",
              "    <tr>\n",
              "      <th>1</th>\n",
              "      <td>2011-04-11 11:40:19+00:00</td>\n",
              "      <td>3575b903-dbd0-1d55-6146-9e8aa4ed52a5</td>\n",
              "      <td>72514-3</td>\n",
              "      <td>Pain severity - 0-10 verbal numeric rating [Sc...</td>\n",
              "      <td>2.0</td>\n",
              "      <td>{score}</td>\n",
              "      <td>1</td>\n",
              "    </tr>\n",
              "    <tr>\n",
              "      <th>2</th>\n",
              "      <td>2011-04-11 11:40:19+00:00</td>\n",
              "      <td>3575b903-dbd0-1d55-6146-9e8aa4ed52a5</td>\n",
              "      <td>29463-7</td>\n",
              "      <td>Body Weight</td>\n",
              "      <td>65.9</td>\n",
              "      <td>kg</td>\n",
              "      <td>1</td>\n",
              "    </tr>\n",
              "    <tr>\n",
              "      <th>119934</th>\n",
              "      <td>2018-02-27 06:00:19+00:00</td>\n",
              "      <td>fce5ed5c-e218-4839-a0c5-6ef906e5ae73</td>\n",
              "      <td>QOLS</td>\n",
              "      <td>QOLS</td>\n",
              "      <td>0.9</td>\n",
              "      <td>{score}</td>\n",
              "      <td>2</td>\n",
              "    </tr>\n",
              "    <tr>\n",
              "      <th>119935</th>\n",
              "      <td>2019-02-27 06:00:19+00:00</td>\n",
              "      <td>fce5ed5c-e218-4839-a0c5-6ef906e5ae73</td>\n",
              "      <td>QOLS</td>\n",
              "      <td>QOLS</td>\n",
              "      <td>0.9</td>\n",
              "      <td>{score}</td>\n",
              "      <td>2</td>\n",
              "    </tr>\n",
              "    <tr>\n",
              "      <th>119936</th>\n",
              "      <td>2020-02-27 06:00:19+00:00</td>\n",
              "      <td>fce5ed5c-e218-4839-a0c5-6ef906e5ae73</td>\n",
              "      <td>QOLS</td>\n",
              "      <td>QOLS</td>\n",
              "      <td>1.0</td>\n",
              "      <td>{score}</td>\n",
              "      <td>2</td>\n",
              "    </tr>\n",
              "  </tbody>\n",
              "</table>\n",
              "</div>"
            ],
            "text/plain": [
              "                            DATE  ... STUDY\n",
              "0      2011-04-11 11:40:19+00:00  ...     1\n",
              "1      2011-04-11 11:40:19+00:00  ...     1\n",
              "2      2011-04-11 11:40:19+00:00  ...     1\n",
              "119934 2018-02-27 06:00:19+00:00  ...     2\n",
              "119935 2019-02-27 06:00:19+00:00  ...     2\n",
              "119936 2020-02-27 06:00:19+00:00  ...     2\n",
              "\n",
              "[6 rows x 7 columns]"
            ]
          },
          "metadata": {
            "tags": []
          },
          "execution_count": 292
        }
      ]
    },
    {
      "cell_type": "code",
      "metadata": {
        "id": "hDPcbxUzLOyu",
        "colab": {
          "base_uri": "https://localhost:8080/",
          "height": 227
        },
        "outputId": "112d8f2e-d02d-4a24-9e48-9b14f5c33b6f"
      },
      "source": [
        "# Conditions\r\n",
        "\r\n",
        "condition_cov = pd.read_csv(material_path_covid19 + \"/conditions.csv\")\r\n",
        "condition_cov[\"STUDY\"] = 2\r\n",
        "\r\n",
        "condition_all = pd.read_csv(material_path_allergy + \"/conditions.csv\")\r\n",
        "condition_all[\"STUDY\"] = 1\r\n",
        "\r\n",
        "condition = pd.concat([condition_all, condition_cov]).drop_duplicates()\r\n",
        "\r\n",
        "condition = condition.drop(['ENCOUNTER'], axis=1)\r\n",
        "\r\n",
        "condition[\"START\"] = pd.to_datetime(condition[\"START\"])\r\n",
        "condition[\"STOP\"] = condition.STOP.fillna(pd.to_datetime(\"today\"))\r\n",
        "\r\n",
        "condition[\"STOP\"] = pd.to_datetime(condition[\"STOP\"])\r\n",
        "\r\n",
        "pd.concat([condition.head(3), condition.tail(3)])"
      ],
      "execution_count": null,
      "outputs": [
        {
          "output_type": "execute_result",
          "data": {
            "text/html": [
              "<div>\n",
              "<style scoped>\n",
              "    .dataframe tbody tr th:only-of-type {\n",
              "        vertical-align: middle;\n",
              "    }\n",
              "\n",
              "    .dataframe tbody tr th {\n",
              "        vertical-align: top;\n",
              "    }\n",
              "\n",
              "    .dataframe thead th {\n",
              "        text-align: right;\n",
              "    }\n",
              "</style>\n",
              "<table border=\"1\" class=\"dataframe\">\n",
              "  <thead>\n",
              "    <tr style=\"text-align: right;\">\n",
              "      <th></th>\n",
              "      <th>START</th>\n",
              "      <th>STOP</th>\n",
              "      <th>PATIENT</th>\n",
              "      <th>CODE</th>\n",
              "      <th>DESCRIPTION</th>\n",
              "      <th>STUDY</th>\n",
              "    </tr>\n",
              "  </thead>\n",
              "  <tbody>\n",
              "    <tr>\n",
              "      <th>0</th>\n",
              "      <td>1946-01-11</td>\n",
              "      <td>2021-02-07 13:19:54.179491</td>\n",
              "      <td>3575b903-dbd0-1d55-6146-9e8aa4ed52a5</td>\n",
              "      <td>232353008</td>\n",
              "      <td>Perennial allergic rhinitis with seasonal vari...</td>\n",
              "      <td>1</td>\n",
              "    </tr>\n",
              "    <tr>\n",
              "      <th>1</th>\n",
              "      <td>1955-01-17</td>\n",
              "      <td>2021-02-07 13:19:54.179491</td>\n",
              "      <td>3575b903-dbd0-1d55-6146-9e8aa4ed52a5</td>\n",
              "      <td>162864005</td>\n",
              "      <td>Body mass index 30+ - obesity (finding)</td>\n",
              "      <td>1</td>\n",
              "    </tr>\n",
              "    <tr>\n",
              "      <th>2</th>\n",
              "      <td>1999-06-06</td>\n",
              "      <td>2021-02-07 13:19:54.179491</td>\n",
              "      <td>17f0c6d9-8931-8839-66cb-3ca6fb066d3e</td>\n",
              "      <td>162864005</td>\n",
              "      <td>Body mass index 30+ - obesity (finding)</td>\n",
              "      <td>1</td>\n",
              "    </tr>\n",
              "    <tr>\n",
              "      <th>6372</th>\n",
              "      <td>2020-03-25</td>\n",
              "      <td>2021-02-07 13:19:54.179491</td>\n",
              "      <td>8d49cb05-b1c3-b8fe-dc75-e43ad861f074</td>\n",
              "      <td>67782005</td>\n",
              "      <td>Acute respiratory distress syndrome (disorder)</td>\n",
              "      <td>2</td>\n",
              "    </tr>\n",
              "    <tr>\n",
              "      <th>6373</th>\n",
              "      <td>1991-09-20</td>\n",
              "      <td>2021-02-07 13:19:54.179491</td>\n",
              "      <td>fce5ed5c-e218-4839-a0c5-6ef906e5ae73</td>\n",
              "      <td>230690007</td>\n",
              "      <td>Stroke</td>\n",
              "      <td>2</td>\n",
              "    </tr>\n",
              "    <tr>\n",
              "      <th>6374</th>\n",
              "      <td>2016-11-18</td>\n",
              "      <td>2021-02-07 13:19:54.179491</td>\n",
              "      <td>fce5ed5c-e218-4839-a0c5-6ef906e5ae73</td>\n",
              "      <td>49436004</td>\n",
              "      <td>Atrial Fibrillation</td>\n",
              "      <td>2</td>\n",
              "    </tr>\n",
              "  </tbody>\n",
              "</table>\n",
              "</div>"
            ],
            "text/plain": [
              "          START  ... STUDY\n",
              "0    1946-01-11  ...     1\n",
              "1    1955-01-17  ...     1\n",
              "2    1999-06-06  ...     1\n",
              "6372 2020-03-25  ...     2\n",
              "6373 1991-09-20  ...     2\n",
              "6374 2016-11-18  ...     2\n",
              "\n",
              "[6 rows x 6 columns]"
            ]
          },
          "metadata": {
            "tags": []
          },
          "execution_count": 293
        }
      ]
    },
    {
      "cell_type": "code",
      "metadata": {
        "colab": {
          "base_uri": "https://localhost:8080/",
          "height": 227
        },
        "id": "uxbzXIr_c0fg",
        "outputId": "5b86a0de-dcb1-4170-a308-962db2931e9a"
      },
      "source": [
        "# Procedures\r\n",
        "\r\n",
        "procedure_cov = pd.read_csv(material_path_covid19 + \"/procedures.csv\")\r\n",
        "procedure_cov[\"STUDY\"] = 2\r\n",
        "\r\n",
        "procedure_all = pd.read_csv(material_path_allergy + \"/procedures.csv\")\r\n",
        "procedure_all[\"STUDY\"] = 1\r\n",
        "\r\n",
        "procedure = pd.concat([procedure_all, procedure_cov])\r\n",
        "\r\n",
        "procedure = procedure.drop(['ENCOUNTER', 'REASONCODE', 'REASONDESCRIPTION'], axis=1)\r\n",
        "\r\n",
        "procedure[\"DATE\"] = pd.to_datetime(procedure[\"DATE\"])\r\n",
        "\r\n",
        "pd.concat([procedure.head(3), procedure.tail(3)])"
      ],
      "execution_count": null,
      "outputs": [
        {
          "output_type": "execute_result",
          "data": {
            "text/html": [
              "<div>\n",
              "<style scoped>\n",
              "    .dataframe tbody tr th:only-of-type {\n",
              "        vertical-align: middle;\n",
              "    }\n",
              "\n",
              "    .dataframe tbody tr th {\n",
              "        vertical-align: top;\n",
              "    }\n",
              "\n",
              "    .dataframe thead th {\n",
              "        text-align: right;\n",
              "    }\n",
              "</style>\n",
              "<table border=\"1\" class=\"dataframe\">\n",
              "  <thead>\n",
              "    <tr style=\"text-align: right;\">\n",
              "      <th></th>\n",
              "      <th>DATE</th>\n",
              "      <th>PATIENT</th>\n",
              "      <th>CODE</th>\n",
              "      <th>DESCRIPTION</th>\n",
              "      <th>BASE_COST</th>\n",
              "      <th>STUDY</th>\n",
              "    </tr>\n",
              "  </thead>\n",
              "  <tbody>\n",
              "    <tr>\n",
              "      <th>0</th>\n",
              "      <td>2012-12-12 14:56:19+00:00</td>\n",
              "      <td>3575b903-dbd0-1d55-6146-9e8aa4ed52a5</td>\n",
              "      <td>73761001</td>\n",
              "      <td>Colonoscopy</td>\n",
              "      <td>9209.61</td>\n",
              "      <td>1</td>\n",
              "    </tr>\n",
              "    <tr>\n",
              "      <th>1</th>\n",
              "      <td>2015-05-04 11:40:19+00:00</td>\n",
              "      <td>3575b903-dbd0-1d55-6146-9e8aa4ed52a5</td>\n",
              "      <td>430193006</td>\n",
              "      <td>Medication Reconciliation (procedure)</td>\n",
              "      <td>414.03</td>\n",
              "      <td>1</td>\n",
              "    </tr>\n",
              "    <tr>\n",
              "      <th>2</th>\n",
              "      <td>2017-12-11 15:25:19+00:00</td>\n",
              "      <td>3575b903-dbd0-1d55-6146-9e8aa4ed52a5</td>\n",
              "      <td>73761001</td>\n",
              "      <td>Colonoscopy</td>\n",
              "      <td>13437.13</td>\n",
              "      <td>1</td>\n",
              "    </tr>\n",
              "    <tr>\n",
              "      <th>4454</th>\n",
              "      <td>2017-11-24 06:00:19+00:00</td>\n",
              "      <td>fce5ed5c-e218-4839-a0c5-6ef906e5ae73</td>\n",
              "      <td>18286008</td>\n",
              "      <td>Catheter ablation of tissue of heart</td>\n",
              "      <td>18651.66</td>\n",
              "      <td>2</td>\n",
              "    </tr>\n",
              "    <tr>\n",
              "      <th>4455</th>\n",
              "      <td>2018-11-30 06:00:19+00:00</td>\n",
              "      <td>fce5ed5c-e218-4839-a0c5-6ef906e5ae73</td>\n",
              "      <td>180325003</td>\n",
              "      <td>Electrical cardioversion</td>\n",
              "      <td>35410.97</td>\n",
              "      <td>2</td>\n",
              "    </tr>\n",
              "    <tr>\n",
              "      <th>4456</th>\n",
              "      <td>2019-12-06 06:00:19+00:00</td>\n",
              "      <td>fce5ed5c-e218-4839-a0c5-6ef906e5ae73</td>\n",
              "      <td>180325003</td>\n",
              "      <td>Electrical cardioversion</td>\n",
              "      <td>29709.10</td>\n",
              "      <td>2</td>\n",
              "    </tr>\n",
              "  </tbody>\n",
              "</table>\n",
              "</div>"
            ],
            "text/plain": [
              "                          DATE  ... STUDY\n",
              "0    2012-12-12 14:56:19+00:00  ...     1\n",
              "1    2015-05-04 11:40:19+00:00  ...     1\n",
              "2    2017-12-11 15:25:19+00:00  ...     1\n",
              "4454 2017-11-24 06:00:19+00:00  ...     2\n",
              "4455 2018-11-30 06:00:19+00:00  ...     2\n",
              "4456 2019-12-06 06:00:19+00:00  ...     2\n",
              "\n",
              "[6 rows x 6 columns]"
            ]
          },
          "metadata": {
            "tags": []
          },
          "execution_count": 294
        }
      ]
    },
    {
      "cell_type": "markdown",
      "metadata": {
        "id": "Iz5wAG0aN7Nb"
      },
      "source": [
        "## Data Warehouse\n",
        "### Vorbereitung der Dimentionen für Data Warehouse mit Hilfe der Tabelle `patients`\n",
        "\n",
        "* Spalten von Interesse herausnehmen\n",
        "* Lösche reduntante Werte\n",
        "* Erstellung neues Index\n",
        "* Einfüge neue Spalte mit IDs"
      ]
    },
    {
      "cell_type": "code",
      "metadata": {
        "colab": {
          "base_uri": "https://localhost:8080/",
          "height": 107
        },
        "id": "C4sBTzblIkgE",
        "outputId": "12eb2052-5496-4037-f443-8cc133620047"
      },
      "source": [
        "# gender\n",
        "# select gender\n",
        "gender = patient[['GENDER']]\n",
        "\n",
        "# delete duplicated\n",
        "gender = gender.drop_duplicates()\n",
        "\n",
        "# new index\n",
        "gender = gender.reset_index()\n",
        "\n",
        "# new column with IDs\n",
        "gender[\"ID\"] = gender.index + 1\n",
        "gender = gender.drop(['index'], axis=1)\n",
        "\n",
        "gender"
      ],
      "execution_count": null,
      "outputs": [
        {
          "output_type": "execute_result",
          "data": {
            "text/html": [
              "<div>\n",
              "<style scoped>\n",
              "    .dataframe tbody tr th:only-of-type {\n",
              "        vertical-align: middle;\n",
              "    }\n",
              "\n",
              "    .dataframe tbody tr th {\n",
              "        vertical-align: top;\n",
              "    }\n",
              "\n",
              "    .dataframe thead th {\n",
              "        text-align: right;\n",
              "    }\n",
              "</style>\n",
              "<table border=\"1\" class=\"dataframe\">\n",
              "  <thead>\n",
              "    <tr style=\"text-align: right;\">\n",
              "      <th></th>\n",
              "      <th>GENDER</th>\n",
              "      <th>ID</th>\n",
              "    </tr>\n",
              "  </thead>\n",
              "  <tbody>\n",
              "    <tr>\n",
              "      <th>0</th>\n",
              "      <td>F</td>\n",
              "      <td>1</td>\n",
              "    </tr>\n",
              "    <tr>\n",
              "      <th>1</th>\n",
              "      <td>M</td>\n",
              "      <td>2</td>\n",
              "    </tr>\n",
              "  </tbody>\n",
              "</table>\n",
              "</div>"
            ],
            "text/plain": [
              "  GENDER  ID\n",
              "0      F   1\n",
              "1      M   2"
            ]
          },
          "metadata": {
            "tags": []
          },
          "execution_count": 295
        }
      ]
    },
    {
      "cell_type": "code",
      "metadata": {
        "id": "sT-r928EKx2w",
        "colab": {
          "base_uri": "https://localhost:8080/",
          "height": 167
        },
        "outputId": "b022e7d0-7c19-42a1-a268-5dd8e9457b1a"
      },
      "source": [
        "# race\n",
        "race = patient[['RACE']]\n",
        "race = race.drop_duplicates()\n",
        "\n",
        "race = race.reset_index()\n",
        "race['ID'] = race.index + 1\n",
        "race = race.drop('index', axis=1)\n",
        "\n",
        "race"
      ],
      "execution_count": null,
      "outputs": [
        {
          "output_type": "execute_result",
          "data": {
            "text/html": [
              "<div>\n",
              "<style scoped>\n",
              "    .dataframe tbody tr th:only-of-type {\n",
              "        vertical-align: middle;\n",
              "    }\n",
              "\n",
              "    .dataframe tbody tr th {\n",
              "        vertical-align: top;\n",
              "    }\n",
              "\n",
              "    .dataframe thead th {\n",
              "        text-align: right;\n",
              "    }\n",
              "</style>\n",
              "<table border=\"1\" class=\"dataframe\">\n",
              "  <thead>\n",
              "    <tr style=\"text-align: right;\">\n",
              "      <th></th>\n",
              "      <th>RACE</th>\n",
              "      <th>ID</th>\n",
              "    </tr>\n",
              "  </thead>\n",
              "  <tbody>\n",
              "    <tr>\n",
              "      <th>0</th>\n",
              "      <td>white</td>\n",
              "      <td>1</td>\n",
              "    </tr>\n",
              "    <tr>\n",
              "      <th>1</th>\n",
              "      <td>black</td>\n",
              "      <td>2</td>\n",
              "    </tr>\n",
              "    <tr>\n",
              "      <th>2</th>\n",
              "      <td>asian</td>\n",
              "      <td>3</td>\n",
              "    </tr>\n",
              "    <tr>\n",
              "      <th>3</th>\n",
              "      <td>native</td>\n",
              "      <td>4</td>\n",
              "    </tr>\n",
              "  </tbody>\n",
              "</table>\n",
              "</div>"
            ],
            "text/plain": [
              "     RACE  ID\n",
              "0   white   1\n",
              "1   black   2\n",
              "2   asian   3\n",
              "3  native   4"
            ]
          },
          "metadata": {
            "tags": []
          },
          "execution_count": 296
        }
      ]
    },
    {
      "cell_type": "code",
      "metadata": {
        "id": "23B65sRMK7sM",
        "colab": {
          "base_uri": "https://localhost:8080/",
          "height": 107
        },
        "outputId": "b881f343-b054-4ad9-d386-fcb15f81b02b"
      },
      "source": [
        "# marital\n",
        "marital = patient[['MARITAL']]\n",
        "marital = marital.drop_duplicates()\n",
        "\n",
        "marital = marital.reset_index()\n",
        "marital['ID'] = marital.index + 1\n",
        "marital = marital.drop('index', axis=1)\n",
        "\n",
        "marital"
      ],
      "execution_count": null,
      "outputs": [
        {
          "output_type": "execute_result",
          "data": {
            "text/html": [
              "<div>\n",
              "<style scoped>\n",
              "    .dataframe tbody tr th:only-of-type {\n",
              "        vertical-align: middle;\n",
              "    }\n",
              "\n",
              "    .dataframe tbody tr th {\n",
              "        vertical-align: top;\n",
              "    }\n",
              "\n",
              "    .dataframe thead th {\n",
              "        text-align: right;\n",
              "    }\n",
              "</style>\n",
              "<table border=\"1\" class=\"dataframe\">\n",
              "  <thead>\n",
              "    <tr style=\"text-align: right;\">\n",
              "      <th></th>\n",
              "      <th>MARITAL</th>\n",
              "      <th>ID</th>\n",
              "    </tr>\n",
              "  </thead>\n",
              "  <tbody>\n",
              "    <tr>\n",
              "      <th>0</th>\n",
              "      <td>M</td>\n",
              "      <td>1</td>\n",
              "    </tr>\n",
              "    <tr>\n",
              "      <th>1</th>\n",
              "      <td>S</td>\n",
              "      <td>2</td>\n",
              "    </tr>\n",
              "  </tbody>\n",
              "</table>\n",
              "</div>"
            ],
            "text/plain": [
              "  MARITAL  ID\n",
              "0       M   1\n",
              "1       S   2"
            ]
          },
          "metadata": {
            "tags": []
          },
          "execution_count": 297
        }
      ]
    },
    {
      "cell_type": "code",
      "metadata": {
        "id": "Ik0G8BAUK92b",
        "colab": {
          "base_uri": "https://localhost:8080/",
          "height": 107
        },
        "outputId": "41b99b05-0e44-49c0-ebb2-ccbb3d2d6b71"
      },
      "source": [
        "# ethnicity\n",
        "ethnicity = patient[['ETHNICITY']]\n",
        "ethnicity = ethnicity.drop_duplicates()\n",
        "\n",
        "ethnicity = ethnicity.reset_index()\n",
        "ethnicity['ID'] = ethnicity.index + 1\n",
        "ethnicity = ethnicity.drop('index', axis=1)\n",
        "\n",
        "ethnicity"
      ],
      "execution_count": null,
      "outputs": [
        {
          "output_type": "execute_result",
          "data": {
            "text/html": [
              "<div>\n",
              "<style scoped>\n",
              "    .dataframe tbody tr th:only-of-type {\n",
              "        vertical-align: middle;\n",
              "    }\n",
              "\n",
              "    .dataframe tbody tr th {\n",
              "        vertical-align: top;\n",
              "    }\n",
              "\n",
              "    .dataframe thead th {\n",
              "        text-align: right;\n",
              "    }\n",
              "</style>\n",
              "<table border=\"1\" class=\"dataframe\">\n",
              "  <thead>\n",
              "    <tr style=\"text-align: right;\">\n",
              "      <th></th>\n",
              "      <th>ETHNICITY</th>\n",
              "      <th>ID</th>\n",
              "    </tr>\n",
              "  </thead>\n",
              "  <tbody>\n",
              "    <tr>\n",
              "      <th>0</th>\n",
              "      <td>nonhispanic</td>\n",
              "      <td>1</td>\n",
              "    </tr>\n",
              "    <tr>\n",
              "      <th>1</th>\n",
              "      <td>hispanic</td>\n",
              "      <td>2</td>\n",
              "    </tr>\n",
              "  </tbody>\n",
              "</table>\n",
              "</div>"
            ],
            "text/plain": [
              "     ETHNICITY  ID\n",
              "0  nonhispanic   1\n",
              "1     hispanic   2"
            ]
          },
          "metadata": {
            "tags": []
          },
          "execution_count": 298
        }
      ]
    },
    {
      "cell_type": "code",
      "metadata": {
        "id": "X1E51k5LLL8G",
        "colab": {
          "base_uri": "https://localhost:8080/",
          "height": 107
        },
        "outputId": "2ce8e8d9-9f4f-443a-9429-c0988c22c275"
      },
      "source": [
        "# study\n",
        "study = patient[['STUDY']]\n",
        "study = study.drop_duplicates()\n",
        "\n",
        "study = study.reset_index()\n",
        "study['ID'] = study.index + 1\n",
        "study = study.drop('index', axis=1)\n",
        "\n",
        "study"
      ],
      "execution_count": null,
      "outputs": [
        {
          "output_type": "execute_result",
          "data": {
            "text/html": [
              "<div>\n",
              "<style scoped>\n",
              "    .dataframe tbody tr th:only-of-type {\n",
              "        vertical-align: middle;\n",
              "    }\n",
              "\n",
              "    .dataframe tbody tr th {\n",
              "        vertical-align: top;\n",
              "    }\n",
              "\n",
              "    .dataframe thead th {\n",
              "        text-align: right;\n",
              "    }\n",
              "</style>\n",
              "<table border=\"1\" class=\"dataframe\">\n",
              "  <thead>\n",
              "    <tr style=\"text-align: right;\">\n",
              "      <th></th>\n",
              "      <th>STUDY</th>\n",
              "      <th>ID</th>\n",
              "    </tr>\n",
              "  </thead>\n",
              "  <tbody>\n",
              "    <tr>\n",
              "      <th>0</th>\n",
              "      <td>Allergy</td>\n",
              "      <td>1</td>\n",
              "    </tr>\n",
              "    <tr>\n",
              "      <th>1</th>\n",
              "      <td>COVID-19</td>\n",
              "      <td>2</td>\n",
              "    </tr>\n",
              "  </tbody>\n",
              "</table>\n",
              "</div>"
            ],
            "text/plain": [
              "      STUDY  ID\n",
              "0   Allergy   1\n",
              "1  COVID-19   2"
            ]
          },
          "metadata": {
            "tags": []
          },
          "execution_count": 299
        }
      ]
    },
    {
      "cell_type": "code",
      "metadata": {
        "id": "L7iirCoXLPBm",
        "colab": {
          "base_uri": "https://localhost:8080/",
          "height": 137
        },
        "outputId": "6f62c011-6aba-466a-92c6-87e4c49cc98c"
      },
      "source": [
        "# city\n",
        "city = patient[['CITY']]\n",
        "city = city.drop_duplicates()\n",
        "\n",
        "city = city.reset_index()\n",
        "city['ID'] = city.index + 1\n",
        "city = city.drop('index', axis=1)\n",
        "\n",
        "city.head(3)"
      ],
      "execution_count": null,
      "outputs": [
        {
          "output_type": "execute_result",
          "data": {
            "text/html": [
              "<div>\n",
              "<style scoped>\n",
              "    .dataframe tbody tr th:only-of-type {\n",
              "        vertical-align: middle;\n",
              "    }\n",
              "\n",
              "    .dataframe tbody tr th {\n",
              "        vertical-align: top;\n",
              "    }\n",
              "\n",
              "    .dataframe thead th {\n",
              "        text-align: right;\n",
              "    }\n",
              "</style>\n",
              "<table border=\"1\" class=\"dataframe\">\n",
              "  <thead>\n",
              "    <tr style=\"text-align: right;\">\n",
              "      <th></th>\n",
              "      <th>CITY</th>\n",
              "      <th>ID</th>\n",
              "    </tr>\n",
              "  </thead>\n",
              "  <tbody>\n",
              "    <tr>\n",
              "      <th>0</th>\n",
              "      <td>Kingston</td>\n",
              "      <td>1</td>\n",
              "    </tr>\n",
              "    <tr>\n",
              "      <th>1</th>\n",
              "      <td>Sutton</td>\n",
              "      <td>2</td>\n",
              "    </tr>\n",
              "    <tr>\n",
              "      <th>2</th>\n",
              "      <td>Haverhill</td>\n",
              "      <td>3</td>\n",
              "    </tr>\n",
              "  </tbody>\n",
              "</table>\n",
              "</div>"
            ],
            "text/plain": [
              "        CITY  ID\n",
              "0   Kingston   1\n",
              "1     Sutton   2\n",
              "2  Haverhill   3"
            ]
          },
          "metadata": {
            "tags": []
          },
          "execution_count": 300
        }
      ]
    },
    {
      "cell_type": "markdown",
      "metadata": {
        "id": "0OdLCGnlU7us"
      },
      "source": [
        "## Tabellen fürs Data Warehouse"
      ]
    },
    {
      "cell_type": "code",
      "metadata": {
        "id": "FXY1v3STnV83"
      },
      "source": [
        "sql_table_dwh = {} # Data Warehouse"
      ],
      "execution_count": null,
      "outputs": []
    },
    {
      "cell_type": "markdown",
      "metadata": {
        "id": "Zx2Q-fBHtHRc"
      },
      "source": [
        "### Tabellen für \"rohe\" Daten in Data Warehouse"
      ]
    },
    {
      "cell_type": "code",
      "metadata": {
        "id": "UNwJ0Ce8YKmR"
      },
      "source": [
        "# patient: Id\tBIRTHDATE\tDEATHDATE\tMARITAL\tRACE\tETHNICITY\tGENDER\tCITY\tLAT\tLON\tHEALTHCARE_EXPENSES\tHEALTHCARE_COVERAGE\tSTUDY\tPSPID\tAGE\r\n",
        "sql_table_dwh['patient'] = \"\"\"\r\n",
        "  create table if not exists patient(\r\n",
        "    ID VARCHAR,\r\n",
        "    BIRTHDATE INTEGER,\r\n",
        "    DEATHDATE INTEGER,\r\n",
        "    MARITAL VARCHAR,\r\n",
        "    RACE VARCHAR,\r\n",
        "    ETHNICITY VARCHAR,\r\n",
        "    GENDER VARCHAR,\r\n",
        "    CITY VARCHAR,\r\n",
        "    LAT DOUBLE,\r\n",
        "    LON DOUBLE,\r\n",
        "    HEALTHCARE_EXPENSES DOUBLE,\r\n",
        "    HEALTHCARE_COVERAGE DOUBLE,\r\n",
        "    STUDY VARCHAR,\r\n",
        "    PSPID VARCHAR,\r\n",
        "    AGE INTEGER\r\n",
        "  );\r\n",
        "  \"\"\"\r\n"
      ],
      "execution_count": null,
      "outputs": []
    },
    {
      "cell_type": "code",
      "metadata": {
        "id": "D5_DG8UWpLfh"
      },
      "source": [
        "# observations: DATE\tPATIENT\tCODE\tDESCRIPTION\tVALUE\tUNITS\tSTUDY\r\n",
        "sql_table_dwh['observation'] = \"\"\"\r\n",
        "  create table if not exists observation(\r\n",
        "    DATE DATE,\r\n",
        "    PATIENT VARCHAR,\r\n",
        "    CODE VARCHAR,\r\n",
        "    DESCRIPTION VARCHAR,\r\n",
        "    VALUE VARCHAR,\r\n",
        "    UNITS VARCHAR,\r\n",
        "    STUDY VARCHAR\r\n",
        "  );\r\n",
        "\"\"\""
      ],
      "execution_count": null,
      "outputs": []
    },
    {
      "cell_type": "code",
      "metadata": {
        "id": "S39-Pe0vp1WS"
      },
      "source": [
        "# conditions: START\tSTOP\tPATIENT\tCODE\tDESCRIPTION\tSTUDY\r\n",
        "sql_table_dwh['condition'] = \"\"\"\r\n",
        "  create table if not exists condition(\r\n",
        "    START DATE,\r\n",
        "    STOP DATE,\r\n",
        "    PATIENT VARCHAR,\r\n",
        "    CODE VARCHAR,\r\n",
        "    DESCRIPTION VARCHAR,\r\n",
        "    STUDY VARCHAR\r\n",
        "  );\r\n",
        "\"\"\""
      ],
      "execution_count": null,
      "outputs": []
    },
    {
      "cell_type": "code",
      "metadata": {
        "id": "uCHCUossqN6q"
      },
      "source": [
        "# procedures: DATE\tPATIENT\tCODE\tDESCRIPTION\tBASE_COST\tSTUDY\r\n",
        "sql_table_dwh['procedures'] = \"\"\"\r\n",
        "  create table if not exists procedure(\r\n",
        "    DATE DATE,\r\n",
        "    PATIENT VARCHAR,\r\n",
        "    CODE VARCHAR,\r\n",
        "    DESCRIPTION VARCHAR,\r\n",
        "    BASE_COST VARCHAR,\r\n",
        "    STUDY VARCHAR\r\n",
        "  );\r\n",
        "\"\"\""
      ],
      "execution_count": null,
      "outputs": []
    },
    {
      "cell_type": "markdown",
      "metadata": {
        "id": "OVWVDGYatQee"
      },
      "source": [
        "## Dimension Tables fürs Data Warehouse"
      ]
    },
    {
      "cell_type": "code",
      "metadata": {
        "id": "UKWCXGj-TIKa"
      },
      "source": [
        "# patient\r\n",
        "sql_table_dwh['dimPatient'] = \"\"\"\r\n",
        "  create table if not exists dimPatient(\r\n",
        "    ID VARCHAR,\r\n",
        "    BIRTHDATE INTEGER,\r\n",
        "    DEATHDATE INTEGER,\r\n",
        "    LAT DOUBLE,\r\n",
        "    LON DOUBLE,\r\n",
        "    HEALTHCARE_EXPENSES DOUBLE,\r\n",
        "    HEALTHCARE_COVERAGE DOUBLE,\r\n",
        "    PSPID VARCHAR PRIMARY KEY,\r\n",
        "    AGE INTEGER\r\n",
        "  );\r\n",
        "\"\"\""
      ],
      "execution_count": null,
      "outputs": []
    },
    {
      "cell_type": "code",
      "metadata": {
        "id": "zDChEaONqvtD"
      },
      "source": [
        "# Gender\r\n",
        "sql_table_dwh['dimGender'] = \"\"\"\r\n",
        "  create table if not exists dimGender(\r\n",
        "    ID INTEGER PRIMARY KEY,\r\n",
        "    GENDER VARCHAR UNIQUE NOT NULL\r\n",
        "  );\r\n",
        "\"\"\""
      ],
      "execution_count": null,
      "outputs": []
    },
    {
      "cell_type": "code",
      "metadata": {
        "id": "y579JQ2-rHOL"
      },
      "source": [
        "# Study\r\n",
        "sql_table_dwh['dimStudy'] = \"\"\"\r\n",
        "  create table if not exists dimStudy(\r\n",
        "    ID INTEGER PRIMARY KEY,\r\n",
        "    STUDY VARCHAR UNIQUE NOT NULL\r\n",
        "  );\r\n",
        "\"\"\""
      ],
      "execution_count": null,
      "outputs": []
    },
    {
      "cell_type": "code",
      "metadata": {
        "id": "i9CSg4RarO5K"
      },
      "source": [
        "# City\r\n",
        "sql_table_dwh['dimCity'] = \"\"\"\r\n",
        "  create table if not exists dimCity(\r\n",
        "    ID INTEGER PRIMARY KEY,\r\n",
        "    CITY VARCHAR UNIQUE NOT NULL\r\n",
        "  );\r\n",
        "\"\"\""
      ],
      "execution_count": null,
      "outputs": []
    },
    {
      "cell_type": "code",
      "metadata": {
        "id": "haQ50H4frbUl"
      },
      "source": [
        "# Ethnicity\r\n",
        "sql_table_dwh['dimEthnicity'] = \"\"\"\r\n",
        "  create table if not exists dimEthnicity(\r\n",
        "    ID INTEGER PRIMARY KEY,\r\n",
        "    ETHNICITY VARCHAR UNIQUE NOT NULL\r\n",
        "  );\r\n",
        "\"\"\""
      ],
      "execution_count": null,
      "outputs": []
    },
    {
      "cell_type": "code",
      "metadata": {
        "id": "aaqioewPru1K"
      },
      "source": [
        "# Marital\r\n",
        "sql_table_dwh['dimMarital'] = \"\"\"\r\n",
        "  create table if not exists dimMarital(\r\n",
        "    ID INTEGER PRIMARY KEY,\r\n",
        "    MARITAL VARCHAR UNIQUE NOT NULL\r\n",
        "  );\r\n",
        "\"\"\""
      ],
      "execution_count": null,
      "outputs": []
    },
    {
      "cell_type": "code",
      "metadata": {
        "id": "45NpkLMWr-4Z"
      },
      "source": [
        "# Race\r\n",
        "sql_table_dwh['dimRace'] = \"\"\"\r\n",
        "  create table if not exists dimRace(\r\n",
        "    ID INTEGER PRIMARY KEY,\r\n",
        "    RACE VARCHAR UNIQUE NOT NULL\r\n",
        "  );\r\n",
        "\"\"\""
      ],
      "execution_count": null,
      "outputs": []
    },
    {
      "cell_type": "code",
      "metadata": {
        "id": "z2tclLkL4sWT"
      },
      "source": [
        "# SNOMED\r\n",
        "sql_table_dwh['dimSnomed'] = \"\"\"\r\n",
        "  create table if not exists dimSnomed(\r\n",
        "    CODE VARCHAR PRIMARY KEY,\r\n",
        "    DESCRIPTION VARCHAR UNIQUE NOT NULL\r\n",
        "  );\r\n",
        "\"\"\""
      ],
      "execution_count": null,
      "outputs": []
    },
    {
      "cell_type": "code",
      "metadata": {
        "id": "-NYXVpZo4q0M"
      },
      "source": [
        "# LOINC\r\n",
        "sql_table_dwh['dimLoinc'] = \"\"\"\r\n",
        "  create table if not exists dimLoinc(\r\n",
        "    CODE VARCHAR PRIMARY KEY,\r\n",
        "    DESCRIPTION VARCHAR UNIQUE NOT NULL\r\n",
        "  );\r\n",
        "\"\"\""
      ],
      "execution_count": null,
      "outputs": []
    },
    {
      "cell_type": "code",
      "metadata": {
        "colab": {
          "base_uri": "https://localhost:8080/"
        },
        "id": "vKWSvg40spf3",
        "outputId": "bdf75cd5-24f4-4842-cdc7-53b9d86183c9"
      },
      "source": [
        "# show tables\r\n",
        "print(sql_table_dwh.keys())"
      ],
      "execution_count": null,
      "outputs": [
        {
          "output_type": "stream",
          "text": [
            "dict_keys(['patient', 'observation', 'condition', 'procedures', 'dimPatient', 'dimGender', 'dimStudy', 'dimCity', 'dimEthnicity', 'dimMarital', 'dimRace', 'dimSnomed', 'dimLoinc'])\n"
          ],
          "name": "stdout"
        }
      ]
    },
    {
      "cell_type": "markdown",
      "metadata": {
        "id": "ZeNWcAdgtfE-"
      },
      "source": [
        "### Funktion für die Verbindung mit einer SQLite-Datenbank"
      ]
    },
    {
      "cell_type": "code",
      "metadata": {
        "id": "eT1jqbCLspP4"
      },
      "source": [
        "def connect_to_db(db_file):\r\n",
        "    sqlite3_conn = None\r\n",
        "    try:\r\n",
        "        sqlite3_conn = sq.connect(db_file)\r\n",
        "        return sqlite3_conn\r\n",
        "\r\n",
        "    except Error as err:\r\n",
        "        print(err)\r\n",
        "\r\n",
        "        if sqlite3_conn is not None:\r\n",
        "            sqlite3_conn.close()"
      ],
      "execution_count": null,
      "outputs": []
    },
    {
      "cell_type": "markdown",
      "metadata": {
        "id": "bKTkMI6Uc757"
      },
      "source": [
        "## Herstellung der Tabellen in Data Warehouse"
      ]
    },
    {
      "cell_type": "code",
      "metadata": {
        "id": "Bn3iipcf_kn9",
        "colab": {
          "base_uri": "https://localhost:8080/"
        },
        "outputId": "0893b295-a001-4c1d-b575-ce849d9c766c"
      },
      "source": [
        "conn_dwh = connect_to_db(db_file_path_cov_alle)\r\n",
        "if conn_dwh is not None:\r\n",
        "        cursor_dwh = conn_dwh.cursor()\r\n",
        "        for name in sql_table_dwh.keys():\r\n",
        "          print(name)\r\n",
        "          \r\n",
        "          cursor_dwh.execute(sql_table_dwh[name])\r\n",
        "else:\r\n",
        "        print('Connection to database failed')"
      ],
      "execution_count": null,
      "outputs": [
        {
          "output_type": "stream",
          "text": [
            "patient\n",
            "observation\n",
            "condition\n",
            "procedures\n",
            "dimPatient\n",
            "dimGender\n",
            "dimStudy\n",
            "dimCity\n",
            "dimEthnicity\n",
            "dimMarital\n",
            "dimRace\n",
            "dimSnomed\n",
            "dimLoinc\n"
          ],
          "name": "stdout"
        }
      ]
    },
    {
      "cell_type": "markdown",
      "metadata": {
        "id": "TOmMDCoqwCy6"
      },
      "source": [
        "### Einfüge der Information der Data Frames in Data Warehouse\n",
        "\n",
        "In dem Fall der Patient-Tabelle werden einige Spalten gelöscht und durch IDs erzets."
      ]
    },
    {
      "cell_type": "code",
      "metadata": {
        "id": "Nrf1qPrEXii7"
      },
      "source": [
        "# raw data\r\n",
        "patient.to_sql(name = 'patient', con=conn_dwh, if_exists='append', index=False)\r\n",
        "observation.to_sql(name = 'observation', con=conn_dwh, if_exists='append', index=False)\r\n",
        "condition.to_sql(name = 'condition', con=conn_dwh, if_exists='append', index=False)\r\n",
        "procedure.to_sql(name = 'procedure', con=conn_dwh, if_exists='append', index=False)\r\n",
        "\r\n",
        "# dimensions\r\n",
        "patient_to_dim = patient.drop(['MARITAL', 'RACE', 'GENDER', 'CITY', 'STUDY', 'ETHNICITY'], axis=1)\r\n",
        "patient_to_dim.to_sql(name = 'dimPatient', con=conn_dwh, if_exists='append', index=False)\r\n",
        "gender.to_sql(name = 'dimGender', con=conn_dwh, if_exists='append', index=False)\r\n",
        "study.to_sql(name = 'dimStudy', con=conn_dwh, if_exists='append', index=False)\r\n",
        "city.to_sql(name = 'dimCity', con=conn_dwh, if_exists='append', index=False)\r\n",
        "ethnicity.to_sql(name = 'dimEthnicity', con=conn_dwh, if_exists='append', index=False)\r\n",
        "marital.to_sql(name = 'dimMarital', con=conn_dwh, if_exists='append', index=False)\r\n",
        "race.to_sql(name = 'dimRace', con=conn_dwh, if_exists='append', index=False)"
      ],
      "execution_count": null,
      "outputs": []
    },
    {
      "cell_type": "markdown",
      "metadata": {
        "id": "Z1b7diy-W-Q2"
      },
      "source": [
        "### Extraktion von SNOMED-CT und LOINC für die Dimentionen in Data Warehouse\r\n",
        "\r\n",
        "**SQL-Erklärung**: Selektiert die verschiedene `code` und `description` der Tabellen ` procedure` und `condition` für SNOMED und `observation` für LOINC, davon für jede `code` nur die längste ` description` nehmen (es gibt `code` mit verschiedenen `description`), und sortiert das Ergebnis nach `code`.\r\n",
        "\r\n",
        "Solche SQL-Statement wird in einem Data Frame gespeichert, und in der Dimention Tabellen im Data Warehouse eingefügt."
      ]
    },
    {
      "cell_type": "code",
      "metadata": {
        "colab": {
          "base_uri": "https://localhost:8080/",
          "height": 137
        },
        "id": "FrQlmussJDbU",
        "outputId": "9b7e25db-7a2e-4ed1-9029-cc066e794afe"
      },
      "source": [
        "# SNOMED-CT\r\n",
        "snomed = pd.read_sql_query(\"\"\"\r\n",
        "select distinct code, description from(\r\n",
        "  select distinct code, description FROM \"procedure\" p  \r\n",
        "    union\r\n",
        "  select distinct code, description FROM \"condition\" c\r\n",
        ") as snomed \r\n",
        "group by code\r\n",
        "having max(LENGTH(description))\r\n",
        "order by code    \r\n",
        ";\"\"\", conn_dwh\r\n",
        "  )\r\n",
        "\r\n",
        "snomed.to_sql(name = 'dimSnomed', con=conn_dwh, if_exists='append', index=False)\r\n",
        "snomed.head(3)"
      ],
      "execution_count": null,
      "outputs": [
        {
          "output_type": "execute_result",
          "data": {
            "text/html": [
              "<div>\n",
              "<style scoped>\n",
              "    .dataframe tbody tr th:only-of-type {\n",
              "        vertical-align: middle;\n",
              "    }\n",
              "\n",
              "    .dataframe tbody tr th {\n",
              "        vertical-align: top;\n",
              "    }\n",
              "\n",
              "    .dataframe thead th {\n",
              "        text-align: right;\n",
              "    }\n",
              "</style>\n",
              "<table border=\"1\" class=\"dataframe\">\n",
              "  <thead>\n",
              "    <tr style=\"text-align: right;\">\n",
              "      <th></th>\n",
              "      <th>code</th>\n",
              "      <th>description</th>\n",
              "    </tr>\n",
              "  </thead>\n",
              "  <tbody>\n",
              "    <tr>\n",
              "      <th>0</th>\n",
              "      <td>10383002</td>\n",
              "      <td>Counseling for termination of pregnancy</td>\n",
              "    </tr>\n",
              "    <tr>\n",
              "      <th>1</th>\n",
              "      <td>104091002</td>\n",
              "      <td>Hemoglobin / Hematocrit / Platelet count</td>\n",
              "    </tr>\n",
              "    <tr>\n",
              "      <th>2</th>\n",
              "      <td>104326007</td>\n",
              "      <td>Measurement of Varicella-zoster virus antibody</td>\n",
              "    </tr>\n",
              "  </tbody>\n",
              "</table>\n",
              "</div>"
            ],
            "text/plain": [
              "        code                                     description\n",
              "0   10383002         Counseling for termination of pregnancy\n",
              "1  104091002        Hemoglobin / Hematocrit / Platelet count\n",
              "2  104326007  Measurement of Varicella-zoster virus antibody"
            ]
          },
          "metadata": {
            "tags": []
          },
          "execution_count": 319
        }
      ]
    },
    {
      "cell_type": "code",
      "metadata": {
        "colab": {
          "base_uri": "https://localhost:8080/",
          "height": 137
        },
        "id": "tKtlCc3wKHR6",
        "outputId": "ea515433-d8a5-468c-aabd-25f83b35d50b"
      },
      "source": [
        "loinc = pd.read_sql_query(\"\"\"\r\n",
        "select distinct code, description from(\r\n",
        "  select distinct code, description FROM observation \r\n",
        ") as loinc \r\n",
        "group by code\r\n",
        "having max(LENGTH(description))\r\n",
        "order by code\r\n",
        ";\"\"\", conn_dwh\r\n",
        "  )\r\n",
        "\r\n",
        "loinc.to_sql(name = 'dimLoinc', con=conn_dwh, if_exists='append', index=False)\r\n",
        "\r\n",
        "loinc.head(3)"
      ],
      "execution_count": null,
      "outputs": [
        {
          "output_type": "execute_result",
          "data": {
            "text/html": [
              "<div>\n",
              "<style scoped>\n",
              "    .dataframe tbody tr th:only-of-type {\n",
              "        vertical-align: middle;\n",
              "    }\n",
              "\n",
              "    .dataframe tbody tr th {\n",
              "        vertical-align: top;\n",
              "    }\n",
              "\n",
              "    .dataframe thead th {\n",
              "        text-align: right;\n",
              "    }\n",
              "</style>\n",
              "<table border=\"1\" class=\"dataframe\">\n",
              "  <thead>\n",
              "    <tr style=\"text-align: right;\">\n",
              "      <th></th>\n",
              "      <th>code</th>\n",
              "      <th>description</th>\n",
              "    </tr>\n",
              "  </thead>\n",
              "  <tbody>\n",
              "    <tr>\n",
              "      <th>0</th>\n",
              "      <td>10230-1</td>\n",
              "      <td>Left ventricular Ejection fraction</td>\n",
              "    </tr>\n",
              "    <tr>\n",
              "      <th>1</th>\n",
              "      <td>10834-0</td>\n",
              "      <td>Globulin [Mass/volume] in Serum by calculation</td>\n",
              "    </tr>\n",
              "    <tr>\n",
              "      <th>2</th>\n",
              "      <td>14804-9</td>\n",
              "      <td>Lactate dehydrogenase [Enzymatic activity/volu...</td>\n",
              "    </tr>\n",
              "  </tbody>\n",
              "</table>\n",
              "</div>"
            ],
            "text/plain": [
              "      code                                        description\n",
              "0  10230-1                 Left ventricular Ejection fraction\n",
              "1  10834-0     Globulin [Mass/volume] in Serum by calculation\n",
              "2  14804-9  Lactate dehydrogenase [Enzymatic activity/volu..."
            ]
          },
          "metadata": {
            "tags": []
          },
          "execution_count": 320
        }
      ]
    },
    {
      "cell_type": "markdown",
      "metadata": {
        "id": "HMDtzUF8JlQq"
      },
      "source": [
        "## Fakten Tabllen in Data Warehouse\r\n",
        "* `factObservation`\r\n",
        "* `factProcedure`\r\n",
        "* `factCondition`\r\n",
        "\r\n",
        "Jede Tabelle besitzt Indizes an jede Spalte mit IDs"
      ]
    },
    {
      "cell_type": "code",
      "metadata": {
        "id": "l8NiF2pQJjpb"
      },
      "source": [
        "sql_table_dwh = {} # tables\r\n",
        "sql_index_dwh = {} # indices"
      ],
      "execution_count": null,
      "outputs": []
    },
    {
      "cell_type": "code",
      "metadata": {
        "id": "8NsbkKNLK1KC"
      },
      "source": [
        "# factObservation\r\n",
        "sql_table_dwh['factObservation'] = \"\"\"\r\n",
        "  create table if not exists factObservation(\r\n",
        "    PATIENT_PSPID VARCHAR REFERENCES dimPatient(PSPID),\r\n",
        "    BIRTHYEAR INTEGER,\r\n",
        "    DEATHYEAR INTEGER,\r\n",
        "    MARITAL_ID VARCHAR REFERENCES dimMarital(ID),\r\n",
        "    RACE_ID VARCHAR REFERENCES dimRace(ID),\r\n",
        "    ETHNICITY_ID VARCHAR REFERENCES dimEthnicity(ID),\r\n",
        "    GENDER_ID VARCHAR REFERENCES dimGender(ID),\r\n",
        "    CITY_ID VARCHAR REFERENCES dimCity(ID),\r\n",
        "    STUDY_ID VARCHAR REFERENCES dimStudy(ID),\r\n",
        "    AGE INTEGER,\r\n",
        "    DATE DATE,\r\n",
        "    LOINC VARCHAR REFERENCES dimLoinc(CODE),\r\n",
        "    VALUE VARCHAR,\r\n",
        "    UNITS VARCHAR\r\n",
        "  );\r\n",
        "\"\"\"\r\n",
        "\r\n",
        "sql_index_dwh[\"ix_factObservation_patient\"] = \"\"\"CREATE INDEX if not exists ix_factObservation_patient on factObservation(PATIENT_PSPID);\"\"\"\r\n",
        "sql_index_dwh[\"ix_factObservation_marital\"] = \"\"\"CREATE INDEX if not exists ix_factObservation_marital on factObservation(MARITAL_ID);\"\"\"\r\n",
        "sql_index_dwh[\"ix_factObservation_race\"] = \"\"\"CREATE INDEX if not exists ix_factObservation_race on factObservation(RACE_ID);\"\"\"\r\n",
        "sql_index_dwh[\"ix_factObservation_ethnicity\"] = \"\"\"CREATE INDEX if not exists ix_factObservation_ethnicity on factObservation(ETHNICITY_ID);\"\"\"\r\n",
        "sql_index_dwh[\"ix_factObservation_gender\"] = \"\"\"CREATE INDEX if not exists ix_factObservation_gender on factObservation(GENDER_ID);\"\"\"\r\n",
        "sql_index_dwh[\"ix_factObservation_city\"] = \"\"\"CREATE INDEX if not exists ix_factObservation_city on factObservation(CITY_ID);\"\"\"\r\n",
        "sql_index_dwh[\"ix_factObservation_study\"] = \"\"\"CREATE INDEX if not exists ix_factObservation_study on factObservation(STUDY_ID);\"\"\"\r\n",
        "sql_index_dwh[\"ix_factObservation_loinc\"] = \"\"\"CREATE INDEX if not exists ix_factObservation_loinc on factObservation(LOINC);\"\"\""
      ],
      "execution_count": null,
      "outputs": []
    },
    {
      "cell_type": "code",
      "metadata": {
        "id": "vnl07y2hM-Gm"
      },
      "source": [
        "# factProcedure\r\n",
        "sql_table_dwh['factProcedure'] = \"\"\"\r\n",
        "  create table if not exists factProcedure(\r\n",
        "    PATIENT_PSPID VARCHAR REFERENCES dimPatient(PSPID),\r\n",
        "    BIRTHYEAR INTEGER,\r\n",
        "    DEATHYEAR INTEGER,\r\n",
        "    MARITAL_ID VARCHAR REFERENCES dimMarital(ID),\r\n",
        "    RACE_ID VARCHAR REFERENCES dimRace(ID),\r\n",
        "    ETHNICITY_ID VARCHAR REFERENCES dimEthnicity(ID),\r\n",
        "    GENDER_ID VARCHAR REFERENCES dimGender(ID),\r\n",
        "    CITY_ID VARCHAR REFERENCES dimCity(ID),\r\n",
        "    STUDY_ID VARCHAR REFERENCES dimStudy(ID),\r\n",
        "    AGE INTEGER,\r\n",
        "    DATE DATE,\r\n",
        "    SNOMED VARCHAR REFERENCES dimSnomed(CODE)\r\n",
        "  );\r\n",
        "\"\"\"\r\n",
        "\r\n",
        "sql_index_dwh[\"ix_factProcedure_patient\"] = \"\"\"CREATE INDEX if not exists ix_factProcedure_patient on factProcedure(PATIENT_PSPID);\"\"\"\r\n",
        "sql_index_dwh[\"ix_factProcedure_marital\"] = \"\"\"CREATE INDEX if not exists ix_factProcedure_marital on factProcedure(MARITAL_ID);\"\"\"\r\n",
        "sql_index_dwh[\"ix_factProcedure_race\"] = \"\"\"CREATE INDEX if not exists ix_factProcedure_race on factProcedure(RACE_ID);\"\"\"\r\n",
        "sql_index_dwh[\"ix_factProcedure_ethnicity\"] = \"\"\"CREATE INDEX if not exists ix_factProcedure_ethnicity on factProcedure(ETHNICITY_ID);\"\"\"\r\n",
        "sql_index_dwh[\"ix_factProcedure_gender\"] = \"\"\"CREATE INDEX if not exists ix_factProcedure_gender on factProcedure(GENDER_ID);\"\"\"\r\n",
        "sql_index_dwh[\"ix_factProcedure_city\"] = \"\"\"CREATE INDEX if not exists ix_factProcedure_city on factProcedure(CITY_ID);\"\"\"\r\n",
        "sql_index_dwh[\"ix_factProcedure_study\"] = \"\"\"CREATE INDEX if not exists ix_factProcedure_study on factProcedure(STUDY_ID);\"\"\"\r\n",
        "sql_index_dwh[\"ix_factProcedure_snomed\"] = \"\"\"CREATE INDEX if not exists ix_factProcedure_snomed on factProcedure(SNOMED);\"\"\""
      ],
      "execution_count": null,
      "outputs": []
    },
    {
      "cell_type": "code",
      "metadata": {
        "id": "_MOFhYglNTa-"
      },
      "source": [
        "# factCondition\r\n",
        "sql_table_dwh['factCondition'] = \"\"\"\r\n",
        "  create table if not exists factCondition(\r\n",
        "    PATIENT_PSPID VARCHAR REFERENCES dimPatient(PSPID),\r\n",
        "    BIRTHYEAR INTEGER,\r\n",
        "    DEATHYEAR INTEGER,\r\n",
        "    MARITAL_ID VARCHAR REFERENCES dimMarital(ID),\r\n",
        "    RACE_ID VARCHAR REFERENCES dimRace(ID),\r\n",
        "    ETHNICITY_ID VARCHAR REFERENCES dimEthnicity(ID),\r\n",
        "    GENDER_ID VARCHAR REFERENCES dimGender(ID),\r\n",
        "    CITY_ID VARCHAR REFERENCES dimCity(ID),\r\n",
        "    STUDY_ID VARCHAR REFERENCES dimStudy(ID),\r\n",
        "    AGE INTEGER,\r\n",
        "    START DATE,\r\n",
        "    STOP DATE,\r\n",
        "    SNOMED VARCHAR REFERENCES dimSnomed(CODE)\r\n",
        "  );\r\n",
        "\"\"\"\r\n",
        "\r\n",
        "sql_index_dwh[\"ix_factCondition_patient\"] = \"\"\"CREATE INDEX if not exists ix_factCondition_patient on factCondition(PATIENT_PSPID);\"\"\"\r\n",
        "sql_index_dwh[\"ix_factCondition_marital\"] = \"\"\"CREATE INDEX if not exists ix_factCondition_marital on factCondition(MARITAL_ID);\"\"\"\r\n",
        "sql_index_dwh[\"ix_factCondition_race\"] = \"\"\"CREATE INDEX if not exists ix_factCondition_race on factCondition(RACE_ID);\"\"\"\r\n",
        "sql_index_dwh[\"ix_factCondition_ethnicity\"] = \"\"\"CREATE INDEX if not exists ix_factCondition_ethnicity on factCondition(ETHNICITY_ID);\"\"\"\r\n",
        "sql_index_dwh[\"ix_factCondition_gender\"] = \"\"\"CREATE INDEX if not exists ix_factCondition_gender on factCondition(GENDER_ID);\"\"\"\r\n",
        "sql_index_dwh[\"ix_factCondition_city\"] = \"\"\"CREATE INDEX if not exists ix_factCondition_city on factCondition(CITY_ID);\"\"\"\r\n",
        "sql_index_dwh[\"ix_factCondition_study\"] = \"\"\"CREATE INDEX if not exists ix_factCondition_study on factCondition(STUDY_ID);\"\"\"\r\n",
        "sql_index_dwh[\"ix_factCondition_snomed\"] = \"\"\"CREATE INDEX if not exists ix_factCondition_snomed on factCondition(SNOMED);\"\"\""
      ],
      "execution_count": null,
      "outputs": []
    },
    {
      "cell_type": "code",
      "metadata": {
        "colab": {
          "base_uri": "https://localhost:8080/"
        },
        "id": "YvkqaLFIXKM1",
        "outputId": "13073f68-e999-4e6f-cf26-cf74ec422485"
      },
      "source": [
        "print(sql_table_dwh.keys()) # show tables\r\n",
        "print(sql_index_dwh.keys()) # show indices"
      ],
      "execution_count": null,
      "outputs": [
        {
          "output_type": "stream",
          "text": [
            "dict_keys(['factObservation', 'factProcedure', 'factCondition'])\n",
            "dict_keys(['ix_factObservation_patient', 'ix_factObservation_marital', 'ix_factObservation_race', 'ix_factObservation_ethnicity', 'ix_factObservation_gender', 'ix_factObservation_city', 'ix_factObservation_study', 'ix_factObservation_loinc', 'ix_factProcedure_patient', 'ix_factProcedure_marital', 'ix_factProcedure_race', 'ix_factProcedure_ethnicity', 'ix_factProcedure_gender', 'ix_factProcedure_city', 'ix_factProcedure_study', 'ix_factProcedure_snomed', 'ix_factCondition_patient', 'ix_factCondition_marital', 'ix_factCondition_race', 'ix_factCondition_ethnicity', 'ix_factCondition_gender', 'ix_factCondition_city', 'ix_factCondition_study', 'ix_factCondition_snomed'])\n"
          ],
          "name": "stdout"
        }
      ]
    },
    {
      "cell_type": "markdown",
      "metadata": {
        "id": "fi2L07riaEpO"
      },
      "source": [
        "###Herstellung der Fakten Tabellen und Indizes in Data Warehouse"
      ]
    },
    {
      "cell_type": "code",
      "metadata": {
        "colab": {
          "base_uri": "https://localhost:8080/"
        },
        "id": "2gwttmodXdKR",
        "outputId": "548e277a-5309-4146-91cc-98534d4c9eee"
      },
      "source": [
        "if conn_dwh is not None:\r\n",
        "        # cursor_dwh = conn_dwh.cursor()\r\n",
        "        for name in sql_table_dwh.keys():\r\n",
        "          print(name)\r\n",
        "          \r\n",
        "          cursor_dwh.execute(sql_table_dwh[name])\r\n",
        "\r\n",
        "        for ix_name in sql_index_dwh.keys():\r\n",
        "          print(ix_name)\r\n",
        "\r\n",
        "          cursor_dwh.execute(sql_index_dwh[ix_name])\r\n",
        "else:\r\n",
        "        print('Connection to database failed')"
      ],
      "execution_count": null,
      "outputs": [
        {
          "output_type": "stream",
          "text": [
            "factObservation\n",
            "factProcedure\n",
            "factCondition\n",
            "ix_factObservation_patient\n",
            "ix_factObservation_marital\n",
            "ix_factObservation_race\n",
            "ix_factObservation_ethnicity\n",
            "ix_factObservation_gender\n",
            "ix_factObservation_city\n",
            "ix_factObservation_study\n",
            "ix_factObservation_loinc\n",
            "ix_factProcedure_patient\n",
            "ix_factProcedure_marital\n",
            "ix_factProcedure_race\n",
            "ix_factProcedure_ethnicity\n",
            "ix_factProcedure_gender\n",
            "ix_factProcedure_city\n",
            "ix_factProcedure_study\n",
            "ix_factProcedure_snomed\n",
            "ix_factCondition_patient\n",
            "ix_factCondition_marital\n",
            "ix_factCondition_race\n",
            "ix_factCondition_ethnicity\n",
            "ix_factCondition_gender\n",
            "ix_factCondition_city\n",
            "ix_factCondition_study\n",
            "ix_factCondition_snomed\n"
          ],
          "name": "stdout"
        }
      ]
    },
    {
      "cell_type": "markdown",
      "metadata": {
        "id": "tr_tLv_ScrGx"
      },
      "source": [
        "### Auswahl der Information für Fakt Tabellen und einfügen in Fakt Tabellen in Data Warehouse\r\n",
        "\r\n",
        "- Auswahl der Information mit Hilfe von Select-Statement und speichern in Data Frame\r\n",
        "- Einfügen des Data Frames in Fakt Tabellen in Data Warehouse"
      ]
    },
    {
      "cell_type": "code",
      "metadata": {
        "id": "aQgTis125CO4"
      },
      "source": [
        "# fatObservation\r\n",
        "factObservation = pd.read_sql_query(\"\"\"\r\n",
        "select DISTINCT \r\n",
        "  PSPID PATIENT_PSPID, \r\n",
        "  BIRTHDATE BIRTHYEAR,\r\n",
        "  DEATHDATE DEATHYEAR,\r\n",
        "  dm.ID MARITAL_ID,\r\n",
        "  dr.ID RACE_ID ,\r\n",
        "  de.ID ETHNICITY_ID,\r\n",
        "  dg.ID GENDER_ID,\r\n",
        "  dc.ID CITY_ID,\r\n",
        "  ds.ID STUDY_ID,\r\n",
        "  AGE,\r\n",
        "  o.date DATE,\r\n",
        "  o.CODE LOINC,\r\n",
        "  o.VALUE,\r\n",
        "  o.UNITS \r\n",
        "from patient pat \r\n",
        "join dimMarital dm\r\n",
        "  on dm.MARITAL = pat.MARITAL\r\n",
        "join dimRace dr\r\n",
        "  on dr.RACE = pat.RACE\r\n",
        "join dimEthnicity de\r\n",
        "  on de.ETHNICITY = pat.ETHNICITY \r\n",
        "join dimCity dc \r\n",
        "  on dc.CITY = pat.CITY\r\n",
        "join dimGender dg\r\n",
        "  on dg.GENDER = pat.GENDER\r\n",
        "join dimStudy ds\r\n",
        "  on ds.STUDY = pat.STUDY\r\n",
        "join observation o\r\n",
        "  on o.PATIENT = pat.Id\r\n",
        ";\"\"\"\r\n",
        "  , conn_dwh)  \r\n",
        "\r\n",
        "factObservation.to_sql(name='factObservation', con=conn_dwh, if_exists='append', index=False)"
      ],
      "execution_count": null,
      "outputs": []
    },
    {
      "cell_type": "code",
      "metadata": {
        "id": "83iT73C66Ko3"
      },
      "source": [
        "# factProcedure\r\n",
        "factProcedure = pd.read_sql_query(\"\"\" \r\n",
        "  select DISTINCT \r\n",
        "  PSPID PATIENT_PSPID, \r\n",
        "  BIRTHDATE BIRTHYEAR,\r\n",
        "  DEATHDATE DEATHYEAR,\r\n",
        "  dm.ID MARITAL_ID,\r\n",
        "  dr.ID RACE_ID ,\r\n",
        "  de.ID ETHNICITY_ID,\r\n",
        "  dg.ID GENDER_ID,\r\n",
        "  dc.ID CITY_ID,\r\n",
        "  ds.ID STUDY_ID,\r\n",
        "  AGE,\r\n",
        "  p.date DATE,\r\n",
        "  p.CODE SNOMED\r\n",
        "from patient pat \r\n",
        "join dimMarital dm\r\n",
        "  on dm.MARITAL = pat.MARITAL\r\n",
        "join dimRace dr\r\n",
        "  on dr.RACE = pat.RACE\r\n",
        "join dimEthnicity de\r\n",
        "  on de.ETHNICITY = pat.ETHNICITY \r\n",
        "join dimCity dc \r\n",
        "  on dc.CITY = pat.CITY\r\n",
        "join dimGender dg\r\n",
        "  on dg.GENDER = pat.GENDER\r\n",
        "join dimStudy ds\r\n",
        "  on ds.STUDY = pat.STUDY\r\n",
        "join \"procedure\" p\r\n",
        "  on p.PATIENT = pat.Id\r\n",
        "  ;\"\"\", conn_dwh)\r\n",
        "\r\n",
        "factProcedure.to_sql(name='factProcedure', con=conn_dwh, if_exists='append', index=False)"
      ],
      "execution_count": null,
      "outputs": []
    },
    {
      "cell_type": "code",
      "metadata": {
        "id": "vybWQLgh6d-O"
      },
      "source": [
        "# factCondition\r\n",
        "factCondition = pd.read_sql_query(\"\"\"\r\n",
        "   select DISTINCT \r\n",
        "  PSPID PATIENT_PSPID, \r\n",
        "  BIRTHDATE BIRTHYEAR,\r\n",
        "  DEATHDATE DEATHYEAR,\r\n",
        "  dm.ID MARITAL_ID,\r\n",
        "  dr.ID RACE_ID ,\r\n",
        "  de.ID ETHNICITY_ID,\r\n",
        "  dg.ID GENDER_ID,\r\n",
        "  dc.ID CITY_ID,\r\n",
        "  ds.ID STUDY_ID,\r\n",
        "  AGE,\r\n",
        "  c.START,\r\n",
        "  c.STOP,\r\n",
        "  c.CODE SNOMED\r\n",
        "from patient pat \r\n",
        "join dimMarital dm\r\n",
        "  on dm.MARITAL = pat.MARITAL\r\n",
        "join dimRace dr\r\n",
        "  on dr.RACE = pat.RACE\r\n",
        "join dimEthnicity de\r\n",
        "  on de.ETHNICITY = pat.ETHNICITY \r\n",
        "join dimCity dc \r\n",
        "  on dc.CITY = pat.CITY\r\n",
        "join dimGender dg\r\n",
        "  on dg.GENDER = pat.GENDER\r\n",
        "join dimStudy ds\r\n",
        "  on ds.STUDY = pat.STUDY\r\n",
        "join \"condition\" c\r\n",
        "  on c.PATIENT = pat.Id \r\n",
        "    ;\"\"\", conn_dwh)\r\n",
        "\r\n",
        "\r\n",
        "factCondition.to_sql(name='factCondition', con=conn_dwh, if_exists='append', index=False)"
      ],
      "execution_count": null,
      "outputs": []
    },
    {
      "cell_type": "markdown",
      "metadata": {
        "id": "y1O3xgWuMc0j"
      },
      "source": [
        "## Views in Data Warehouse\r\n",
        "* `v_patients`\r\n",
        "* `v_observations`\r\n",
        "* `v_conditions`\r\n",
        "* `v_procedures`\r\n",
        "\r\n",
        "Solche Views dienen die Erleichterung der Data Analysis."
      ]
    },
    {
      "cell_type": "code",
      "metadata": {
        "colab": {
          "base_uri": "https://localhost:8080/"
        },
        "id": "Ps7MzyhzMq0l",
        "outputId": "3c681428-acec-48b7-c738-11a82ad1c1f0"
      },
      "source": [
        "cursor_dwh.executescript(\r\n",
        "    \"\"\"\r\n",
        "-- Patients\r\n",
        "\r\n",
        "CREATE view v_patients as\r\n",
        "select DISTINCT \r\n",
        "  PATIENT_PSPID PATIENT, \r\n",
        "  BIRTHYEAR, \r\n",
        "  DEATHYEAR,\r\n",
        "  MARITAL,\r\n",
        "  RACE,\r\n",
        "  ETHNICITY,\r\n",
        "  GENDER,\r\n",
        "  CITY,  \r\n",
        "  AGE,\r\n",
        "  STUDY\r\n",
        "from factObservation fo \r\n",
        "JOIN dimMarital dm \r\n",
        "  ON fo.MARITAL_ID = dm.ID \r\n",
        "join dimRace dr \r\n",
        "  on dr.ID = fo.RACE_ID \r\n",
        "join dimEthnicity de \r\n",
        "  on de.ID = fo.ETHNICITY_ID \r\n",
        "join dimGender dg \r\n",
        "  on dg.ID = fo.GENDER_ID\r\n",
        "join dimCity dc \r\n",
        "  on dc.ID = fo.CITY_ID\r\n",
        "join dimStudy ds \r\n",
        "  on ds.ID = fo.STUDY_ID ;\r\n",
        "\r\n",
        "-- Observations\r\n",
        "\r\n",
        "create view v_observations as\r\n",
        "select\r\n",
        "  PATIENT_PSPID PATIENT,\r\n",
        "  BIRTHYEAR,\r\n",
        "  DEATHYEAR,\r\n",
        "  dm.MARITAL,\r\n",
        "  dr.RACE,\r\n",
        "  de.ETHNICITY,\r\n",
        "  dg.GENDER,\r\n",
        "  dc.CITY ,\r\n",
        "  AGE,\r\n",
        "  DATE,\r\n",
        "  LOINC,\r\n",
        "  dl.description DESCRIPTION,\r\n",
        "  VALUE,\r\n",
        "  UNITS,\r\n",
        "  ds.STUDY \r\n",
        "from factObservation fo\r\n",
        "join dimMarital dm\r\n",
        "  on fo.MARITAL_ID = dm.ID\r\n",
        "join dimRace dr\r\n",
        "  on dr.ID = fo.RACE_ID\r\n",
        "join dimEthnicity de \r\n",
        "  on de.ID = fo.ETHNICITY_ID \r\n",
        "join dimGender dg \r\n",
        "  on dg.ID = fo.GENDER_ID\r\n",
        "join dimCity dc \r\n",
        "  on dc.ID = fo.CITY_ID\r\n",
        "join dimLoinc dl \r\n",
        "  on dl.code = fo.LOINC\r\n",
        "join dimStudy ds\r\n",
        "  on ds.ID = fo.STUDY_ID\r\n",
        ";\r\n",
        "\r\n",
        "-- Conditions\r\n",
        "\r\n",
        "create view v_conditions as\r\n",
        "select\r\n",
        "  PATIENT_PSPID PATIENT,\r\n",
        "  BIRTHYEAR,\r\n",
        "  DEATHYEAR,\r\n",
        "  dm.MARITAL,\r\n",
        "  dr.RACE,\r\n",
        "  de.ETHNICITY,\r\n",
        "  dg.GENDER,\r\n",
        "  dc.CITY ,\r\n",
        "  AGE,\r\n",
        "  \"START\" ,\r\n",
        "  STOP ,\r\n",
        "  SNOMED ,\r\n",
        "  dsn.description DESCRIPTION,\r\n",
        "  ds.STUDY \r\n",
        "from factCondition fc\r\n",
        "join dimMarital dm\r\n",
        "  on fc.MARITAL_ID = dm.ID\r\n",
        "join dimRace dr\r\n",
        "  on dr.ID = fc.RACE_ID\r\n",
        "join dimEthnicity de \r\n",
        "  on de.ID = fc.ETHNICITY_ID \r\n",
        "join dimGender dg \r\n",
        "  on dg.ID = fc.GENDER_ID\r\n",
        "join dimCity dc \r\n",
        "  on dc.ID = fc.CITY_ID\r\n",
        "join dimSnomed dsn \r\n",
        "  on dsn.code = fc.SNOMED \r\n",
        "join dimStudy ds\r\n",
        "  on ds.ID = fc.STUDY_ID\r\n",
        ";\r\n",
        "\r\n",
        "-- Procedures\r\n",
        "create view v_procedures as\r\n",
        "select\r\n",
        "  PATIENT_PSPID PATIENT,\r\n",
        "  BIRTHYEAR,\r\n",
        "  DEATHYEAR,\r\n",
        "  dm.MARITAL,\r\n",
        "  dr.RACE,\r\n",
        "  de.ETHNICITY,\r\n",
        "  dg.GENDER,\r\n",
        "  dc.CITY ,\r\n",
        "  AGE,\r\n",
        "  DATE ,\r\n",
        "  SNOMED ,\r\n",
        "  dsn.description DESCRIPTION,\r\n",
        "  ds.STUDY \r\n",
        "from factProcedure fc\r\n",
        "join dimMarital dm\r\n",
        "  on fc.MARITAL_ID = dm.ID\r\n",
        "join dimRace dr\r\n",
        "  on dr.ID = fc.RACE_ID\r\n",
        "join dimEthnicity de \r\n",
        "  on de.ID = fc.ETHNICITY_ID \r\n",
        "join dimGender dg \r\n",
        "  on dg.ID = fc.GENDER_ID\r\n",
        "join dimCity dc \r\n",
        "  on dc.ID = fc.CITY_ID\r\n",
        "join dimSnomed dsn \r\n",
        "  on dsn.code = fc.SNOMED \r\n",
        "join dimStudy ds\r\n",
        "  on ds.ID = fc.STUDY_ID\r\n",
        ";\r\n",
        "  \r\n",
        "--drop tables with raw data\r\n",
        "\r\n",
        "drop table if exists patient;\r\n",
        "drop table if exists condition;\r\n",
        "drop table if exists procedure;\r\n",
        "drop table if exists observation;\r\n",
        "  \"\"\"\r\n",
        ")\r\n"
      ],
      "execution_count": null,
      "outputs": [
        {
          "output_type": "execute_result",
          "data": {
            "text/plain": [
              "<sqlite3.Cursor at 0x7f9ae372fb90>"
            ]
          },
          "metadata": {
            "tags": []
          },
          "execution_count": 330
        }
      ]
    },
    {
      "cell_type": "markdown",
      "metadata": {
        "id": "6XWLGc09MT4s"
      },
      "source": [
        "## Commiten und Schliessung der Verbindungen"
      ]
    },
    {
      "cell_type": "code",
      "metadata": {
        "id": "V146NhVl3Z4e"
      },
      "source": [
        "# commit and close connections\r\n",
        "\r\n",
        "conn_dwh.commit()\r\n",
        "conn_dwh.close()"
      ],
      "execution_count": null,
      "outputs": []
    }
  ]
}