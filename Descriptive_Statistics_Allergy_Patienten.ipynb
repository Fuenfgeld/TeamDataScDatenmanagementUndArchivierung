{
  "nbformat": 4,
  "nbformat_minor": 0,
  "metadata": {
    "colab": {
      "name": "Descriptive Statistics Allergy-Patienten.ipynb",
      "provenance": [],
      "authorship_tag": "ABX9TyO1RDlHzXOr5rS7JJESJq6e",
      "include_colab_link": true
    },
    "kernelspec": {
      "name": "python3",
      "display_name": "Python 3"
    }
  },
  "cells": [
    {
      "cell_type": "markdown",
      "metadata": {
        "id": "view-in-github",
        "colab_type": "text"
      },
      "source": [
        "<a href=\"https://colab.research.google.com/github/Fuenfgeld/TeamDataScDatenmanagementUndArchivierung/blob/main/Descriptive_Statistics_Allergy_Patienten.ipynb\" target=\"_parent\"><img src=\"https://colab.research.google.com/assets/colab-badge.svg\" alt=\"Open In Colab\"/></a>"
      ]
    },
    {
      "cell_type": "markdown",
      "metadata": {
        "id": "xIlBHnn9Dsp3"
      },
      "source": [
        "**Deskriptive Statistik Allergie Patienten**"
      ]
    },
    {
      "cell_type": "markdown",
      "metadata": {
        "id": "zVP6kgxxE_gJ"
      },
      "source": [
        "Die csv-Dateien sind im Ordner csv_files"
      ]
    },
    {
      "cell_type": "code",
      "metadata": {
        "id": "VuWEOGORDySm"
      },
      "source": [
        "import pandas as pd\r\n",
        "import matplotlib.pyplot as plt\r\n",
        "import numpy as np\r\n",
        "from google.colab import drive"
      ],
      "execution_count": 1,
      "outputs": []
    },
    {
      "cell_type": "code",
      "metadata": {
        "colab": {
          "base_uri": "https://localhost:8080/"
        },
        "id": "zJAJx7COFe73",
        "outputId": "479a4d9c-f7c7-45d7-ae86-65b6dbdf0ee0"
      },
      "source": [
        "drive.mount(\"/content/drive\")"
      ],
      "execution_count": 2,
      "outputs": [
        {
          "output_type": "stream",
          "text": [
            "Mounted at /content/drive\n"
          ],
          "name": "stdout"
        }
      ]
    },
    {
      "cell_type": "code",
      "metadata": {
        "id": "x9Xt6vPUD4ZU"
      },
      "source": [
        "#load csv-file\r\n",
        "df = pd.read_csv(\"/content/drive/MyDrive/csv_files/patient_age_alle.csv\") #CSV FILE PATH"
      ],
      "execution_count": 3,
      "outputs": []
    },
    {
      "cell_type": "code",
      "metadata": {
        "id": "Rr2cQMaAD71-"
      },
      "source": [
        "#'COLUMN'\r\n",
        "mean1 = df['AGE_END'].mean()\r\n",
        "max1 = df['AGE_END'].max()\r\n",
        "min1 = df['AGE_END'].min()\r\n",
        "count1 = df['AGE_END'].count()\r\n",
        "median1 = df['AGE_END'].median() \r\n",
        "std1 = df['AGE_END'].std() \r\n",
        "var1 = df['AGE_END'].var() "
      ],
      "execution_count": 4,
      "outputs": []
    },
    {
      "cell_type": "code",
      "metadata": {
        "colab": {
          "base_uri": "https://localhost:8080/"
        },
        "id": "_Wn2SGwOD-S2",
        "outputId": "a159922b-5d8f-412a-a6a4-c2d3a05eeabf"
      },
      "source": [
        "print ('Mean age: ' + str(mean1))\r\n",
        "print ('Max age: ' + str(max1))\r\n",
        "print ('Min age: ' + str(min1))\r\n",
        "print ('Median age: ' + str(median1))\r\n",
        "print ('Std of age: ' + str(std1))\r\n",
        "print ('Var of age: ' + str(var1))"
      ],
      "execution_count": 5,
      "outputs": [
        {
          "output_type": "stream",
          "text": [
            "Mean age: 47.8962962962963\n",
            "Max age: 104\n",
            "Min age: 0\n",
            "Median age: 49.0\n",
            "Std of age: 26.53645031151367\n",
            "Var of age: 704.183195135434\n"
          ],
          "name": "stdout"
        }
      ]
    },
    {
      "cell_type": "markdown",
      "metadata": {
        "id": "9OBvwFMTECU7"
      },
      "source": [
        "**Calculate Inter-quartile range**"
      ]
    },
    {
      "cell_type": "code",
      "metadata": {
        "id": "Xxzev9xREMxp"
      },
      "source": [
        "#Determination of the IQR as important distribution parameter\r\n",
        "\r\n",
        "def get_percentile(df, percentile_rank):\r\n",
        "    \r\n",
        "    # First, sort by ascending temperature, reset the indices\r\n",
        "    df = df.sort_values(by='AGE_END').reset_index()\r\n",
        "    \r\n",
        "    # Rule of three to get the index of the temperature\r\n",
        "    index = (len(df.index)-1) * percentile_rank / 100.0\r\n",
        "    index = int(index)\r\n",
        "    \r\n",
        "    # Return the temperature corresponding to the percentile rank\r\n",
        "    return df.at[index, 'AGE_END']"
      ],
      "execution_count": 6,
      "outputs": []
    },
    {
      "cell_type": "code",
      "metadata": {
        "colab": {
          "base_uri": "https://localhost:8080/"
        },
        "id": "f47091NKEQOq",
        "outputId": "5501eb10-5d90-4949-feca-b7a52abf2914"
      },
      "source": [
        "get_percentile(df, 25)"
      ],
      "execution_count": 7,
      "outputs": [
        {
          "output_type": "execute_result",
          "data": {
            "text/plain": [
              "25"
            ]
          },
          "metadata": {
            "tags": []
          },
          "execution_count": 7
        }
      ]
    },
    {
      "cell_type": "code",
      "metadata": {
        "colab": {
          "base_uri": "https://localhost:8080/"
        },
        "id": "kvQcWqjHEQ0L",
        "outputId": "53bcdfbc-6b59-4ae3-9730-9768a4b41501"
      },
      "source": [
        "get_percentile(df, 75)"
      ],
      "execution_count": 8,
      "outputs": [
        {
          "output_type": "execute_result",
          "data": {
            "text/plain": [
              "69"
            ]
          },
          "metadata": {
            "tags": []
          },
          "execution_count": 8
        }
      ]
    },
    {
      "cell_type": "code",
      "metadata": {
        "id": "RctnQpaEEUQq"
      },
      "source": [
        "def interquartile_range(df):\r\n",
        "    \r\n",
        "    p75 = get_percentile(df, 75)  # 75th percentile\r\n",
        "    p25 = get_percentile(df, 25)  # 25th percentile\r\n",
        "    iqr = p75 - p25  # Interquartile Range\r\n",
        "    return iqr"
      ],
      "execution_count": 9,
      "outputs": []
    },
    {
      "cell_type": "code",
      "metadata": {
        "colab": {
          "base_uri": "https://localhost:8080/"
        },
        "id": "-Wu4UQ_3EXaC",
        "outputId": "09df7c92-2fa2-461f-8dc6-ad5f25da2f76"
      },
      "source": [
        "interquartile_range(df)"
      ],
      "execution_count": 10,
      "outputs": [
        {
          "output_type": "execute_result",
          "data": {
            "text/plain": [
              "44"
            ]
          },
          "metadata": {
            "tags": []
          },
          "execution_count": 10
        }
      ]
    },
    {
      "cell_type": "markdown",
      "metadata": {
        "id": "VpzZ6YgnEiaR"
      },
      "source": [
        "**Histogram mit Matplotlib**"
      ]
    },
    {
      "cell_type": "code",
      "metadata": {
        "colab": {
          "base_uri": "https://localhost:8080/",
          "height": 294
        },
        "id": "fgY3sus0EbMm",
        "outputId": "2d5ed854-03ec-4417-a6a9-b02fd728c698"
      },
      "source": [
        "#Plot the 25th percentile, the 50th percentile (median) and the 75th percentile of the data.\r\n",
        "plt.figure(figsize=(12,4))\r\n",
        "plt.hist(df['AGE_END'])\r\n",
        "plt.title(\"Total number of patients: %s\" % len(df.index))\r\n",
        "plt.xlabel(\"Age (Years)\")\r\n",
        "# Vertical lines for each percentile of interest\r\n",
        "plt.axvline(get_percentile(df, 25), linestyle='--', color='red')\r\n",
        "plt.axvline(get_percentile(df, 50), linestyle='-',  color='red')\r\n",
        "plt.axvline(get_percentile(df, 75), linestyle='--', color='red')\r\n",
        "plt.show()"
      ],
      "execution_count": 11,
      "outputs": [
        {
          "output_type": "display_data",
          "data": {
            "image/png": "[encoded data removed]",
            "text/plain": [
              "<Figure size 864x288 with 1 Axes>"
            ]
          },
          "metadata": {
            "tags": [],
            "needs_background": "light"
          }
        }
      ]
    }
  ]
}