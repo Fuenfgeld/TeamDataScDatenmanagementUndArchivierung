{
  "nbformat": 4,
  "nbformat_minor": 0,
  "metadata": {
    "colab": {
      "name": "Descriptive Statistics COVID19-Patienten.ipynb",
      "provenance": [],
      "authorship_tag": "ABX9TyN3qgOHmJAW+qD833DpsuwH",
      "include_colab_link": true
    },
    "kernelspec": {
      "name": "python3",
      "display_name": "Python 3"
    }
  },
  "cells": [
    {
      "cell_type": "markdown",
      "metadata": {
        "id": "view-in-github",
        "colab_type": "text"
      },
      "source": [
        "<a href=\"https://colab.research.google.com/github/Fuenfgeld/TeamDataScDatenmanagementUndArchivierung/blob/main/Descriptive_Statistics_COVID19_Patienten.ipynb\" target=\"_parent\"><img src=\"https://colab.research.google.com/assets/colab-badge.svg\" alt=\"Open In Colab\"/></a>"
      ]
    },
    {
      "cell_type": "markdown",
      "metadata": {
        "id": "xIlBHnn9Dsp3"
      },
      "source": [
        "**Deskriptive Statistik COVID-19 Patienten**"
      ]
    },
    {
      "cell_type": "markdown",
      "metadata": {
        "id": "zVP6kgxxE_gJ"
      },
      "source": [
        "Die csv-Dateien sind im Ordner csv_files"
      ]
    },
    {
      "cell_type": "code",
      "metadata": {
        "id": "VuWEOGORDySm"
      },
      "source": [
        "import pandas as pd\r\n",
        "import matplotlib.pyplot as plt\r\n",
        "import numpy as np\r\n",
        "from google.colab import drive"
      ],
      "execution_count": 3,
      "outputs": []
    },
    {
      "cell_type": "code",
      "metadata": {
        "colab": {
          "base_uri": "https://localhost:8080/"
        },
        "id": "zJAJx7COFe73",
        "outputId": "f10e58ca-634f-442b-ada6-d527a6aee87b"
      },
      "source": [
        "drive.mount(\"/content/drive\")"
      ],
      "execution_count": 4,
      "outputs": [
        {
          "output_type": "stream",
          "text": [
            "Mounted at /content/drive\n"
          ],
          "name": "stdout"
        }
      ]
    },
    {
      "cell_type": "code",
      "metadata": {
        "id": "x9Xt6vPUD4ZU"
      },
      "source": [
        "#load csv-file\r\n",
        "df = pd.read_csv(\"/content/drive/MyDrive/csv_files/patient_age_cov.csv\") #CSV FILE PATH"
      ],
      "execution_count": 19,
      "outputs": []
    },
    {
      "cell_type": "code",
      "metadata": {
        "id": "Rr2cQMaAD71-"
      },
      "source": [
        "#'COLUMN'\r\n",
        "mean1 = df['AGE_END'].mean()\r\n",
        "max1 = df['AGE_END'].max()\r\n",
        "min1 = df['AGE_END'].min()\r\n",
        "count1 = df['AGE_END'].count()\r\n",
        "median1 = df['AGE_END'].median() \r\n",
        "std1 = df['AGE_END'].std() \r\n",
        "var1 = df['AGE_END'].var() "
      ],
      "execution_count": 21,
      "outputs": []
    },
    {
      "cell_type": "code",
      "metadata": {
        "colab": {
          "base_uri": "https://localhost:8080/"
        },
        "id": "_Wn2SGwOD-S2",
        "outputId": "68bfdc2e-61dc-4e40-de41-22fdd94fa359"
      },
      "source": [
        "print ('Mean age: ' + str(mean1))\r\n",
        "print ('Max age: ' + str(max1))\r\n",
        "print ('Min age: ' + str(min1))\r\n",
        "print ('Median age: ' + str(median1))\r\n",
        "print ('Std of age: ' + str(std1))\r\n",
        "print ('Var of age: ' + str(var1))"
      ],
      "execution_count": 22,
      "outputs": [
        {
          "output_type": "stream",
          "text": [
            "Mean age: 41.142857142857146\n",
            "Max age: 110\n",
            "Min age: 1\n",
            "Median age: 39.0\n",
            "Std of age: 24.29455743380111\n",
            "Var of age: 590.2255209042607\n"
          ],
          "name": "stdout"
        }
      ]
    },
    {
      "cell_type": "markdown",
      "metadata": {
        "id": "9OBvwFMTECU7"
      },
      "source": [
        "**Calculate Inter-quartile range**"
      ]
    },
    {
      "cell_type": "code",
      "metadata": {
        "id": "Xxzev9xREMxp"
      },
      "source": [
        "#Determination of the IQR as important distribution parameter\r\n",
        "\r\n",
        "def get_percentile(df, percentile_rank):\r\n",
        "    \r\n",
        "    # First, sort by ascending temperature, reset the indices\r\n",
        "    df = df.sort_values(by='AGE_END').reset_index()\r\n",
        "    \r\n",
        "    # Rule of three to get the index of the temperature\r\n",
        "    index = (len(df.index)-1) * percentile_rank / 100.0\r\n",
        "    index = int(index)\r\n",
        "    \r\n",
        "    # Return the temperature corresponding to the percentile rank\r\n",
        "    return df.at[index, 'AGE_END']"
      ],
      "execution_count": 24,
      "outputs": []
    },
    {
      "cell_type": "code",
      "metadata": {
        "colab": {
          "base_uri": "https://localhost:8080/"
        },
        "id": "f47091NKEQOq",
        "outputId": "a48c422b-24d4-48ec-f995-ab47742a3ed3"
      },
      "source": [
        "get_percentile(df, 25)"
      ],
      "execution_count": 25,
      "outputs": [
        {
          "output_type": "execute_result",
          "data": {
            "text/plain": [
              "21"
            ]
          },
          "metadata": {
            "tags": []
          },
          "execution_count": 25
        }
      ]
    },
    {
      "cell_type": "code",
      "metadata": {
        "colab": {
          "base_uri": "https://localhost:8080/"
        },
        "id": "kvQcWqjHEQ0L",
        "outputId": "be73048c-10ab-4d2e-f925-5671299a2d87"
      },
      "source": [
        "get_percentile(df, 75)"
      ],
      "execution_count": 26,
      "outputs": [
        {
          "output_type": "execute_result",
          "data": {
            "text/plain": [
              "60"
            ]
          },
          "metadata": {
            "tags": []
          },
          "execution_count": 26
        }
      ]
    },
    {
      "cell_type": "code",
      "metadata": {
        "id": "RctnQpaEEUQq"
      },
      "source": [
        "def interquartile_range(df):\r\n",
        "    \r\n",
        "    p75 = get_percentile(df, 75)  # 75th percentile\r\n",
        "    p25 = get_percentile(df, 25)  # 25th percentile\r\n",
        "    iqr = p75 - p25  # Interquartile Range\r\n",
        "    return iqr"
      ],
      "execution_count": 27,
      "outputs": []
    },
    {
      "cell_type": "code",
      "metadata": {
        "colab": {
          "base_uri": "https://localhost:8080/"
        },
        "id": "-Wu4UQ_3EXaC",
        "outputId": "988a3b5a-c95e-4080-d216-659d15a567eb"
      },
      "source": [
        "interquartile_range(df)"
      ],
      "execution_count": 28,
      "outputs": [
        {
          "output_type": "execute_result",
          "data": {
            "text/plain": [
              "39"
            ]
          },
          "metadata": {
            "tags": []
          },
          "execution_count": 28
        }
      ]
    },
    {
      "cell_type": "markdown",
      "metadata": {
        "id": "VpzZ6YgnEiaR"
      },
      "source": [
        "**Histogram mit Matplotlib**"
      ]
    },
    {
      "cell_type": "code",
      "metadata": {
        "colab": {
          "base_uri": "https://localhost:8080/",
          "height": 294
        },
        "id": "fgY3sus0EbMm",
        "outputId": "e01cf29a-31a3-4a2a-b85c-f0129c3ec40a"
      },
      "source": [
        "#Plot the 25th percentile, the 50th percentile (median) and the 75th percentile of the data.\r\n",
        "plt.figure(figsize=(12,4))\r\n",
        "plt.hist(df['AGE_END'])\r\n",
        "plt.title(\"Total number of patients: %s\" % len(df.index))\r\n",
        "plt.xlabel(\"Age (Years)\")\r\n",
        "# Vertical lines for each percentile of interest\r\n",
        "plt.axvline(get_percentile(df, 25), linestyle='--', color='red')\r\n",
        "plt.axvline(get_percentile(df, 50), linestyle='-',  color='red')\r\n",
        "plt.axvline(get_percentile(df, 75), linestyle='--', color='red')\r\n",
        "plt.show()"
      ],
      "execution_count": 31,
      "outputs": [
        {
          "output_type": "display_data",
          "data": {
            "image/png": "[encoded data removed]",
            "text/plain": [
              "<Figure size 864x288 with 1 Axes>"
            ]
          },
          "metadata": {
            "tags": [],
            "needs_background": "light"
          }
        }
      ]
    }
  ]
}