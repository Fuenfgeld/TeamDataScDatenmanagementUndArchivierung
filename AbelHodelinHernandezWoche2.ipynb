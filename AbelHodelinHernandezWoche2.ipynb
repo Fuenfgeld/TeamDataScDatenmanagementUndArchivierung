{
  "nbformat": 4,
  "nbformat_minor": 0,
  "metadata": {
    "colab": {
      "name": "AbelHodelinHernandezWoche2.ipynb",
      "provenance": [],
      "authorship_tag": "ABX9TyN30WhRIha4oIjyYQLAoqYD",
      "include_colab_link": true
    },
    "kernelspec": {
      "name": "python3",
      "display_name": "Python 3"
    }
  },
  "cells": [
    {
      "cell_type": "markdown",
      "metadata": {
        "id": "view-in-github",
        "colab_type": "text"
      },
      "source": [
        "<a href=\"https://colab.research.google.com/github/Fuenfgeld/TeamDataScDatenmanagementUndArchivierung/blob/main/AbelHodelinHernandezWoche2.ipynb\" target=\"_parent\"><img src=\"https://colab.research.google.com/assets/colab-badge.svg\" alt=\"Open In Colab\"/></a>"
      ]
    },
    {
      "cell_type": "code",
      "metadata": {
        "colab": {
          "base_uri": "https://localhost:8080/"
        },
        "id": "5xE-s3boPGKn",
        "outputId": "66669184-90f6-4430-b641-d475ef8801fa"
      },
      "source": [
        "import pandas as pd\r\n",
        "from functools import reduce\r\n",
        "import sqlite3\r\n",
        "from sqlite3 import Error\r\n",
        "import csv\r\n",
        "\r\n",
        "from google.colab import drive\r\n",
        "drive.mount(\"/content/drive\", force_remount=True)\r\n"
      ],
      "execution_count": 1,
      "outputs": [
        {
          "output_type": "stream",
          "text": [
            "Mounted at /content/drive\n"
          ],
          "name": "stdout"
        }
      ]
    },
    {
      "cell_type": "code",
      "metadata": {
        "colab": {
          "base_uri": "https://localhost:8080/"
        },
        "id": "eJQJVxcLWdQA",
        "outputId": "0139df33-7e6c-4a51-aea2-17fc94addf48"
      },
      "source": [
        "# list elements in directory\r\n",
        "!ls /content/drive/MyDrive/csv_files/allergy/\r\n",
        "material_path = '/content/drive/MyDrive/csv_files/allergy/'\r\n",
        "patient_type = \"allergy\""
      ],
      "execution_count": 2,
      "outputs": [
        {
          "output_type": "stream",
          "text": [
            " allergy_test.db\t encounters.gsheet\t    patients.csv\n",
            "'careplans (1).gsheet'\t imaging_studies.csv\t    payers.csv\n",
            " careplans.csv\t\t imaging_studies.gsheet     payer_transitions.csv\n",
            " careplans.gsheet\t immunizations.csv\t    procedures.csv\n",
            " conditions.csv\t\t medications.csv\t    procedures.gsheet\n",
            " devices.csv\t\t'observations (1).gsheet'   providers.csv\n",
            " disease.csv\t\t observations.csv\t    source_allergy_test.db\n",
            " disease.gsheet\t\t observations.gsheet\t    supplies.csv\n",
            " encounters.csv\t\t organizations.csv\n"
          ],
          "name": "stdout"
        }
      ]
    },
    {
      "cell_type": "code",
      "metadata": {
        "id": "UNwJ0Ce8YKmR"
      },
      "source": [
        "# source database path\r\n",
        "DB_FILE_PATH = f\"{material_path}{patient_type}_test.db\"\r\n",
        "# folder contains csv files\r\n",
        "csv_path = f\"{material_path}\"\r\n",
        "# print(csv_path)\r\n",
        "\r\n",
        "# DB_FILE_PATH, csv_path"
      ],
      "execution_count": 3,
      "outputs": []
    },
    {
      "cell_type": "code",
      "metadata": {
        "id": "xW3DBsDdcVP9"
      },
      "source": [
        "# dictionary key: name of table, values: sql query to create table\r\n",
        "sql_table = {}\r\n",
        "sql_index = {}"
      ],
      "execution_count": 4,
      "outputs": []
    },
    {
      "cell_type": "code",
      "metadata": {
        "id": "KmyN8TlxcnE8"
      },
      "source": [
        "sql_table[\"disease\"] = \"\"\"CREATE TABLE IF NOT EXISTS disease (\r\n",
        "                           START DATE,\r\n",
        "                           STOP DATE,\r\n",
        "                           PATIENT STRING,\r\n",
        "                           ENCOUNTER STRING,\r\n",
        "                           CODE STRING,\r\n",
        "                           DESCRIPTION STRING,\r\n",
        "                           FOREIGN KEY (PATIENT)\r\n",
        "                              REFERENCES patients (Id) \r\n",
        "                           FOREIGN KEY (Encounter)\r\n",
        "                              REFERENCES encounters (Id)\r\n",
        "                           \r\n",
        "                       );\"\"\"\r\n",
        "# kein Index für id, da die db erzeugt ein autematisch für die Primary Keys\r\n",
        "# Die andere Indizes sind je nach praktischer Nutzung/Interese/Projekt\r\n",
        "sql_index[\"disease_patient\"] = \"\"\"CREATE INDEX ix_disease_patient on disease(PATIENT);\"\"\"\r\n",
        "sql_index[\"disease_encounter\"] = \"\"\"CREATE INDEX ix_disease_encounter on disease(ENCOUNTER);\"\"\"\r\n",
        "sql_index[\"disease_code\"] = \"\"\"CREATE INDEX ix_disease_code on disease(CODE);\"\"\"\r\n",
        "sql_index[\"disease_description\"] = \"\"\"CREATE INDEX ix_disease_description on disease(DESCRIPTION);\"\"\""
      ],
      "execution_count": 5,
      "outputs": []
    },
    {
      "cell_type": "code",
      "metadata": {
        "id": "f_CBFoXSfE80"
      },
      "source": [
        "sql_table[\"patients\"] = \"\"\"CREATE TABLE IF NOT EXISTS patients (\r\n",
        "                           Id STRING PRIMARY KEY,\r\n",
        "                           BIRTHDATE DATE,\r\n",
        "                           DEATHDATE DATE,\r\n",
        "                           SSN STRING,\r\n",
        "                           DRIVERS STRING,\r\n",
        "                           PASSPORT STRING,\r\n",
        "                           PREFIX STRING,\r\n",
        "                           FIRST STRING,\r\n",
        "                           LAST STRING,\r\n",
        "                           SUFFIX STRING,\r\n",
        "                           MAIDEN STRING,\r\n",
        "                           MARITAL STRING,\r\n",
        "                           RACE STRING,\r\n",
        "                           ETHNICITY STRING,\r\n",
        "                           GENDER STRING,\r\n",
        "                           BIRTHPLACE STRING,\r\n",
        "                           ADDRESS STRING,\r\n",
        "                           CITY STRING,\r\n",
        "                           STATE STRING,\r\n",
        "                           COUNTRY STRING,\r\n",
        "                           ZIP STRING,\r\n",
        "                           LAT INTEGER,\r\n",
        "                           LON INTEGER,\r\n",
        "                           HEALTHCARE_EXPENSES INTEGER,\r\n",
        "                           HEALTHCARE_COVERAGE INTEGER\r\n",
        "                       );\"\"\"\r\n",
        "# kein Index für id, da die db erzeugt ein autematisch für die Primary Keys\r\n",
        "# Die andere Indizes sind je nach praktischer Nutzung/Interese/Projekt\r\n",
        "sql_index[\"patients_race\"] = \"\"\"CREATE INDEX ix_patients_race on patients(RACE);\"\"\" \r\n",
        "sql_index[\"patients_ethnicity\"] = \"\"\"CREATE INDEX ix_patients_ethnicity on patients(ETHNICITY);\"\"\"\r\n",
        "sql_index[\"patients_city\"] = \"\"\"CREATE INDEX ixpatients_city on patients(CITY);\"\"\"\r\n",
        "sql_index[\"patients_gender\"] = \"\"\"CREATE INDEX ix_patients_gender on patients(GENDER);\"\"\"\r\n",
        "sql_index[\"patients_country\"] = \"\"\"CREATE INDEX ix_patients_country on patients(COUNTRY);\"\"\"\r\n",
        "sql_index[\"patients_zip\"] = \"\"\"CREATE INDEX ix_patients_zip on patients(ZIP);\"\"\""
      ],
      "execution_count": 6,
      "outputs": []
    },
    {
      "cell_type": "code",
      "metadata": {
        "id": "CSg1DV-Jnh5t"
      },
      "source": [
        "sql_table[\"encounters\"] = \"\"\"CREATE TABLE IF NOT EXISTS encounters (\r\n",
        "                           Id STRING PRIMARY KEY,\r\n",
        "                           START DATE,\r\n",
        "                           STOP DATE,\r\n",
        "                           PATIENT STRING,\r\n",
        "                           ORGANIZATIONS STRING,\r\n",
        "                           PROVIDER STRING,\r\n",
        "                           PAYER STRING,\r\n",
        "                           ENCOUNTERCLASS STRING,\r\n",
        "                           CODE STRING,\r\n",
        "                           DESCRIPTION STRING,\r\n",
        "                           BASE_ENCOUNTER_COST INTEGER,\r\n",
        "                           TOTAL_CLAIM_COST INTEGER,\r\n",
        "                           PAYER_COVERAGE INTEGER,\r\n",
        "                           REASONCODE STRING,\r\n",
        "                           REASONDESCRIPTION STRING,\r\n",
        "                           FOREIGN KEY (PATIENT)\r\n",
        "                              REFERENCES patients (Id) \r\n",
        "                       );\"\"\"\r\n",
        "sql_index[\"encounters_patient\"] = \"\"\"CREATE INDEX ix_encounters_patients on encounters(PATIENT);\"\"\" \r\n",
        "sql_index[\"encounters_description\"] = \"\"\"CREATE INDEX ix_encounters_description on encounters(DESCRIPTION);\"\"\"\r\n",
        "sql_index[\"encounters_code\"] = \"\"\"CREATE INDEX ix_encounters_code on encounters(CODE);\"\"\""
      ],
      "execution_count": 7,
      "outputs": []
    },
    {
      "cell_type": "code",
      "metadata": {
        "id": "H34Qtz_yoUvC"
      },
      "source": [
        "sql_table[\"careplans\"] = \"\"\"CREATE TABLE IF NOT EXISTS careplans (\r\n",
        "                           Id STRING PRIMARY KEY,\r\n",
        "                           START DATE,\r\n",
        "                           STOP DATE,\r\n",
        "                           PATIENT STRING,\r\n",
        "                           ENCOUNTER STRING,\r\n",
        "                           CODE STRING,\r\n",
        "                           DESCRIPTION STRING,\r\n",
        "                           REASONCODE STRING,\r\n",
        "                           REASONDESCRIPTION STRING,\r\n",
        "                           FOREIGN KEY (PATIENT)\r\n",
        "                              REFERENCES patients (Id) \r\n",
        "                           FOREIGN KEY (Encounter)\r\n",
        "                              REFERENCES encounters (Id) \r\n",
        "\r\n",
        "                       );\"\"\"\r\n",
        "sql_index[\"careplans_patient\"] = \"\"\"CREATE INDEX ix_careplans_patients on careplans(PATIENT);\"\"\"\r\n",
        "sql_index[\"careplans_encounters\"] = \"\"\"CREATE INDEX ix_careplans_encounters on careplans(ENCOUNTER);\"\"\"\r\n",
        "sql_index[\"careplans_description\"] = \"\"\"CREATE INDEX ix_careplans_description on careplans(DESCRIPTION);\"\"\"\r\n",
        "sql_index[\"careplans_code\"] = \"\"\"CREATE INDEX ix_careplans_code on careplans(CODE);\"\"\"\r\n",
        "sql_index[\"careplans_reasondescription\"] = \"\"\"CREATE INDEX ix_careplans_reasondescription on careplans(REASONDESCRIPTION);\"\"\"\r\n",
        "sql_index[\"careplans_reasoncode\"] = \"\"\"CREATE INDEX ix_careplans_reasoncode on careplans(REASONCODE);\"\"\""
      ],
      "execution_count": 8,
      "outputs": []
    },
    {
      "cell_type": "code",
      "metadata": {
        "id": "Cuf0cRvxpien"
      },
      "source": [
        "sql_table[\"conditions\"] = \"\"\"CREATE TABLE IF NOT EXISTS conditions (\r\n",
        "                           START DATE,\r\n",
        "                           STOP DATE,\r\n",
        "                           PATIENT STRING,\r\n",
        "                           ENCOUNTER STRING,\r\n",
        "                           CODE STRING,\r\n",
        "                           DESCRIPTION STRING,\r\n",
        "                           FOREIGN KEY (PATIENT)\r\n",
        "                              REFERENCES patients (Id) \r\n",
        "                           FOREIGN KEY (Encounter)\r\n",
        "                              REFERENCES encounters (Id) \r\n",
        "\r\n",
        "                       );\"\"\"\r\n",
        "sql_index[\"conditions_patient\"] = \"\"\"CREATE INDEX ix_conditions_patient on conditions(PATIENT);\"\"\"\r\n",
        "sql_index[\"conditions_encounter\"] = \"\"\"CREATE INDEX ix_conditions_encounter on conditions(ENCOUNTER);\"\"\"\r\n",
        "sql_index[\"conditions_code\"] = \"\"\"CREATE INDEX ix_conditions_code on conditions(CODE);\"\"\"\r\n",
        "sql_index[\"conditions_description\"] = \"\"\"CREATE INDEX ix_conditions_description on conditions(DESCRIPTION);\"\"\""
      ],
      "execution_count": 9,
      "outputs": []
    },
    {
      "cell_type": "code",
      "metadata": {
        "id": "BJ6nUCY5qkaa"
      },
      "source": [
        "sql_table[\"procedures\"]= \"\"\"CREATE TABLE IF NOT EXISTS procedures (\r\n",
        "                           DATE DATE,\r\n",
        "                           PATIENT STRING,\r\n",
        "                           ENCOUNTER STRING,\r\n",
        "                           CODE STRING,\r\n",
        "                           DESCRIPTION STRING,\r\n",
        "                           BASE_COST INTEGER,\r\n",
        "                           REASONCODE STRING,\r\n",
        "                           REASONDESCRIPTION STRING,\r\n",
        "                           FOREIGN KEY (PATIENT)\r\n",
        "                              REFERENCES patients (Id) \r\n",
        "                           FOREIGN KEY (Encounter)\r\n",
        "                              REFERENCES encounters (Id) \r\n",
        "\r\n",
        "                       );\"\"\"\r\n",
        "sql_index[\"procedures_patient\"] = \"\"\"CREATE INDEX ix_procedures_patient on procedures(PATIENT);\"\"\"\r\n",
        "sql_index[\"procedures_encounter\"] = \"\"\"CREATE INDEX ix_procedures_encounter on procedures(ENCOUNTER);\"\"\"\r\n",
        "sql_index[\"procedures_code\"] = \"\"\"CREATE INDEX ix_procedures_code on procedures(CODE);\"\"\"\r\n",
        "sql_index[\"procedures_description\"] = \"\"\"CREATE INDEX ix_procedures_description on procedures(DESCRIPTION);\"\"\""
      ],
      "execution_count": 10,
      "outputs": []
    },
    {
      "cell_type": "code",
      "metadata": {
        "id": "Swayx1rqrbWA"
      },
      "source": [
        "sql_table[\"observations\"]= \"\"\"CREATE TABLE IF NOT EXISTS observations (\r\n",
        "                           DATE DATE,\r\n",
        "                           PATIENT STRING,\r\n",
        "                           ENCOUNTER STRING,\r\n",
        "                           CODE STRING,\r\n",
        "                           DESCRIPTION STRING,\r\n",
        "                           VALUE STRING,\r\n",
        "                           UNITS STRING,\r\n",
        "                           TYPE STRING,\r\n",
        "                           FOREIGN KEY (PATIENT)\r\n",
        "                              REFERENCES patients (Id) \r\n",
        "                           FOREIGN KEY (Encounter)\r\n",
        "                              REFERENCES encounters (Id) \r\n",
        "\r\n",
        "                       );\"\"\"\r\n",
        "sql_index[\"observations_patient\"] = \"\"\"CREATE INDEX ix_observations_patient on observations(PATIENT);\"\"\"\r\n",
        "sql_index[\"observations_encounter\"] = \"\"\"CREATE INDEX ix_observations_encounter on observations(ENCOUNTER);\"\"\"\r\n",
        "sql_index[\"observations_code\"] = \"\"\"CREATE INDEX ix_observations_code on observations(CODE);\"\"\"\r\n",
        "sql_index[\"observations_description\"] = \"\"\"CREATE INDEX ix_observations_description on observations(DESCRIPTION);\"\"\""
      ],
      "execution_count": 11,
      "outputs": []
    },
    {
      "cell_type": "code",
      "metadata": {
        "id": "2TocvwPar5Pm"
      },
      "source": [
        "sql_table[\"devices\"] = \"\"\"CREATE TABLE IF NOT EXISTS devices (\r\n",
        "                           START DATE,\r\n",
        "                           STOP DATE,\r\n",
        "                           PATIENT STRING,\r\n",
        "                           ENCOUNTER STRING,\r\n",
        "                           CODE STRING,\r\n",
        "                           DESCRIPTION STRING,\r\n",
        "                           UDI STRING,\r\n",
        "                           FOREIGN KEY (PATIENT)\r\n",
        "                              REFERENCES patients (Id) \r\n",
        "                           FOREIGN KEY (Encounter)\r\n",
        "                              REFERENCES encounters (Id)\r\n",
        "                           \r\n",
        "                       );\"\"\"\r\n",
        "sql_index[\"devices_patient\"] = \"\"\"CREATE INDEX ix_devices_patient on devices(PATIENT);\"\"\"\r\n",
        "sql_index[\"devices_encounter\"] = \"\"\"CREATE INDEX ix_devices_encounter on devices(ENCOUNTER);\"\"\"\r\n",
        "sql_index[\"devices_code\"] = \"\"\"CREATE INDEX ix_devices_code on devices(CODE);\"\"\"\r\n",
        "sql_index[\"devices_description\"] = \"\"\"CREATE INDEX ix_devices_description on devices(DESCRIPTION);\"\"\""
      ],
      "execution_count": 12,
      "outputs": []
    },
    {
      "cell_type": "code",
      "metadata": {
        "id": "QVKoRJ0Ssvvl"
      },
      "source": [
        "sql_table[\"imaging_studies\"] = \"\"\"CREATE TABLE IF NOT EXISTS imaging_studies (\r\n",
        "                           Id STRING PRIMARY KEY,\r\n",
        "                           DATE DATE,\r\n",
        "                           PATIENT STRING,\r\n",
        "                           ENCOUNTER STRING,\r\n",
        "                           BODYSITE_CODE STRING,\r\n",
        "                           BODYSITE_DESCRIPTION STRING,\r\n",
        "                           MODALITY_CODE STRING,\r\n",
        "                           MODALITY_DESCRIPTION STRING,\r\n",
        "                           SOP_CODE STRING,\r\n",
        "                           SOP_DESCRIPTION STRING,\r\n",
        "                           FOREIGN KEY (PATIENT)\r\n",
        "                              REFERENCES patients (Id) \r\n",
        "                           FOREIGN KEY (Encounter)\r\n",
        "                              REFERENCES encounters (Id) \r\n",
        "\r\n",
        "                       );\"\"\"\r\n",
        "sql_index[\"imaging_studies_patient\"] = \"\"\"CREATE INDEX ix_imaging_studies_patient on imaging_studies(PATIENT);\"\"\"\r\n",
        "sql_index[\"imaging_studies_encounter\"] = \"\"\"CREATE INDEX ix_imaging_studies_encounter on imaging_studies(ENCOUNTER);\"\"\"\r\n",
        "sql_index[\"imaging_studies_code\"] = \"\"\"CREATE INDEX ix_imaging_studies_code on imaging_studies(SOP_CODE);\"\"\"\r\n",
        "sql_index[\"imaging_studies_description\"] = \"\"\"CREATE INDEX ix_imaging_studies_description on imaging_studies(SOP_DESCRIPTION);\"\"\""
      ],
      "execution_count": 13,
      "outputs": []
    },
    {
      "cell_type": "code",
      "metadata": {
        "id": "ho71ezEUtZ61"
      },
      "source": [
        "sql_table[\"immunizations\"]= \"\"\"CREATE TABLE IF NOT EXISTS immunizations(\r\n",
        "                           DATE DATE,\r\n",
        "                           PATIENT STRING,\r\n",
        "                           ENCOUNTER STRING,\r\n",
        "                           CODE STRING,\r\n",
        "                           DESCRIPTION STRING,\r\n",
        "                           BASE_COST INTEGER,\r\n",
        "                           FOREIGN KEY (PATIENT)\r\n",
        "                              REFERENCES patients (Id) \r\n",
        "                           FOREIGN KEY (Encounter)\r\n",
        "                              REFERENCES encounters (Id) \r\n",
        "\r\n",
        "                       );\"\"\"\r\n",
        "sql_index[\"immunizations_patient\"] = \"\"\"CREATE INDEX ix_immunizations_patient on immunizations(PATIENT);\"\"\"\r\n",
        "sql_index[\"immunizations_encounter\"] = \"\"\"CREATE INDEX ix_immunizations_encounter on immunizations(ENCOUNTER);\"\"\"\r\n",
        "sql_index[\"immunizations_code\"] = \"\"\"CREATE INDEX ix_immunizations_code on immunizations(CODE);\"\"\"\r\n",
        "sql_index[\"immunizations_description\"] = \"\"\"CREATE INDEX ix_immunizations_description on immunizations(DESCRIPTION);\"\"\""
      ],
      "execution_count": 14,
      "outputs": []
    },
    {
      "cell_type": "markdown",
      "metadata": {
        "id": "7pZ7BsA2G_u3"
      },
      "source": [
        "# Import csv files into database tables"
      ]
    },
    {
      "cell_type": "code",
      "metadata": {
        "id": "Zv621ZDnG9eT"
      },
      "source": [
        "def connect_to_db(db_file):\r\n",
        "    sqlite3_conn = None\r\n",
        "    try:\r\n",
        "        sqlite3_conn = sqlite3.connect(db_file)\r\n",
        "        return sqlite3_conn\r\n",
        "\r\n",
        "    except Error as err:\r\n",
        "        print(err)\r\n",
        "\r\n",
        "        if sqlite3_conn is not None:\r\n",
        "            sqlite3_conn.close()\r\n"
      ],
      "execution_count": 15,
      "outputs": []
    },
    {
      "cell_type": "code",
      "metadata": {
        "id": "bTx565nKHReh"
      },
      "source": [
        "def insert_values_to_table(cursor, table_name, csv_file_path):\r\n",
        "    # Read CSV file content\r\n",
        "    values_to_insert = open_csv_file(csv_file_path)\r\n",
        "\r\n",
        "    # Insert to table\r\n",
        "    if len(values_to_insert) > 0:\r\n",
        "        column_names, column_numbers = get_column_names_from_db_table(cursor, table_name)\r\n",
        "\r\n",
        "        values_str = '?,' * column_numbers\r\n",
        "        # print(\"*****\", values_str, column_names, column_numbers)\r\n",
        "        values_str = values_str[:-1]\r\n",
        "\r\n",
        "        sql_query = 'INSERT OR REPLACE INTO ' + table_name + '(' + column_names + ') VALUES (' + values_str + ')'\r\n",
        "\r\n",
        "\r\n",
        "        cursor.executemany(sql_query, values_to_insert)\r\n",
        "        # conn.commit()\r\n",
        "\r\n",
        "        print('SQL insert process finished')\r\n",
        "    else:\r\n",
        "        print('Nothing to insert')\r\n",
        "\r\n",
        "        # conn.close()\r\n",
        "\r\n",
        "    # else:\r\n",
        "        # print('Connection to database failed')"
      ],
      "execution_count": 16,
      "outputs": []
    },
    {
      "cell_type": "code",
      "metadata": {
        "id": "bSbIrhglIt-o"
      },
      "source": [
        "def open_csv_file(csv_file_path):\r\n",
        "\r\n",
        "    with open(csv_file_path, 'r', encoding='utf-8') as csv_file:\r\n",
        "        reader = csv.reader(csv_file)\r\n",
        "        next(reader)\r\n",
        "\r\n",
        "        data = list()\r\n",
        "        for row in reader:\r\n",
        "            data.append(row)\r\n",
        "        return data"
      ],
      "execution_count": 17,
      "outputs": []
    },
    {
      "cell_type": "code",
      "metadata": {
        "id": "LUYV0hSpJDUg"
      },
      "source": [
        "def get_column_names_from_db_table(sql_cursor, table_name):\r\n",
        "    table_column_names = 'PRAGMA table_info(' + table_name + ');'\r\n",
        "    sql_cursor.execute(table_column_names)\r\n",
        "    table_column_names = sql_cursor.fetchall()\r\n",
        "\r\n",
        "    column_count = len(table_column_names)\r\n",
        "\r\n",
        "    column_names = list()\r\n",
        "\r\n",
        "    for name in table_column_names:\r\n",
        "        column_names.append(name[1])\r\n",
        "\r\n",
        "    return ', '.join(column_names), column_count"
      ],
      "execution_count": 18,
      "outputs": []
    },
    {
      "cell_type": "code",
      "metadata": {
        "colab": {
          "base_uri": "https://localhost:8080/"
        },
        "id": "EW31QUt_JMkK",
        "outputId": "92be3d89-8aaa-42d7-d657-4cee096015bc"
      },
      "source": [
        "print(sql_table.keys())\r\n",
        "print(sql_index.keys())"
      ],
      "execution_count": 19,
      "outputs": [
        {
          "output_type": "stream",
          "text": [
            "dict_keys(['disease', 'patients', 'encounters', 'careplans', 'conditions', 'procedures', 'observations', 'devices', 'imaging_studies', 'immunizations'])\n",
            "dict_keys(['disease_patient', 'disease_encounter', 'disease_code', 'disease_description', 'patients_race', 'patients_ethnicity', 'patients_city', 'patients_gender', 'patients_country', 'patients_zip', 'encounters_patient', 'encounters_description', 'encounters_code', 'careplans_patient', 'careplans_encounters', 'careplans_description', 'careplans_code', 'careplans_reasondescription', 'careplans_reasoncode', 'conditions_patient', 'conditions_encounter', 'conditions_code', 'conditions_description', 'procedures_patient', 'procedures_encounter', 'procedures_code', 'procedures_description', 'observations_patient', 'observations_encounter', 'observations_code', 'observations_description', 'devices_patient', 'devices_encounter', 'devices_code', 'devices_description', 'imaging_studies_patient', 'imaging_studies_encounter', 'imaging_studies_code', 'imaging_studies_description', 'immunizations_patient', 'immunizations_encounter', 'immunizations_code', 'immunizations_description'])\n"
          ],
          "name": "stdout"
        }
      ]
    },
    {
      "cell_type": "code",
      "metadata": {
        "colab": {
          "base_uri": "https://localhost:8080/"
        },
        "id": "gr6edXl7Jue3",
        "outputId": "67e84d02-77db-48c1-d083-6698ce1ffac4"
      },
      "source": [
        "# import csv into db\r\n",
        "conn = connect_to_db(DB_FILE_PATH)\r\n",
        "if conn is not None:\r\n",
        "        cursor = conn.cursor()\r\n",
        "        for name in sql_table.keys():\r\n",
        "          csv_file = csv_path + name + \".csv\"\r\n",
        "          print(name, csv_file)\r\n",
        "          \r\n",
        "          cursor.execute(sql_table[name])\r\n",
        "\r\n",
        "          insert_values_to_table(cursor, name, csv_file)\r\n",
        "        # conn.commit()\r\n",
        "\r\n",
        "        #for ix_name in sql_index.keys():\r\n",
        "         # cursor.execute(sql_index[ix_name])\r\n",
        "else:\r\n",
        "        print('Connection to database failed')"
      ],
      "execution_count": 20,
      "outputs": [
        {
          "output_type": "stream",
          "text": [
            "disease /content/drive/MyDrive/csv_files/allergy/disease.csv\n",
            "SQL insert process finished\n",
            "patients /content/drive/MyDrive/csv_files/allergy/patients.csv\n",
            "SQL insert process finished\n",
            "encounters /content/drive/MyDrive/csv_files/allergy/encounters.csv\n",
            "SQL insert process finished\n",
            "careplans /content/drive/MyDrive/csv_files/allergy/careplans.csv\n",
            "SQL insert process finished\n",
            "conditions /content/drive/MyDrive/csv_files/allergy/conditions.csv\n",
            "SQL insert process finished\n",
            "procedures /content/drive/MyDrive/csv_files/allergy/procedures.csv\n",
            "SQL insert process finished\n",
            "observations /content/drive/MyDrive/csv_files/allergy/observations.csv\n",
            "SQL insert process finished\n",
            "devices /content/drive/MyDrive/csv_files/allergy/devices.csv\n",
            "SQL insert process finished\n",
            "imaging_studies /content/drive/MyDrive/csv_files/allergy/imaging_studies.csv\n",
            "SQL insert process finished\n",
            "immunizations /content/drive/MyDrive/csv_files/allergy/immunizations.csv\n",
            "SQL insert process finished\n"
          ],
          "name": "stdout"
        }
      ]
    },
    {
      "cell_type": "code",
      "metadata": {
        "colab": {
          "base_uri": "https://localhost:8080/",
          "height": 204
        },
        "id": "AwG08nRFLw-9",
        "outputId": "2e53f767-da69-4ab9-e216-34dea66dc700"
      },
      "source": [
        "pd.read_csv(f\"{csv_path}disease.csv\").head()"
      ],
      "execution_count": 21,
      "outputs": [
        {
          "output_type": "execute_result",
          "data": {
            "text/html": [
              "<div>\n",
              "<style scoped>\n",
              "    .dataframe tbody tr th:only-of-type {\n",
              "        vertical-align: middle;\n",
              "    }\n",
              "\n",
              "    .dataframe tbody tr th {\n",
              "        vertical-align: top;\n",
              "    }\n",
              "\n",
              "    .dataframe thead th {\n",
              "        text-align: right;\n",
              "    }\n",
              "</style>\n",
              "<table border=\"1\" class=\"dataframe\">\n",
              "  <thead>\n",
              "    <tr style=\"text-align: right;\">\n",
              "      <th></th>\n",
              "      <th>START</th>\n",
              "      <th>STOP</th>\n",
              "      <th>PATIENT</th>\n",
              "      <th>ENCOUNTER</th>\n",
              "      <th>CODE</th>\n",
              "      <th>DESCRIPTION</th>\n",
              "    </tr>\n",
              "  </thead>\n",
              "  <tbody>\n",
              "    <tr>\n",
              "      <th>0</th>\n",
              "      <td>1943-02-26</td>\n",
              "      <td>NaN</td>\n",
              "      <td>3575b903-dbd0-1d55-6146-9e8aa4ed52a5</td>\n",
              "      <td>de8159bf-90ae-c9a6-dd8d-f1de7b7972a7</td>\n",
              "      <td>419474003</td>\n",
              "      <td>Allergy to mould</td>\n",
              "    </tr>\n",
              "    <tr>\n",
              "      <th>1</th>\n",
              "      <td>1943-02-26</td>\n",
              "      <td>NaN</td>\n",
              "      <td>3575b903-dbd0-1d55-6146-9e8aa4ed52a5</td>\n",
              "      <td>de8159bf-90ae-c9a6-dd8d-f1de7b7972a7</td>\n",
              "      <td>232350006</td>\n",
              "      <td>House dust mite allergy</td>\n",
              "    </tr>\n",
              "    <tr>\n",
              "      <th>2</th>\n",
              "      <td>1943-02-26</td>\n",
              "      <td>NaN</td>\n",
              "      <td>3575b903-dbd0-1d55-6146-9e8aa4ed52a5</td>\n",
              "      <td>de8159bf-90ae-c9a6-dd8d-f1de7b7972a7</td>\n",
              "      <td>232347008</td>\n",
              "      <td>Dander (animal) allergy</td>\n",
              "    </tr>\n",
              "    <tr>\n",
              "      <th>3</th>\n",
              "      <td>1943-02-26</td>\n",
              "      <td>NaN</td>\n",
              "      <td>3575b903-dbd0-1d55-6146-9e8aa4ed52a5</td>\n",
              "      <td>de8159bf-90ae-c9a6-dd8d-f1de7b7972a7</td>\n",
              "      <td>418689008</td>\n",
              "      <td>Allergy to grass pollen</td>\n",
              "    </tr>\n",
              "    <tr>\n",
              "      <th>4</th>\n",
              "      <td>1943-02-26</td>\n",
              "      <td>NaN</td>\n",
              "      <td>3575b903-dbd0-1d55-6146-9e8aa4ed52a5</td>\n",
              "      <td>de8159bf-90ae-c9a6-dd8d-f1de7b7972a7</td>\n",
              "      <td>419263009</td>\n",
              "      <td>Allergy to tree pollen</td>\n",
              "    </tr>\n",
              "  </tbody>\n",
              "</table>\n",
              "</div>"
            ],
            "text/plain": [
              "        START STOP  ...       CODE              DESCRIPTION\n",
              "0  1943-02-26  NaN  ...  419474003         Allergy to mould\n",
              "1  1943-02-26  NaN  ...  232350006  House dust mite allergy\n",
              "2  1943-02-26  NaN  ...  232347008  Dander (animal) allergy\n",
              "3  1943-02-26  NaN  ...  418689008  Allergy to grass pollen\n",
              "4  1943-02-26  NaN  ...  419263009   Allergy to tree pollen\n",
              "\n",
              "[5 rows x 6 columns]"
            ]
          },
          "metadata": {
            "tags": []
          },
          "execution_count": 21
        }
      ]
    },
    {
      "cell_type": "code",
      "metadata": {
        "colab": {
          "base_uri": "https://localhost:8080/"
        },
        "id": "hhGIikS0LzU8",
        "outputId": "4f9efdd4-d80e-4366-b656-95c6ccbfd856"
      },
      "source": [
        "cursor.execute(\"SELECT name FROM sqlite_master WHERE type='table';\")\r\n",
        "print(cursor.fetchall())"
      ],
      "execution_count": 22,
      "outputs": [
        {
          "output_type": "stream",
          "text": [
            "[('disease',), ('patients',), ('encounters',), ('careplans',), ('conditions',), ('procedures',), ('observations',), ('devices',), ('imaging_studies',), ('immunizations',)]\n"
          ],
          "name": "stdout"
        }
      ]
    },
    {
      "cell_type": "code",
      "metadata": {
        "colab": {
          "base_uri": "https://localhost:8080/"
        },
        "id": "S7u8wMmPL7oW",
        "outputId": "f2822016-0b40-4390-81f3-367170a7b412"
      },
      "source": [
        "cursor.execute(\"SELECT * FROM immunizations limit 10;\")\r\n",
        "rows = cursor.fetchall()\r\n",
        "for row in rows:\r\n",
        "  print(row)"
      ],
      "execution_count": 23,
      "outputs": [
        {
          "output_type": "stream",
          "text": [
            "('2011-04-11T11:40:19Z', '3575b903-dbd0-1d55-6146-9e8aa4ed52a5', '905865c3-d0fd-aa37-b2dd-8f297e43a089', 140, 'Influenza  seasonal  injectable  preservative free', 140.52)\n",
            "('2012-04-16T11:40:19Z', '3575b903-dbd0-1d55-6146-9e8aa4ed52a5', 'a30d46d7-823d-f721-60d5-58c3f9b4e519', 140, 'Influenza  seasonal  injectable  preservative free', 140.52)\n",
            "('2013-04-22T11:40:19Z', '3575b903-dbd0-1d55-6146-9e8aa4ed52a5', 'd37cc838-ee0b-2e4d-8c96-db68d01e0b29', 140, 'Influenza  seasonal  injectable  preservative free', 140.52)\n",
            "('2013-04-22T11:40:19Z', '3575b903-dbd0-1d55-6146-9e8aa4ed52a5', 'd37cc838-ee0b-2e4d-8c96-db68d01e0b29', 113, 'Td (adult) preservative free', 140.52)\n",
            "('2014-04-28T11:40:19Z', '3575b903-dbd0-1d55-6146-9e8aa4ed52a5', 'e7defffa-fc95-542e-03a3-485e20469db4', 140, 'Influenza  seasonal  injectable  preservative free', 140.52)\n",
            "('2015-05-04T11:40:19Z', '3575b903-dbd0-1d55-6146-9e8aa4ed52a5', 'c57b93a2-0302-4965-9e2c-713b84e7c24b', 140, 'Influenza  seasonal  injectable  preservative free', 140.52)\n",
            "('2016-05-09T11:40:19Z', '3575b903-dbd0-1d55-6146-9e8aa4ed52a5', 'b478307f-26f6-8ca1-0eb5-18fffdb7e371', 140, 'Influenza  seasonal  injectable  preservative free', 140.52)\n",
            "('2017-05-15T11:40:19Z', '3575b903-dbd0-1d55-6146-9e8aa4ed52a5', '773a3135-6e64-8142-13bb-3b11be86e66b', 140, 'Influenza  seasonal  injectable  preservative free', 140.52)\n",
            "('2018-05-21T11:40:19Z', '3575b903-dbd0-1d55-6146-9e8aa4ed52a5', '9c52163b-6f92-066e-833e-3f4d40b2b2d8', 140, 'Influenza  seasonal  injectable  preservative free', 140.52)\n",
            "('2019-02-04T11:40:19Z', '3575b903-dbd0-1d55-6146-9e8aa4ed52a5', 'd9c372f0-518f-a4c0-167c-79d5b1af18f8', 140, 'Influenza  seasonal  injectable  preservative free', 140.52)\n"
          ],
          "name": "stdout"
        }
      ]
    },
    {
      "cell_type": "code",
      "metadata": {
        "colab": {
          "base_uri": "https://localhost:8080/"
        },
        "id": "Uzk5uq_4PT1M",
        "outputId": "cf5abd43-7a2a-4bea-c01d-925d6b20b955"
      },
      "source": [
        "# schow created indices\r\n",
        "cursor.execute(\"select name, tbl_name FROM sqlite_master WHERE type='index' and name like 'ix%'\")\r\n",
        "for row in cursor.fetchall():\r\n",
        "  print(row)"
      ],
      "execution_count": 24,
      "outputs": [
        {
          "output_type": "stream",
          "text": [
            "('ix_disease_patient', 'disease')\n",
            "('ix_disease_encounter', 'disease')\n",
            "('ix_disease_code', 'disease')\n",
            "('ix_disease_description', 'disease')\n",
            "('ix_patients_race', 'patients')\n",
            "('ix_patients_ethnicity', 'patients')\n",
            "('ixpatients_city', 'patients')\n",
            "('ix_patients_gender', 'patients')\n",
            "('ix_patients_country', 'patients')\n",
            "('ix_patients_zip', 'patients')\n",
            "('ix_encounters_patients', 'encounters')\n",
            "('ix_encounters_description', 'encounters')\n",
            "('ix_encounters_code', 'encounters')\n",
            "('ix_careplans_patients', 'careplans')\n",
            "('ix_careplans_encounters', 'careplans')\n",
            "('ix_careplans_description', 'careplans')\n",
            "('ix_careplans_code', 'careplans')\n",
            "('ix_careplans_reasondescription', 'careplans')\n",
            "('ix_careplans_reasoncode', 'careplans')\n",
            "('ix_conditions_patient', 'conditions')\n",
            "('ix_conditions_encounter', 'conditions')\n",
            "('ix_conditions_code', 'conditions')\n",
            "('ix_conditions_description', 'conditions')\n",
            "('ix_procedures_patient', 'procedures')\n",
            "('ix_procedures_encounter', 'procedures')\n",
            "('ix_procedures_code', 'procedures')\n",
            "('ix_procedures_description', 'procedures')\n",
            "('ix_observations_patient', 'observations')\n",
            "('ix_observations_encounter', 'observations')\n",
            "('ix_observations_code', 'observations')\n",
            "('ix_observations_description', 'observations')\n",
            "('ix_devices_patient', 'devices')\n",
            "('ix_devices_encounter', 'devices')\n",
            "('ix_devices_code', 'devices')\n",
            "('ix_devices_description', 'devices')\n",
            "('ix_imaging_studies_patient', 'imaging_studies')\n",
            "('ix_imaging_studies_encounter', 'imaging_studies')\n",
            "('ix_imaging_studies_code', 'imaging_studies')\n",
            "('ix_imaging_studies_description', 'imaging_studies')\n",
            "('ix_immunizations_patient', 'immunizations')\n",
            "('ix_immunizations_encounter', 'immunizations')\n",
            "('ix_immunizations_code', 'immunizations')\n",
            "('ix_immunizations_description', 'immunizations')\n"
          ],
          "name": "stdout"
        }
      ]
    },
    {
      "cell_type": "code",
      "metadata": {
        "id": "NYBsYcfmME-7"
      },
      "source": [
        "conn.commit()\r\n",
        "conn.close()"
      ],
      "execution_count": 25,
      "outputs": []
    }
  ]
}