{
  "nbformat": 4,
  "nbformat_minor": 0,
  "metadata": {
    "colab": {
      "name": "AbelHodelinHernandezWoche2.ipynb",
      "provenance": [],
      "authorship_tag": "ABX9TyM3zBDFxLukEfInKV7ybgVr",
      "include_colab_link": true
    },
    "kernelspec": {
      "name": "python3",
      "display_name": "Python 3"
    }
  },
  "cells": [
    {
      "cell_type": "markdown",
      "metadata": {
        "id": "view-in-github",
        "colab_type": "text"
      },
      "source": [
        "<a href=\"https://colab.research.google.com/github/Fuenfgeld/TeamDataScDatenmanagementUndArchivierung/blob/main/AbelHodelinHernandezWoche2.ipynb\" target=\"_parent\"><img src=\"https://colab.research.google.com/assets/colab-badge.svg\" alt=\"Open In Colab\"/></a>"
      ]
    },
    {
      "cell_type": "code",
      "metadata": {
        "colab": {
          "base_uri": "https://localhost:8080/"
        },
        "id": "5xE-s3boPGKn",
        "outputId": "c89dd505-2832-42b0-96ae-ac15d56e1a8c"
      },
      "source": [
        "import pandas as pd\r\n",
        "from functools import reduce\r\n",
        "import sqlite3\r\n",
        "from sqlite3 import Error\r\n",
        "import csv\r\n",
        "\r\n",
        "from google.colab import drive\r\n",
        "drive.mount(\"/content/drive\", force_remount=True)\r\n"
      ],
      "execution_count": 2,
      "outputs": [
        {
          "output_type": "stream",
          "text": [
            "Mounted at /content/drive\n"
          ],
          "name": "stdout"
        }
      ]
    },
    {
      "cell_type": "code",
      "metadata": {
        "id": "eJQJVxcLWdQA"
      },
      "source": [
        "!find /content/drive/MyDrive/csv_files/allergy/"
      ],
      "execution_count": null,
      "outputs": []
    }
  ]
}