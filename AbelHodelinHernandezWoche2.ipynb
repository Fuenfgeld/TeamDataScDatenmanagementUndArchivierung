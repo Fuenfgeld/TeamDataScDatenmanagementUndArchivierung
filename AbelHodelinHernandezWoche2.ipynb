{
  "nbformat": 4,
  "nbformat_minor": 0,
  "metadata": {
    "colab": {
      "name": "AbelHodelinHernandezWoche2.ipynb",
      "provenance": [],
      "authorship_tag": "ABX9TyMI5q16oLK7eKkkXV4I6sBm",
      "include_colab_link": true
    },
    "kernelspec": {
      "name": "python3",
      "display_name": "Python 3"
    }
  },
  "cells": [
    {
      "cell_type": "markdown",
      "metadata": {
        "id": "view-in-github",
        "colab_type": "text"
      },
      "source": [
        "<a href=\"https://colab.research.google.com/github/Fuenfgeld/TeamDataScDatenmanagementUndArchivierung/blob/main/AbelHodelinHernandezWoche2.ipynb\" target=\"_parent\"><img src=\"https://colab.research.google.com/assets/colab-badge.svg\" alt=\"Open In Colab\"/></a>"
      ]
    },
    {
      "cell_type": "code",
      "metadata": {
        "colab": {
          "base_uri": "https://localhost:8080/"
        },
        "id": "5xE-s3boPGKn",
        "outputId": "2c7c70ec-0c40-46a9-863a-2b3e0efab84d"
      },
      "source": [
        "import pandas as pd\r\n",
        "from functools import reduce\r\n",
        "import sqlite3\r\n",
        "from sqlite3 import Error\r\n",
        "import csv\r\n",
        "\r\n",
        "from google.colab import drive\r\n",
        "drive.mount(\"/content/drive\", force_remount=True)\r\n"
      ],
      "execution_count": 27,
      "outputs": [
        {
          "output_type": "stream",
          "text": [
            "Mounted at /content/drive\n"
          ],
          "name": "stdout"
        }
      ]
    },
    {
      "cell_type": "code",
      "metadata": {
        "colab": {
          "base_uri": "https://localhost:8080/"
        },
        "id": "eJQJVxcLWdQA",
        "outputId": "9a481d93-fc81-4cc3-a3a3-4115b04dc9ad"
      },
      "source": [
        "# list elements in directory\r\n",
        "!ls /content/drive/MyDrive/csv_files/allergy/\r\n",
        "material_path = '/content/drive/MyDrive/csv_files/allergy/'\r\n",
        "patient_type = \"allergy\""
      ],
      "execution_count": 28,
      "outputs": [
        {
          "output_type": "stream",
          "text": [
            "'careplans (1).gsheet'\t imaging_studies.csv\t    payers.csv\n",
            " careplans.csv\t\t imaging_studies.gsheet     payer_transitions.csv\n",
            " careplans.gsheet\t immunizations.csv\t    procedures.csv\n",
            " conditions.csv\t\t medications.csv\t    procedures.gsheet\n",
            " devices.csv\t\t'observations (1).gsheet'   providers.csv\n",
            " disease.csv\t\t observations.csv\t    source_allergy_test.db\n",
            " disease.gsheet\t\t observations.gsheet\t    supplies.csv\n",
            " encounters.csv\t\t organizations.csv\n",
            " encounters.gsheet\t patients.csv\n"
          ],
          "name": "stdout"
        }
      ]
    },
    {
      "cell_type": "code",
      "metadata": {
        "id": "UNwJ0Ce8YKmR"
      },
      "source": [
        "# source database path\r\n",
        "DB_FILE_PATH = f\"{material_path}{patient_type}_test.db\"\r\n",
        "# folder contains csv files\r\n",
        "csv_path = f\"{material_path}\"\r\n",
        "# print(csv_path)\r\n",
        "\r\n",
        "# DB_FILE_PATH, csv_path"
      ],
      "execution_count": 29,
      "outputs": []
    },
    {
      "cell_type": "code",
      "metadata": {
        "id": "xW3DBsDdcVP9"
      },
      "source": [
        "# dictionary key: name of table, values: sql query to create table\r\n",
        "sql_table = {}\r\n",
        "sql_index = {}"
      ],
      "execution_count": 30,
      "outputs": []
    },
    {
      "cell_type": "code",
      "metadata": {
        "id": "KmyN8TlxcnE8"
      },
      "source": [
        "sql_table[\"disease\"] = \"\"\"CREATE TABLE IF NOT EXISTS disease (\r\n",
        "                           START DATE,\r\n",
        "                           STOP DATE,\r\n",
        "                           PATIENT STRING,\r\n",
        "                           ENCOUNTER STRING,\r\n",
        "                           CODE STRING,\r\n",
        "                           DESCRIPTION STRING,\r\n",
        "                           FOREIGN KEY (PATIENT)\r\n",
        "                              REFERENCES patients (Id) \r\n",
        "                           FOREIGN KEY (Encounter)\r\n",
        "                              REFERENCES encounters (Id)\r\n",
        "                           \r\n",
        "                       );\"\"\"\r\n",
        "# kein Index für id, da die db erzeugt ein autematisch für die Primary Keys\r\n",
        "# Die andere Indizes sind je nach praktischer Nutzung/Interese/Projekt\r\n",
        "sql_index[\"disease_patient\"] = \"\"\"CREATE INDEX ix_disease_patient on disease(PATIENTS);\"\"\"\r\n",
        "sql_index[\"disease_encounter\"] = \"\"\"CREATE INDEX ix_disease_encounter on disease(ENCOUNTER);\"\"\"\r\n",
        "sql_index[\"disease_code\"] = \"\"\"CREATE INDEX ix_disease_code on disease(CODE);\"\"\"\r\n",
        "sql_index[\"disease_description\"] = \"\"\"CREATE INDEX ix_disease_description on disease(DESCRIPTION);\"\"\""
      ],
      "execution_count": 31,
      "outputs": []
    },
    {
      "cell_type": "code",
      "metadata": {
        "id": "f_CBFoXSfE80"
      },
      "source": [
        "sql_table[\"patients\"] = \"\"\"CREATE TABLE IF NOT EXISTS patients (\r\n",
        "                           Id STRING PRIMARY KEY,\r\n",
        "                           BIRTHDATE DATE,\r\n",
        "                           DEATHDATE DATE,\r\n",
        "                           SSN STRING,\r\n",
        "                           DRIVERS STRING,\r\n",
        "                           PASSPORT STRING,\r\n",
        "                           PREFIX STRING,\r\n",
        "                           FIRST STRING,\r\n",
        "                           LAST STRING,\r\n",
        "                           SUFFIX STRING,\r\n",
        "                           MAIDEN STRING,\r\n",
        "                           MARITAL STRING,\r\n",
        "                           RACE STRING,\r\n",
        "                           ETHNICITY STRING,\r\n",
        "                           GENDER STRING,\r\n",
        "                           BIRTHPLACE STRING,\r\n",
        "                           ADDRESS STRING,\r\n",
        "                           CITY STRING,\r\n",
        "                           STATE STRING,\r\n",
        "                           COUNTRY STRING,\r\n",
        "                           ZIP STRING,\r\n",
        "                           LAT INTEGER,\r\n",
        "                           LON INTEGER,\r\n",
        "                           HEALTHCARE_EXPENSES INTEGER,\r\n",
        "                           HEALTHCARE_COVERAGE INTEGER\r\n",
        "                       );\"\"\"\r\n",
        "# kein Index für id, da die db erzeugt ein autematisch für die Primary Keys\r\n",
        "# Die andere Indizes sind je nach praktischer Nutzung/Interese/Projekt\r\n",
        "sql_index[\"patients_race\"] = \"\"\"CREATE INDEX ix_patients_race on patients(RACE);\"\"\" \r\n",
        "sql_index[\"patients_ethnicity\"] = \"\"\"CREATE INDEX ix_patients_ethnicity on patients(ETHNICITY);\"\"\"\r\n",
        "sql_index[\"patients_city\"] = \"\"\"CREATE INDEX ixpatients_city on patients(CITY);\"\"\"\r\n",
        "sql_index[\"patients_gender\"] = \"\"\"CREATE INDEX ix_patients_gender on patients(GENDER);\"\"\"\r\n",
        "sql_index[\"patients_country\"] = \"\"\"CREATE INDEX ix_patients_gender on patients(COUNTRY);\"\"\"\r\n",
        "sql_index[\"patients_zip\"] = \"\"\"CREATE INDEX ix_patients_zip on patients(ZIP);\"\"\""
      ],
      "execution_count": 32,
      "outputs": []
    },
    {
      "cell_type": "code",
      "metadata": {
        "id": "CSg1DV-Jnh5t"
      },
      "source": [
        "sql_table[\"encounters\"] = \"\"\"CREATE TABLE IF NOT EXISTS encounters (\r\n",
        "                           Id STRING PRIMARY KEY,\r\n",
        "                           START DATE,\r\n",
        "                           STOP DATE,\r\n",
        "                           PATIENT STRING,\r\n",
        "                           ORGANIZATIONS STRING,\r\n",
        "                           PROVIDER STRING,\r\n",
        "                           PAYER STRING,\r\n",
        "                           ENCOUNTERCLASS STRING,\r\n",
        "                           CODE STRING,\r\n",
        "                           DESCRIPTION STRING,\r\n",
        "                           BASE_ENCOUNTER_COST INTEGER,\r\n",
        "                           TOTAL_CLAIM_COST INTEGER,\r\n",
        "                           PAYER_COVERAGE INTEGER,\r\n",
        "                           REASONCODE STRING,\r\n",
        "                           REASONDESCRIPTION STRING,\r\n",
        "                           FOREIGN KEY (PATIENT)\r\n",
        "                              REFERENCES patients (Id) \r\n",
        "                       );\"\"\"\r\n",
        "sql_index[\"encounters_patient\"] = \"\"\"CREATE INDEX ix_encounters_patients on encounters(PATIENT);\"\"\" \r\n",
        "sql_index[\"encounters_description\"] = \"\"\"CREATE INDEX ix_encounters_description on encounters(DESCRIPTION);\"\"\"\r\n",
        "sql_index[\"encounters_code\"] = \"\"\"CREATE INDEX ix_encounters_code on encounters(CODE);\"\"\""
      ],
      "execution_count": 33,
      "outputs": []
    },
    {
      "cell_type": "code",
      "metadata": {
        "id": "H34Qtz_yoUvC"
      },
      "source": [
        "sql_table[\"careplans\"] = \"\"\"CREATE TABLE IF NOT EXISTS careplans (\r\n",
        "                           Id STRING PRIMARY KEY,\r\n",
        "                           START DATE,\r\n",
        "                           STOP DATE,\r\n",
        "                           PATIENT STRING,\r\n",
        "                           ENCOUNTER STRING,\r\n",
        "                           CODE STRING,\r\n",
        "                           DESCRIPTION STRING,\r\n",
        "                           REASONCODE STRING,\r\n",
        "                           REASONDESCRIPTION STRING,\r\n",
        "                           FOREIGN KEY (PATIENT)\r\n",
        "                              REFERENCES patients (Id) \r\n",
        "                           FOREIGN KEY (Encounter)\r\n",
        "                              REFERENCES encounters (Id) \r\n",
        "\r\n",
        "                       );\"\"\"\r\n",
        "sql_index[\"careplans_patient\"] = \"\"\"CREATE INDEX ix_careplans_patients on careplans(PATIENT);\"\"\"\r\n",
        "sql_index[\"careplans_encounters\"] = \"\"\"CREATE INDEX ix_careplans_encounters on careplans(ENCOUNTER);\"\"\"\r\n",
        "sql_index[\"careplans_description\"] = \"\"\"CREATE INDEX ix_careplans_description on careplans(DESCRIPTION);\"\"\"\r\n",
        "sql_index[\"careplans_code\"] = \"\"\"CREATE INDEX ix_careplans_code on careplans(CODE);\"\"\"\r\n",
        "sql_index[\"careplans_reasondescription\"] = \"\"\"CREATE INDEX ix_careplans_reasondescription on careplans(REASONDESCRIPTION);\"\"\"\r\n",
        "sql_index[\"careplans_reasoncode\"] = \"\"\"CREATE INDEX ix_careplans_reasoncode on careplans(REASONCODE);\"\"\""
      ],
      "execution_count": 34,
      "outputs": []
    },
    {
      "cell_type": "code",
      "metadata": {
        "id": "Cuf0cRvxpien"
      },
      "source": [
        "sql_table[\"conditions\"] = \"\"\"CREATE TABLE IF NOT EXISTS conditions (\r\n",
        "                           START DATE,\r\n",
        "                           STOP DATE,\r\n",
        "                           PATIENT STRING,\r\n",
        "                           ENCOUNTER STRING,\r\n",
        "                           CODE STRING,\r\n",
        "                           DESCRIPTION STRING,\r\n",
        "                           FOREIGN KEY (PATIENT)\r\n",
        "                              REFERENCES patients (Id) \r\n",
        "                           FOREIGN KEY (Encounter)\r\n",
        "                              REFERENCES encounters (Id) \r\n",
        "\r\n",
        "                       );\"\"\"\r\n",
        "sql_index[\"conditions_patient\"] = \"\"\"CREATE INDEX ix_conditions_patient on conditions(PATIENT);\"\"\"\r\n",
        "sql_index[\"conditions_encounter\"] = \"\"\"CREATE INDEX ix_conditions_encounter on conditions(ENCOUNTER);\"\"\"\r\n",
        "sql_index[\"conditions_code\"] = \"\"\"CREATE INDEX ix_conditions_code on conditions(CODE);\"\"\"\r\n",
        "sql_index[\"conditions_description\"] = \"\"\"CREATE INDEX ix_conditions_description on conditions(DESCRIPTION);\"\"\""
      ],
      "execution_count": 35,
      "outputs": []
    },
    {
      "cell_type": "code",
      "metadata": {
        "id": "BJ6nUCY5qkaa"
      },
      "source": [
        "sql_table[\"procedures\"]= \"\"\"CREATE TABLE IF NOT EXISTS procedures (\r\n",
        "                           DATE DATE,\r\n",
        "                           PATIENT STRING,\r\n",
        "                           ENCOUNTER STRING,\r\n",
        "                           CODE STRING,\r\n",
        "                           DESCRIPTION STRING,\r\n",
        "                           BASE_COST INTEGER,\r\n",
        "                           REASONCODE STRING,\r\n",
        "                           REASONDESCRIPTION STRING,\r\n",
        "                           FOREIGN KEY (PATIENT)\r\n",
        "                              REFERENCES patients (Id) \r\n",
        "                           FOREIGN KEY (Encounter)\r\n",
        "                              REFERENCES encounters (Id) \r\n",
        "\r\n",
        "                       );\"\"\"\r\n",
        "sql_index[\"procedures_patient\"] = \"\"\"CREATE INDEX ix_procedures_patient on procedures(PATIENT);\"\"\"\r\n",
        "sql_index[\"procedures_encounter\"] = \"\"\"CREATE INDEX ix_procedures_encounter on procedures(ENCOUNTER);\"\"\"\r\n",
        "sql_index[\"procedures_code\"] = \"\"\"CREATE INDEX ix_procedures_code on procedures(CODE);\"\"\"\r\n",
        "sql_index[\"procedures_description\"] = \"\"\"CREATE INDEX ix_procedures_description on procedures(DESCRIPTION);\"\"\""
      ],
      "execution_count": 36,
      "outputs": []
    },
    {
      "cell_type": "code",
      "metadata": {
        "id": "Swayx1rqrbWA"
      },
      "source": [
        "sql_table[\"observations\"]= \"\"\"CREATE TABLE IF NOT EXISTS observations (\r\n",
        "                           DATE DATE,\r\n",
        "                           PATIENT STRING,\r\n",
        "                           ENCOUNTER STRING,\r\n",
        "                           CODE STRING,\r\n",
        "                           DESCRIPTION STRING,\r\n",
        "                           VALUE STRING,\r\n",
        "                           UNITS STRING,\r\n",
        "                           TYPE STRING,\r\n",
        "                           FOREIGN KEY (PATIENT)\r\n",
        "                              REFERENCES patients (Id) \r\n",
        "                           FOREIGN KEY (Encounter)\r\n",
        "                              REFERENCES encounters (Id) \r\n",
        "\r\n",
        "                       );\"\"\"\r\n",
        "sql_index[\"observations_patient\"] = \"\"\"CREATE INDEX ix_observations_patient on observations(PATIENT);\"\"\"\r\n",
        "sql_index[\"observations_encounter\"] = \"\"\"CREATE INDEX ix_observations_encounter on observations(ENCOUNTER);\"\"\"\r\n",
        "sql_index[\"observations_code\"] = \"\"\"CREATE INDEX ix_observations_code on observations(CODE);\"\"\"\r\n",
        "sql_index[\"observations_description\"] = \"\"\"CREATE INDEX ix_observations_description on observations(DESCRIPTION);\"\"\""
      ],
      "execution_count": 37,
      "outputs": []
    },
    {
      "cell_type": "code",
      "metadata": {
        "id": "2TocvwPar5Pm"
      },
      "source": [
        "sql_table[\"devices\"] = \"\"\"CREATE TABLE IF NOT EXISTS devices (\r\n",
        "                           START DATE,\r\n",
        "                           STOP DATE,\r\n",
        "                           PATIENT STRING,\r\n",
        "                           ENCOUNTER STRING,\r\n",
        "                           CODE STRING,\r\n",
        "                           DESCRIPTION STRING,\r\n",
        "                           UDI STRING,\r\n",
        "                           FOREIGN KEY (PATIENT)\r\n",
        "                              REFERENCES patients (Id) \r\n",
        "                           FOREIGN KEY (Encounter)\r\n",
        "                              REFERENCES encounters (Id)\r\n",
        "                           \r\n",
        "                       );\"\"\"\r\n",
        "sql_index[\"devices_patient\"] = \"\"\"CREATE INDEX ix_devices_patient on devices(PATIENT);\"\"\"\r\n",
        "sql_index[\"devices_encounter\"] = \"\"\"CREATE INDEX ix_devices_encounter on devices(ENCOUNTER);\"\"\"\r\n",
        "sql_index[\"devices_code\"] = \"\"\"CREATE INDEX ix_devices_code on devices(CODE);\"\"\"\r\n",
        "sql_index[\"devices_description\"] = \"\"\"CREATE INDEX ix_devices_description on devices(DESCRIPTION);\"\"\""
      ],
      "execution_count": 38,
      "outputs": []
    },
    {
      "cell_type": "code",
      "metadata": {
        "id": "QVKoRJ0Ssvvl"
      },
      "source": [
        "sql_table[\"imaging_studies\"] = \"\"\"CREATE TABLE IF NOT EXISTS imaging_studies (\r\n",
        "                           Id STRING PRIMARY KEY,\r\n",
        "                           DATE DATE,\r\n",
        "                           PATIENT STRING,\r\n",
        "                           ENCOUNTER STRING,\r\n",
        "                           BODYSITE_CODE STRING,\r\n",
        "                           BODYSITE_DESCRIPTION STRING,\r\n",
        "                           MODALITY_CODE STRING,\r\n",
        "                           MODALITY_DESCRIPTION STRING,\r\n",
        "                           SOP_CODE STRING,\r\n",
        "                           SOP_DESCRIPTION STRING,\r\n",
        "                           FOREIGN KEY (PATIENT)\r\n",
        "                              REFERENCES patients (Id) \r\n",
        "                           FOREIGN KEY (Encounter)\r\n",
        "                              REFERENCES encounters (Id) \r\n",
        "\r\n",
        "                       );\"\"\"\r\n",
        "sql_index[\"imaging_studies_patient\"] = \"\"\"CREATE INDEX ix_imaging_studies_patient on imaging_studies(PATIENT);\"\"\"\r\n",
        "sql_index[\"imaging_studies_encounter\"] = \"\"\"CREATE INDEX ix_imaging_studies_encounter on imaging_studies(ENCOUNTER);\"\"\"\r\n",
        "sql_index[\"imaging_studies_code\"] = \"\"\"CREATE INDEX ix_imaging_studies_code on imaging_studies(CODE);\"\"\"\r\n",
        "sql_index[\"imaging_studies_description\"] = \"\"\"CREATE INDEX ix_imaging_studies_description on imaging_studies(DESCRIPTION);\"\"\""
      ],
      "execution_count": 39,
      "outputs": []
    },
    {
      "cell_type": "code",
      "metadata": {
        "id": "ho71ezEUtZ61"
      },
      "source": [
        "sql_table[\"immunizations\"]= \"\"\"CREATE TABLE IF NOT EXISTS immunizations(\r\n",
        "                           DATE DATE,\r\n",
        "                           PATIENT STRING,\r\n",
        "                           ENCOUNTER STRING,\r\n",
        "                           CODE STRING,\r\n",
        "                           DESCRIPTION STRING,\r\n",
        "                           BASE_COST INTEGER,\r\n",
        "                           FOREIGN KEY (PATIENT)\r\n",
        "                              REFERENCES patients (Id) \r\n",
        "                           FOREIGN KEY (Encounter)\r\n",
        "                              REFERENCES encounters (Id) \r\n",
        "\r\n",
        "                       );\"\"\"\r\n",
        "sql_index[\"immunizations_patient\"] = \"\"\"CREATE INDEX ix_immunizations_patient on immunizations(PATIENT);\"\"\"\r\n",
        "sql_index[\"immunizations_encounter\"] = \"\"\"CREATE INDEX ix_immunizations_encounter on immunizations(ENCOUNTER);\"\"\"\r\n",
        "sql_index[\"immunizations_code\"] = \"\"\"CREATE INDEX ix_immunizations_code on immunizations(CODE);\"\"\"\r\n",
        "sql_index[\"immunizations_description\"] = \"\"\"CREATE INDEX ix_immunizations_description on immunizations(DESCRIPTION);\"\"\""
      ],
      "execution_count": 40,
      "outputs": []
    },
    {
      "cell_type": "code",
      "metadata": {
        "id": "o2J2hdKHtv2l"
      },
      "source": [
        ""
      ],
      "execution_count": null,
      "outputs": []
    }
  ]
}